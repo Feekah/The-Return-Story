{
 "cells": [
  {
   "cell_type": "markdown",
   "metadata": {},
   "source": [
    "## The Return Story"
   ]
  },
  {
   "cell_type": "code",
   "execution_count": 2,
   "metadata": {},
   "outputs": [],
   "source": [
    "import pandas as pd\n",
    "import plotly.express as px\n",
    "from collections import Counter\n",
    "import numpy as np"
   ]
  },
  {
   "cell_type": "markdown",
   "metadata": {},
   "source": [
    "## Dataset Understanding"
   ]
  },
  {
   "cell_type": "code",
   "execution_count": 3,
   "metadata": {},
   "outputs": [
    {
     "data": {
      "text/html": [
       "<div>\n",
       "<style scoped>\n",
       "    .dataframe tbody tr th:only-of-type {\n",
       "        vertical-align: middle;\n",
       "    }\n",
       "\n",
       "    .dataframe tbody tr th {\n",
       "        vertical-align: top;\n",
       "    }\n",
       "\n",
       "    .dataframe thead th {\n",
       "        text-align: right;\n",
       "    }\n",
       "</style>\n",
       "<table border=\"1\" class=\"dataframe\">\n",
       "  <thead>\n",
       "    <tr style=\"text-align: right;\">\n",
       "      <th></th>\n",
       "      <th>Invoice</th>\n",
       "      <th>StockCode</th>\n",
       "      <th>Description</th>\n",
       "      <th>Quantity</th>\n",
       "      <th>InvoiceDate</th>\n",
       "      <th>Price</th>\n",
       "      <th>Customer ID</th>\n",
       "      <th>Country</th>\n",
       "    </tr>\n",
       "  </thead>\n",
       "  <tbody>\n",
       "    <tr>\n",
       "      <th>0</th>\n",
       "      <td>491639</td>\n",
       "      <td>20668</td>\n",
       "      <td>NaN</td>\n",
       "      <td>-1395</td>\n",
       "      <td>2009-12-11 16:02:00</td>\n",
       "      <td>0.0</td>\n",
       "      <td>NaN</td>\n",
       "      <td>United Kingdom</td>\n",
       "    </tr>\n",
       "    <tr>\n",
       "      <th>1</th>\n",
       "      <td>489660</td>\n",
       "      <td>35956</td>\n",
       "      <td>lost</td>\n",
       "      <td>-1043</td>\n",
       "      <td>2009-12-01 17:43:00</td>\n",
       "      <td>0.0</td>\n",
       "      <td>NaN</td>\n",
       "      <td>United Kingdom</td>\n",
       "    </tr>\n",
       "    <tr>\n",
       "      <th>2</th>\n",
       "      <td>490016</td>\n",
       "      <td>21982</td>\n",
       "      <td>NaN</td>\n",
       "      <td>-1012</td>\n",
       "      <td>2009-12-03 12:30:00</td>\n",
       "      <td>0.0</td>\n",
       "      <td>NaN</td>\n",
       "      <td>United Kingdom</td>\n",
       "    </tr>\n",
       "    <tr>\n",
       "      <th>3</th>\n",
       "      <td>489899</td>\n",
       "      <td>79323GR</td>\n",
       "      <td>sold as gold</td>\n",
       "      <td>-954</td>\n",
       "      <td>2009-12-03 09:41:00</td>\n",
       "      <td>0.0</td>\n",
       "      <td>NaN</td>\n",
       "      <td>United Kingdom</td>\n",
       "    </tr>\n",
       "    <tr>\n",
       "      <th>4</th>\n",
       "      <td>489806</td>\n",
       "      <td>18010</td>\n",
       "      <td>NaN</td>\n",
       "      <td>-770</td>\n",
       "      <td>2009-12-02 12:42:00</td>\n",
       "      <td>0.0</td>\n",
       "      <td>NaN</td>\n",
       "      <td>United Kingdom</td>\n",
       "    </tr>\n",
       "  </tbody>\n",
       "</table>\n",
       "</div>"
      ],
      "text/plain": [
       "  Invoice StockCode   Description  Quantity         InvoiceDate  Price  \\\n",
       "0  491639     20668           NaN     -1395 2009-12-11 16:02:00    0.0   \n",
       "1  489660     35956          lost     -1043 2009-12-01 17:43:00    0.0   \n",
       "2  490016     21982           NaN     -1012 2009-12-03 12:30:00    0.0   \n",
       "3  489899   79323GR  sold as gold      -954 2009-12-03 09:41:00    0.0   \n",
       "4  489806     18010           NaN      -770 2009-12-02 12:42:00    0.0   \n",
       "\n",
       "   Customer ID         Country  \n",
       "0          NaN  United Kingdom  \n",
       "1          NaN  United Kingdom  \n",
       "2          NaN  United Kingdom  \n",
       "3          NaN  United Kingdom  \n",
       "4          NaN  United Kingdom  "
      ]
     },
     "execution_count": 3,
     "metadata": {},
     "output_type": "execute_result"
    }
   ],
   "source": [
    "df = pd.read_excel('online-retail-assessment-data.xlsx')\n",
    "df.head()"
   ]
  },
  {
   "cell_type": "code",
   "execution_count": 4,
   "metadata": {},
   "outputs": [
    {
     "data": {
      "text/html": [
       "<div>\n",
       "<style scoped>\n",
       "    .dataframe tbody tr th:only-of-type {\n",
       "        vertical-align: middle;\n",
       "    }\n",
       "\n",
       "    .dataframe tbody tr th {\n",
       "        vertical-align: top;\n",
       "    }\n",
       "\n",
       "    .dataframe thead th {\n",
       "        text-align: right;\n",
       "    }\n",
       "</style>\n",
       "<table border=\"1\" class=\"dataframe\">\n",
       "  <thead>\n",
       "    <tr style=\"text-align: right;\">\n",
       "      <th></th>\n",
       "      <th>Quantity</th>\n",
       "      <th>InvoiceDate</th>\n",
       "      <th>Price</th>\n",
       "      <th>Customer ID</th>\n",
       "    </tr>\n",
       "  </thead>\n",
       "  <tbody>\n",
       "    <tr>\n",
       "      <th>count</th>\n",
       "      <td>32198.000000</td>\n",
       "      <td>32198</td>\n",
       "      <td>32198.000000</td>\n",
       "      <td>23838.000000</td>\n",
       "    </tr>\n",
       "    <tr>\n",
       "      <th>mean</th>\n",
       "      <td>9.129356</td>\n",
       "      <td>2009-12-07 16:09:20.876451840</td>\n",
       "      <td>4.150301</td>\n",
       "      <td>15467.566952</td>\n",
       "    </tr>\n",
       "    <tr>\n",
       "      <th>min</th>\n",
       "      <td>-1395.000000</td>\n",
       "      <td>2009-12-01 07:45:00</td>\n",
       "      <td>0.000000</td>\n",
       "      <td>12346.000000</td>\n",
       "    </tr>\n",
       "    <tr>\n",
       "      <th>25%</th>\n",
       "      <td>1.000000</td>\n",
       "      <td>2009-12-03 14:39:00</td>\n",
       "      <td>1.250000</td>\n",
       "      <td>14085.000000</td>\n",
       "    </tr>\n",
       "    <tr>\n",
       "      <th>50%</th>\n",
       "      <td>3.000000</td>\n",
       "      <td>2009-12-07 16:26:00</td>\n",
       "      <td>2.570000</td>\n",
       "      <td>15542.000000</td>\n",
       "    </tr>\n",
       "    <tr>\n",
       "      <th>75%</th>\n",
       "      <td>8.000000</td>\n",
       "      <td>2009-12-10 16:39:00</td>\n",
       "      <td>4.950000</td>\n",
       "      <td>16905.000000</td>\n",
       "    </tr>\n",
       "    <tr>\n",
       "      <th>max</th>\n",
       "      <td>5184.000000</td>\n",
       "      <td>2009-12-15 10:00:00</td>\n",
       "      <td>1998.490000</td>\n",
       "      <td>18287.000000</td>\n",
       "    </tr>\n",
       "    <tr>\n",
       "      <th>std</th>\n",
       "      <td>63.375795</td>\n",
       "      <td>NaN</td>\n",
       "      <td>20.786418</td>\n",
       "      <td>1657.984045</td>\n",
       "    </tr>\n",
       "  </tbody>\n",
       "</table>\n",
       "</div>"
      ],
      "text/plain": [
       "           Quantity                    InvoiceDate         Price   Customer ID\n",
       "count  32198.000000                          32198  32198.000000  23838.000000\n",
       "mean       9.129356  2009-12-07 16:09:20.876451840      4.150301  15467.566952\n",
       "min    -1395.000000            2009-12-01 07:45:00      0.000000  12346.000000\n",
       "25%        1.000000            2009-12-03 14:39:00      1.250000  14085.000000\n",
       "50%        3.000000            2009-12-07 16:26:00      2.570000  15542.000000\n",
       "75%        8.000000            2009-12-10 16:39:00      4.950000  16905.000000\n",
       "max     5184.000000            2009-12-15 10:00:00   1998.490000  18287.000000\n",
       "std       63.375795                            NaN     20.786418   1657.984045"
      ]
     },
     "execution_count": 4,
     "metadata": {},
     "output_type": "execute_result"
    }
   ],
   "source": [
    "df.describe()"
   ]
  },
  {
   "cell_type": "code",
   "execution_count": 5,
   "metadata": {},
   "outputs": [
    {
     "data": {
      "text/html": [
       "<div>\n",
       "<style scoped>\n",
       "    .dataframe tbody tr th:only-of-type {\n",
       "        vertical-align: middle;\n",
       "    }\n",
       "\n",
       "    .dataframe tbody tr th {\n",
       "        vertical-align: top;\n",
       "    }\n",
       "\n",
       "    .dataframe thead th {\n",
       "        text-align: right;\n",
       "    }\n",
       "</style>\n",
       "<table border=\"1\" class=\"dataframe\">\n",
       "  <thead>\n",
       "    <tr style=\"text-align: right;\">\n",
       "      <th></th>\n",
       "      <th>Invoice</th>\n",
       "      <th>StockCode</th>\n",
       "      <th>Description</th>\n",
       "      <th>Country</th>\n",
       "    </tr>\n",
       "  </thead>\n",
       "  <tbody>\n",
       "    <tr>\n",
       "      <th>count</th>\n",
       "      <td>32198</td>\n",
       "      <td>32198</td>\n",
       "      <td>32137</td>\n",
       "      <td>32198</td>\n",
       "    </tr>\n",
       "    <tr>\n",
       "      <th>unique</th>\n",
       "      <td>1537</td>\n",
       "      <td>2890</td>\n",
       "      <td>2867</td>\n",
       "      <td>23</td>\n",
       "    </tr>\n",
       "    <tr>\n",
       "      <th>top</th>\n",
       "      <td>490074</td>\n",
       "      <td>85123A</td>\n",
       "      <td>WHITE HANGING HEART T-LIGHT HOLDER</td>\n",
       "      <td>United Kingdom</td>\n",
       "    </tr>\n",
       "    <tr>\n",
       "      <th>freq</th>\n",
       "      <td>580</td>\n",
       "      <td>237</td>\n",
       "      <td>236</td>\n",
       "      <td>30726</td>\n",
       "    </tr>\n",
       "  </tbody>\n",
       "</table>\n",
       "</div>"
      ],
      "text/plain": [
       "        Invoice StockCode                         Description         Country\n",
       "count     32198     32198                               32137           32198\n",
       "unique     1537      2890                                2867              23\n",
       "top      490074    85123A  WHITE HANGING HEART T-LIGHT HOLDER  United Kingdom\n",
       "freq        580       237                                 236           30726"
      ]
     },
     "execution_count": 5,
     "metadata": {},
     "output_type": "execute_result"
    }
   ],
   "source": [
    "df.describe(include='object')"
   ]
  },
  {
   "cell_type": "markdown",
   "metadata": {},
   "source": [
    "## Handling missing values"
   ]
  },
  {
   "cell_type": "code",
   "execution_count": 6,
   "metadata": {},
   "outputs": [],
   "source": [
    "#counting null values\n",
    "null_values = df.isnull().mean()*100\n",
    "null_values = null_values[null_values > 0]"
   ]
  },
  {
   "cell_type": "code",
   "execution_count": 7,
   "metadata": {},
   "outputs": [
    {
     "data": {
      "application/vnd.plotly.v1+json": {
       "config": {
        "plotlyServerURL": "https://plot.ly"
       },
       "data": [
        {
         "alignmentgroup": "True",
         "hovertemplate": "Percentage (%)=%{x}<br>DataFrame Columns=%{y}<extra></extra>",
         "legendgroup": "",
         "marker": {
          "color": "#636efa",
          "pattern": {
           "shape": ""
          }
         },
         "name": "",
         "offsetgroup": "",
         "orientation": "h",
         "showlegend": false,
         "textposition": "auto",
         "texttemplate": "%{x:.2f}",
         "type": "bar",
         "x": [
          0.18945276104105846,
          25.964345611528667
         ],
         "xaxis": "x",
         "y": [
          "Description",
          "Customer ID"
         ],
         "yaxis": "y"
        }
       ],
       "layout": {
        "barmode": "relative",
        "legend": {
         "tracegroupgap": 0
        },
        "template": {
         "data": {
          "bar": [
           {
            "error_x": {
             "color": "#2a3f5f"
            },
            "error_y": {
             "color": "#2a3f5f"
            },
            "marker": {
             "line": {
              "color": "#E5ECF6",
              "width": 0.5
             },
             "pattern": {
              "fillmode": "overlay",
              "size": 10,
              "solidity": 0.2
             }
            },
            "type": "bar"
           }
          ],
          "barpolar": [
           {
            "marker": {
             "line": {
              "color": "#E5ECF6",
              "width": 0.5
             },
             "pattern": {
              "fillmode": "overlay",
              "size": 10,
              "solidity": 0.2
             }
            },
            "type": "barpolar"
           }
          ],
          "carpet": [
           {
            "aaxis": {
             "endlinecolor": "#2a3f5f",
             "gridcolor": "white",
             "linecolor": "white",
             "minorgridcolor": "white",
             "startlinecolor": "#2a3f5f"
            },
            "baxis": {
             "endlinecolor": "#2a3f5f",
             "gridcolor": "white",
             "linecolor": "white",
             "minorgridcolor": "white",
             "startlinecolor": "#2a3f5f"
            },
            "type": "carpet"
           }
          ],
          "choropleth": [
           {
            "colorbar": {
             "outlinewidth": 0,
             "ticks": ""
            },
            "type": "choropleth"
           }
          ],
          "contour": [
           {
            "colorbar": {
             "outlinewidth": 0,
             "ticks": ""
            },
            "colorscale": [
             [
              0,
              "#0d0887"
             ],
             [
              0.1111111111111111,
              "#46039f"
             ],
             [
              0.2222222222222222,
              "#7201a8"
             ],
             [
              0.3333333333333333,
              "#9c179e"
             ],
             [
              0.4444444444444444,
              "#bd3786"
             ],
             [
              0.5555555555555556,
              "#d8576b"
             ],
             [
              0.6666666666666666,
              "#ed7953"
             ],
             [
              0.7777777777777778,
              "#fb9f3a"
             ],
             [
              0.8888888888888888,
              "#fdca26"
             ],
             [
              1,
              "#f0f921"
             ]
            ],
            "type": "contour"
           }
          ],
          "contourcarpet": [
           {
            "colorbar": {
             "outlinewidth": 0,
             "ticks": ""
            },
            "type": "contourcarpet"
           }
          ],
          "heatmap": [
           {
            "colorbar": {
             "outlinewidth": 0,
             "ticks": ""
            },
            "colorscale": [
             [
              0,
              "#0d0887"
             ],
             [
              0.1111111111111111,
              "#46039f"
             ],
             [
              0.2222222222222222,
              "#7201a8"
             ],
             [
              0.3333333333333333,
              "#9c179e"
             ],
             [
              0.4444444444444444,
              "#bd3786"
             ],
             [
              0.5555555555555556,
              "#d8576b"
             ],
             [
              0.6666666666666666,
              "#ed7953"
             ],
             [
              0.7777777777777778,
              "#fb9f3a"
             ],
             [
              0.8888888888888888,
              "#fdca26"
             ],
             [
              1,
              "#f0f921"
             ]
            ],
            "type": "heatmap"
           }
          ],
          "heatmapgl": [
           {
            "colorbar": {
             "outlinewidth": 0,
             "ticks": ""
            },
            "colorscale": [
             [
              0,
              "#0d0887"
             ],
             [
              0.1111111111111111,
              "#46039f"
             ],
             [
              0.2222222222222222,
              "#7201a8"
             ],
             [
              0.3333333333333333,
              "#9c179e"
             ],
             [
              0.4444444444444444,
              "#bd3786"
             ],
             [
              0.5555555555555556,
              "#d8576b"
             ],
             [
              0.6666666666666666,
              "#ed7953"
             ],
             [
              0.7777777777777778,
              "#fb9f3a"
             ],
             [
              0.8888888888888888,
              "#fdca26"
             ],
             [
              1,
              "#f0f921"
             ]
            ],
            "type": "heatmapgl"
           }
          ],
          "histogram": [
           {
            "marker": {
             "pattern": {
              "fillmode": "overlay",
              "size": 10,
              "solidity": 0.2
             }
            },
            "type": "histogram"
           }
          ],
          "histogram2d": [
           {
            "colorbar": {
             "outlinewidth": 0,
             "ticks": ""
            },
            "colorscale": [
             [
              0,
              "#0d0887"
             ],
             [
              0.1111111111111111,
              "#46039f"
             ],
             [
              0.2222222222222222,
              "#7201a8"
             ],
             [
              0.3333333333333333,
              "#9c179e"
             ],
             [
              0.4444444444444444,
              "#bd3786"
             ],
             [
              0.5555555555555556,
              "#d8576b"
             ],
             [
              0.6666666666666666,
              "#ed7953"
             ],
             [
              0.7777777777777778,
              "#fb9f3a"
             ],
             [
              0.8888888888888888,
              "#fdca26"
             ],
             [
              1,
              "#f0f921"
             ]
            ],
            "type": "histogram2d"
           }
          ],
          "histogram2dcontour": [
           {
            "colorbar": {
             "outlinewidth": 0,
             "ticks": ""
            },
            "colorscale": [
             [
              0,
              "#0d0887"
             ],
             [
              0.1111111111111111,
              "#46039f"
             ],
             [
              0.2222222222222222,
              "#7201a8"
             ],
             [
              0.3333333333333333,
              "#9c179e"
             ],
             [
              0.4444444444444444,
              "#bd3786"
             ],
             [
              0.5555555555555556,
              "#d8576b"
             ],
             [
              0.6666666666666666,
              "#ed7953"
             ],
             [
              0.7777777777777778,
              "#fb9f3a"
             ],
             [
              0.8888888888888888,
              "#fdca26"
             ],
             [
              1,
              "#f0f921"
             ]
            ],
            "type": "histogram2dcontour"
           }
          ],
          "mesh3d": [
           {
            "colorbar": {
             "outlinewidth": 0,
             "ticks": ""
            },
            "type": "mesh3d"
           }
          ],
          "parcoords": [
           {
            "line": {
             "colorbar": {
              "outlinewidth": 0,
              "ticks": ""
             }
            },
            "type": "parcoords"
           }
          ],
          "pie": [
           {
            "automargin": true,
            "type": "pie"
           }
          ],
          "scatter": [
           {
            "fillpattern": {
             "fillmode": "overlay",
             "size": 10,
             "solidity": 0.2
            },
            "type": "scatter"
           }
          ],
          "scatter3d": [
           {
            "line": {
             "colorbar": {
              "outlinewidth": 0,
              "ticks": ""
             }
            },
            "marker": {
             "colorbar": {
              "outlinewidth": 0,
              "ticks": ""
             }
            },
            "type": "scatter3d"
           }
          ],
          "scattercarpet": [
           {
            "marker": {
             "colorbar": {
              "outlinewidth": 0,
              "ticks": ""
             }
            },
            "type": "scattercarpet"
           }
          ],
          "scattergeo": [
           {
            "marker": {
             "colorbar": {
              "outlinewidth": 0,
              "ticks": ""
             }
            },
            "type": "scattergeo"
           }
          ],
          "scattergl": [
           {
            "marker": {
             "colorbar": {
              "outlinewidth": 0,
              "ticks": ""
             }
            },
            "type": "scattergl"
           }
          ],
          "scattermapbox": [
           {
            "marker": {
             "colorbar": {
              "outlinewidth": 0,
              "ticks": ""
             }
            },
            "type": "scattermapbox"
           }
          ],
          "scatterpolar": [
           {
            "marker": {
             "colorbar": {
              "outlinewidth": 0,
              "ticks": ""
             }
            },
            "type": "scatterpolar"
           }
          ],
          "scatterpolargl": [
           {
            "marker": {
             "colorbar": {
              "outlinewidth": 0,
              "ticks": ""
             }
            },
            "type": "scatterpolargl"
           }
          ],
          "scatterternary": [
           {
            "marker": {
             "colorbar": {
              "outlinewidth": 0,
              "ticks": ""
             }
            },
            "type": "scatterternary"
           }
          ],
          "surface": [
           {
            "colorbar": {
             "outlinewidth": 0,
             "ticks": ""
            },
            "colorscale": [
             [
              0,
              "#0d0887"
             ],
             [
              0.1111111111111111,
              "#46039f"
             ],
             [
              0.2222222222222222,
              "#7201a8"
             ],
             [
              0.3333333333333333,
              "#9c179e"
             ],
             [
              0.4444444444444444,
              "#bd3786"
             ],
             [
              0.5555555555555556,
              "#d8576b"
             ],
             [
              0.6666666666666666,
              "#ed7953"
             ],
             [
              0.7777777777777778,
              "#fb9f3a"
             ],
             [
              0.8888888888888888,
              "#fdca26"
             ],
             [
              1,
              "#f0f921"
             ]
            ],
            "type": "surface"
           }
          ],
          "table": [
           {
            "cells": {
             "fill": {
              "color": "#EBF0F8"
             },
             "line": {
              "color": "white"
             }
            },
            "header": {
             "fill": {
              "color": "#C8D4E3"
             },
             "line": {
              "color": "white"
             }
            },
            "type": "table"
           }
          ]
         },
         "layout": {
          "annotationdefaults": {
           "arrowcolor": "#2a3f5f",
           "arrowhead": 0,
           "arrowwidth": 1
          },
          "autotypenumbers": "strict",
          "coloraxis": {
           "colorbar": {
            "outlinewidth": 0,
            "ticks": ""
           }
          },
          "colorscale": {
           "diverging": [
            [
             0,
             "#8e0152"
            ],
            [
             0.1,
             "#c51b7d"
            ],
            [
             0.2,
             "#de77ae"
            ],
            [
             0.3,
             "#f1b6da"
            ],
            [
             0.4,
             "#fde0ef"
            ],
            [
             0.5,
             "#f7f7f7"
            ],
            [
             0.6,
             "#e6f5d0"
            ],
            [
             0.7,
             "#b8e186"
            ],
            [
             0.8,
             "#7fbc41"
            ],
            [
             0.9,
             "#4d9221"
            ],
            [
             1,
             "#276419"
            ]
           ],
           "sequential": [
            [
             0,
             "#0d0887"
            ],
            [
             0.1111111111111111,
             "#46039f"
            ],
            [
             0.2222222222222222,
             "#7201a8"
            ],
            [
             0.3333333333333333,
             "#9c179e"
            ],
            [
             0.4444444444444444,
             "#bd3786"
            ],
            [
             0.5555555555555556,
             "#d8576b"
            ],
            [
             0.6666666666666666,
             "#ed7953"
            ],
            [
             0.7777777777777778,
             "#fb9f3a"
            ],
            [
             0.8888888888888888,
             "#fdca26"
            ],
            [
             1,
             "#f0f921"
            ]
           ],
           "sequentialminus": [
            [
             0,
             "#0d0887"
            ],
            [
             0.1111111111111111,
             "#46039f"
            ],
            [
             0.2222222222222222,
             "#7201a8"
            ],
            [
             0.3333333333333333,
             "#9c179e"
            ],
            [
             0.4444444444444444,
             "#bd3786"
            ],
            [
             0.5555555555555556,
             "#d8576b"
            ],
            [
             0.6666666666666666,
             "#ed7953"
            ],
            [
             0.7777777777777778,
             "#fb9f3a"
            ],
            [
             0.8888888888888888,
             "#fdca26"
            ],
            [
             1,
             "#f0f921"
            ]
           ]
          },
          "colorway": [
           "#636efa",
           "#EF553B",
           "#00cc96",
           "#ab63fa",
           "#FFA15A",
           "#19d3f3",
           "#FF6692",
           "#B6E880",
           "#FF97FF",
           "#FECB52"
          ],
          "font": {
           "color": "#2a3f5f"
          },
          "geo": {
           "bgcolor": "white",
           "lakecolor": "white",
           "landcolor": "#E5ECF6",
           "showlakes": true,
           "showland": true,
           "subunitcolor": "white"
          },
          "hoverlabel": {
           "align": "left"
          },
          "hovermode": "closest",
          "mapbox": {
           "style": "light"
          },
          "paper_bgcolor": "white",
          "plot_bgcolor": "#E5ECF6",
          "polar": {
           "angularaxis": {
            "gridcolor": "white",
            "linecolor": "white",
            "ticks": ""
           },
           "bgcolor": "#E5ECF6",
           "radialaxis": {
            "gridcolor": "white",
            "linecolor": "white",
            "ticks": ""
           }
          },
          "scene": {
           "xaxis": {
            "backgroundcolor": "#E5ECF6",
            "gridcolor": "white",
            "gridwidth": 2,
            "linecolor": "white",
            "showbackground": true,
            "ticks": "",
            "zerolinecolor": "white"
           },
           "yaxis": {
            "backgroundcolor": "#E5ECF6",
            "gridcolor": "white",
            "gridwidth": 2,
            "linecolor": "white",
            "showbackground": true,
            "ticks": "",
            "zerolinecolor": "white"
           },
           "zaxis": {
            "backgroundcolor": "#E5ECF6",
            "gridcolor": "white",
            "gridwidth": 2,
            "linecolor": "white",
            "showbackground": true,
            "ticks": "",
            "zerolinecolor": "white"
           }
          },
          "shapedefaults": {
           "line": {
            "color": "#2a3f5f"
           }
          },
          "ternary": {
           "aaxis": {
            "gridcolor": "white",
            "linecolor": "white",
            "ticks": ""
           },
           "baxis": {
            "gridcolor": "white",
            "linecolor": "white",
            "ticks": ""
           },
           "bgcolor": "#E5ECF6",
           "caxis": {
            "gridcolor": "white",
            "linecolor": "white",
            "ticks": ""
           }
          },
          "title": {
           "x": 0.05
          },
          "xaxis": {
           "automargin": true,
           "gridcolor": "white",
           "linecolor": "white",
           "ticks": "",
           "title": {
            "standoff": 15
           },
           "zerolinecolor": "white",
           "zerolinewidth": 2
          },
          "yaxis": {
           "automargin": true,
           "gridcolor": "white",
           "linecolor": "white",
           "ticks": "",
           "title": {
            "standoff": 15
           },
           "zerolinecolor": "white",
           "zerolinewidth": 2
          }
         }
        },
        "title": {
         "text": "Percentage of Null Values per Column"
        },
        "xaxis": {
         "anchor": "y",
         "domain": [
          0,
          1
         ],
         "title": {
          "text": "Percentage (%)"
         }
        },
        "yaxis": {
         "anchor": "x",
         "domain": [
          0,
          1
         ],
         "title": {
          "text": "DataFrame Columns"
         }
        }
       }
      }
     },
     "metadata": {},
     "output_type": "display_data"
    }
   ],
   "source": [
    "null_percentages_df = null_values.reset_index()\n",
    "null_percentages_df.columns = ['Column', 'Null_Percentage']\n",
    "\n",
    "# Plot the null percentages as a bar chart using Plotly\n",
    "fig = px.bar(null_percentages_df, y='Column', x='Null_Percentage',\n",
    "             title=\"Percentage of Null Values per Column\",\n",
    "             labels={'Null_Percentage': 'Percentage (%)', 'Column': 'DataFrame Columns'},\n",
    "             text_auto='.2f')  # This adds the percentage on top of each bar\n",
    "fig.show()\n"
   ]
  },
  {
   "cell_type": "markdown",
   "metadata": {},
   "source": [
    "### Filling in null descriptions"
   ]
  },
  {
   "cell_type": "code",
   "execution_count": 8,
   "metadata": {},
   "outputs": [
    {
     "data": {
      "text/html": [
       "<div>\n",
       "<style scoped>\n",
       "    .dataframe tbody tr th:only-of-type {\n",
       "        vertical-align: middle;\n",
       "    }\n",
       "\n",
       "    .dataframe tbody tr th {\n",
       "        vertical-align: top;\n",
       "    }\n",
       "\n",
       "    .dataframe thead th {\n",
       "        text-align: right;\n",
       "    }\n",
       "</style>\n",
       "<table border=\"1\" class=\"dataframe\">\n",
       "  <thead>\n",
       "    <tr style=\"text-align: right;\">\n",
       "      <th></th>\n",
       "      <th>Invoice</th>\n",
       "      <th>StockCode</th>\n",
       "      <th>Description</th>\n",
       "      <th>Quantity</th>\n",
       "      <th>InvoiceDate</th>\n",
       "      <th>Price</th>\n",
       "      <th>Customer ID</th>\n",
       "      <th>Country</th>\n",
       "    </tr>\n",
       "  </thead>\n",
       "  <tbody>\n",
       "    <tr>\n",
       "      <th>0</th>\n",
       "      <td>491639</td>\n",
       "      <td>20668</td>\n",
       "      <td>NaN</td>\n",
       "      <td>-1395</td>\n",
       "      <td>2009-12-11 16:02:00</td>\n",
       "      <td>0.0</td>\n",
       "      <td>NaN</td>\n",
       "      <td>United Kingdom</td>\n",
       "    </tr>\n",
       "    <tr>\n",
       "      <th>2</th>\n",
       "      <td>490016</td>\n",
       "      <td>21982</td>\n",
       "      <td>NaN</td>\n",
       "      <td>-1012</td>\n",
       "      <td>2009-12-03 12:30:00</td>\n",
       "      <td>0.0</td>\n",
       "      <td>NaN</td>\n",
       "      <td>United Kingdom</td>\n",
       "    </tr>\n",
       "    <tr>\n",
       "      <th>4</th>\n",
       "      <td>489806</td>\n",
       "      <td>18010</td>\n",
       "      <td>NaN</td>\n",
       "      <td>-770</td>\n",
       "      <td>2009-12-02 12:42:00</td>\n",
       "      <td>0.0</td>\n",
       "      <td>NaN</td>\n",
       "      <td>United Kingdom</td>\n",
       "    </tr>\n",
       "    <tr>\n",
       "      <th>5</th>\n",
       "      <td>490540</td>\n",
       "      <td>37446</td>\n",
       "      <td>NaN</td>\n",
       "      <td>-725</td>\n",
       "      <td>2009-12-07 09:24:00</td>\n",
       "      <td>0.0</td>\n",
       "      <td>NaN</td>\n",
       "      <td>United Kingdom</td>\n",
       "    </tr>\n",
       "    <tr>\n",
       "      <th>9</th>\n",
       "      <td>491108</td>\n",
       "      <td>84922</td>\n",
       "      <td>NaN</td>\n",
       "      <td>-360</td>\n",
       "      <td>2009-12-09 14:29:00</td>\n",
       "      <td>0.0</td>\n",
       "      <td>NaN</td>\n",
       "      <td>United Kingdom</td>\n",
       "    </tr>\n",
       "    <tr>\n",
       "      <th>...</th>\n",
       "      <td>...</td>\n",
       "      <td>...</td>\n",
       "      <td>...</td>\n",
       "      <td>...</td>\n",
       "      <td>...</td>\n",
       "      <td>...</td>\n",
       "      <td>...</td>\n",
       "      <td>...</td>\n",
       "    </tr>\n",
       "    <tr>\n",
       "      <th>77</th>\n",
       "      <td>489659</td>\n",
       "      <td>21350</td>\n",
       "      <td>NaN</td>\n",
       "      <td>230</td>\n",
       "      <td>2009-12-01 17:39:00</td>\n",
       "      <td>0.0</td>\n",
       "      <td>NaN</td>\n",
       "      <td>United Kingdom</td>\n",
       "    </tr>\n",
       "    <tr>\n",
       "      <th>78</th>\n",
       "      <td>490688</td>\n",
       "      <td>21133</td>\n",
       "      <td>NaN</td>\n",
       "      <td>270</td>\n",
       "      <td>2009-12-07 13:50:00</td>\n",
       "      <td>0.0</td>\n",
       "      <td>NaN</td>\n",
       "      <td>United Kingdom</td>\n",
       "    </tr>\n",
       "    <tr>\n",
       "      <th>79</th>\n",
       "      <td>490015</td>\n",
       "      <td>21982</td>\n",
       "      <td>NaN</td>\n",
       "      <td>467</td>\n",
       "      <td>2009-12-03 12:29:00</td>\n",
       "      <td>0.0</td>\n",
       "      <td>NaN</td>\n",
       "      <td>United Kingdom</td>\n",
       "    </tr>\n",
       "    <tr>\n",
       "      <th>80</th>\n",
       "      <td>489898</td>\n",
       "      <td>79323G</td>\n",
       "      <td>NaN</td>\n",
       "      <td>954</td>\n",
       "      <td>2009-12-03 09:40:00</td>\n",
       "      <td>0.0</td>\n",
       "      <td>NaN</td>\n",
       "      <td>United Kingdom</td>\n",
       "    </tr>\n",
       "    <tr>\n",
       "      <th>81</th>\n",
       "      <td>490758</td>\n",
       "      <td>72008</td>\n",
       "      <td>NaN</td>\n",
       "      <td>3000</td>\n",
       "      <td>2009-12-08 09:38:00</td>\n",
       "      <td>0.0</td>\n",
       "      <td>NaN</td>\n",
       "      <td>United Kingdom</td>\n",
       "    </tr>\n",
       "  </tbody>\n",
       "</table>\n",
       "<p>61 rows × 8 columns</p>\n",
       "</div>"
      ],
      "text/plain": [
       "   Invoice StockCode Description  Quantity         InvoiceDate  Price  \\\n",
       "0   491639     20668         NaN     -1395 2009-12-11 16:02:00    0.0   \n",
       "2   490016     21982         NaN     -1012 2009-12-03 12:30:00    0.0   \n",
       "4   489806     18010         NaN      -770 2009-12-02 12:42:00    0.0   \n",
       "5   490540     37446         NaN      -725 2009-12-07 09:24:00    0.0   \n",
       "9   491108     84922         NaN      -360 2009-12-09 14:29:00    0.0   \n",
       "..     ...       ...         ...       ...                 ...    ...   \n",
       "77  489659     21350         NaN       230 2009-12-01 17:39:00    0.0   \n",
       "78  490688     21133         NaN       270 2009-12-07 13:50:00    0.0   \n",
       "79  490015     21982         NaN       467 2009-12-03 12:29:00    0.0   \n",
       "80  489898    79323G         NaN       954 2009-12-03 09:40:00    0.0   \n",
       "81  490758     72008         NaN      3000 2009-12-08 09:38:00    0.0   \n",
       "\n",
       "    Customer ID         Country  \n",
       "0           NaN  United Kingdom  \n",
       "2           NaN  United Kingdom  \n",
       "4           NaN  United Kingdom  \n",
       "5           NaN  United Kingdom  \n",
       "9           NaN  United Kingdom  \n",
       "..          ...             ...  \n",
       "77          NaN  United Kingdom  \n",
       "78          NaN  United Kingdom  \n",
       "79          NaN  United Kingdom  \n",
       "80          NaN  United Kingdom  \n",
       "81          NaN  United Kingdom  \n",
       "\n",
       "[61 rows x 8 columns]"
      ]
     },
     "execution_count": 8,
     "metadata": {},
     "output_type": "execute_result"
    }
   ],
   "source": [
    "df[df['Description'].isnull()]"
   ]
  },
  {
   "cell_type": "code",
   "execution_count": 9,
   "metadata": {},
   "outputs": [
    {
     "name": "stdout",
     "output_type": "stream",
     "text": [
      "     StockCode  Unique_Descriptions_Count  Total_Appearance  \\\n",
      "349      21100                          2                35   \n",
      "374      21133                          2                23   \n",
      "459      21249                          2                12   \n",
      "623      21450                          2                 4   \n",
      "652      21493                          2                29   \n",
      "841      21733                          2                89   \n",
      "1145     22139                          2               136   \n",
      "1198     22195                          2                48   \n",
      "1229     22232                          2                 6   \n",
      "1325     22343                          2                 8   \n",
      "1326     22344                          2                 9   \n",
      "1327     22345                          2                 9   \n",
      "1328     22346                          2                 7   \n",
      "1329     22347                          2                27   \n",
      "1469     51008                          2                 9   \n",
      "1480     71477                          2                52   \n",
      "1499     72756                          2               102   \n",
      "1576     84347                          2                39   \n",
      "1686     84855                          2                 9   \n",
      "2226    79030A                          2                 7   \n",
      "2249   79323GR                          2                13   \n",
      "2579    85123A                          2               237   \n",
      "\n",
      "                                    Unique_Descriptions  \n",
      "349       [bad quality, CHARLIE AND LOLA CHARLOTTE BAG]  \n",
      "374   [invcd as 84879?, PAINTED BIRD ASSORTED CHRIST...  \n",
      "459   [WOODLAND  HEIGHT CHART STICKERS , WOOD ANIMAL...  \n",
      "623            [damaged, DISTRESSED CANDLE STICK WHITE]  \n",
      "652                  [lost?,  VINTAGE DESIGN GIFT TAGS]  \n",
      "841    [85123a mixed, RED HANGING HEART T-LIGHT HOLDER]  \n",
      "1145  [RETRO SPOT TEA SET CERAMIC 11 PC , 11 PC CERA...  \n",
      "1198  [LARGE HEART MEASURING SPOONS, HEART MEASURING...  \n",
      "1229  [JIGSAW TOADSTOOLS 3 PIECE, 3 PIECE JIGSAW TOA...  \n",
      "1325  [PARTY PIZZA DISH RED WHITE SPOT , PARTY PIZZA...  \n",
      "1326  [PARTY PIZZA DISH PINK WHITE SPOT , PARTY PIZZ...  \n",
      "1327  [PARTY PIZZA DISH BLUE WHITE SPOT , PARTY PIZZ...  \n",
      "1328  [PARTY PIZZA DISH GREEN WHITE SPOT , PARTY PIZ...  \n",
      "1329              [PIZZA SLICE DISH, PIZZA DISH SLICE ]  \n",
      "1469                    [wet, AFGHAN SLIPPER SOCK PAIR]  \n",
      "1480         [short, COLOUR GLASS. STAR T-LIGHT HOLDER]  \n",
      "1499          [ FAIRY CAKE CANDLES, FAIRY CAKE CANDLES]  \n",
      "1576       [21494, ROTATING SILVER ANGELS T-LIGHT HLDR]  \n",
      "1686                      [MIA, BLOKEY SILVER TOOL SET]  \n",
      "2226                   [smashed, TUMBLER, ENGLISH ROSE]  \n",
      "2249                [sold as gold, GREEN CHERRY LIGHTS]  \n",
      "2579  [21733 mixed, WHITE HANGING HEART T-LIGHT HOLDER]  \n"
     ]
    }
   ],
   "source": [
    "# Group by 'StockCode' and aggregate unique descriptions and counts\n",
    "stockcode_analysis = (\n",
    "    df.groupby('StockCode')['Description']\n",
    "    .agg(['nunique', 'count', lambda x: x.dropna().unique().tolist()])\n",
    "    .reset_index()\n",
    ")\n",
    "\n",
    "# Rename columns for clarity\n",
    "stockcode_analysis.columns = ['StockCode', 'Unique_Descriptions_Count', 'Total_Appearance', 'Unique_Descriptions']\n",
    "\n",
    "# Filter for StockCodes with more than one unique description\n",
    "stockcode_multiple_descriptions = stockcode_analysis[stockcode_analysis['Unique_Descriptions_Count'] > 1]\n",
    "\n",
    "print(stockcode_multiple_descriptions)\n"
   ]
  },
  {
   "cell_type": "code",
   "execution_count": 10,
   "metadata": {},
   "outputs": [
    {
     "name": "stdout",
     "output_type": "stream",
     "text": [
      "{10002: 'INFLATABLE POLITICAL GLOBE ', 10080: 'GROOVY CACTUS INFLATABLE', 10109: 'BENDY COLOUR PENCILS', 10120: 'DOGGY RUBBER', 10125: 'MINI FUNKY DESIGN TAPES', 10133: 'COLOURING PENCILS BROWN TUBE', 10134: 'COLOURING PENCILS BROWN TUBE', 10135: 'COLOURING PENCILS BROWN TUBE', 10138: 'ASSORTED COLOUR JUMBO PEN', 11001: 'ASSTD DESIGN RACING CAR PEN', 15030: 'FAN BLACK FRAME ', 15034: 'PAPER POCKET TRAVELING FAN ', 15036: 'ASSORTED COLOURS SILK FAN', 15039: 'SANDALWOOD FAN', 16011: ' ANIMAL STICKERS', 16012: 'FOOD/DRINK SPUNGE STICKERS', 16014: 'SMALL CHINESE STYLE SCISSOR', 16015: 'MEDIUM CHINESE STYLE SCISSOR', 16016: 'LARGE CHINESE STYLE SCISSOR', 16033: 'MINI HIGHLIGHTER PENS', 16046: 'TEATIME PEN CASE & PENS', 16047: 'POP ART PEN CASE & PENS', 16048: 'TEATIME ROUND PENCIL SHARPENER ', 16049: 'TEATIME GEL PENS ASST', 16051: 'TEATIME PENCIL W STAMP ASST', 16119: 'FUNKY GIRL ADDRESS BOOK', 16212: 'FUNKY GIRLZ ASST MAGNETIC MEMO PAD', 16215: 'FUNKY GIRLZ MAGNETIC TO DO LIST ', 16216: 'LETTER SHAPE PENCIL SHARPENER', 16218: 'CARTOON  PENCIL SHARPENERS', 16219: 'HOUSE SHAPE PENCIL SHARPENER', 16225: 'RATTLE SNAKE EGGS', 16235: 'RECYCLED PENCIL WITH RABBIT ERASER', 16236: 'KITTY PENCIL ERASERS', 16237: 'SLEEPING CAT ERASERS', 16238: 'PARTY TIME PENCIL ERASERS', 16239: 'BALLERINA HEART DECORATION.', 16259: 'PIECE OF CAMO STATIONERY SET', 17001: 'HEAVENS SCENT FRAGRANCE OILS ASSTD', 17003: 'BROCADE RING PURSE ', 17033: 'BROCADE PURSE,SMALL ARCH BUTTON', 17038: 'PORCELAIN BUDAH INCENSE HOLDER', 17039: 'INLAID WOOD INCENSE HOLDER', 17061: 'ASSORTED SHAPED STENCIL FOR HENNA', 17096: 'ASSORTED LAQUERED INCENSE HOLDERS', 17178: 'FLAT PALM T-LIGHT HOLDER', 17181: 'CIRCLE OF FRIENDS CANDLE HOLDER', 18007: 'ESSENTIAL BALM 3.5g TIN IN ENVELOPE', 18010: 'ASSORTED FRAGRANCE BATH CONFETTI', 20615: 'BLUE SPOTTY PASSPORT COVER', 20616: 'CHERRY BLOSSOM PASSPORT COVER', 20617: 'FIRST CLASS PASSPORT COVER ', 20618: 'QUEEN OF THE SKIES PASSPORT COVER ', 20619: 'TROPICAL PASSPORT COVER ', 20620: 'RED SPOTTY PASSPORT COVER', 20621: 'ECONOMY PASSPORT COVER ', 20622: 'VIPPASSPORT COVER ', 20652: 'BLUE SPOTTY LUGGAGE TAG ', 20653: 'CHERRY BLOSSOM LUGGAGE TAG', 20654: 'FIRST CLASS LUGGAGE TAG ', 20655: 'QUEEN OF SKIES LUGGAGE TAG', 20657: 'TROPICAL LUGGAGE TAG', 20658: 'RED SPOTTY LUGGAGE TAG', 20659: 'ECONOMY LUGGAGE TAG', 20660: 'VIP LUGGAGE TAG ', 20661: 'BLUE SPOTTY PURSE ', 20662: 'FIRST CLASS HOLIDAY PURSE ', 20663: 'QUEEN OF THE SKIES HOLIDAY PURSE ', 20665: 'RED SPOTTY PURSE ', 20666: 'ECONOMY HOLIDAY PURSE', 20668: 'DISCO BALL CHRISTMAS DECORATION', 20669: 'RED HEART LUGGAGE TAG', 20670: 'VIP HOLIDAY PURSE', 20671: 'BLUE TEATIME PRINT BOWL ', 20672: 'PINK TEATIME PRINT BOWL', 20673: 'STRAWBERRIES PRINT BOWL', 20674: 'GREEN SPOTTY BOWL', 20675: 'BLUE SPOTTY BOWL', 20676: 'RED SPOTTY BOWL', 20677: 'PINK SPOTTY BOWL', 20679: 'EDWARDIAN PARASOL RED', 20680: 'PINK FLOWERS CHILDS UMBRELLA', 20681: 'PINK SPOTTY CHILDS UMBRELLA', 20682: 'RED SPOTTY CHILDS UMBRELLA', 20683: nan, 20684: 'STRAWBERRY DREAM CHILDS UMBRELLA', 20685: 'RED SPOTTY COIR DOORMAT', 20686: \"DOLLY MIXTURE CHILDREN'S UMBRELLA\", 20688: 'BEAUTY SPEED EXPRESSO CUPS', 20689: 'RETRO SISTERS EXPRESSO CUPS', 20692: 'FLORAL ELEPHANT SOFT TOY', 20693: 'FLORAL DINOSAUR GREEN', 20694: 'FLORAL PINK MONSTER', 20695: 'FLORAL BLUE MONSTER', 20696: 'FLORAL SOFT CAR TOY', 20697: 'LITTLE GREEN MONSTER SOFT TOY', 20699: 'MOUSEY LONG LEGS SOFT TOY', 20700: 'GREEN CAT FLORAL CUSHION COVER ', 20701: 'PINK CAT FLORAL CUSHION COVER ', 20702: 'PINK PADDED MOBILE', 20703: 'BLUE PADDED SOFT MOBILE', 20704: 'MR ROBOT SOFT TOY', 20705: 'MRS ROBOT SOFT TOY', 20707: 'CRAZY DAISY HEART DECORATION', 20711: 'JUMBO BAG TOYS ', 20712: 'JUMBO BAG WOODLAND ANIMALS', 20713: 'JUMBO BAG OWLS', 20714: 'POSY SHOPPER BAG', 20716: 'PARTY FOOD SHOPPER BAG', 20717: 'STRAWBERRY SHOPPER BAG', 20718: 'RED SPOTTY SHOPPER BAG', 20719: 'WOODLAND CHARLOTTE BAG', 20721: 'OWLS CHARLOTTE BAG', 20723: 'STRAWBERRY CHARLOTTE BAG', 20724: 'RED SPOTTY CHARLOTTE BAG', 20725: 'LUNCH BAG RED SPOTTY', 20726: 'LUNCH BAG WOODLAND', 20727: 'LUNCH BAG  BLACK SKULL.', 20728: 'LUNCH BAG CARS BLUE', 20729: 'RED SPOTTY CANDY BAG', 20730: 'STRAWBERRY CANDY BAG', 20731: 'POSY CANDY BAG', 20733: 'GOLD MINI TAPE MEASURE ', 20734: 'SILVER MINI TAPE MEASURE ', 20735: 'BLACK MINI TAPE MEASURE ', 20736: 'PINK MINI TAPE MEASURE ', 20737: 'RED MINI TAPE MEASURE ', 20738: 'GREEN MINI TAPE MEASURE ', 20739: '*USB Office Glitter Lamp', 20747: 'PICCADILLY TEA SET', 20748: 'KENSINGTON COFFEE SET', 20749: 'ASSORTED COLOUR MINI CASES', 20750: ' RED/WHITE DOT MINI CASES', 20751: 'FUNKY WASHING UP GLOVES ASSORTED', 20752: 'RETRO BLUE SPOTTY WASHING UP GLOVES', 20753: 'RETRO PINK SPOT WASHING UP GLOVES', 20754: 'RETRO RED SPOTTY WASHING UP GLOVES', 20755: 'BLUE PAISLEY POCKET BOOK', 20756: 'GREEN FERN POCKET BOOK', 20757: 'RED DAISY POCKET BOOK ', 20758: 'ABSTRACT CIRCLES POCKET BOOK', 20760: 'GARDEN PATH POCKET BOOK', 20761: 'BLUE PAISLEY SKETCHBOOK', 20762: 'GREEN FERN SKETCHBOOK ', 20763: 'DAISY SKETCHBOOK ', 20764: 'ABSTRACT CIRCLES SKETCHBOOK ', 20765: 'CHRYSANTHEMUM SKETCHBOOK ', 20766: 'GARDEN PATH SKETCHBOOK', 20767: 'BLUE PAISLEY JOURNAL ', 20768: 'GREEN FERN JOURNAL ', 20769: 'DAISY JOURNAL ', 20770: 'ABSTRACT CIRCLE JOURNAL ', 20771: 'CHRYSANTHEMUM  JOURNAL', 20772: 'GARDEN PATH JOURNAL', 20773: 'BLUE PAISLEY NOTEBOOK', 20774: 'GREEN FERN NOTEBOOK', 20775: 'DAISY NOTEBOOK ', 20776: 'ABSTRACT CIRCLES NOTEBOOK', 20777: 'CHRYSANTHEMUM NOTEBOOK', 20778: 'GARDEN PATH NOTEBOOK ', 20780: 'BLACK EAR MUFF HEADPHONES', 20781: 'GOLD EAR MUFF HEADPHONES', 20782: 'CAMOUFLAGE EAR MUFF HEADPHONES', 20783: 'HEART EAR MUFF HEADPHONES', 20784: 'RED RETRO BAR STOOL', 20793: 'BLUE TILED TRAY', 20795: 'LARGE BLUE PROVENCAL CERAMIC BALL', 20796: 'SMALL BLUE PROVENCAL CERAMIC BALL', 20798: 'CLEAR MILKSHAKE GLASS', 20799: 'PINK MILKSHAKE GLASS', 20803: 'SMALL PINK GLASS SUNDAE DISH', 20804: 'GLASS CHICKEN BUTTER DISH', 20812: 'EMBOSSED FLOWER TRELLIS PHOTO FRAME', 20814: 'SILVER FINCH DECORATION', 20818: 'GOLD TEDDY BEAR', 20819: 'SILVER TEDDY BEAR', 20821: 'GOLDIE LOOKING MIRROR', 20823: 'GOLD WINE GOBLET', 20825: 'GOLD WINE GLASS', 20826: 'SILVER APERITIF GLASS', 20827: 'GOLD APERITIF GLASS', 20828: 'GLITTER BUTTERFLY CLIPS', 20829: 'GLITTER HANGING BUTTERFLY STRING', 20830: 'SILVER PHOTO FRAME', 20831: 'GOLD PHOTO FRAME', 20832: 'RED FLOCK LOVE HEART PHOTO FRAME', 20833: 'SHAKER THROW  QUILTED', 20837: 'FRENCH FLORAL CUSHION COVER ', 20839: 'FRENCH PAISLEY CUSHION COVER ', 20845: 'ZINC HEART LATTICE 2 WALL PLANTER', 20846: 'ZINC HEART LATTICE T-LIGHT HOLDER', 20847: 'ZINC HEART LATTICE CHARGER LARGE', 20848: 'ZINC HEART LATTICE CHARGER SMALL', 20849: 'ZINC HEART LATTICE DOUBLE PLANTER', 20851: 'ZINC HEART LATTICE TRAY OVAL ', 20854: 'BLUE PATCH PURSE PINK HEART', 20855: 'PINK PATCH PURSE BLUE HEART', 20856: 'DENIM PATCH PURSE PINK BUTTERFLY', 20857: 'BLUE ROSE PATCH PURSE PINK BUTTERFL', 20858: 'SILVER PURSE GOLD PINK BUTTERFLY', 20861: 'GOLD COSMETIC BAG PINK STAR', 20862: 'PINK PATCH PENCIL CASE BLUE HEART', 20863: 'BLUE PATCH PENCIL CASE PINK HEART', 20864: 'DENIM PATCH PENCIL CASE BUTTERFLY', 20865: 'PATCHWORK PENCIL CASE BUTTERFLY ', 20866: 'BLUE ROSE FABRIC MIRROR', 20867: 'PINK ROSE FABRIC MIRROR', 20868: 'SILVER FABRIC MIRROR', 20869: 'GOLD FABRIC MIRROR', 20870: 'OPULENT VELVET CANDLE IN BOX', 20871: 'OPULENT VELVET SET/3 CANDLES', 20877: 'MODERN CHRISTMAS BAUBLE CANDLE ', 20878: 'SET/9 CHRISTMAS T-LIGHTS SCENTED ', 20879: 'TREE OF NOAH FESTIVE SCENTED CANDLE', 20881: 'MODERN CHRISTMAS TREE CANDLE', 20882: 'MODERN CHRISTMAS TREE CANDLE', 20884: 'MODERN CHRISTMAS TREE CANDLE ', 20886: 'BOX OF 9 PEBBLE CANDLES', 20887: 'BOX OF 6 PEBBLE CANDLES', 20888: 'SET 3 JARDIN DE FEMME SCENT CANDLES', 20889: 'JARDIN DE FEMME SCENTED CANDLE', 20892: 'SET/3 TALL GLASS CANDLE HOLDER PINK', 20893: 'HANGING BAUBLE T-LIGHT HOLDER SMALL', 20894: 'HANGING BAUBLE T-LIGHT HOLDER LARGE', 20895: 'VINTAGE NOTEBOOK FRENCH LETTER ', 20896: 'VINTAGE NOTEBOOK PINK FLOWER', 20897: 'VINTAGE NOTEBOOK PARIS DAYS', 20898: 'VINTAGE NOTEBOOK TRAVELOGUE', 20899: 'VINTAGE NOTEBOOK RED ROSE', 20901: 'VINTAGE KEEPSAKE BOX PINK FLOWER', 20902: 'VINTAGE KEEPSAKE BOX PARIS DAYS', 20903: 'VINTAGE KEEPSAKE BOX TRAVELOGUE', 20905: 'VINTAGE KEEPSAKE BOX BEAUTY GIRL', 20906: 'VINTAGE NOTEBOOK BEAUTY GIRL', 20910: 'VINTAGE PHOTO ALBUM PARIS DAYS', 20913: 'SET/5 BLUE SPOTTY LID GLASS BOWLS', 20914: 'SET/5 RED SPOTTY LID GLASS BOWLS', 20931: 'BLUE POT PLANT CANDLE ', 20932: 'PINK POT PLANT CANDLE', 20933: 'YELLOW POT PLANT CANDLE', 20934: 'SET/3 POT PLANT CANDLES', 20935: 'ROUND CACTUS CANDLE', 20936: 'FORKED CACTUS CANDLE', 20939: 'ORANGE CANDLE', 20940: 'SET/6 GARDEN GNOME T-LIGHT CANDLES', 20941: 'FROG CANDLE', 20942: 'SET/6 GINGERBREAD TREE T-LIGHTS', 20943: 'SET/6 GINGERBREAD STAR T-LIGHTS', 20950: 'SET/6  ANGEL T-LIGHTS WHITE/GOLD', 20952: 'PORCELAIN CHERUB BELL SMALL', 20954: '*USB Office Mirror Ball', 20956: 'PORCELAIN T-LIGHT HOLDERS ASSORTED', 20960: 'WATERMELON BATH SPONGE', 20961: 'STRAWBERRY BATH SPONGE ', 20963: 'APPLE BATH SPONGE', 20964: 'POLYESTER FILLER PAD 60x40cm', 20966: 'SANDWICH BATH SPONGE', 20967: 'GREY FLORAL FELTCRAFT SHOULDER BAG', 20968: 'GREEN FLORAL FELTCRAFT SHOULDER BAG', 20969: 'RED FLORAL FELTCRAFT SHOULDER BAG', 20970: 'PINK FLORAL FELTCRAFT SHOULDER BAG', 20971: 'PINK BLUE FELT CRAFT TRINKET BOX', 20972: 'PINK CREAM FELT CRAFT TRINKET BOX ', 20973: '12 PENCIL SMALL TUBE WOODLAND', 20974: '12 PENCILS SMALL TUBE SKULL', 20975: '12 PENCILS SMALL TUBE RED SPOTTY', 20976: '12 PENCILS SMALL TUBE POSY', 20977: '36 PENCILS TUBE WOODLAND', 20978: '36 PENCILS TUBE SKULLS', 20979: '36 PENCILS TUBE RED SPOTTY', 20980: '36 PENCILS TUBE POSY', 20981: '12 PENCILS TALL TUBE WOODLAND', 20982: '12 PENCILS TALL TUBE SKULLS', 20983: '12 PENCILS TALL TUBE RED SPOTTY', 20984: '12 PENCILS TALL TUBE POSY', 20985: 'HEART CALCULATOR', 20986: 'BLUE CALCULATOR RULER', 20987: 'GEISHA GIRL CHOPSTICKS SET/5', 20988: 'TRELLIS FLOWER CHOPSTICKS SET/5', 20989: 'URBAN CHIC CHOPSTICKS SET/5', 20990: 'SPRING FLOWER CHOPSTICKS SET/5', 20991: 'JAZZ HEARTS MAGNETIC MEMO PAD', 20992: 'JAZZ HEARTS PURSE NOTEBOOK', 20993: 'JAZZ HEARTS MEMO PAD', 20994: 'JAZZ HEARTS SPIRAL NOTEPAD', 20996: 'JAZZ HEARTS ADDRESS BOOK', 20997: 'ROSE DU SUD CUSHION COVER ', 20998: 'ROSE DU SUD OVEN GLOVE', 21000: 'ROSE DU SUD COSMETICS BAG', 21004: 'ROSE DU SUD CHILDS APRON', 21007: 'ETCHED GLASS DROPLET DECORATION', 21009: 'ETCHED GLASS STAR TREE DECORATION', 21010: 'ETCHED GLASS BIRD TREE DECORATION', 21011: 'GLITTER SNOW PEAR TREE DECORATION', 21012: 'ANTIQUE ALL GLASS CANDLESTICK', 21014: 'SWISS CHALET TREE DECORATION ', 21015: 'DARK BIRD HOUSE TREE DECORATION', 21016: 'LIGHT BIRD HOUSE TREE DECORATION', 21017: 'RED BIRD HOUSE TREE DECORATION', 21018: 'BIRD BOX CHRISTMAS TREE DECORATION', 21025: 'SPACE FROG', 21026: 'SPACE OWL', 21027: 'NINJA RABBIT PINK', 21028: 'NINJA RABBIT BLACK', 21031: 'SPACE CADET BLACK', 21032: 'SPACE CADET WHITE', 21033: 'JUMBO BAG CHARLIE AND LOLA TOYS', 21034: 'REX CASH+CARRY JUMBO SHOPPER', 21035: 'SET/2 RED SPOTTY TEA TOWELS ', 21036: 'SET/2 TEA TOWELS MODERN VINTAGE', 21039: 'RED SPOTTY SHOPPING BAG', 21040: 'MODERN VINTAGE COTTON SHOPPING BAG', 21041: 'RED SPOTTY OVEN GLOVE DOUBLE', 21042: 'RED SPOTTY APRON ', 21043: 'APRON MODERN VINTAGE COTTON', 21051: 'RIBBONS PURSE ', 21053: 'ZINC HEART HANGER WITH HOOKS', 21054: \"NURSE'S BAG SOFT TOY\", 21055: 'TOOL BOX SOFT TOY ', 21056: \"DOCTOR'S BAG SOFT TOY\", 21058: 'PARTY INVITES WOODLAND', 21059: 'PARTY INVITES DINOSAURS', 21060: 'PARTY INVITES BALLOON GIRL', 21061: 'PARTY INVITES FOOTBALL', 21062: 'PARTY INVITES SPACEMAN', 21063: 'PARTY INVITES JAZZ HEARTS', 21064: 'BOOM BOX SPEAKER BOYS', 21065: 'BOOM BOX SPEAKER GIRLS', 21066: 'VINTAGE RED MUG', 21067: 'VINTAGE RED TEATIME MUG', 21068: 'VINTAGE BILLBOARD LOVE/HATE MUG', 21069: 'VINTAGE BILLBOARD TEA MUG', 21070: 'VINTAGE BILLBOARD MUG ', 21071: 'VINTAGE BILLBOARD DRINK ME MUG', 21076: 'SET/20 COLLAGE PAPER NAPKIN ', 21077: 'SET/20 WOODLAND PAPER NAPKINS ', 21078: 'SET/20 STRAWBERRY PAPER NAPKINS ', 21080: 'SET/20 RED SPOTTY PAPER NAPKINS ', 21081: 'SET/20 POSIES PAPER NAPKINS', 21082: 'SET/20 FRUIT SALAD PAPER NAPKINS ', 21084: 'SET/6 COLLAGE PAPER CUPS', 21085: 'SET/6 WOODLAND PAPER CUPS', 21086: 'SET/6 RED SPOTTY PAPER CUPS', 21091: 'SET/6 WOODLAND PAPER PLATES', 21092: 'SET/6 STRAWBERRY PAPER PLATES', 21094: 'SET/6 RED SPOTTY PAPER PLATES', 21096: 'SET/6 FRUIT SALAD  PAPER PLATES', 21098: 'CHRISTMAS TOILET ROLL', 21099: 'SET/6 STRAWBERRY PAPER CUPS', 21100: 'CHARLIE AND LOLA CHARLOTTE BAG', 21102: 'CANDLE IN JAR COLLAGE , VANILLA', 21106: 'CREAM SLICE FLANNEL CHOCOLATE SPOT ', 21107: 'CREAM SLICE FLANNEL PINK SPOT ', 21108: 'FAIRY CAKE FLANNEL ASSORTED COLOUR', 21109: 'LARGE CAKE TOWEL, CHOCOLATE SPOTS', 21110: 'LARGE CAKE TOWEL PINK SPOTS', 21111: 'SWISS ROLL TOWEL, CHOCOLATE  SPOTS', 21112: 'SWISS ROLL TOWEL, PINK  SPOTS', 21114: 'LAVENDER SCENTED FABRIC HEART', 21115: 'ROSE CARAVAN DOORSTOP', 21116: 'OWL DOORSTOP', 21117: 'BLOND DOLL DOORSTOP', 21118: 'SHOPPING BAG DOORSTOP', 21121: 'SET/10 RED SPOTTY PARTY CANDLES', 21122: 'SET/10 PINK SPOTTY PARTY CANDLES', 21123: 'SET/10 IVORY SPOTTY PARTY CANDLES', 21124: 'SET/10 BLUE SPOTTY PARTY CANDLES', 21125: 'SET 6 FOOTBALL CELEBRATION CANDLES', 21126: 'SET OF 6 GIRLS CELEBRATION CANDLES', 21127: 'COLOURFUL FISHING GNOME', 21129: 'SILVER FISHING GNOME ', 21130: 'COLOURFUL STANDING GNOME', 21131: 'GOLD STANDING GNOME', 21132: 'SILVER STANDING GNOME   ', 21133: 'PAINTED BIRD ASSORTED CHRISTMAS', 21134: 'VICTORIAN METAL POSTCARD CHRISTMAS', 21135: 'VICTORIAN  METAL POSTCARD SPRING', 21136: 'PAINTED METAL PEARS ASSORTED', 21137: 'BLACK RECORD COVER FRAME', 21143: 'ANTIQUE GLASS HEART DECORATION ', 21144: 'PINK POODLE HANGING DECORATION ', 21145: 'ANTIQUE GLASS PLACE SETTING', 21146: 'ANTIQUE GLASS RIDGED HANGING BALL', 21147: 'JINGLE BELLS TREE DECORATION', 21153: 'RED SPOTTY TABLECLOTH ', 21154: 'RED SPOTTY OVEN GLOVE ', 21155: 'RED SPOTTY PEG BAG', 21156: 'RED SPOTTY CHILDS APRON', 21157: 'RED SPOTTY WASHBAG', 21158: 'MOODY GIRL DOOR HANGER ', 21159: 'MOODY BOY  DOOR HANGER ', 21160: 'KEEP OUT GIRLS DOOR HANGER ', 21161: 'KEEP OUT BOYS DOOR HANGER ', 21162: 'TOXIC AREA  DOOR HANGER ', 21163: 'DO NOT TOUCH MY STUFF DOOR HANGER ', 21164: 'HOME SWEET HOME METAL SIGN ', 21165: 'BEWARE OF THE CAT METAL SIGN ', 21166: 'COOK WITH WINE METAL SIGN ', 21167: 'WHITE SAGE INCENSE', 21169: \"YOU'RE CONFUSING ME METAL SIGN \", 21171: 'BATHROOM METAL SIGN ', 21172: 'PARTY METAL SIGN ', 21173: 'LOO ROLL  METAL SIGN ', 21174: 'POTTERING IN THE SHED METAL SIGN', 21175: 'GIN + TONIC DIET METAL SIGN', 21179: 'NO JUNK MAIL METAL SIGN', 21181: 'PLEASE ONE PERSON  METAL SIGN', 21185: ' HOME SWEET HOME  BLACKBOARD', 21186: 'WHITE DOVE HONEYCOMB PAPER GARLAND', 21187: 'WHITE BELL HONEYCOMB PAPER GARLAND ', 21188: '3D HEARTS  HONEYCOMB PAPER GARLAND', 21189: 'WHITE HONEYCOMB PAPER GARLAND ', 21190: 'PINK HEARTS PAPER GARLAND', 21191: 'LARGE WHITE HONEYCOMB PAPER BELL  ', 21192: 'WHITE BELL HONEYCOMB PAPER ', 21193: 'WHITE HONEYCOMB PAPER FAN ', 21194: 'PINK  HONEYCOMB PAPER FAN', 21195: 'PINK  HONEYCOMB PAPER BALL ', 21198: 'WHITE HEART CONFETTI IN TUBE', 21199: 'PINK  HEART CONFETTI IN TUBE', 21200: 'MULTICOLOUR HONEYCOMB PAPER GARLAND', 21201: 'TROPICAL  HONEYCOMB PAPER GARLAND ', 21202: 'DOLLY HONEYCOMB GARLAND', 21203: 'BUTTERFLIES  HONEYCOMB GARLAND', 21204: 'DAISIES  HONEYCOMB GARLAND ', 21205: 'MULTICOLOUR 3D BALLS GARLAND', 21206: 'STRAWBERRY HONEYCOMB  GARLAND ', 21207: 'SKULL AND CROSSBONES  GARLAND ', 21210: 'SET OF 72 RETRO SPOT PAPER  DOILIES', 21211: 'SET OF 72 SKULL PAPER  DOILIES', 21212: 'PACK OF 72 RETRO SPOT CAKE CASES', 21213: 'PACK OF 72 SKULL CAKE CASES', 21214: 'SET OF 72 IVORY PAPER DOILIES', 21215: ' IVORY PAPER CUP CAKE CASES ', 21216: 'SET 3 RED SPOT TIN TEA,COFFEE,SUGAR', 21217: 'RED SPOTTY ROUND CAKE TINS', 21218: 'RED SPOTTY BISCUIT TIN', 21219: 'SET/4 BADGES BALLOON GIRL', 21220: 'SET/4 BADGES DOGS', 21221: 'SET/4 BADGES CUTE CREATURES', 21222: 'SET/4 BADGES BEETLES', 21223: 'SET/4 BADGES WOODLAND ANIMAL', 21224: 'SET/4 SKULL BADGES', 21225: 'POCKET MIRROR BUTTERFLY ', 21226: 'POCKET MIRROR WOODLAND', 21228: 'POCKET MIRROR \"GLAMOROUS\"', 21231: 'SWEETHEART CERAMIC TRINKET BOX', 21232: 'STRAWBERRY CERAMIC TRINKET BOX', 21238: 'RED SPOTTY CUP', 21239: 'PINK  SPOTTY CUP', 21240: 'BLUE  SPOTTY CUP', 21241: 'GREEN SPOTTY CUP', 21242: 'RED SPOTTY PLATE ', 21243: 'PINK  SPOTTY PLATE ', 21244: 'BLUE  SPOTTY PLATE ', 21245: 'GREEN  SPOTTY PLATE ', 21246: 'RED SPOTTY BIG BOWL', 21247: 'SET OF RED SALAD SERVERS ', 21248: 'DOOR HANGER  MUM + DADS ROOM', 21249: 'WOODLAND  HEIGHT CHART STICKERS ', 21250: 'SET OF SKULL WALL STICKERS', 21251: 'DINOSAUR HEIGHT CHART STICKER SET', 21252: 'SET OF MEADOW  FLOWER STICKERS', 21253: 'SET OF PICTURE FRAME  STICKERS', 21254: 'SET OF KITCHEN WALL  STICKERS', 21255: 'FRENCH BOTTLE , LAVENDER', 21256: 'FRENCH BOTTLE, BRASSERIE DES ARTIST', 21257: 'VICTORIAN SEWING BOX MEDIUM', 21258: 'VICTORIAN SEWING BOX LARGE', 21259: 'VICTORIAN SEWING BOX SMALL ', 21260: 'FIRST AID TIN', 21261: 'GREEN GOOSE FEATHER CHRISTMAS TREE ', 21262: 'WHITE GOOSE FEATHER CHRISTMAS TREE ', 21264: 'WHITE GOOSE FEATHER TREE 60CM ', 21265: 'PINK GOOSE FEATHER TREE 60CM', 21266: 'VINTAGE SILVER TINSEL REEL', 21267: 'VINTAGE PINK TINSEL REEL ', 21268: 'VINTAGE BLUE TINSEL REEL', 21269: 'ANTIQUE CREAM CUTLERY SHELF ', 21270: 'ANTIQUE CREAM CUTLERY CUPBOARD', 21272: 'SALLE DE BAIN HOOK', 21274: 'EMBOSSED HEART 3 DRAWER SHELF', 21275: 'ZINC TOP  2 DOOR WOODEN SHELF ', 21276: 'TWO EMBOSSED HEART MINI DRAWERS', 21277: 'FRENCH STYLE EMBOSSED HEART CABINET', 21278: 'VINTAGE KITCHEN PRINT PUDDINGS', 21279: 'VINTAGE KITCHEN PRINT FRUITS', 21280: 'VINTAGE KITCHEN PRINT VEGETABLES', 21281: 'VINTAGE KITCHEN PRINT SEAFOOD', 21282: 'NATURAL BARK CANDLE LARGE', 21283: 'NATURAL BARK CANDLE SMALL', 21284: 'RETRO SPOT CANDLE  SMALL', 21285: 'RETRO SPOT CANDLE  MEDIUM', 21286: 'RETRO SPOT CANDLE  LARGE', 21287: 'SCENTED VELVET LOUNGE CANDLE ', 21288: 'STRIPEY CHOCOLATE NESTING BOXES', 21289: 'LARGE STRIPES CHOCOLATE GIFT BAG', 21291: 'SMALL SPOTTY CHOCOLATE GIFT BAG ', 21292: 'SMALL STRIPES CHOCOLATE GIFT BAG ', 21293: 'MIRRORED DOVE WALL DECORATION', 21294: 'ETCHED GLASS COASTER', 21298: 'EDWARDIAN 2 DRAWER WALL CABINET ', 21299: 'EDWARDIAN TOILET ROLL UNIT ', 21300: 'ANTIQUE EDWARDIAN DRESSER', 21303: 'FILIGREE WALL MIRROR  ANTIQUE WHITE', 21304: 'ARCHED GREY MIRROR', 21306: 'SET/4 DAISY MIRROR MAGNETS', 21307: 'SET/4 BUTTERFLY MIRROR MAGNETS', 21308: 'LOUVRE VANITY MIRROR', 21309: 'LOUVRE CHALKBOARD', 21311: 'SET/4 BIRD MIRROR MAGNETS ', 21312: 'LARGE CHUNKY GLASS ROMAN BOWL', 21313: 'GLASS HEART T-LIGHT HOLDER ', 21314: 'SMALL GLASS HEART TRINKET POT', 21316: 'SMALL CHUNKY GLASS ROMAN  BOWL', 21317: 'GLASS SPHERE CANDLE STAND MEDIUM', 21318: 'GLASS CHALICE BLUE SMALL ', 21319: 'GLASS CHALICE GREEN  SMALL ', 21320: 'GLASS CHALICE GREEN  LARGE ', 21321: 'GLASS CHALICE BLUE  LARGE ', 21322: 'GLASS SPHERE CANDLE STAND LARGE ', 21323: 'HANGING MEDINA LANTERN LARGE', 21324: 'HANGING MEDINA LANTERN SMALL', 21326: 'AGED GLASS SILVER T-LIGHT HOLDER', 21327: 'SKULLS WRITING SET ', 21328: 'BALLOONS  WRITING SET ', 21329: 'DINOSAURS  WRITING SET ', 21330: 'WOODLAND ANIMAL  WRITING SET ', 21331: 'MOROCCAN BEATEN METAL DISH LARGE', 21332: 'MOROCCAN BEATEN METAL MIRROR', 21333: 'CLASSIC WHITE FRAME', 21335: 'LIBRARY LAMP', 21336: 'GOLD WASHBAG', 21337: 'SILVER WASHBAG', 21338: 'MARAKESH LANTERN SMALL ', 21339: 'MARAKESH LANTERN LARGE', 21340: 'CLASSIC METAL BIRDCAGE PLANT HOLDER', 21341: 'KASBAH LANTERN WITH GLASS ', 21343: 'GOLD JEWELERY BOX', 21344: 'MOROCCAN BEATEN METAL DISH', 21347: 'GOTHIC CARRIAGE LANTERN', 21348: 'PINK SPOTS CHOCOLATE NESTING BOXES ', 21349: 'IVY HEART WREATH', 21350: 'GINGHAM HEART WREATH', 21351: 'CINAMMON & ORANGE WREATH', 21352: 'EUCALYPTUS & PINECONE  WREATH', 21353: 'SILVER SLEIGHBELL  WREATH', 21354: 'TOAST ITS - BEST MUM', 21355: 'TOAST ITS - I LOVE YOU ', 21356: 'TOAST ITS - FAIRY FLOWER', 21357: 'TOAST ITS - DINOSAUR', 21358: 'TOAST ITS - HAPPY BIRTHDAY', 21359: 'RELAX LARGE WOOD LETTERS', 21360: 'JOY LARGE WOOD LETTERS', 21361: 'LOVE LARGE WOOD LETTERS ', 21364: 'PEACE SMALL WOOD LETTERS', 21365: 'MIRRORED WALL ART STARS', 21366: 'MIRRORED WALL ART PHOTO FRAMES', 21367: 'MIRRORED WALL ART GENTS', 21368: 'MIRRORED WALL ART LADIES', 21370: 'MIRRORED WALL ART FOXY', 21371: 'MIRRORED WALL ART POPPIES', 21372: 'MIRRORED WALL ART TABLE LAMP', 21373: 'MIRRORED WALL ART SNOWFLAKES', 21375: 'LARGE CAMPHOR WOOD FIELD MUSHROOM ', 21376: 'LARGE  TALL CAMPHOR WOOD TOADSTOOL ', 21377: 'SMALL CAMPHOR WOOD FIELD  MUSHROOM', 21378: 'SMALL TALL CAMPHOR WOOD TOADSTOOL', 21379: ' CAMPHOR WOOD PORTOBELLO MUSHROOM', 21380: 'WOODEN HAPPY BIRTHDAY GARLAND', 21381: 'MINI WOODEN HAPPY BIRTHDAY GARLAND', 21383: 'PACK OF 12 STICKY BUNNIES', 21384: 'IVORY HANGING DECORATION  BUTTERFLY', 21385: 'IVORY HANGING DECORATION  HEART', 21388: 'IVORY HANGING DECORATION  CHICKEN', 21389: 'IVORY HANGING DECORATION  BIRD', 21390: 'FILIGRIS HEART WITH BUTTERFLY', 21391: 'FRENCH EMROIDR LAVENDER SCENT HEART', 21392: 'RED SPOTTY PUDDING BOWL', 21395: 'BLUE SPOTTY BEAKER ', 21396: 'RED SPOTTY EGG CUP ', 21397: 'BLUE  SPOTTY EGG CUP ', 21398: 'RED  SPOTTY COFFEE  MUG', 21399: 'BLUE  SPOTTY  COFFEE MUG', 21400: 'RED PUDDING SPOON', 21401: 'BLUE PUDDING SPOON', 21402: 'RED  EGG  SPOON', 21403: 'BLUE EGG  SPOON', 21406: 'SPOTTY CAT DOORSTOP ', 21407: 'BROWN CHECK CAT DOORSTOP ', 21408: 'SPOTTY PINK DUCK DOORSTOP', 21410: 'COUNTRY COTTAGE  DOORSTOP GREEN', 21411: 'GINGHAM HEART  DOORSTOP RED', 21412: 'VINTAGE GOLD TINSEL REEL', 21413: 'PERIWINKLE T-LIGHT HOLDER', 21414: 'SCALLOP SHELL SOAP DISH', 21415: 'CLAM SHELL SMALL ', 21416: 'CLAM SHELL LARGE', 21417: 'COCKLE SHELL DISH', 21418: 'STARFISH SOAP DISH', 21419: 'CONCH SHELL', 21421: 'PORCELAIN ROSE LARGE ', 21422: 'PORCELAIN ROSE SMALL', 21424: 'WOODLAND STORAGE BOX LARGE ', 21425: 'SKULLS STORAGE BOX LARGE', 21426: 'WOODLAND STORAGE BOX SMALL', 21427: 'SKULLS STORAGE BOX SMALL', 21428: 'SET3 BOOK BOX GREEN GINGHAM FLOWER ', 21429: 'RED GINGHAM ROSE JEWELLERY BOX', 21430: 'SET/3 RED GINGHAM ROSE STORAGE BOX', 21431: 'GREEN GINGHAM FLOWER JEWELLERY BOX', 21432: 'SET OF 3 CASES WOODLAND DESIGN', 21437: '24 HANGING EASTER EGGS FLORAL TUB', 21438: 'TUB 24 HANGING EASTER EGGS SPOTTY', 21439: 'BASKET OF TOADSTOOLS', 21440: '12 MINI TOADSTOOL PEGS', 21441: 'BLUE BIRDHOUSE DECORATION', 21443: 'OLIVE CHALET BIRDFEEDER', 21444: 'BLUE CHALET BIRDFEEDER', 21445: '12 PINK ROSE PEG PLACE SETTINGS', 21446: '12 RED ROSE PEG PLACE SETTINGS', 21447: '12 IVORY ROSE PEG PLACE SETTINGS', 21448: '12 DAISY PEGS IN WOOD BOX', 21450: 'DISTRESSED CANDLE STICK WHITE', 21456: '2 PICTURE BOOK EGGS EASTER CHICKS', 21457: '2 PICTURE BOOK EGGS EASTER DUCKS', 21458: '2 PICTURE BOOK EGGS EASTER BUNNY', 21462: 'NURSERY A,B,C PAINTED LETTERS', 21463: 'MIRRORED DISCO BALL ', 21464: 'DISCO BALL ROTATOR BATTERY OPERATED', 21465: 'PINK FLOWER CROCHET FOOD COVER', 21466: 'RED FLOWER CROCHET FOOD COVER', 21467: 'CHERRY CROCHET FOOD COVER', 21468: 'BUTTERFLY CROCHET FOOD COVER', 21469: 'POLKA DOT RAFFIA FOOD COVER', 21470: 'FLOWER VINE RAFFIA FOOD COVER', 21471: 'STRAWBERRY RAFFIA FOOD COVER', 21472: 'LADYBIRD + BEE RAFFIA FOOD COVER', 21473: 'SWEETHEART CREAM STEEL TABLE RECT', 21477: 'STRING OF 20 ROSE LIGHTS', 21478: 'SILVER SKULL HOT WATER BOTTLE ', 21479: 'WHITE SKULL HOT WATER BOTTLE ', 21480: 'PINK STRIPE HOT WATER BOTTLE', 21481: 'FAWN BLUE HOT WATER BOTTLE', 21482: 'MUSHROOM BLUE HOT WATER BOTTLE', 21484: 'CHICK GREY HOT WATER BOTTLE', 21485: 'RED SPOT HEART HOT WATER BOTTLE', 21486: 'PINK HEART DOTS HOT WATER BOTTLE', 21488: 'RED WHITE SCARF  HOT WATER BOTTLE', 21489: 'BLUE WHITE SCARF HOT WATER BOTTLE', 21490: \"SET OF THREE 50'S GIFT WRAPS \", 21491: 'SET OF THREE VINTAGE GIFT WRAPS', 21493: ' VINTAGE DESIGN GIFT TAGS', 21494: 'ROTATING LEAVES T-LIGHT HOLDER', 21495: 'SKULLS WRAP', 21497: 'FANCY FONTS BIRTHDAY WRAP', 21498: 'RED SPOTS  WRAP ', 21499: 'BLUE SPOTS  WRAP', 21500: 'PINK SPOTS  WRAP ', 21504: 'SKULLS GREETING CARD', 21506: 'FANCY FONT BIRTHDAY CARD, ', 21507: 'ELEPHANT, BIRTHDAY CARD, ', 21508: 'VINTAGE KID DOLLY CARD ', 21509: 'COWBOYS AND INDIANS BIRTHDAY CARD ', 21518: 'BANK ACCOUNT  GREETING  CARD ', 21519: 'GIN & TONIC DIET GREETING CARD ', 21520: 'BOOZE & WOMEN GREETING CARD ', 21523: 'FANCY FONT HOME SWEET HOME DOORMAT', 21524: 'SPOTTY  HOME SWEET HOME DOORMAT', 21527: 'RETRO SPOT TRADITIONAL TEAPOT ', 21528: 'DAIRY MAID TRADITIONAL TEAPOT ', 21529: 'RETRO SPOT CERAMIC TOASTRACK', 21530: 'DAIRY MAID CERAMIC TOASTRACK', 21531: 'RETRO SPOT SUGAR JAM BOWL', 21532: 'DAIRY MAID SUGAR JAM BOWL', 21533: 'RETRO SPOT LARGE MILK JUG', 21534: 'DAIRY MAID LARGE MILK JUG', 21535: 'RETRO SPOT SMALL MILK JUG', 21536: 'DAIRY MAID  SMALL  MILK JUG', 21537: 'RETRO SPOTS PUDDING BOWL', 21538: 'DAIRY MAID  PUDDING BOWL', 21539: 'RETRO SPOTS BUTTER DISH', 21540: 'DAIRY MAID CERAMIC BUTTER DISH', 21541: 'DINOSAURS WATER TRANSFER TATTOOS ', 21542: 'WOODLAND WATER TRANSFER TATTOOS ', 21543: 'BUTTERFLY WATER TRANSFER TATTOOS ', 21544: 'SKULLS  WATER TRANSFER TATTOOS ', 21545: 'CERAMIC BIRDHOUSE BUTTERFLY SMALL', 21547: 'CERAMIC BIRDHOUSE CRESTED TIT SMALL', 21548: 'CERAMIC BIRDHOUSE FINCH BLUE ROOF', 21549: 'CERAMIC BIRDHOUSE RED ROOF SMALL', 21550: 'CERAMIC BIRDHOUSE CRESTED TIT LARGE', 21551: 'CERAMIC BIRDHOUSE BUTTERFLY LARGE', 21552: 'CERAMIC BIRDHOUSE BLACK ROSE  LARGE', 21553: 'CERAMIC BIRDHOUSE FINCH BLUE  LARGE', 21554: 'CERAMIC BIRDHOUSE RED ROOF LARGE', 21555: 'CERAMIC STRAWBERRY TRINKET TRAY', 21556: 'CERAMIC STRAWBERRY MONEY BOX', 21557: 'SET OF 6 FUNKY BEAKERS', 21558: 'SKULL LUNCHBOX WITH CUTLERY ', 21559: 'STRAWBERRY LUNCHBOX WITH CUTLERY', 21560: 'TOADSTOOL  LUNCHBOX WITH CUTLERY', 21561: 'DINOSAUR LUNCHBOX WITH CUTLERY', 21563: 'RED HEART SHAPE LOVE BUCKET ', 21564: 'PINK  HEART SHAPE LOVE BUCKET ', 21576: 'LETS GO SHOPPING COTTON TOTE BAG', 21577: 'SAVE THE PLANET COTTON TOTE BAG', 21578: 'WOODLAND DESIGN  COTTON TOTE BAG', 21579: 'LOLITA  DESIGN  COTTON TOTE BAG', 21580: 'RABBIT  DESIGN  COTTON TOTE BAG', 21581: 'SKULLS  DESIGN  COTTON TOTE BAG', 21582: 'KINGS CHOICE SMALL TUBE MATCHES', 21584: 'RETRO SPOT SMALL TUBE MATCHES', 21586: 'KINGS CHOICE GIANT TUBE MATCHES', 21587: 'COSY HOUR GIANT TUBE MATCHES', 21588: 'RETRO SPOT GIANT  TUBE MATCHES', 21589: 'SWALLOW GIANT TUBE MATCHES', 21590: 'KINGS CHOICE CIGAR BOX MATCHES ', 21591: 'COSY HOUR CIGAR BOX MATCHES ', 21592: 'RETRO SPOT  CIGAR BOX MATCHES ', 21593: 'SWALLOW CIGAR BOX MATCHES ', 21594: \"Dr. Jam's Arouzer Stress Ball\", 21595: \"Dad's Cab Electronic Meter\", 21596: 'Hypochondriac Pill Stress Ball', 21609: 'SET 12 LAVENDER  BOTANICAL T-LIGHTS', 21610: 'SET 12 PEAR BOTANICAL T-LIGHTS', 21611: 'SET OF 12 LILY BOTANICAL T-LIGHTS', 21612: 'SET 12 WILDFLOWER BOTANICAL T-LIGHT', 21613: 'S/12 VANILLA  BOTANICAL T-LIGHTS', 21614: 'SET OF 12 ROSE BOTANICAL T-LIGHTS', 21615: '4 LAVENDER BOTANICAL DINNER CANDLES', 21616: '4 PEAR BOTANICAL DINNER CANDLES', 21617: '4 LILY  BOTANICAL DINNER CANDLES', 21618: '4 WILDFLOWER BOTANICAL CANDLES', 21619: '4 VANILLA BOTANICAL CANDLES', 21620: 'S/4 ROSE    BOTANICAL  CANDLE', 21621: 'VINTAGE UNION JACK BUNTING', 21622: 'VINTAGE UNION JACK CUSHION COVER', 21624: 'VINTAGE UNION JACK DOORSTOP', 21625: 'VINTAGE UNION JACK APRON', 21626: 'VINTAGE UNION JACK PENNANT', 21627: 'ELEPHANT CARNIVAL POUFFE', 21628: 'TRIANGULAR POUFFE VINTAGE ', 21629: 'SQUARE FLOOR CUSHION VINTAGE PINK ', 21630: 'FLOOR CUSHION ELEPHANT CARNIVAL', 21631: 'HIPPY CHIC DECORATIVE PARASOL', 21632: 'VINTAGE PINK DECORATIVE PARASOL', 21633: 'SUNFLOWER DECORATIVE PARASOL', 21634: 'ASSORTED MINI MADRAS NOTEBOOK', 21635: 'MADRAS NOTEBOOK LARGE ', 21636: 'MADRAS NOTEBOOK MEDIUM', 21637: 'ASSORTED SANSKRIT MINI NOTEBOOK', 21638: 'ASSORTED TUTTI FRUTTI NOTEBOOK', 21639: 'ASSORTED TUTTI FRUTTI KEYRING', 21640: 'ASSORTED TUTTI FRUTTI  FOB NOTEBOOK', 21641: 'ASSORTED TUTTI FRUTTI KEYRING BALL', 21642: 'ASSORTED TUTTI FRUTTI PEN', 21643: 'ASSORTED TUTTI FRUTTI MIRROR', 21644: 'ASSORTED TUTTI FRUTTI HEART BOX', 21645: 'ASSORTED TUTTI FRUTTI ROUND BOX', 21646: nan, 21647: 'ASSORTED TUTTI FRUTTI LARGE PURSE', 21648: 'ASSORTED TUTTI FRUTTI SMALL PURSE', 21649: 'ASSORTED TUTTI FRUTTI PHOTO FRAME', 21650: 'ASSORTED TUTTI FRUTTI BRACELET', 21651: 'HANGING GLASS ETCHED TEALIGHT', 21652: 'GLASS ETCHED T-LIGHT HOLDER MEDIUM', 21654: 'RIDGED GLASS FINGER BOWL', 21655: 'HANGING RIDGE GLASS T-LIGHT HOLDER', 21656: 'RIDGED GLASS POSY VASE ', 21657: 'MILK BOTTLE WITH GLASS STOPPER ', 21658: 'GLASS  BEURRE DISH', 21659: 'GLASS CAKE STAND', 21661: 'VINTAGE GLASS TEA CADDY', 21662: 'VINTAGE GLASS COFFEE CADDY', 21663: 'VINTAGE GLASS SUGAR CADDY', 21664: 'RIDGED GLASS STORAGE JAR CREAM LID', 21665: 'TRIANGULAR RIDGED GLASS POSY HOLDER', 21666: ' RIDGED GLASS T-LIGHT HOLDER', 21667: 'GLASS CAKE COVER AND PLATE', 21668: 'RED STRIPE CERAMIC DRAWER KNOB', 21669: 'BLUE STRIPE CERAMIC DRAWER KNOB', 21670: 'BLUE SPOT CERAMIC DRAWER KNOB', 21671: 'RED SPOT CERAMIC DRAWER KNOB', 21672: 'WHITE SPOT RED CERAMIC DRAWER KNOB', 21673: 'WHITE SPOT BLUE CERAMIC DRAWER KNOB', 21674: 'RIDGED GLASS PENDANT LAMPSHADE', 21675: 'BUTTERFLIES STICKERS', 21676: 'FLOWERS  STICKERS', 21677: 'HEARTS  STICKERS', 21678: 'PAISLEY PATTERN  STICKERS', 21679: 'SKULLS  STICKERS', 21680: 'WOODLAND  STICKERS', 21681: 'GIANT MEDINA STAMPED METAL BOWL ', 21682: 'LARGE MEDINA STAMPED METAL BOWL ', 21683: 'MEDIUM MEDINA STAMPED METAL BOWL ', 21684: 'SMALL MEDINA STAMPED METAL BOWL ', 21685: 'MEDINA STAMPED METAL TRAY ', 21686: 'MEDINA STAMPED METAL STOOL', 21687: 'SILVER PLATE CANDLE BOWL LARGE', 21688: 'SILVER PLATE CANDLE BOWL SMALL', 21689: 'SILVER VANILLA  FLOWER CANDLE POT', 21690: 'SILVER  CANDLEPOT JARDIN ', 21691: 'SILVER VANILLA FLOWER CANDLE POT', 21692: 'SILVER LATTICE VANILLA CANDLE POT', 21693: 'SMALL HAMMERED SILVER CANDLEPOT ', 21694: 'SMALL REGAL  SILVER CANDLEPOT ', 21695: 'SMALL SILVER FLOWER CANDLE POT', 21696: 'SMALL SILVER TRELLIS CANDLEPOT', 21697: 'SET 5 MINI DOUGHNUT FRIDGE MAGNET ', 21698: 'MOCK LOBSTER FRIDGE MAGNET', 21700: 'BIG DOUGHNUT FRIDGE MAGNETS', 21701: 'SET 6 MINI SUSHI SET FRIDGE MAGNETS', 21703: 'BAG 125g SWIRLY MARBLES', 21704: 'BAG 250g SWIRLY MARBLES', 21705: 'BAG 500g SWIRLY MARBLES', 21706: 'FOLDING UMBRELLA , RED/WHITE SPOT', 21707: 'FOLDING UMBRELLA , BLACK/BLUE  SPOT', 21708: 'FOLDING UMBRELLA  CREAM/MULTI  SPOT', 21709: 'FOLDING UMBRELLA  CHOC/WHITE  SPOT', 21710: 'FOLDING UMBRELLA  PINK/WHITE  SPOT', 21711: 'FOLDING UMBRELLA  WHITE/RED  SPOT', 21713: 'CITRONELLA CANDLE FLOWERPOT', 21714: 'CITRONELLA CANDLE GARDEN POT', 21715: 'GIRLS VINTAGE TIN SEASIDE BUCKET', 21716: 'BOYS VINTAGE TIN SEASIDE BUCKET', 21717: 'EASTER TIN BUCKET', 21718: 'RED METAL BEACH SPADE ', 21719: 'LOVELY BONBON STICKER SHEET', 21720: 'CAKE SHOP  STICKER SHEET', 21721: 'CANDY SHOP  STICKER SHEET', 21722: 'SWEET PUDDING STICKER SHEET', 21723: 'ALPHABET HEARTS STICKER SHEET', 21724: 'PANDA AND BUNNIES STICKER SHEET', 21725: 'SWEETIES  STICKERS', 21726: 'MULTI HEARTS  STICKERS', 21728: 'METAL MEDINA LANTERN ', 21729: 'SMALL MARAKESH METAL  LANTERN ', 21730: 'GLASS STAR FROSTED T-LIGHT HOLDER', 21731: 'RED TOADSTOOL LED NIGHT LIGHT', 21732: 'RED HANGING METAL STAR TLIGHT HLDR', 21733: 'RED HANGING HEART T-LIGHT HOLDER', 21734: 'SMALL MARAKESH LANTERN ON STICK', 21735: 'TWO DOOR CURIO CABINET', 21736: 'GOLD SCROLL GLASS T-LIGHT HOLDER', 21737: 'SET 3 WICKER LOG BASKETS', 21738: 'COSY SLIPPER SHOES SMALL  RED ', 21739: 'COSY SLIPPER SHOES SMALL GREEN', 21740: 'COSY SLIPPER SHOES LARGE RED', 21741: 'COSY SLIPPER SHOES LARGE GREEN', 21742: 'LARGE ROUND WICKER PLATTER ', 21743: 'STAR PORTABLE TABLE LIGHT ', 21744: 'SNOWFLAKE PORTABLE TABLE LIGHT ', 21745: 'GAOLERS KEYS DECORATIVE GARDEN ', 21746: 'SMALL RED SPOT  WINDMILL', 21747: 'SMALL SKULL WINDMILL', 21749: 'LARGE RED SPOT WINDMILL', 21750: ' LARGE SKULL WINDMILL', 21752: 'GLASS CAKE STAND MIRRORED BASE', 21754: 'HOME BUILDING BLOCK WORD', 21755: 'LOVE BUILDING BLOCK WORD', 21756: 'BATH BUILDING BLOCK WORD', 21757: 'LIGHTHOUSE PRINTED METAL SIGN', 21758: 'VINTAGE SHELLS PRINT', 21761: 'WOOD AND GLASS MEDICINE CABINET', 21764: 'VINTAGE WOODEN PLATE RACK', 21765: 'HANGING METAL BIRD BATH', 21766: 'VINTAGE WOOD ORGANISER', 21767: 'FRENCH STYLE WIRE DOOR CABINET ', 21768: 'WALL MOUNTED VINTAGE ORGANISER', 21769: 'VINTAGE POST OFFICE CABINET', 21770: 'OPEN CLOSED METAL SIGN', 21773: 'DECORATIVE ROSE BATHROOM BOTTLE', 21774: 'DECORATIVE CATS BATHROOM BOTTLE', 21775: 'DECORATIVE FLORE BATHROOM BOTTLE', 21777: 'RECIPE BOX WITH METAL HEART', 21779: 'MA CAMPAGNE MINI WOODEN CHEST', 21780: 'MA CAMPAGNE 4 DRAWER WALL SHELF', 21781: 'MA CAMPAGNE CUTLERY BOX', 21784: 'SHOE SHINE BOX ', 21785: 'RAIN PONCHO ', 21786: 'RAIN HAT WITH RED SPOTS', 21788: 'KIDS RAIN MAC BLUE', 21789: 'KIDS RAIN MAC PINK', 21790: 'VINTAGE SNAP CARDS', 21791: 'VINTAGE HEADS AND TAILS CARD GAME ', 21795: 'SET OF 3 BLUE STRIPE BASKET', 21796: 'SET OF 3 RED STRIPE BASKETS', 21801: 'CHRISTMAS TREE DECORATION WITH BELL', 21802: 'CHRISTMAS TREE HEART DECORATION', 21803: 'CHRISTMAS TREE STAR DECORATION', 21804: 'WHITE CHRISTMAS GARLAND STARS TREES', 21805: 'WHITE CHRISTMAS TREE DECORATION ', 21806: 'WHITE CHRISTMAS HEART DECORATION', 21807: 'WHITE CHRISTMAS STAR DECORATION', 21808: 'CHRISTMAS GARLAND STARS,TREES', 21809: 'CHRISTMAS HANGING TREE WITH BELL', 21810: 'CHRISTMAS HANGING STAR WITH BELL', 21811: 'CHRISTMAS HANGING HEART WITH BELL', 21812: 'GARLAND WITH HEARTS AND BELLS', 21813: 'GARLAND WITH STARS AND BELLS', 21814: 'HEART T-LIGHT HOLDER ', 21815: ' STAR  T-LIGHT HOLDER ', 21816: 'CHRISTMAS TREE T-LIGHT HOLDER', 21817: 'GLITTER CHRISTMAS TREE', 21818: 'GLITTER CHRISTMAS HEART ', 21819: 'GLITTER CHRISTMAS STAR ', 21820: 'GLITTER HEART GARLAND WITH BELLS ', 21821: 'GLITTER STAR GARLAND WITH BELLS ', 21822: 'GLITTER CHRISTMAS TREE WITH BELLS', 21823: 'PAINTED METAL HEART WITH HOLLY BELL', 21824: 'PAINTED METAL STAR WITH HOLLY BELLS', 21825: 'PAINTED METAL TREE WITH HOLLY BELLS', 21826: 'EIGHT PIECE DINOSAUR SET', 21827: 'EIGHT PIECE CREEPY CRAWLIE SET', 21828: 'EIGHT PIECE SNAKE  SET', 21829: 'DINOSAUR KEYRINGS ASSORTED', 21830: 'ASSORTED CREEPY CRAWLIES', 21832: 'CHOCOLATE CALCULATOR', 21833: 'CAMOUFLAGE LED TORCH', 21836: 'GINGHAM OVEN GLOVE RED HEART ', 21837: 'CROSS STITCH ALPHABET CUSHION COVER', 21838: 'DADDY MOUSE RED GINGHAM BOW TIE', 21839: 'MUMMY MOUSE RED GINGHAM RIBBON', 21841: 'BABY MOUSE RED GINGHAM DRESS', 21842: 'PINK HEART CANDY BUTTON CALCULATOR', 21843: 'RETRO SPOT CAKE STAND', 21844: 'RETRO SPOT MUG', 21845: 'DAIRY MAID STRIPE MUG', 21846: 'PINK DIAMANTE PEN IN GIFT BOX', 21847: 'GREEN  DIAMANTE PEN IN GIFT BOX', 21849: 'SILVER DIAMANTE PEN IN GIFT BOX', 21850: 'BLUE  DIAMANTE PEN IN GIFT BOX', 21851: 'LILAC DIAMANTE PEN IN GIFT BOX', 21852: 'EMPIRE TEDDY', 21853: 'GUMBALL CUSTOM CARS TOP TRUMPS GAME', 21854: 'EURO FOOTBALL STARS TOP TRUMPS GAME', 21858: 'HIGH SCHOOL MUSICAL 3 TOP TRUMPS ', 21860: 'DR WHO TOP TRUMPS GAME', 21864: 'UNION JACK FLAG PASSPORT COVER ', 21865: 'PINK UNION JACK  PASSPORT COVER ', 21866: 'UNION JACK FLAG LUGGAGE TAG', 21867: 'PINK UNION JACK  LUGGAGE TAG', 21868: 'POTTING SHED TEA MUG', 21869: 'POTTING SHED COFFEE MUG', 21870: 'I CAN ONLY PLEASE ONE PERSON MUG', 21871: 'SAVE THE PLANET MUG', 21872: 'GLAMOROUS  MUG', 21873: \"IF YOU CAN'T STAND THE HEAT MUG\", 21874: 'GIN AND TONIC MUG', 21875: 'KINGS CHOICE MUG', 21876: 'POTTERING MUG', 21877: 'HOME SWEET HOME MUG', 21879: 'HEARTS GIFT TAPE', 21880: 'RED AND WHITE SPOT TAPE', 21881: 'CUTE CATS TAPE', 21882: 'SKULLS TAPE', 21883: 'STARS GIFT TAPE ', 21884: 'CAKES AND BOWS GIFT  TAPE', 21888: 'BINGO SET', 21889: 'WOODEN BOX OF DOMINOES', 21890: 'S/6 WOODEN SKITTLES IN COTTON BAG', 21891: 'TRADITIONAL WOODEN SKIPPING ROPE', 21892: 'TRADITIONAL WOODEN CATCH CUP GAME ', 21893: 'POTTING SHED SEED TIN', 21894: 'POTTING SHED SEED ENVELOPES', 21895: \"POTTING SHED SOW 'N' GROW SET\", 21896: 'POTTING SHED TWINE', 21897: 'POTTING SHED CANDLE CITRONELLA', 21898: 'POTTING SHED ROSE CANDLE', 21899: 'KEY FOB , GARAGE DESIGN', 21900: 'KEY FOB , SHED', 21901: 'KEY FOB , BACK DOOR ', 21902: 'KEY FOB , FRONT  DOOR ', 21903: 'MAN FLU METAL SIGN', 21904: 'HOUSE WRECKING METAL SIGN ', 21905: 'MORE BUTTER METAL SIGN ', 21906: 'PHARMACIE FIRST AID TIN', 21908: 'CHOCOLATE THIS WAY METAL SIGN', 21910: 'WAY OUT METAL SIGN ', 21911: 'GARDEN METAL SIGN ', 21912: 'VINTAGE SNAKES & LADDERS', 21913: 'VINTAGE SEASIDE JIGSAW PUZZLES', 21914: 'BLUE HARMONICA IN BOX ', 21915: 'RED  HARMONICA IN BOX ', 21916: 'SET 12 RETRO WHITE CHALK STICKS', 21917: 'SET 12 KIDS  WHITE CHALK STICKS', 21918: 'SET 12 KIDS COLOUR  CHALK STICKS', 21919: 'Electronic Talking Breath-A-Loser', 21923: 'RED/CREAM STRIPE FRINGE HAMMOCK', 21924: 'BLUE/CREAM STRIPE FRINGE HAMMOCK', 21928: 'JUMBO BAG SCANDINAVIAN PAISLEY', 21929: 'JUMBO BAG PINK VINTAGE PAISLEY', 21930: 'JUMBO STORAGE BAG SKULLS', 21931: 'JUMBO STORAGE BAG SUKI', 21932: 'SCANDINAVIAN PAISLEY PICNIC BAG', 21933: 'PINK VINTAGE PAISLEY PICNIC BAG', 21934: 'SKULL SHOULDER BAG', 21935: 'SUKI  SHOULDER BAG', 21936: 'RED/WHITE SPOT PICNIC BAG', 21937: 'STRAWBERRY   PICNIC BAG', 21942: 'SKULLS DESIGN FLANNEL', 21943: 'CAKES AND RABBITS DESIGN FLANNEL ', 21944: 'KITTENS DESIGN FLANNEL', 21945: 'STRAWBERRIES  DESIGN FLANNEL ', 21946: 'PARTY TIME DESIGN FLANNEL', 21947: 'SET OF 6 HEART CHOPSTICKS', 21948: 'SET OF 6 CAKE CHOPSTICKS', 21949: 'SET OF 6 STRAWBERRY CHOPSTICKS', 21950: 'SET OF 6 DOTS CHOPSTICKS', 21955: 'UNION JACK GUNS & ROSES  DOORMAT', 21967: 'PACK OF 12 SKULL TISSUES', 21972: 'SET OF 36 DINOSAUR PAPER DOILIES', 21973: 'SET OF 36 MUSHROOM PAPER DOILIES', 21974: 'SET OF 36 PAISLEY FLOWER DOILIES', 21975: 'PACK OF 60 DINOSAUR CAKE CASES', 21976: 'PACK OF 60 MUSHROOM CAKE CASES', 21977: 'PACK OF 60 PINK PAISLEY CAKE CASES', 21980: 'PACK OF 12 RED SPOTTY TISSUES ', 21981: 'PACK OF 12 WOODLAND TISSUES ', 21982: nan, 21983: 'PACK OF 12 BLUE PAISLEY TISSUES ', 21984: 'PACK OF 12 PINK PAISLEY TISSUES ', 21985: 'PACK OF 12 HEARTS DESIGN TISSUES ', 21986: 'PACK OF 12 PINK SPOT TISSUES ', 21987: 'PACK OF 6 SKULL PAPER CUPS', 21988: 'PACK OF 6 SKULL PAPER PLATES', 21989: 'PACK OF 20 SKULL PAPER NAPKINS', 21990: 'MODERN FLORAL STATIONERY SET', 21991: 'BOHEMIAN COLLAGE STATIONERY SET', 21992: 'VINTAGE PAISLEY STATIONERY SET', 21993: 'FLORAL FOLK STATIONERY SET', 22003: 'VINTAGE BLUE VACUUM FLASK 0.5L ', 22021: 'BLUE FELT EASTER EGG BASKET', 22023: 'EMPIRE BIRTHDAY CARD', 22024: 'RAINY LADIES BIRTHDAY CARD', 22025: 'RING OF ROSES BIRTHDAY CARD', 22026: 'BANQUET BIRTHDAY  CARD  ', 22027: 'TEA PARTY BIRTHDAY CARD', 22028: 'PENNY FARTHING BIRTHDAY CARD', 22029: 'SPACE BOY BIRTHDAY CARD', 22030: 'SWALLOWS GREETING CARD', 22031: 'BOTANICAL LAVENDER BIRTHDAY CARD', 22032: 'BOTANICAL LILY GREETING CARD', 22033: 'BOTANICAL ROSE GREETING CARD', 22034: 'ROBIN CHRISTMAS CARD', 22035: 'VINTAGE CARAVAN GREETING CARD ', 22036: 'DINOSAUR BIRTHDAY CARD', 22037: 'ROBOT BIRTHDAY CARD', 22040: 'BOTANICAL ROSE GIFT WRAP', 22041: 'RECORD FRAME 7\" SINGLE SIZE ', 22042: 'CHRISTMAS CARD SINGING ANGEL', 22043: 'CHRISTMAS CARD SCREEN PRINT ', 22044: 'CHRISTMAS CARD STACK OF PRESENTS', 22045: 'SPACE BOY GIFT WRAP', 22046: 'TEA PARTY  WRAPPING PAPER ', 22047: 'EMPIRE GIFT WRAP', 22048: 'BIRTHDAY BANQUET GIFT WRAP', 22049: 'WRAP CHRISTMAS SCREEN PRINT', 22050: 'PINK PAISLEY ROSE GIFT WRAP', 22051: 'BLUE SCANDINAVIAN PAISLEY WRAP', 22052: 'VINTAGE CARAVAN GIFT WRAP', 22053: 'EMPIRE DESIGN ROSETTE', 22054: 'MINI CAKE STAND HANGING HEARTS', 22055: 'MINI CAKE STAND  HANGING STRAWBERY', 22056: 'CERAMIC PLATE LOVE HEART DESIGN', 22057: 'CERAMIC PLATE STRAWBERRY DESIGN', 22058: 'CERAMIC LOVE HEARTS DESIGN MUG', 22059: 'CERAMIC STRWBERRY DESIGN MUG', 22060: 'LARGE CAKE STAND HANGING HEARTS', 22061: 'LARGE CAKE STAND  HANGING STRAWBERY', 22062: 'CERAMIC BOWL WITH LOVE HEART DESIGN', 22063: 'CERAMIC BOWL WITH STRAWBERRY DESIGN', 22064: 'PINK DOUGHNUT TRINKET POT ', 22065: 'CHRISTMAS PUDDING TRINKET POT ', 22066: 'LOVE HEART TRINKET POT', 22067: 'CHOC TRUFFLE GOLD TRINKET POT ', 22068: ' BLACK PIRATE TREASURE CHEST', 22069: ' BROWN  PIRATE TREASURE CHEST ', 22070: 'SMALL RETRO SPOT MUG IN BOX  RED', 22071: 'SMALL RETRO SPOT MUG IN BOX  WHITE', 22072: 'TEA CUP AND SAUCER RETRO SPOT', 22073: 'RETRO SPOT STORAGE JAR', 22074: '6 RIBBONS SHIMMERING PINKS ', 22075: '6 RIBBONS ELEGANT CHRISTMAS ', 22076: '6 RIBBONS EMPIRE  ', 22077: '6 RIBBONS RUSTIC CHARM', 22078: 'RIBBON REEL LACE DESIGN ', 22079: 'RIBBON REEL HEARTS DESIGN ', 22080: 'RIBBON REEL SPOTS DESIGN ', 22081: 'RIBBON REEL FLORA + FAUNA ', 22082: 'RIBBON REEL STRIPES DESIGN ', 22083: 'PAPER CHAIN KIT RETRO SPOT', 22084: 'PAPER CHAIN KIT EMPIRE', 22085: 'PAPER CHAIN KIT SKULLS ', 22086: \"PAPER CHAIN KIT 50'S CHRISTMAS \", 22087: 'PAPER BUNTING WHITE LACE', 22088: 'PAPER BUNTING COLOURED LACE', 22089: 'PAPER BUNTING VINTAGE PAISLEY', 22090: 'PAPER BUNTING RETRO SPOTS', 22091: 'EMPIRE TISSUE BOX', 22093: 'MOTORING TISSUE BOX', 22094: 'RED POLKA DOT TISSUE BOX', 22095: 'LADS ONLY TISSUE BOX', 22096: 'PINK PAISLEY SQUARE TISSUE BOX ', 22097: 'SWALLOW SQUARE TISSUE BOX', 22098: 'BOUDOIR SQUARE TISSUE BOX', 22099: 'CARAVAN SQUARE TISSUE BOX', 22100: 'SKULLS SQUARE TISSUE BOX', 22101: 'MIRROR MOSAIC VOTIVE HOLDER', 22102: 'MIRROR MOSAIC T-LIGHT HOLDER ', 22103: 'MIRROR MOSAIC T-LIGHT HOLDER ROUND', 22104: 'MIRROR MOSAIC CANDLE PLATE', 22105: 'MIRROR MOSAIC GOBLET CANDLE HOLDER', 22107: 'PIZZA PLATE IN BOX', 22108: 'PING! MICROWAVE PLATE', 22109: 'FULL ENGLISH BREAKFAST PLATE', 22110: 'BIRD HOUSE HOT WATER BOTTLE', 22111: 'SCOTTIE DOG HOT WATER BOTTLE', 22112: 'CHOCOLATE HOT WATER BOTTLE', 22113: 'GREY HEART HOT WATER BOTTLE', 22114: 'HOT WATER BOTTLE TEA AND SYMPATHY', 22115: 'METAL SIGN EMPIRE TEA', 22116: 'METAL SIGN HIS DINNER IS SERVED', 22117: 'METAL SIGN HER DINNER IS SERVED ', 22118: 'JOY WOODEN BLOCK LETTERS', 22119: ' PEACE WOODEN BLOCK LETTERS', 22120: 'WELCOME  WOODEN BLOCK LETTERS', 22121: 'NOEL WOODEN BLOCK LETTERS ', 22122: 'SET OF 2 FANCY FONT TEA TOWELS', 22123: 'PING MICROWAVE APRON', 22124: 'SET OF 2 TEA TOWELS PING MICROWAVE', 22125: 'UNION JACK HOT WATER BOTTLE ', 22127: 'PARTY CONES CARNIVAL ASSORTED', 22128: 'PARTY CONES CANDY ASSORTED', 22129: 'PARTY CONES CANDY TREE DECORATION', 22130: 'PARTY CONE CHRISTMAS DECORATION ', 22131: 'FOOD CONTAINER SET 3 LOVE HEART ', 22132: 'RED LOVE HEART SHAPE CUP', 22133: 'PINK LOVE HEART SHAPE CUP', 22134: 'LADLE LOVE HEART RED ', 22135: 'LADLE LOVE HEART PINK', 22136: 'LOVE HEART SOCK HANGER', 22137: 'BATHROOM SET LOVE HEART DESIGN', 22138: 'BAKING SET 9 PIECE RETROSPOT ', 22139: 'RETRO SPOT TEA SET CERAMIC 11 PC ', 22141: 'CHRISTMAS CRAFT TREE TOP ANGEL', 22142: 'CHRISTMAS CRAFT WHITE FAIRY ', 22143: 'CHRISTMAS CRAFT HEART DECORATIONS', 22144: 'CHRISTMAS CRAFT LITTLE FRIENDS', 22145: 'CHRISTMAS CRAFT HEART STOCKING ', 22146: 'EASTER CRAFT IVY WREATH WITH CHICK', 22147: 'FELTCRAFT BUTTERFLY HEARTS', 22148: 'EASTER CRAFT 4 CHICKS ', 22149: 'FELTCRAFT 6 FLOWER FRIENDS', 22150: ' 3 STRIPEY MICE FELTCRAFT', 22151: 'PLACE SETTING WHITE HEART', 22152: 'PLACE SETTING WHITE STAR', 22153: 'ANGEL DECORATION STARS ON DRESS', 22154: 'ANGEL DECORATION 3 BUTTONS ', 22155: 'STAR DECORATION RUSTIC', 22156: 'HEART DECORATION WITH PEARLS ', 22157: 'ANGEL DECORATION WITH LACE PADDED', 22158: '3 HEARTS HANGING DECORATION RUSTIC', 22161: 'HEART DECORATION RUSTIC HANGING ', 22162: 'HEART GARLAND RUSTIC PADDED', 22163: 'HEART STRING MEMO HOLDER HANGING', 22164: 'STRING OF STARS CARD HOLDER', 22165: 'DIAMANTE HEART SHAPED WALL MIRROR, ', 22166: 'WALL MIRROR , RECT DIAMANTE, PINK/', 22167: 'WALL MIRROR , DIAMANTE OVAL SHAPE', 22168: 'ORGANISER WOOD, ANTIQUE WHITE ', 22169: 'FAMILY ALBUM WHITE PICTURE FRAME', 22170: 'PICTURE FRAME WOOD TRIPLE PORTRAIT', 22171: '3 HOOK PHOTO SHELF ANTIQUE WHITE', 22172: 'METAL SHELF WITH RAIL ', 22173: 'METAL 4 HOOK HANGER FRENCH CHATEAU', 22174: 'PHOTO CUBE', 22175: 'PINK OWL SOFT TOY', 22176: 'BLUE OWL SOFT TOY', 22177: '5 HOOK BLACKBOARD ORGANISER ', 22178: 'VICTORIAN GLASS HANGING T-LIGHT', 22179: 'SET 10 LIGHTS NIGHT OWL', 22180: 'RETRO SPOT LAMP', 22181: 'SNOWSTORM PHOTO FRAME FRIDGE MAGNET', 22182: 'CAKE STAND VICTORIAN FILIGREE SMALL', 22183: 'CAKE STAND VICTORIAN FILIGREE MED', 22184: 'CAKE STAND VICTORIAN FILIGREE LARGE', 22185: 'SLATE TILE NATURAL HANGING', 22186: 'RED STAR CARD HOLDER', 22187: 'GREEN CHRISTMAS TREE CARD HOLDER', 22188: 'BLACK HEART CARD HOLDER', 22189: 'CREAM HEART CARD HOLDER', 22190: 'LOCAL CAFE MUG', 22191: 'EAU DE NIL DINER WALL CLOCK', 22192: 'BLUE DINER WALL CLOCK', 22193: 'RED DINER WALL CLOCK', 22194: 'BLACK DINER WALL CLOCK', 22195: 'LARGE HEART MEASURING SPOONS', 22196: 'SMALL HEART MEASURING SPOONS', 22197: 'POPCORN HOLDER , SMALL ', 22198: 'POPCORN HOLDER , LARGE', 22199: 'FRYING PAN RED POLKADOT ', 22200: 'FRYING PAN PINK POLKADOT ', 22201: 'FRYING PAN BLUE POLKADOT ', 22202: 'MILK PAN PINK RETROSPOT', 22203: 'MILK PAN RED RETROSPOT', 22204: 'MILK PAN BLUE RETROSPOT', 22207: 'FRYING PAN UNION FLAG', 22208: 'WOOD STAMP SET THANK YOU', 22209: 'WOOD STAMP SET HAPPY BIRTHDAY', 22210: 'WOOD STAMP SET BEST WISHES', 22211: 'WOOD STAMP SET FLOWERS', 22212: 'FOUR HOOK  WHITE LOVEBIRDS', 22214: 'CANDLE PLATE LACE WHITE', 22215: 'CAKE STAND WHITE TWO TIER LACE', 22216: 'T-LIGHT HOLDER WHITE LACE', 22217: 'T-LIGHT HOLDER HANGING LACE', 22218: 'CAKE STAND LACE WHITE', 22219: 'LOVEBIRD HANGING DECORATION WHITE ', 22220: 'CAKE STAND LOVEBIRD 2 TIER WHITE', 22222: 'CAKE PLATE LOVEBIRD WHITE', 22223: 'CAKE PLATE LOVEBIRD PINK', 22224: 'WHITE LOVEBIRD LANTERN', 22227: 'DECORATION, HANGING HEART+MIRROR ', 22228: 'BUNNY WOODEN PAINTED WITH BIRD ', 22229: 'BUNNY WOODEN PAINTED WITH FLOWER ', 22230: 'JIGSAW TREE WITH WATERING CAN', 22231: 'JIGSAW TREE WITH BIRDHOUSE', 22232: 'JIGSAW TOADSTOOLS 3 PIECE', 22233: 'JIGSAW RABBIT AND BIRDHOUSE', 22236: 'CAKE STAND 3 TIER MAGIC GARDEN', 22241: 'GARLAND , WOODEN  \" HAPPY EASTER\"', 22242: 'HOOK, 5 HANGER , MAGIC TOADSTOOL', 22243: 'HOOK, 5 HANGER ,MAGIC TOADSTOOL RED', 22244: 'HOOK, 3 HANGER ,MAGIC GARDEN', 22245: 'HOOK, 1 HANGER ,MAGIC GARDEN', 22246: 'GARLAND, MAGIC GARDEN 1.8M', 22247: 'BUNNY DECORATION MAGIC GARDEN', 22248: 'DECORATION  PINK CHICK MAGIC GARDEN', 22249: 'DECORATION WHITE CHICK MAGIC GARDEN', 22250: 'DECORATION  BUTTERFLY  MAGIC GARDEN', 22252: 'BIRDCAGE DECORATION MAGIC GARDEN', 22253: '6 CROCHET STRAWBERRIES', 22254: 'FELT TOADSTOOL LARGE', 22255: 'FELT TOADSTOOL  SMALL', 22256: 'FELT FARM ANIMAL CHICKEN', 22258: 'FELT FARM ANIMAL RABBIT', 22260: 'FELT EGG COSY BLUE RABBIT ', 22261: 'FELT EGG COSY WHITE RABBIT ', 22262: 'FELT EGG COSY CHICKEN', 22263: 'FELT EGG COSY LADYBIRD ', 22264: 'FELT FARM ANIMAL WHITE BUNNY ', 22265: 'EASTER DECORATION NATURAL CHICK', 22267: 'EASTER DECORATION EGG BUNNY ', 22268: 'EASTER DECORATION SITTING BUNNY', 22269: 'EGG CUP NATURAL CHICKEN', 22270: 'HAPPY EASTER HANGING DECORATION', 22271: 'FELTCRAFT DOLL ROSIE', 22272: 'FELTCRAFT DOLL MARIA', 22273: 'FELTCRAFT DOLL MOLLY', 22274: 'FELTCRAFT DOLL EMILY', 22275: 'WEEKEND BAG VINTAGE ROSE PAISLEY', 22276: 'WASH BAG VINTAGE ROSE PAISLEY', 22277: 'COSMETIC BAG VINTAGE ROSE PAISLEY', 22278: 'OVERNIGHT BAG VINTAGE ROSE PAISLEY', 22279: 'POCKET BAG BLUE PAISLEY RED SPOT', 22280: 'POCKET BAG PINK PAISELY BROWN SPOT', 22281: 'EASTER TREE YELLOW BIRDS', 22282: '12 EGG HOUSE PAINTED WOOD', 22283: '6 EGG HOUSE PAINTED WOOD', 22284: 'HEN HOUSE DECORATION', 22285: 'DECORATION HEN ON NEST, HANGING', 22286: 'DECORATION , WOBBLY RABBIT , METAL ', 22287: 'DECORATION , WOBBLY CHICKEN, METAL ', 22288: 'DECORATION , HANGING METAL RABBIT', 22289: 'DECORATION , HANGING METAL CHICKEN', 22290: 'STANDING METAL RABBIT WITH EGG', 22291: 'SPRING DEC , HANGING CHICK CREAM', 22292: 'SPRING DEC , HANGING CHICK  YELLOW', 22293: 'SPRING DEC , HANGING CHICK  GREEN', 22294: 'HEART FILIGREE DOVE  SMALL', 22295: 'HEART FILIGREE DOVE LARGE', 22296: 'HEART IVORY TRELLIS LARGE', 22297: 'HEART IVORY TRELLIS SMALL', 22299: 'PIG KEYRING WITH LIGHT & SOUND ', 22300: 'COFFEE MUG DOG + BALL DESIGN', 22301: 'COFFEE MUG CAT + BIRD DESIGN', 22302: 'COFFEE MUG PEARS  DESIGN', 22303: 'COFFEE MUG APPLES DESIGN', 22304: 'COFFEE MUG BLUE PAISLEY DESIGN', 22305: 'COFFEE MUG PINK PAISLEY DESIGN', 22306: 'SILVER MUG BONE CHINA TREE OF LIFE', 22307: 'GOLD MUG BONE CHINA TREE OF LIFE', 22308: 'TEA COSY BLUE STRIPE', 22309: 'TEA COSY RED  STRIPE', 22310: 'KNITTED MUG COSY IVORY COLOUR ', 22311: 'OFFICE MUG WARMER BLACK+SILVER ', 22312: 'OFFICE MUG WARMER POLKADOT', 22313: 'OFFICE MUG WARMER PINK', 22314: 'OFFICE MUG WARMER CHOC+BLUE', 22315: '200 RED + WHITE BENDY STRAWS', 22316: '200 BENDY SKULL STRAWS', 22317: 'FIVE CATS HANGING DECORATION', 22318: 'FIVE HEART HANGING DECORATION', 22319: 'HAIRCLIPS FORTIES FABRIC ASSORTED', 22320: 'BIRDS MOBILE VINTAGE DESIGN', 22321: 'BIRD DECORATION RED SPOT', 22322: 'BIRD DECORATION GREEN  SPOT', 22323: 'PINK POLKADOT KIDS BAG', 22324: 'BLUE POLKADOT KIDS BAG', 22325: 'MOBILE VINTAGE HEARTS ', 22330: '72 ROUND PINK DOILIES', 22331: 'WOODLAND PARTY BAG + STICKER SET', 22332: 'SKULLS PARTY BAG + STICKER SET', 22333: 'RETRO SPORT PARTY BAG + STICKER SET', 22334: 'DINOSAUR PARTY BAG + STICKER SET', 22335: 'HEART DECORATION PAINTED ZINC ', 22336: 'DOVE DECORATION PAINTED ZINC ', 22337: 'ANGEL DECORATION PAINTED ZINC ', 22338: 'STAR DECORATION PAINTED ZINC ', 22339: 'CHRISTMAS TREE PAINTED ZINC ', 22340: 'NOEL GARLAND PAINTED ZINC ', 22341: 'LOVE GARLAND PAINTED ZINC ', 22342: 'HOME GARLAND PAINTED ZINC ', 22343: 'PARTY PIZZA DISH RED WHITE SPOT ', 22344: 'PARTY PIZZA DISH PINK WHITE SPOT ', 22345: 'PARTY PIZZA DISH BLUE WHITE SPOT ', 22346: 'PARTY PIZZA DISH GREEN WHITE SPOT ', 22347: 'PIZZA SLICE DISH', 22348: 'TEA BAG PLATE RED SPOTTY ', 22349: 'DOG BOWL , CHASING BALL DESIGN', 22350: 'CAT BOWL ', 22352: 'LUNCHBOX WITH CUTLERY RETROSPOT ', 22353: 'LUNCHBOX WITH CUTLERY FAIRY CAKES ', 22354: 'RETRO SPOT PADDED SEAT CUSHION', 22355: 'CHARLOTTE BAG , SUKI DESIGN', 22356: 'CHARLOTTE BAG , PINK/WHITE SPOTS', 22360: 'GLASS JAR, ENGLISH CONFECTIONERY', 22415: 'WHITE TISSUE REAM', 35015: 'JACOBS LADDER SMALL', 35071: 'ASSORTED SANTA CHRISTMAS DECORATION', 35160: 'BUDDHA INCENSE HOLDER ASSORTED', 35233: 'PASTA ENAMEL/BRASS CONTAINER', 35241: 'ENAMEL BLUE RIM BISCUIT BIN', 35400: 'WOODEN BOX ADVENT CALENDAR ', 35443: 'RASTA IN BATH W SPLIFF ASHTRAY', 35537: 'CANDLE RING W/CLEAR BEADS', 35594: 'WOODEN CHRISTMAS TREE 3 HANGING', 35645: 'VINTAGE BEAD PINK JEWEL BOX', 35646: 'VINTAGE BEAD PINK EVENING BAG', 35647: 'VINTAGE BEAD PINK SHADE ', 35648: 'VINTAGE BEAD PINK PURSE ', 35649: 'VINTAGE BEAD COSMETIC BAG ', 35651: 'VINTAGE BEAD PINK SCARF ', 35653: 'VINTAGE BEAD NOTEBOOK', 35793: 'S/3 PUPPIES CHRISTMAS DECORATIONS', 35832: 'WOOLLY HAT SOCK GLOVE ADVENT STRING', 35837: 'SET OF SIX SILVER+RED FLOCK BAUBLES', 35840: 'FLAT GLASS  BAUBLE WHITE FLOCK ', 35914: 'PINK CHICK EGG WARMER + EGG CUP', 35923: 'CANDY HEART HANGING DECORATION', 35924: 'HANGING FAIRY CAKE DECORATION', 35931: 'PINK STAR CHRISTMAS DECORATION', 35932: 'PINK CHRISTMAS TREE DECORATION', 35933: 'PINK STOCKING CHRISTMAS DECORATION', 35936: 'CERISE+GOLD CHRISTMAS TREE DEC', 35949: nan, 35951: 'FOLKART BAUBLE CHRISTMAS DECORATION', 35953: 'FOLKART STAR CHRISTMAS DECORATIONS', 35954: 'SMALL FOLKART STAR CHRISTMAS DEC', 35955: 'SMALL FOLKART CHRISTMAS TREE DEC', 35956: 'lost', 35957: 'SMALLFOLKART BAUBLE CHRISTMAS DEC', 35958: 'FOLKART ZINC STAR CHRISTMAS DEC', 35961: 'FOLKART ZINC HEART CHRISTMAS DEC', 35962: '12 ASS ZINC CHRISTMAS DECORATIONS', 35964: 'FOLKART CLIP ON STARS', 35965: 'FOLKART HEART NAPKIN RINGS', 35966: 'FOLKART CHRISTMAS TREE T-LIGHT HOLD', 35967: 'FOLK ART METAL STAR T-LIGHT HOLDER', 35968: 'FOLK ART METAL HEART T-LIGHT HOLDER', 35969: 'FOLKART CROWN TABLE DECORATIONS', 35971: 'ROSE FOLKART HEART DECORATIONS', 35972: 'DAISY FOLKART HEART DECORATION', 35973: 'GERANIUM FOLKART HEART DECORATION', 35979: 'SIX STRING SCANDINAVIAN HEART DECS', 35983: nan, 35991: 'SET/6 BLACK SNOWFLAKE T-LIGHTS ', 35995: 'SET/6 BLACK GLITTER REINDEER CANDLE', 35999: 'S/6 SCANDINAVIAN HEART T-LIGHT', 37112: 'YELLOW BIRDS FELT DES FOODCOVER', 37327: 'ASSTD MULTICOLOUR CIRCLES MUG', 37333: 'RETRO \"TEA FOR ONE\" ', 37340: 'MULTICOLOUR SPRING FLOWER MUG', 37342: 'SPOTTY COFFEE CUP & SAUCER', 37343: 'SPOTS DESIGN MUG W PINK INSIDE', 37345: 'ASSTD HEARTS DESIGN MUGS', 37348: 'SET OF 4 PASTEL STACKING MUGS', 37370: 'RETRO COFFEE MUGS ASSORTED', 37399: 'ASS RETROSPOOF MUGS,SPORTS', 37408: 'ASSORTED DESIGN GEISHA GIRL MUGS', 37410: 'BLACK AND WHITE PAISLEY FLOWER MUG', 37422: 'WHITE WITH BLACK CATS BOWL', 37423: 'WHITE WITH BLACK CATS PLATE', 37424: 'WHITE WITH BLACK CATS MUG', 37432: 'MUG PINK AND PURPLE ARABIC DESIGN', 37438: 'FUNKY FLOWER COFFEE POT', 37441: 'ASSORTED WHITE EMBOSSED CHINA MUGS', 37446: 'MINI CAKE STAND WITH HANGING CAKES', 37447: 'CERAMIC CAKE DESIGN SPOTTED PLATE', 37448: 'CERAMIC CAKE DESIGN SPOTTED MUG', 37449: 'CERAMIC CAKE STAND + HANGING CAKES', 37450: 'CERAMIC CAKE BOWL + HANGING CAKES', 37461: 'FUNKY MONKEY MUG', 37464: 'ROBOT MUG IN DISPLAY BOX', 37467: 'PIG MUG IN TWO COLOUR DESIGNS', 37474: 'SET/4 2 TONE EGG SHAPE MIXING BOWLS', 37475: 'SET/4 COLOURFUL MIXING BOWLS', 37476: 'CONDIMENT TRAY 4 BOWLS AND 4 SPOONS', 37483: 'ENGLISH ROSE MUG IN GIFT BOX', 37484: 'ENGLISH ROSE TEA FOR ONE GIFT BOX', 37485: 'ENGLISH ROSE TEA SET IN GIFT BOX', 37495: 'FAIRY CAKE BIRTHDAY CANDLE SET', 37500: 'TEA TIME TEAPOT IN GIFT BOX', 37501: 'TEA TIME TEA SET IN GIFT BOX', 37502: 'TEA TIME MUG IN GIFT BOX', 37503: 'TEA TIME CAKE STAND IN GIFT BOX', 37506: 'NEW ENGLAND MILK JUG W GIFT BOX', 37508: 'NEW ENGLAND CERAMIC CAKE SERVER', 40001: ' WHITE BAMBOO RIBS LAMPSHADE', 40016: 'CHINESE DRAGON PAPER LANTERNS', 44230: 'SQUARE MIRROR CURTAIN', 44234: 'ASSORTED CIRCULAR MOBILE', 44265: 'M/COLOUR POM-POM CURTAIN', 45016: 'DECORATIVE NET CANOPY LEOPARD', 46118: 'FUNKY MONKEY CUSHION COVER', 47016: 'LIGHT DECORATION BATTERY OPERATED', 47420: 'ASSORTED COLOUR SUCTION CUP HOOK', 47471: 'RAINBOW PEGS PHOTO CLIP STRING', 47480: 'HANGING PHOTO CLIP ROPE LADDER', 47481: '50CM METAL STRING WITH  7 CLIPS', 47502: 'POLKADOT CUTLERY 24 PCS IN TRAY', 47505: 'MINATURE COLOURED GARDENING SET', 47554: 'S/3 COLOURS FLOCK TEA TOWELS', 47556: 'SET/2 SPOTTY + ROSE TEA TOWELS ', 47562: 'ENGLISH ROSE IRONING BOARD COVER', 47566: 'PARTY BUNTING', 47568: 'ENGLISH ROSE DESIGN PEG BAG', 47569: 'ENGLISH ROSE DESIGN SHOPPING BAG', 47570: 'ENGLISH ROSE TABLE CLOTH', 47579: 'TEA TIME BREAKFAST BASKET', 47580: 'TEA TIME DES TEA COSY', 47589: 'CONGRATULATIONS BUNTING', 47597: 'NEW ENGLAND TEATOWELS', 47598: 'NEW ENGLAND EGG WARMER', 48111: 'DOOR MAT 3 SMILEY CATS', 48116: 'DOOR MAT MULTICOLOUR STRIPE', 48129: 'DOOR MAT TOPIARY', 48175: 'DOOR MAT CAMOUFLAGE', 48179: 'DOOR MAT SWEET HOME', 48184: 'DOOR MAT ENGLISH ROSE ', 48185: 'DOOR MAT FAIRY CAKE', 48187: 'DOOR MAT NEW ENGLAND', 48188: 'DOOR MAT WELCOME PUPPIES', 48189: 'DOOR MAT FRIENDSHIP ', 48194: 'DOORMAT HEARTS', 48195: 'DOOR MAT GREEN PAISLEY ', 48197: 'DOOR MAT BIRD ON THE WIRE', 51008: 'AFGHAN SLIPPER SOCK PAIR', 62018: 'SOMBRERO ', 70006: 'LOVE HEART POCKET WARMER', 70007: 'HI TEC ALPINE HAND WARMER', 71038: 'WHITE HANGING BEADS CANDLE HOLDER', 71053: 'WHITE METAL LANTERN', 71143: 'SILVER BOOK MARK WITH BEADS', 71215: 'METAL BASE FOR CANDLES', 71279: 'PINK GLASS CANDLEHOLDER', 71403: 'PINK/WHITE \"KEEP CLEAN\" BULLET BIN', 71459: 'HANGING JAM JAR T-LIGHT HOLDER', 71477: 'COLOUR GLASS. STAR T-LIGHT HOLDER', 72008: 'FROSTED BOX 9 WHITE T-LIGHT CANDLES', 72122: 'COFFEE SCENT PILLAR CANDLE', 72127: 'COLUMBIAN CANDLE ROUND ', 72128: 'COLUMBIAN CANDLE ROUND', 72130: 'COLUMBIAN CANDLE ROUND', 72131: 'COLUMBIAN CANDLE RECTANGLE', 72133: 'COLUMBIAN CANDLE RECTANGLE', 72134: 'COLUMBIAN  CUBE CANDLE ', 72232: 'FENG SHUI PILLAR CANDLE', 72267: 'PREMIUM CHURCH CANDLE', 72484: 'ROSES IN WHITE HEART CANDLE ', 72487: 'ROSES WHITE ROUND CANDLE', 72586: 'S/6 HALLOWEEN GHOST T LIGHTS, 5CM H', 72598: 'SET/12 TAPER CANDLES', 72708: 'SCULPTED ROUND IVORY CANDLE ', 72724: 'SET/6 CHRISTMAS ICICLE T-LIGHTS', 72728: 'ROSE SCENT CANDLES IN GLASS', 72741: 'GRAND CHOCOLATECANDLE', 72756: 'FAIRY CAKE CANDLES', 72772: 'SET/4 SCENTED CANDLES IN RAMEKINS', 72779: 'SET/6 BLACK ROSE T-LIGHT CANDLES', 72780: 'BLACK SILOUETTE CANDLE PLATE', 72783: \"BLACK SIL'T SQU CANDLE PLATE \", 72789: 'BASKET/8 SCENTED LOVE TOKEN CANDLES', 72793: 'BLACK BOX MIRROR LANTERN', 72805: 'VANILLA CANDLE IN EMBOSSED ZINC POT', 72811: 'SMALL ZINC/GLASS CANDLEHOLDER', 72812: 'LARGE ZINC/GLASS CANDLEHOLDER', 72814: 'SET/3 CHRISTMAS BRIAR CANDLES', 72815: '3 WICK CHRISTMAS BRIAR CANDLE ', 72816: 'SET/3 CHRISTMAS DECOUPAGE CANDLES', 72817: 'SET/2 CHRISTMAS DECOUPAGE CANDLES', 72818: 'CHRISTMAS DECOUPAGE CANDLE', 72819: 'CUPID DESIGN SCENTED CANDLES', 75011: 'BLUE DAISY MOBILE', 75131: 'METAL TUBE CHIME ON BAMBOO', 77081: 'FLOWER WINDMILL', 78056: 'CAMOUFLAGE BACKPACK ON WHEELS', 78124: 'MAGAZINE RACK GEBRA ASSORTED ', 79000: 'MOROCCAN TEA GLASS', 79029: 'GLASS HONEYPOT WASP CATCHER', 79067: 'CORONA MEXICAN TRAY', 79072: 'TEATIME CAKE TIN WITH HANDLE', 79160: 'HEART SHAPE WIRELESS DOORBELL', 79163: 'BLACK CHAMPAGNE GLASS', 79164: 'BLACK WINE GLASS', 79320: ' FLAMINGO LIGHTS', 79321: 'CHILLI LIGHTS', 79328: 'BLUE FLOCK GLASS CANDLEHOLDER', 79329: 'PINK FLOCK GLASS CANDLEHOLDER', 79336: 'LIGHT PINK FLOCK GLASS CANDLEHOLDER', 79338: 'DARK PINK FLOCK GLASS CANDLEHOLDER', 79341: 'WILLOW BRANCH LIGHTS.', 79406: 'FROSTED WHITE BASE ', 79413: 'GLASS WINE GLASS DECORATIONS', 79534: 'MULTICOLOUR GLASS PLATE', 82076: 'BEECH WOOD PHOTO FRAME ', 82081: 'PINK HEARTS PHOTO ALBUM', 82093: 'HEART SHAPE BUTTON FRAME ', 82095: 'HEART BUTTONS JEWELLERY BOX', 82482: 'WOODEN PICTURE FRAME WHITE FINISH', 82483: 'WOOD 2 DRAWER CABINET WHITE FINISH', 82484: 'WOOD BLACK BOARD ANT WHITE FINISH', 82486: 'WOOD S/3 CABINET ANT WHITE FINISH', 82551: 'LAUNDRY 15C METAL SIGN', 82552: 'WASHROOM METAL SIGN', 82553: \"POP'S GREASY SPOON METAL SIGN\", 82567: 'AIRLINE LOUNGE,METAL SIGN', 82578: 'KITCHEN METAL SIGN', 82580: 'BATHROOM METAL SIGN', 82581: 'TOILET METAL SIGN', 82582: 'AREA PATROLLED METAL SIGN', 82583: 'HOT BATHS METAL SIGN', 82585: 'SWEET VALENCIA CANDLE+CUP', 82587: 'TEXRIO TOMATOES CANDLE+CUP', 82597: 'BOMBS AWAY METAL SIGN', 82599: \"FANNY'S REST STOPMETAL SIGN\", 82600: 'NO SINGING METAL SIGN', 82605: 'OLD DOC.RUSSEL METAL SIGN', 82615: 'PINK MARSHMALLOW SCARF KNITTING KIT', 84006: 'MAGIC TREE -PAPER FLOWERS', 84007: 'MAGIC GARDEN MOUNT FUJI', 84012: 'MAGIC SHEEP WOOL GROWING FROM PAPER', 84016: 'FLAG OF ST GEORGE CAR FLAG', 84050: 'PINK HEART SHAPE EGG FRYING PAN', 84051: 'ASS COLOUR GLOWING TIARAS', 84077: 'WORLD WAR 2 GLIDERS ASSTD DESIGNS', 84081: 'WHITE CERAMIC PARTY SET (5PCS)', 84199: 'GLOW IN DARK DOLPHINS', 84212: 'ASSORTED FLOWER COLOUR \"LEIS\"', 84228: 'HEN HOUSE W CHICK STANDING', 84270: 'ASSTD DESIGN BUBBLE GUM RING', 84292: 'ROSE PINK METAL FOLDING CHAIR', 84306: 'S/3 PINK SQUARE PLANTERS ROSES', 84340: 'LARGE FIBRE OPTIC CHRISTMAS TREE', 84347: 'ROTATING SILVER ANGELS T-LIGHT HLDR', 84352: 'SILVER CHRISTMAS TREE BAUBLE STAND ', 84356: 'POMPOM CURTAIN', 84358: 'FLOOR LAMP SHADE WOOD BASE', 84360: 'TABLE LAMP WHITE SHADE WOOD BASE', 84367: 'LA STREGA CANVAS PICTURE ', 84371: 'BIG PINK POODLE', 84375: 'SET OF 20 KIDS COOKIE CUTTERS', 84378: 'SET OF 3 HEART COOKIE CUTTERS', 84380: 'SET OF 3 BUTTERFLY COOKIE CUTTERS', 84388: 'WISE MAN STAR SHAPE EGG PAN', 84396: '6 HOOK JEWELLERY STAND BLACK DRESS', 84452: 'METAL RABBIT LADDER EASTER ', 84454: 'WOBBLING METAL CHICKEN EASTER', 84456: 'SET OF 3 RABBIT EGG EASTER', 84466: 'TOP SECRET PEN SET', 84467: 'ENGLISH ROSE DESIGN QUILTED THROW', 84469: 'ROSE DES PADDED FLOOR CUSHION', 84472: 'PINK AND LILAC QUILTED THROW ', 84482: 'BUTTONS DESIGN JEWELLERY BOX', 84497: 'BUTTONS AND STRIPES NOTEBOOK ', 84522: 'PINK PARTY SUNGLASSES', 84526: 'GIANT BLACK SUNGLASSES', 84539: 'KNITTED RABBIT DOLL ', 84548: 'CROCHET BEAR RED/BLUE  KEYRING', 84549: 'CROCHET WHITE RABBIT KEYRING ', 84550: 'CROCHET LILAC/RED BEAR KEYRING', 84551: 'CROCHET DOG KEYRING', 84564: '6 SEGMENT COLOURED SNACK BOWL ', 84568: 'GIRLS ALPHABET IRON ON PATCHES ', 84571: nan, 84572: '6 HOOK JEWEL STAND LILAC DRESS', 84576: 'BLUE CAT BISCUIT BARREL PINK HEART', 84578: 'ELEPHANT TOY WITH BLUE T-SHIRT', 84580: 'MOUSE TOY WITH PINK T-SHIRT', 84581: 'DOG TOY WITH PINK CROCHET SKIRT', 84582: 'PINK CROCHET CAT WITH SCARF', 84584: 'PINK GINGHAM CAT WITH SCARF', 84592: 'CROCHET ROSE PURSE WITH SUEDE BACK', 84593: 'CROCHET ROSE DES CLOTHES HANGER', 84598: 'BOYS ALPHABET IRON ON PATCHES', 84600: 'NEW BAROQUE JEWELLERY BOX ', 84608: 'ORNATE EDWARDIAN CANDLE HOLDER', 84615: 'PINK ROUND BUTTERFLY MIRROR ', 84617: ' NEW BAROQUE BLACK BOXES', 84619: 'BLUE GINGHAM ROSE QUILT ', 84620: 'BLUE GINGHAM ROSE CUSHION COVER', 84621: 'BLUE GINGHAM ROSE FLOOR CUSHION ', 84622: 'PINK GINGHAM ROSE CUSHION COVER', 84623: 'PINK GINGHAM ROSE FLOOR CUSHION', 84626: 'CANDY STRIPE ROSE QUILT', 84627: 'CANDY STRIPE ROSE C/COVER ', 84637: 'KITCHEN FLOWER POTS WALL PLAQUE', 84638: 'SMALL KITCHEN FLOWER POTS PLAQUE', 84648: 'NEW BAROQUE WALL MIRROR', 84656: 'WHITE ROSE C/COVER', 84658: 'WHITE STITCHED CUSHION COVER', 84664: 'CHERRY BLOSSOM BATHROOM CABINET', 84665: 'SQUARE CHERRY BLOSSOM CABINET', 84666: 'SQUARE CHERRY BLOSSOM CABINET', 84670: 'JAPANESE CROCHETED ANIMAL', 84674: 'FLYING PIG WATERING CAN', 84675: 'FROG KING WATERING CAN', 84676: 'BATH DUCK WATERING CAN', 84678: 'CLASSICAL ROSE SMALL VASE', 84680: 'CLASSICAL ROSE URN', 84682: 'CLASSICAL ROSE DISH', 84683: 'CLASSICAL ROSE CANDLESTAND', 84684: 'BEACH HUT PHOTO FRAME', 84685: 'BEACH HUT KEY CABINET', 84686: 'BEACH HUT MIRROR', 84687: 'BEACH HUT SHELF W 3 DRAWERS', 84688: 'BEACH HUT DESIGN BLACKBOARD', 84689: 'S/2 BEACH HUT TREASURE CHESTS', 84690: 'S/2 BEACH HUT STOOLS', 84691: 'PACK 20 DOLLY PEGS', 84692: 'BOX OF 24 COCKTAIL PARASOLS', 84715: 'SET OF 6 ICE CREAM SKITTLES', 84721: 'MANHATTAN CANVAS ART PICTURE', 84725: 'FREESTYLE CANVAS ART PICTURE', 84744: 'S/6 SEW ON CROCHET FLOWERS', 84746: 'PINK EASTER HENS+FLOWER', 84754: 'S/15 SILVER GLASS BAUBLES IN BAG', 84755: 'COLOUR GLASS T-LIGHT HOLDER HANGING', 84761: 'IVORY HANGING BIRD PLANTER ', 84763: 'ZINC FINISH 15CM PLANTER POTS', 84765: 'SILVER ROCOCO CANDELABRA', 84767: 'ZINC POLICE BOX LANTERN', 84773: 'RED ROSE AND LACE C/COVER', 84789: 'ENCHANTED BIRD PLANT CAGE', 84791: 'GINGHAM HEART DECORATION', 84792: 'ENCHANTED BIRD COATHANGER 5 HOOK', 84813: 'SET OF 4 DIAMOND NAPKIN RINGS', 84815: 'SET OF 3 DANISH ROSE PLANTERS', 84818: 'DANISH ROSE PHOTO FRAME', 84819: 'DANISH ROSE ROUND SEWING BOX', 84824: 'DANISH ROSE UMBRELLA STAND', 84826: 'ASSTD DESIGN 3D PAPER STICKERS', 84827: 'ASS DES PHONE SPONGE CRAFT STICKER', 84828: 'JUNGLE POPSICLES ICE LOLLY HOLDERS', 84830: 'LARGE ENGLISH ARBORETUM', 84832: 'ZINC WILLIE WINKIE  CANDLE STICK', 84836: 'ZINC METAL HEART DECORATION', 84837: 'WHITE SWEETHEARTS CABINET 4 DRAWERS', 84839: 'SWEETHEART KEY CABINET', 84841: nan, 84842: 'HELLO SAILOR BATHROOM SET', 84843: 'WHITE SOAP RACK WITH 2 BOTTLES', 84847: 'FLORAL BATHROOM SET', 84854: 'GIRLY PINK TOOL SET', 84855: 'BLOKEY SILVER TOOL SET', 84869: 'CANDY BUTTON PHOTO ALBUM', 84879: 'ASSORTED COLOUR BIRD ORNAMENT', 84880: 'WHITE WIRE EGG HOLDER', 84882: 'GREEN WIRE STANDING CANDLE HOLDER', 84893: 'ANT WHITE IRON BASKET', 84901: 'BLACK FACE LAMB WITH PANTS', 84902: 'PINK KNITTED COW STUFFED TOY', 84906: \"PINK B'FLY C/COVER W BOBBLES\", 84907: 'PINK/YELLOW PATCH CUSHION COVER', 84916: 'HAND TOWEL PALE BLUE W FLOWERS', 84918: 'CREAM C/COVER W YELLOW/GREEN FLOWER', 84919: 'L BLUE C/COVER W PINK/YELLOW FLOWER', 84920: 'PINK FLOWER FABRIC PONY', 84921: 'CREAM AND PINK FLOWERS PONY ', 84922: nan, 84929: 'ASSTD FRUIT+FLOWERS FRIDGE MAGNETS', 84934: 'ASSTD DESIGN POP ART SLIM PEN', 84937: 'KASHMIR FOLKART TUMBLERS', 84944: 'SET OF 6 KASHMIR FOLKART BAUBLES', 84945: 'MULTI COLOUR SILVER T-LIGHT HOLDER', 84946: 'ANTIQUE SILVER TEA GLASS ETCHED', 84947: 'ANTIQUE SILVER TEA GLASS ENGRAVED', 84948: 'SILVER HANGING T-LIGHT HOLDER DOME', 84949: 'SILVER HANGING T-LIGHT HOLDER', 84950: 'ASSORTED COLOUR T-LIGHT HOLDER', 84969: 'ASSORTED COLOUR SET 6 TEASPOONS', 84975: 'HEART SHAPED MIRROR', 84976: 'RECTANGULAR SHAPED MIRROR', 84977: 'WIRE FLOWER T-LIGHT HOLDER', 84978: 'HANGING HEART JAR T-LIGHT HOLDER', 84987: 'SET OF 36 TEATIME PAPER DOILIES', 84988: 'SET OF 72 PINK HEART PAPER DOILIES', 84990: '60 GOLD AND SILVER FAIRY CAKE CASES', 84991: '60 TEATIME FAIRY CAKE CASES', 84992: '72 SWEETHEART FAIRY CAKE CASES', 85006: 'SET 4 NURSERY DES ROUND BOXES', 85007: 'SET OF 3 VINTAGE TEA TIME BOXES', 85008: 'SET OF 3 CONEY ISLAND OVAL BOXES', 85015: 'SET OF 12  VINTAGE POSTCARD SET', 85016: 'SET OF 6 VINTAGE NOTELETS KIT', 85020: 'ROUND PINK HEART MIRROR', 85038: '6 CHOCOLATE LOVE HEART T-LIGHTS', 85041: 'SET/4 PINK ORCHID CANDLES IN BOWL', 85042: 'ANTIQUE LILY FAIRY LIGHTS', 85043: 'RED HEART CANDY POP LIGHTS', 85044: 'RED REINDEER STRING OF 20 LIGHTS', 85045: 'GREEN CHRISTMAS TREE STRING 20LIGHT', 85047: 'WHITE BEADED GARLAND STRING 20LIGHT', 85048: '15CM CHRISTMAS GLASS BALL 20 LIGHTS', 85053: 'FRENCH ENAMEL CANDLEHOLDER', 85054: 'FRENCH ENAMEL POT W LID', 85055: 'FRENCH ENAMEL UTENSIL HOLDER', 85059: 'FRENCH ENAMEL WATER BASIN', 85060: 'WOOD FAN WITH FLOWER DESIGN', 85062: 'PEARL CRYSTAL PUMPKIN T-LIGHT HLDR', 85063: 'CREAM SWEETHEART MAGAZINE RACK', 85064: 'CREAM SWEETHEART LETTER RACK', 85065: 'CREAM SWEETHEART TRAYS', 85066: 'CREAM SWEETHEART MINI CHEST', 85067: 'CREAM SWEETHEART WALL CABINET', 85068: 'CREAM SWEETHEART SHELF + HOOKS', 85069: 'CREAM SWEETHEART DOUBLE SHELF', 85072: 'OCCASIONS GIFT CARD ASSORTMENT', 85078: 'SCANDINAVIAN 3 HEARTS NAPKIN RING', 85079: 'EMBROIDERED REINDEER DECORATION', 85080: 'PADDED RED HEART DECORATION', 85081: 'PADDED HOLLY CHRISTMAS DECORATION ', 85083: 'KISS REINDEER SCANDINAVIAN STOCKING', 85084: 'HOLLY TOP CHRISTMAS STOCKING', 85087: 'CANDY SPOT CUSHION COVER', 85088: 'CANDY SPOT HAND BAG', 85089: 'CANDY SPOT BUNNY', 85090: 'CANDY SPOT APRON', 85091: 'CANDY SPOT BREAD BASKETS', 85093: 'CANDY SPOT EGG WARMER HARE', 85096: 'HILDA CANDY SPOT RABBIT', 85103: ' SILVER T-LIGHT SETTING', 85104: 'SILVER GLASS T-LIGHT SET', 85106: 'CUT GLASS HEXAGON T-LIGHT HOLDER', 85107: 'CUT GLASS T-LIGHT HOLDER OCTAGON', 85109: 'PINK BOUDOIR T-LIGHT HOLDER', 85110: 'BLACK SILVER FLOWER T-LIGHT HOLDER', 85111: 'SILVER GLITTER FLOWER VOTIVE HOLDER', 85112: 'S/3 TEAR DROP CUT GLASS DECORATION', 85113: 'POLKA DOT PISTACHIO PAIL', 85116: 'BLACK CANDELABRA T-LIGHT HOLDER', 85117: 'NIGHTINGALE COATHOOK WHITE', 85118: 'HEART T-LIGHT HOLDER', 85125: 'SMALL ROUND CUT GLASS CANDLESTICK', 85126: 'LARGE ROUND CUTGLASS CANDLESTICK', 85127: 'SMALL SQUARE CUT GLASS CANDLESTICK', 85128: 'PLANTPOT SINGLE HOOK PISTACHIO', 85142: 'JARDIN ETCHED GLASS GINGER JAR', 85144: 'JARDIN ETCHED GLASS BUTTER DISH', 85147: 'JARDIN ETCHED GLASS CANDLEHLDR LONG', 85150: 'LADIES & GENTLEMEN METAL SIGN', 85151: 'WELCOME METAL SIGN', 85152: 'HAND OVER THE CHOCOLATE   SIGN ', 85161: 'ACRYLIC GEOMETRIC LAMP', 85165: 'CANDY PINK FRENCH BOUDOIR CLOCK', 85171: 'S/2 HYACINTH BULB CANDLES', 85172: 'HYACINTH BULB T-LIGHT CANDLES', 85173: 'SET/6 FROG PRINCE T-LIGHT CANDLES', 85174: 'S/4 CACTI CANDLES', 85175: 'CACTI T-LIGHT CANDLES', 85176: 'SEWING SUSAN 21 NEEDLE SET', 85177: 'BASKET OF FLOWERS SEWING KIT', 85178: 'VICTORIAN SEWING KIT', 85190: 'PINK FLOWER HANGING HEART ', 85195: 'HANGING HEART BASKET', 85196: 'EASTER BUNNIES ON A STICK', 85197: 'SET OF 12 MINI BUNNIES IN A BUCKET', 85198: 'ASSORTED FARMYARD ANIMALS IN BUCKET', 85200: 'BUNNY EGG BOX', 85202: 'HANGING WOOD AND FELT HEART', 85203: 'HANGING WOOD AND FELT BUTTERFLY ', 85204: 'HANGING WOOD AND FELT FLOWER', 85208: 'SET/12 FUNKY FELT FLOWER PEG IN BAG', 85211: 'S/4 GROOVY CAT MAGNETS', 85212: 'MINI PAINTED GARDEN DECORATION ', 85213: 'MINI  ZINC GARDEN DECORATIONS ', 85214: 'TUB 24 PINK FLOWER PEGS', 85215: 'ASSORTED CHEESE FRIDGE MAGNETS', 85216: 'ASSORTED CAKES FRIDGE MAGNETS', 85217: 'ASSORTED ICE CREAM FRIDGE MAGNETS', 85218: 'S/5 MINI ICE CREAM FRIDGE MAGNETS', 85220: 'SMALL FAIRY CAKE FRIDGE MAGNETS', 85221: 'ASSORTED COLOUR SILK COIN PURSE', 85222: 'ASSORTED COLOUR SILK COSMETIC PURSE', 85224: 'ASSORTED COLOUR SILK GLASSES CASE', 85225: 'BLING KEY RING STAND', 85227: 'SET/6 3D KIT CARDS FOR KIDS', 90022: 'EDWARDIAN DROP EARRINGS JET BLACK', 90023: 'FILIGREE DIAMANTE EARRINGS', 90028: 'NEW BAROQUE LARGE NECKLACE BLK/WHIT', 90029: 'NEW BAROQUE SMALL NECKLACE BLACK', 90033: 'IVORY SHELL HEART EARRINGS', 90034: 'WHITE SILVER NECKLACE SHELL GLASS', 90041: 'PEARL AND CHERRY QUARTZ BRACLET', 90048: 'GREEN WITH METAL BAG CHARM', 90054: 'CRACKED GLAZE EARRINGS RED', 90056: 'CHUNKY CRACKED GLAZE NECKLACE IVORY', 90057: 'DIAMANTE RING ASSORTED IN BOX.', 90062: 'CARNIVAL BRACELET', 90069: 'RUBY GLASS CLUSTER NECKLACE', 90070: 'RUBY GLASS CLUSTER BRACELET', 90071: 'RUBY GLASS CLUSTER EARRINGS', 90072: 'RUBY DROP CHANDELIER EARRINGS', 90073: 'VINTAGE ENAMEL & CRYSTAL EARRINGS', 90077: 'BLACK DIAMOND CLUSTER EARRINGS', 90083: 'CRYSTAL CZECH CROSS PHONE CHARM', 90084: 'PINK CRYSTAL GUITAR PHONE CHARM', 90085: 'CRYSTAL STILETTO PHONE CHARM', 90087: 'CRYSTAL SEA HORSE PHONE CHARM', 90088: 'CRYSTAL KEY+LOCK PHONE CHARM', 90089: 'PINK CRYSTAL SKULL PHONE CHARM', 90090: 'PINK CRYSTAL HEART PHONE CHARM', 90092: 'BLUE CRYSTAL BOOT PHONE CHARM', 90093: 'CLEAR CRYSTAL STAR PHONE CHARM', 90099: 'NECKLACE+BRACELET SET BLUE HIBISCUS', 90100: 'NECKLACE+BRACELET SET PINK DAISY', 90101: 'WHITE FRANGIPANI NECKLACE', 90111: 'BLUE HIBISCUS  HAIR CLIP', 90112: 'PINK DOLLY HAIR CLIPS', 90115: 'SUMMER BUTTERFLIES BAG CHARM', 90131: 'PINK/AMETHYST/GOLD NECKLACE', 90133: 'TEAL/FUSCHIA COL BEAD NECKLACE', 90134: 'OLD ROSE COMBO BEAD NECKLACE', 90137: 'PINK COMBO MINI CRYSTALS NECKLACE', 90138: 'WHITE/PINK MINI CRYSTALS NECKLACE', 90139: 'FLOWER BROOCH 4 ASSORTED COLOURS', 90140: 'PINK SWEETIE NECKLACE', 90143: 'SILVER BRACELET W PASTEL FLOWER', 90144: 'SILVER DROP EARRINGS WITH FLOWER', 90145: 'SILVER HOOP EARRINGS WITH FLOWER', 90146: 'FINE SILVER NECKLACE W PASTEL FLOWE', 90147: 'CHUNKY SILVER NECKLACE PASTEL FLOWE', 90148: 'LONG SILVER NECKLACE PASTEL FLOWER', 90150: 'BLUE SHELL+SILVER NECKLACE', 90151: 'SILVER/NATURAL SHELL NECKLACE', 90155: 'RESIN NECKLACE W PASTEL BEADS', 90158: 'ST TROPEZ NECKLACE', 90159: \"COTE D'AZURE NECKLACE\", 90166: 'PINK & WHITE ROSEBUD RING', 90167: 'BEADED LOVE HEART JEWELLERY SET', 90168: '2 DAISIES HAIR COMB', 90169: 'DAISY HAIR COMB', 90170: 'DAISY HAIR BAND', 90171: 'DAISY RING', 90173: 'PAIR BUTTERFLY HAIR CLIPS', 90174: 'BUTTERFLY HAIR BAND', 90188: 'DROP EARRINGS W FLOWER & LEAF', 90192: 'JADE DROP EARRINGS W FILIGREE', 90194: 'SILVER LARIAT BLACK STONE EARRINGS', 90203: 'SILVER CHARM NECKLACE 70CM', 90204: 'PAIR OF ENAMEL BUTTERFLY HAIRCLIP', 90208: 'PAIR OF ENAMEL FLOWER CLUSTER SLIDE', '10002R': 'ROBOT PENCIL SHARPNER', '10123C': 'HEARTS WRAPPING TAPE ', '10123G': 'ARMY CAMO WRAPPING TAPE', '15044A': 'PINK PAPER PARASOL ', '15044B': 'BLUE PAPER PARASOL ', '15044C': 'PURPLE PAPER PARASOL', '15044D': 'RED PAPER PARASOL', '15056BL': 'EDWARDIAN PARASOL BLACK', '15056N': 'EDWARDIAN PARASOL NATURAL', '15056P': 'EDWARDIAN PARASOL PINK', '15056bl': 'EDWARDIAN PARASOL BLACK', '15059A': 'ENGLISH ROSE EDWARDIAN PARASOL', '15060B': 'FAIRY CAKE DESIGN UMBRELLA', '16020C': 'CLEAR STATIONERY BOX SET ', '16156N': 'WRAP, FRIENDSHIP ON GREEN', '16156S': 'WRAP PINK FAIRY CAKES ', '16161C': 'WRAP SPEED DEMONS ', '16161E': 'WRAP BOUDOIR ', '16161M': 'WRAP  PINK FLOCK', '16161P': 'WRAP ENGLISH ROSE ', '16161U': 'WRAP,SUKI AND FRIENDS', '16162L': 'THE KING GIFT BAG', '16168M': 'FUNKY MONKEY GIFT BAG MEDIUM', '16168S': 'FUNKY MONKEY GIFT BAG SMALL', '16169C': 'WRAP BLUE REINDEER', '16169D': 'WRAP WINTER FOREST', '16169F': 'WRAP BLIZZARD', '16169G': 'WRAP ROMANTIC DECOUPAGE', '16169K': 'WRAP FOLK ART', '16169M': 'WRAP DAISY CARPET ', '16169N': 'WRAP BLUE RUSSIAN FOLKART', '16169P': 'WRAP GREEN RUSSIAN FOLKART ', '16201A': 'PASTEL PINK PHOTO ALBUM', '16201B': 'PASTEL BLUE PHOTO ALBUM', '16202A': 'PASTEL PINK PHOTO ALBUM ', '16202B': 'PASTEL BLUE PHOTO ALBUM ', '16202C': 'BEIGE PHOTO ALBUM', '16202E': 'BLACK PHOTO ALBUM ', '16207A': 'PINK STRAWBERRY HANDBAG ', '16207B': 'PINK HEART RED HANDBAG', '16243B': 'BROWN COZY SQUARE PHOTO ALBUM', '16244A': 'MAXWELL 2 TONE PINK 60 PAGE PHOTO A', '16244B': 'MAXWELL 2 TONE BLUE 60 PAGE PHOTO A', '16256B': 'FLOWER PENCIL/RUBBER+5 MINI PENCILS', '16256C': 'HEARTS PENCIL/RUBBER+5 MINI PENCILS', '16258A': 'SWIRLY CIRCULAR RUBBERS IN BAG', '16258B': 'DAISY ERASERS IN BAG', '17007B': 'S/3 POT POURI CUSHIONS BLUE COLOURS', '17011C': 'ORIGAMI LAVENDER INCENSE+FLOWER', '17012A': 'ORIGAMI VANILLA INCENSE/CANDLE SET ', '17012B': 'ORIGAMI JASMINE INCENSE/CANDLE SET', '17013A': nan, '17013B': 'ORIGAMI JASMINE INCENSE IN TUBE', '17013D': 'ORIGAMI ROSE INCENSE IN TUBE', '17014A': 'ORIGAMI VANILLA INCENSE CONES', '17014C': 'ORIGAMI LAVENDER INCENSE CONES', '17084G': 'MOON INCENSE', '17084J': 'LOVE POTION MASALA INCENSE', '17084N': 'FAIRY DREAMS INCENSE ', '17084P': 'DRAGONS BLOOD INCENSE', '17084R': 'ASSORTED INCENSE PACK', '17090A': 'LAVENDER INCENSE 40 CONES IN TIN', '17090D': 'VANILLA INCENSE 40 CONES IN TIN', '17091A': 'LAVENDER INCENSE IN TIN', '17091B': 'JASMINE TEA INCENSE IN TIN', '17091F': 'SANDALWOOD INCENSE IN TIN', '17091J': 'VANILLA INCENSE IN TIN', '17107D': \"FLOWER FAIRY,5 SUMMER B'DRAW LINERS\", '17108D': 'FLOWER FAIRY SUMMER BOUQUET SACHET', '17109A': 'FLOWER FAIRY INCENSE LILY', '17109B': 'FLOWER FAIRY INCENSE LAVENDER', '17109C': 'FLOWER FAIRY INCENSE ROSE', '17109D': 'FLOWER FAIRY INCENSE BOUQUET', '17129C': 'SKY BLUE COLOUR GLASS GEMS IN BAG', '17129D': 'CLEAR COLOUR GLASS GEMS IN BAG', '17129F': 'DEEP BLUE GLASS GEMS IN BAG', '17136A': 'BLUE STONES ON WIRE FOR CANDLE', '17164B': \"ASS COL SMALL SAND GECKO P'WEIGHT\", '17164D': \"ASS COL SMALL SAND FROG P'WEIGHT\", '17165B': \"ASS COL LARGE SAND GECKO P'WEIGHT\", '17165D': \"ASS COL LARGE SAND FROG P'WEIGHT\", '17191A': 'ROSE FLOWER CANDLE+INCENSE 16X16CM', '18094C': 'WHITE/BLUE RECT CERAMIC OIL BURNER', '18096C': 'WHITE ROUND PORCELAIN TLIGHT HOLDER', '18096c': 'WHITE ROUND PORCELAIN TLIGHT HOLDER', '18097B': 'BLUE TALL PORCELAIN T-LIGHT HOLDER', '18097C': 'WHITE TALL PORCELAIN T-LIGHT HOLDER', '18098A': \"PINK PORCELAIN B'FLY OIL BURNER\", '18098B': \"BLUE PORCELAIN B'FLY OIL BURNER\", '18098C': 'PORCELAIN BUTTERFLY OIL BURNER', '18098c': 'PORCELAIN BUTTERFLY OIL BURNER', '30086C': 'ASSORTED FRUIT STRAWS', '35001B': 'HAND OPEN SHAPE BLACK', '35001C': 'HAND OPEN SHAPE CHROME', '35001G': 'HAND OPEN SHAPE GOLD', '35001P': 'HAND OPEN SHAPE PINK', '35001W': 'HAND OPEN SHAPE DECO.WHITE', '35004B': 'SET OF 3 BLACK FLYING DUCKS', '35004C': 'SET OF 3 COLOURED  FLYING DUCKS', '35004G': 'SET OF 3 GOLD FLYING DUCKS', '35004P': 'SET OF 3 PINK FLYING DUCKS', '35004S': 'SET OF 3 SILVER FLYING DUCKS', '35004c': 'SET OF 3 COLOURED  FLYING DUCKS', '35004s': 'SET OF 3 SILVER FLYING DUCKS', '35051B': 'PINK BEADED CONE CHRISTMAS', '35085E': 'IVORY ROSE LAMPSHADE ', '35095A': 'BLUE VICTORIAN FABRIC OVAL BOX', '35095B': 'RED VICTORIAN FABRIC OVAL BOX', '35096A': 'BLUE VICTORIAN FABRIC HEART BOX', '35096B': 'RED VICTORIAN FABRIC HEART BOX', '35271S': 'GOLD PRINT PAPER BAG', '35471A': 'SET OF 3 BIRD L.BLUE FEATHER', '35471D': 'SET OF 3 BIRD LIGHT PINK FEATHER ', '35597B': 'BLACKCHRISTMAS TREE 30CM', '35597D': 'PINK/WHITE CHRISTMAS TREE 30CM', '35598A': 'DUSTY PINK CHRISTMAS TREE 60CM', '35598B': 'BLACK CHRISTMAS TREE 60CM', '35598D': 'PINK/WHITE CHRISTMAS TREE 60CM', '35599B': 'BLACK CHRISTMAS TREE 120CM', '35599D': 'PINK AND WHITE CHRISTMAS TREE 120CM', '35600D': 'PINK AND WHITE CHRISTMAS TREE 180CM', '35603C': 'SET/16 WHITE SHINY & MATT BAUBLES', '35605A': 'damages', '35607A': 'PINK FLUFFY CHRISTMAS DECORATION', '35607B': 'BLACK FEATHER CHRISTMAS DECORATION', '35609A': 'PINK FEATHER CHRISTMAS DECORATION', '35610A': 'PINK CHRISTMAS FLOCK DROPLET ', '35610B': 'BLACK CHRISTMAS FLOCK DROPLET ', '35610C': 'WHITE CHRISTMAS FLOCK DROPLET ', '35611B': 'BLACK ASSORTED DROPLET DECORATION', '35631B': 'BLUE GREEN CHRISTMAS HANGING BALL ', '35633B': 'BLUE TINSEL GARLAND ', '35637A': 'IVORY STRING CURTAIN WITH POLE ', '35638B': 'PINK/BLUE STRING CURTAIN ', '35751C': 'PURPLE CURRENT CANDLE RING', '35751D': 'PINK CURRENT CANDLE RING', '35809A': 'ENAMEL PINK TEA CONTAINER', '35809B': 'ENAMEL BLUE RIM TEA CONTAINER', '35810A': 'ENAMEL PINK COFFEE CONTAINER', '35810B': 'ENAMEL BLUE RIM COFFEE CONTAINER', '35811A': 'ENAMEL PINK SUGAR CONTAINER', '35815B': 'ACRYLIC JEWEL SNOWFLAKE,BLUE', '35817B': 'ACRYLIC JEWEL SNOWFLAKE,BLUE', '35818C': 'ACRYLIC JEWEL ICICLE, CLEAR ', '35819B': 'ACRYLIC HANGING JEWEL,BLUE', '35821B': 'JEWELLED DECORATION,BLUE', '35821P': 'JEWELLED DECORATION,PINK', '35824B': 'HANGING FLOWERS+MIRROR,BLUE', '35824C': 'HANGING FLOWERS+MIRROR,CLEAR', '35833G': '4 GOLD FLOCK CHRISTMAS BALLS', '35833P': '4 PINK FLOCK CHRISTMAS BALLS', '35838A': 'S/6 MULTICOLOUR ORNAMENETAL CANDLE', '35838B': 'S/6 SILVER ORNAMENETAL CANDLE', '35909B': 'PINK FLOWERS RABBIT EASTER', '35910A': 'MULTICOLOUR EASTER RABBIT ', '35911A': 'MULTICOLOUR RABBIT EGG WARMER', '35911B': 'PINK/FLOWER RABBIT EGG WARMER ', '35915C': 'PEACH KNITTED HEN ', '35916A': 'YELLOW FELT HANGING HEART W FLOWER', '35916B': 'BLUE FELT HANGING HEART W FLOWER', '35916C': 'PINK FELT HANGING HEART W FLOWER', '35918B': 'BLUE FLORIBUNDA EGG WARMER', '35976B': 'WHITE SCANDINAVIAN HEART CHRISTMAS', '35980C': 'REDWHITE STRIPE SCANDINAVIAN HEART ', '35981C': 'WHITE SNOW SCANDINAVIAN STOCKING ', '37379A': 'PINK CHERRY BLOSSOM CUP & SAUCER', '37444A': 'YELLOW BREAKFAST CUP AND SAUCER', '37444B': 'BLUE BREAKFAST CUP AND SAUCER ', '37444C': 'PINK BREAKFAST CUP AND SAUCER ', '37462B': 'PET MUG, BUDGIE', '37477B': 'FLOWER FAIRY MUG+COASTER,LAVENDER', '37482B': 'CUBIC MUG BLUE POLKA DOT', '37482P': 'CUBIC MUG PINK POLKA DOT', '37482p': 'CUBIC MUG PINK POLKA DOT', '37489A': 'YELLOW/PINK FLOWER DESIGN BIG MUG', '37489C': 'GREEN/BLUE FLOWER DESIGN BIG MUG', '37491C': 'GREEN/BLUE CERAMIC CANDLE HOLDER', '37492A': 'YELLOW RED FLOWER PIGGY BANK', '37492B': 'BLUE YELLOW FLOWER PIGGY BANK', '37492C': 'GREEN BLUE FLOWER PIGGY BANK', '37492D': 'PURPLE GREEN FLOWER PIGGY BANK', '37494A': 'FAIRY CAKE CERAMIC BUTTER DISH', '40018E': 'TEA TIME PAPER LANTERNS', '40018F': 'CHERRY DESIGN PAPERLANTERNS', '40046A': 'RED DAISY PAPER LAMPSHADE', '40046C': 'PINK BUTTERFLY PAPER LAMPSHADE', '44242B': 'PINK FEATHERS CURTAIN', '45008C': 'DECORATIVE NET CANOPY CREAM', '46000M': 'POLYESTER FILLER PAD 45x45cm', '46000P': 'POLYESTER FILLER PAD 65CMx65CM', '46000S': 'POLYESTER FILLER PAD 40x40cm', '46000U': 'POLYESTER FILLER PAD 30CMx30CM', '46126A': 'ELVIS WALLHANGING / CURTAIN', '46138B': 'BLUE CHENILLE SHAGGY CUSHION COVER ', '46775A': 'BUBBLE GUM CHUNKY KNITTED THROW ', '46775B': 'BERRIES CHUNKY KNITTED THROW ', '46775D': 'SUNSET COLOUR CHUNKY KNITTED THROW', '46775E': 'CANDY POP CHUNKY KNITTED THROW ', '46776A': 'WOVEN BUBBLE GUM CUSHION COVER', '46776B': 'WOVEN BERRIES CUSHION COVER ', '46776C': 'WOVEN FROST CUSHION COVER', '46776D': 'WOVEN SUNSET CUSHION COVER ', '46776F': 'WOVEN ROSE GARDEN CUSHION COVER ', '47013C': 'WINE BOTTLE DRESSING DARK BLUE', '47021G': 'SET/6 BEAD COASTERS GAUZE BAG GOLD', '47310M': 'SMALL POP BOX,FUNKY MONKEY', '47341B': 'BLUE TABLE RUN FLOWER', '47347B': 'BLUE FLOWER T-LIGHT HOLDER', '47351B': 'BLUE  VOILE LAMPSHADE', '47367B': 'PAIR PADDED HANGERS PINK CHECK', '47369B': 'BLUE GREEN EMBROIDERY COSMETIC BAG', '47503A': 'ASS FLORAL PRINT MULTI SCREWDRIVER', '47503E': 'ASS FLORAL PRINT SCISSORS', '47503F': 'ASS FLORAL PRINT TORCH', '47503G': 'ASS FLORAL PRINT TAPE MEASURE', '47503H': 'ASS FLORAL PRINT SPIRIT LEVEL ', '47503J': 'SET/3 FLORAL GARDEN TOOLS IN BAG', '47503K': 'ASSORTED FLORAL SECATEURS', '47504E': 'ENGLISH ROSE SCISSORS', '47504F': 'ENGLISH ROSE TORCH', '47504G': 'ENGLISH ROSE TAPE MEASURE', '47504H': 'ENGLISH ROSE SPIRIT LEVEL ', '47504J': 'ENGLISH ROSE SET/3 GARDEN TOOLS', '47504K': 'ENGLISH ROSE GARDEN SECATEURS', '47518f': 'ICON PLACEMAT POP ART ELVIS', '47552A': 'DOTS IRONING BOARD COVER', '47556B': 'TEA TIME TEA TOWELS ', '47559B': 'TEA TIME OVEN GLOVE', '47563A': 'RETRO LONGBOARD IRONING BOARD COVER', '47566B': 'TEA TIME PARTY BUNTING', '47567B': 'TEA TIME KITCHEN APRON', '47570B': 'TEA TIME TABLE CLOTH', '47574A': 'ENGLISH ROSE SCENTED HANGING FLOWER', '47578A': 'ENGLISH ROSE SMALL SCENTED FLOWER', '47581B': 'FAIRY CAKE WICKER PICNIC BASKET ', '47585A': 'PINK FAIRY CAKE CUSHION COVER', '47586A': 'PINK FAIRY CAKE CUSHION COVER', '47587A': 'PINK FAIRY CAKE COASTER', '47590A': 'BLUE HAPPY BIRTHDAY BUNTING', '47590B': 'PINK HAPPY BIRTHDAY BUNTING', '47591A': \"CAROUSEL DES CHILD'S APRON\", '47591B': \"SCOTTIES DES CHILD'S APRON\", '47591C': \"BLUE FAIRY CAKE CHILD'S APRON\", '47591D': \"PINK FAIRY CAKE CHILD'S APRON\", '47592A': \"CAROUSEL DES CHILD'S OVERALL\", '47592B': \"SCOTTIES DESIGN CHILD'S OVERALL\", '47593A': 'CAROUSEL DESIGN BABY BIB', '47593B': 'SCOTTIES DESIGN BABY BIB', '47594A': 'CAROUSEL DESIGN WASHBAG', '47594B': 'SCOTTIES DESIGN WASHBAG', '47599A': 'PINK PARTY BAGS', '48173C': 'DOOR MAT BLACK FLOCK ', '48173c': 'DOOR MAT BLACK FLOCK ', '51012C': 'FEATHER DUSTER, COAL BLACK', '51012L': 'FEATHER DUSTER, LIGHT PINK', '51014A': 'FEATHER PEN,HOT PINK', '51014C': 'FEATHER PEN,COAL BLACK', '51014L': 'FEATHER PEN,LIGHT PINK', '51020B': 'STRIPY DESIGN SHOWER CAP', '62074B': 'ELEPHANT CLIP W SUCTION CUP', '62096B': 'PURPLE/TURQ FLOWERS HANDBAG', '62097A': 'PINK STRIPES SHOULDER BAG', '71028B': 'SILVER BLUE EGG T-LIGHT HOLDER', '71101A': 'ANGEL ON KNEES METAL POLE 100CM H', '71101E': 'STANDING FAIRY POLE SUPPORT ', '71406C': 'BLACK ORANGE SQUEEZER', '72023F': 'RED ORGANIC CANDLE IN GLASS', '72024U': 'LILAC VOTIVE CANDLE', '72038P': \"PRICE'S CANDLE PEACH\", '72045D': 'ROSES ON BLUE TEACUP CANDLE ', '72051S': 'BAG OF SILVER STONES', '72140E': 'BEST DAD CANDLE LETTERS', '72140F': 'HAPPY ANNIVERSARY CANDLE LETTERS', '72349B': 'SET/6 PURPLE BUTTERFLY T-LIGHTS', '72349b': 'SET/6 PURPLE BUTTERFLY T-LIGHTS', '72351A': 'SET/6 TURQUOISE BUTTERFLY T-LIGHTS', '72351B': 'SET/6 PINK  BUTTERFLY T-LIGHTS', '72369A': 'PINK CLEAR GLASS CANDLE PLATE', '72529W': 'WHITE ADVENT CANDLE', '72529w': 'WHITE ADVENT CANDLE', '72739B': 'WHITE CHOCOLATE SCENT CANDLE', '72739C': 'DARK CHOCOLATE SCENTCANDLE', '72740A': 'LARGE STRAWBERRY CHOCOLATE CANDLE', '72750A': 'F.FAIRY S/3 CANDLE/GLASS,LILY/VALLY', '72750B': 'F.FAIRY S/3 CANDLE/GLASS,LAVENDER', '72750C': 'F.FAIRY S/3 CANDLE/GLASS, ROSE', '72750D': 'F.FAIRY S/3 CANDLE/GLASS', '72751A': 'F.FAIRY S/3 SML CANDLE,LILY/VALLEY', '72751B': 'F.FAIRY S/3 SML CANDLE, LAVENDER', '72752A': nan, '72752B': 'F.FAIRY,CANDLE IN GLASS,LAVENDER', '72752C': nan, '72752D': nan, '72753A': 'S/3 FLWR FAIRY LILLY CANDLES', '72753B': 'S/3 FLWR FAIRY LAVENDER CANDLES', '72753C': 'S/3 FLWR FAIRY ROSE CANDLES', '72753D': 'S/3 FLWR FAIRY SUMMER CANDLES', '72754A': 'FLOWER FAIRY POTPOURRI CUSHION LILY', '72754B': 'F FAIRY POTPOURRI CUSHIONS LAVENDER', '72754D': 'F FAIRY POTPOURRI CUSHIONS SUMMER', '72755B': nan, '72755C': nan, '72755D': 'FLOWER FAIRY OIL BURNER SET SUMMER', '72760B': 'VINTAGE CREAM 3 BASKET CAKE STAND', '72771B': 'BURG FLOCK GOLD CUP/CANDLE ', '72771C': 'BLACK FLOCK GOLD CANDLE', '72785A': 'S/4 CONTEMPORY PINK ROSEBUD CANDLES', '72785B': 'S/4 CONTEMPORY RED ROSEBUD CANDLES', '72796A': 'S/3 ENGLISH LAVENDER SQU CANDLE', '72796B': 'S/3 FRENCH VANILLA SQU CANDLE', '72798C': 'SET/4 GARDEN ROSE DINNER CANDLE', '72799A': 'BLACK PILLAR CANDLE SILVER FLOCK', '72799B': 'PURPLE PILLAR CANDLE BLACK FLOCK', '72799C': 'PINK PILLAR CANDLE SILVER FLOCK', '72799D': 'BLUE PILLAR CANDLE SILVER FLOCK', '72799E': 'IVORY PILLAR CANDLE SILVER FLOCK', '72799F': 'IVORY PILLAR CANDLE GOLD FLOCK', '72800A': 'S/4 BLACK DINNER CANDLE SILVER FLOC', '72800B': 'S/4 PURPLE DINNER CANDLE BLK FLOCK', '72800C': 'S/4 PINK DINNER CANDLE SILVER FLOCK', '72800D': 'S/4 BLUE DINNER CANDLE SILVER FLOCK', '72800E': '4 IVORY DINNER CANDLES SILVER FLOCK', '72800F': '4 IVORY DINNER CANDLES GOLD FLOCK', '72801C': 'S/4 ROSE PINK DINNER CANDLES', '72801D': 'S/4 SKY BLUE DINNER CANDLES', '72801E': 'S/4 FESTIVE GREEN DINNER CANDLES', '72801F': 'S/4 FESTIVE RED DINNER CANDLES', '72801G': 'S/4 BURGUNDY WINE DINNER CANDLES', '72802A': 'ROSE SCENT CANDLE IN JEWELLED BOX', '72802B': 'OCEAN SCENT CANDLE IN JEWELLED BOX', '72802C': 'VANILLA SCENT CANDLE JEWELLED BOX', '72803A': 'ROSE SCENT CANDLE JEWELLED DRAWER', '72803B': 'OCEAN SCENT CANDLE JEWELLED DRAWER', '72807A': 'SET/3 ROSE CANDLE IN JEWELLED BOX', '72807B': 'SET/3 OCEAN SCENT CANDLE JEWEL BOX', '72807C': 'SET/3 VANILLA SCENTED CANDLE IN BOX', '72807c': 'SET/3 VANILLA SCENTED CANDLE IN BOX', '75013B': 'STRING OF 8 BUTTERFLIES,PINK', '75049L': 'LARGE CIRCULAR MIRROR MOBILE', '75149N': 'STRING CRYSTALS NATURAL', '77101A': 'UNION FLAG WINDSOCK', '79026B': 'S/4 ICON COASTER,ELVIS LIVES', '79030A': 'TUMBLER, ENGLISH ROSE', '79030D': 'TUMBLER, BAROQUE', '79030G': 'TUMBLER, NEW ENGLAND', '79051A': 'SMOKEY GREY COLOUR D.O.F. GLASS', '79065A': 'TEATIME ROUND CAKE TINS ', '79066K': 'RETRO MOD TRAY', '79070b': 'ENGLISH ROSE SQUARE CAKE TINS', '79144B': 'PAINTED LIGHTBULB STAR+ MOON', '79144C': 'PAINTED LIGHTBULB RAINBOW DESIGN', '79149B': 'SILICON STAR BULB  BLUE', '79190A': \"RETRO PLASTIC 70'S TRAY\", '79190B': 'RETRO PLASTIC POLKA TRAY', '79190D': 'RETRO PLASTIC DAISY TRAY', '79191B': 'RETRO PLASTIC POLKA TRAY', '79191C': 'RETRO PLASTIC ELEPHANT TRAY', '79191D': 'RETRO PLASTIC DAISY TRAY', '79192A': \"RETRO PLASTIC 70'S TRAY\", '79302M': 'ART LIGHTS,FUNK MONKEY', '79303B': 'BLUE STAR BLOCK TABLE LAMP', '79303D': 'LILAC FLOWER BLOCK TABLE LAMP', '79315W': 'FLYING SAUCER TABLE LIGHT IN WHITE', '79323B': 'BLACK CHERRY LIGHTS', '79323G': 'GOLD  CHERRY LIGHTS', '79323GR': 'GREEN CHERRY LIGHTS', '79323LP': 'LIGHT PINK CHERRY LIGHTS', '79323P': 'PINK CHERRY LIGHTS', '79323S': ' SILVER CHERRY LIGHTS', '79323W': ' WHITE CHERRY LIGHTS', '79340P': 'PURPLE ORCHID FLOWER LIGHTS', '79340W': 'WHITE ORCHID FLOWER LIGHTS', '79342B': 'BROWN FLOWER LIGHTS', '81950B': 'FLOWER BLUE CLOCK W/SUCKER', '81950V': 'FLOWER PURPLE CLOCK W/SUCKER', '81952V': 'ROUND PURPLE CLOCK W/SUCKER', '81985A': 'ICON ALARM CLOCK,FUSCHIA  PIN UP', '82001S': 'VINYL RECORD FRAME SILVER', '82011B': 'BATHROOM SCALES RUBBER DUCKS', '82011C': 'BATHROOM SCALES FOOTPRINTS IN SAND', '82494L': 'WOODEN FRAME ANTIQUE WHITE ', '82607A': 'GLASS BONBON JAR PARFUME AUX FLEURE', '82607C': 'GLASS BONBON JAR. SUPERFINES', '82607E': \"GLASS BONBON JAR. D'AMANDES\", '82613A': 'METAL SIGN,CUPCAKE SINGLE HOOK', '82613B': 'METAL SIGN,CUPCAKE SINGLE HOOK', '82613C': 'METAL SIGN,CUPCAKE SINGLE HOOK', '82613D': 'METAL SIGN CUPCAKE SINGLE HOOK', '82616A': 'BUBBLE GUM SCARF KNITTING KIT', '82616B': 'FRAPPUCINO SCARF KNITTING KIT', '82616C': 'MIDNIGHT GLAMOUR SCARF KNITTING KIT', '84029C': 'BROWN FURRY HOT WATER BOTTLE', '84029D': 'LEOPARD PRINT HOT WATER BOTTLE', '84029E': 'RED WOOLLY HOTTIE WHITE HEART.', '84029G': 'KNITTED UNION FLAG HOT WATER BOTTLE', '84030C': 'KNITTED RAINBOW HOT WATER BOTTLE', '84030E': 'ENGLISH ROSE HOT WATER BOTTLE', '84030c': 'KNITTED RAINBOW HOT WATER BOTTLE', '84031A': 'CHARLIE+LOLA RED HOT WATER BOTTLE ', '84031B': 'CHARLIE LOLA BLUE HOT WATER BOTTLE ', '84032A': 'CHARLIE+LOLA PINK HOT WATER BOTTLE', '84032B': 'CHARLIE + LOLA RED HOT WATER BOTTLE', '84078A': 'SET/4 WHITE RETRO STORAGE CUBES ', '84086C': 'PINK/PURPLE RETRO RADIO', '84201B': 'HAPPY BIRTHDAY CARD STRIPEY TEDDY', '84206A': '3 BLACK CATS W HEARTS BLANK CARD', '84206C': 'CHAMPAGNE TRAY BLANK CARD', '84247C': 'PACK/12 BLUE REINDEER CARD', '84247G': 'DECOUPAGE,GREETING CARD,', '84247J': 'PACK/12 RUSSIAN DOLL CARDS', '84247K': 'FOLK ART GREETING CARD,pack/12', '84247L': 'FAWN AND MUSHROOM GREETING CARD', '84249D': 'FAIRY CAKE GREETINGS CARD', '84250M': 'GREETING CARD, BLACKPOOL ROCK', '84251C': 'GREETING CARD, TWO SISTERS.', '84251F': 'GREETING CARD, RITA', '84251G': 'GREETING CARD, OVERCROWDED POOL.', '84251J': 'GREETING CARD, THE BLACK CAT', '84255A': 'PINK GLASS COCKTAIL LAMP', '84255B': 'ORANGE COCKTAIL GLASS LAMP', '84279B': 'CHERRY BLOSSOM DECORATIVE FLASK', '84279P': ' CHERRY BLOSSOM  DECORATIVE FLASK', '84288B': 'SET/2 BLUE  NOODLE BASKETS', '84313B': 'BLUE TV TRAY TABLE ', '84327A': 'PINK JUMPER LARRY THE LAMB', '84341B': 'SMALL PINK MAGIC CHRISTMAS TREE', '84402D': 'PINK DRESS JEWELLERY STAND ', '84405A': 'S/3 PINK COL METAL BASKET W HANDLE', '84406B': 'CREAM CUPID HEARTS COAT HANGER', '84414B': 'FUSCHIA/GREEN STRIPE WOOLLY BLANKET', '84415A': 'PINK FLOCK SUEDE CUSHION COVER ', '84415B': 'BLUE FLOCK CUSHION COVER ', '84425A': 'WHITE GLASS TV TRIPLE FRAME', '84427B': 'BLACK GLASS TV DOUBLE P/FRAME 15X10', '84429A': 'MEDIUM PINK BUDDHA HEAD ', '84450B': 'YELLOW RABBIT SAT EASTER', '84459A': 'PINK METAL CHICKEN HEART ', '84459B': 'YELLOW METAL CHICKEN HEART ', '84507B': 'STRIPES DESIGN MONKEY DOLL', '84507C': 'BLUE CIRCLES DESIGN MONKEY DOLL', '84508A': 'CAMOFLAGE DESIGN TEDDY', '84508B': 'STRIPES DESIGN TEDDY', '84508C': 'BLUE CIRCLES DESIGN TEDDY', '84509A': 'ENGLISH ROSE PLACEMATS', '84509B': 'FAIRY CAKE PLACEMATS', '84509C': 'DOTTY PLACEMATS ', '84509F': 'NEW ENGLAND PLACEMATS', '84509G': 'FAIRY CAKE PLACEMATS ', '84509c': 'DOTTY PLACEMATS ', '84510A': 'SET OF 4 ENGLISH ROSE COASTERS', '84510B': 'SET OF 4 FAIRY CAKES COASTERS ', '84510C': 'SET OF 4 POLKADOTS COASTERS', '84510F': 'SET OF 4 NEW ENGLAND COASTERS ', '84519A': 'TOMATO CHARLIE+LOLA COASTER SET', '84519B': 'CARROT CHARLIE+LOLA COASTER SET', '84520B': 'PACK 20 ENGLISH ROSE PAPER NAPKINS', '84520D': 'PACK OF 20 FAIRY CAKE PAPER NAPKINS', '84531A': 'PINK KNITTED EGG COSY', '84531B': 'BLUE KNITTED EGG COSY', '84532B': 'FAIRY CAKES RECTANGLUAR BOXES', '84533B': 'FAIRY CAKES ROUND NESTING BOXES', '84534B': 'FAIRY CAKE NOTEBOOK A5 SIZE', '84535A': 'ENGLISH ROSE NOTEBOOK A6 SIZE', '84535B': 'FAIRY CAKES NOTEBOOK A6 SIZE', '84536A': 'ENGLISH ROSE NOTEBOOK A7 SIZE', '84536B': 'FAIRY CAKES NOTEBOOK A7 SIZE', '84537B': 'FAIRY CAKES GIFT BAG', '84558A': '3D DOG PICTURE PLAYING CARDS', '84558a': '3D DOG PICTURE PLAYING CARDS', '84559A': '3D SHEET OF DOG STICKERS', '84559B': '3D SHEET OF CAT STICKERS', '84559D': '3D SHEET OF SEA WORLD STICKERS', '84562A': 'PINK/WHITE RIBBED MELAMINE JUG', '84562B': 'BLUE/WHITE RIBBED MELAMINE JUG', '84563A': 'PINK & WHITE BREAKFAST TRAY', '84569A': 'PACK 3 IRON ON DOG PATCHES', '84569B': 'PACK 3 FIRE ENGINE/CAR PATCHES', '84569C': 'PACK 4 FLOWER/BUTTERFLY PATCHES', '84569D': 'PACK 6 HEART/ICE-CREAM PATCHES', '84575B': 'BROWN DOG CANNISTER W BONE', '84586L': 'PINK ROSES/GINGHAM PATCH RABBIT 8\"', '84595E': 'LARGE TORTILLA DESIGN RED BOWL', '84596B': 'SMALL DOLLY MIX DESIGN ORANGE BOWL', '84596E': 'SMALL LICORICE DES PINK BOWL', '84596F': 'SMALL MARSHMALLOWS PINK BOWL', '84596G': 'SMALL CHOCOLATES PINK BOWL', '84596J': 'MIXED NUTS LIGHT GREEN BOWL', '84596K': 'JELLY BABIES YELLOW SMALL BOWL', '84596L': 'BISCUITS SMALL BOWL LIGHT BLUE', '84597B': 'RETRO BROWN BALL ASHTRAY ', '84597C': 'RETRO PINK BALL ASHTRAY ', '84601A': 'NEW BAROQUE IVORY CUSHION COVER ', '84625A': 'PINK NEW BAROQUECANDLESTICK CANDLE', '84625B': 'BLCK NEW BAROQUE CANDLESTICK CANDLE', '84625C': 'BLUE NEW BAROQUE CANDLESTICK CANDLE', '84625D': 'WHITE NEWBAROQUE CANDLESTICK CANDLE', '84659A': 'WHITE TRAVEL ALARM CLOCK', '84660B': 'BLACK STITCHED WALL CLOCK', '84660C': 'PINK STITCHED WALL CLOCK', '84661A': 'WHITE SQUARE TABLE CLOCK', '84661C': 'PINK SQUARE TABLE CLOCK', '84663A': 'GRASS HOPPER WOODEN WALL CLOCK ', '84671B': 'CROCHET BEAR WITH BLUE STRIPES', '84673A': 'PINK FLY SWAT', '84673B': 'BLUE FLY SWAT', '84705A': 'ENGLISH ROSE PHOTO FRAME ', '84705B': 'FAIRY CAKES PHOTO FRAME', '84705C': 'PINK FLOCK PHOTO FRAME ', '84705D': 'CHERRY BLOSSOM PHOTO FRAME ', '84705F': 'RED PEONY PHOTO FRAME ', '84705b': 'FAIRY CAKES PHOTO FRAME', '84706B': 'FAIRY CAKES TABLE CLOCK', '84706C': 'PINK FLOCK TABLE CLOCK ', '84706F': 'RED PEONY TABLE CLOCK', '84707A': 'SILVER JEWELLED MIRROR TRINKET TRAY', '84707B': 'PINK JEWELLED MIRROR TRINKET TRAY', '84708B': 'PINK JEWELLED PHOTO FRAME ', '84709B': 'PINK OVAL JEWELLED MIRROR', '84711A': 'SILVER OVAL SHAPE TRINKET BOX', '84711B': 'PINK OVAL SHAPE TRINKET BOX', '84712B': 'PINK JEWELLED PHOTO FRAME', '84741C': 'CITRUS GARLAND FELT FLOWERS ', '84745A': 'PINK HANGING GINGHAM EASTER HEN', '84745B': 'BLUE HANGING GINGHAM EASTER HEN', '84750A': 'PINK SMALL GLASS CAKE STAND', '84750B': 'BLACK SMALL GLASS CAKE STAND', '84753A': 'PINK EAU DE COLOGNE BOTTLE', '84760S': 'SMALL HANGING GLASS+ZINC LANTERN', '84762A': 'WHITE PICNIC BARBECUE BUCKET', '84762B': 'PINK PICNIC BARBECUE BUCKET', '84762C': 'GREEN PICNIC BARBECUE BUCKET', '84782A': 'PINK 3 TIER GLASS PLATE STAND', '84782C': 'GREEN 3 TIER GLASS PLATE STAND', '84795A': 'PASTEL STRIPE HAMMOCK ', '84795B': 'SUNSET CHECK HAMMOCK', '84795C': 'OCEAN STRIPE HAMMOCK ', '84795D': 'SEASIDE STRIPE HAMMOCK', '84795E': 'RIO PINK STRIPE HAMMOCK', '84796A': 'PINK HAWAIIAN PICNIC HAMPER FOR 2', '84796b': 'BLUE SAVANNAH PICNIC HAMPER FOR 2', '84797B': 'BLUE SAVANNAH PICNIC HAMPER FOR 4', '84797a': 'PINK HAWAIIAN PICNIC HAMPER FOR 4', '84797b': 'BLUE SAVANNAH PICNIC HAMPER FOR 4', '84802A': 'WHITE ANEMONE ARTIFICIAL FLOWER', '84802B': 'PURPLE ANEMONE ARTIFICIAL FLOWER', '84814B': 'RHOMBUS CRYSTAL PERFUME BOTTLE', '84845A': 'HOLLYHOCK SQUARE HANDY TIN', '84845C': 'CARNATION SQUARE HANDY TIN', '84845D': 'GERANIUM SQUARE HANDY TIN', '84846A': 'SCENTED CANDLE IN DIGITALIS TIN', '84849A': 'HELLO SAILOR BLUE SOAP HOLDER', '84849B': 'FAIRY SOAP SOAP HOLDER', '84856S': 'SMALL TAHITI BEACH BAG', '84858A': 'NATURAL RIVIERA HANDBAG', '84859A': 'SILVER DISCO HANDBAG', '84859C': 'PINK DISCO HANDBAG', '84870B': 'BLUE GEISHA GIRL ', '84870C': 'GREEN GEISHA GIRL ', '84872a': 'TEATIME FUNKY FLOWER BACKPACK FOR 2', '84873a': 'FUNKY FLOWER PICNIC BAG FOR 4', '84874B': 'BLUE TRAVEL FIRST AID KIT', '84875A': 'PINK SQUARE COMPACT MIRROR', '84875D': 'BLUE SQUARE COMPACT MIRROR', '84876B': 'GREEN HEART COMPACT MIRROR', '84876C': 'SILVER HEART COMPACT MIRROR', '84877B': 'GREEN ROUND COMPACT MIRROR', '84877D': 'BLUE ROUND COMPACT MIRROR', '84884A': 'ANT WHITE WIRE HEART SPIRAL', '84898F': 'YELLOW FLOWERS FELT HANDBAG KIT', '84899E': 'YELLOW + BROWN BEAR FELT PURSE KIT', '84899F': 'YELLOW PURPLE DAISY FELT PURSE KIT', '84909A': 'PINK PAISLEY QUILT ', '84910A': 'PINK PAISLEY CUSHION COVER ', '84912A': 'PINK ROSE WASHBAG', '84912B': 'GREEN ROSE WASHBAG', '84913A': 'SOFT PINK ROSE TOWEL ', '84913B': 'MINT GREEN ROSE TOWEL', '84924A': 'WAKE UP COCKEREL CALENDAR SIGN ', '84924D': 'LA PALMIERA METAL SIGN CALENDAR', '84925A': 'WAKE UP COCKEREL WALL THERMOMETER', '84925C': 'FAIRY CAKES  WALL THERMOMETER', '84925D': 'LA PALMIERA WALL THERMOMETER', '84925E': 'FLOWERS WALL THERMOMETER', '84926B': 'SCOTTS ROSES TILE COASTER', '84926C': 'FAIRY CAKES TILE COASTER', '84926D': 'LA PALMIERA TILE COASTER', '84926E': 'FLOWERS TILE COASTER', '84926F': 'PSYCHEDELIC TILE COASTER', '84931A': 'PINK SCOTTIE DOG W FLOWER PATTERN', '84931B': 'BLUE SCOTTIE DOG W FLOWER PATTERN', '84932A': 'SMALL GREEN PEONY FOLDING STOOL', '84932B': 'SMALL PINK PEONY FOLDING STOOL', '84932C': 'SMALL ORIENTAL BLUE FOLDING STOOL', '84932D': 'SMALL ORIENTAL RED FOLDING STOOL', '84933A': 'LARGE GREEN PEONY FOLDING STOOL', '84933B': 'LARGE PINK PEONY FOLDING STOOL', '84933C': 'LARGE BLUE ORIENTAL FOLDING STOOL', '84951A': 'S/4 PISTACHIO LOVEBIRD COASTERS', '84951B': 'S/4 BLACK LOVEBIRD COASTERS', '84951b': 'S/4 BLACK LOVEBIRD COASTERS', '84952A': 'CLEAR LOVE BIRD T-LIGHT HOLDER', '84952B': 'BLACK LOVE BIRD T-LIGHT HOLDER', '84952C': 'MIRROR LOVE BIRD T-LIGHT HOLDER', '84968A': 'S/16 VINTAGE ROSE CUTLERY', '84968B': 'S/16 VINTAGE IVORY CUTLERY', '84968C': 'S/16 VINTAGE PISTACHIO CUTLERY', '84968D': 'S/16 VINTAGE RED CUTLERY', '84968E': 'S/16 VINTAGE BLACK CUTLERY', '84968F': 'S/16 VINTAGE SKY BLUE CUTLERY', '84970L': 'SINGLE HEART ZINC T-LIGHT HOLDER', '84970S': 'HANGING HEART ZINC T-LIGHT HOLDER', '84971L': 'LARGE HEART FLOWERS HOOK   ', '84971S': 'SMALL HEART FLOWERS HOOK ', '84972L': 'GIANT PINK HEART MEMO HOLDER', '84984C': 'ORIENTAL BLUE C/COVER ', '84984D': 'ORIENTAL RED C/COVER ', '84985A': 'SET OF 72 GREEN PAPER DOILIES', '84985B': 'SET OF 72 BLACK PAPER DOILIES ', '84986B': 'SET OF 36 SILVER PAPER DOILIES', '84989A': '75 GREEN FAIRY CAKE CASES', '84989B': '75 BLACK FAIRY CAKE CASES', '84993A': '75 GREEN PETIT FOUR CASES', '84993B': '75 BLACK PETIT FOUR CASES', '84997A': 'GREEN 3 PIECE MINI DOTS CUTLERY SET', '84997B': 'RED 3 PIECE MINI DOTS CUTLERY SET', '84997C': 'BLUE 3 PIECE MINI DOTS CUTLERY SET', '84997D': 'PINK 3 PIECE MINI DOTS CUTLERY SET', '85014A': 'BLACK/BLUE DOTS RUFFLED UMBRELLA', '85014B': 'RED/WHITE DOTS RUFFLED UMBRELLA', '85014C': 'BLUE/BROWN DOTS RUFFLED UMBRELLA', '85014D': 'PINK/BROWN DOTS RUFFLED UMBRELLA', '85014b': 'RED/WHITE DOTS RUFFLED UMBRELLA', '85017A': 'ENVELOPE 50 ROMANTIC IMAGES', '85017B': 'ENVELOPE 50 BLOSSOM IMAGES', '85017C': 'ENVELOPE 50 CURIOUS IMAGES', '85018C': 'S/6 PAPER BOXES CURIOUS IMAGES ', '85018D': 'YULETIDE IMAGES S/6 PAPER BOXES', '85019C': 'CURIOUS  IMAGES NOTEBOOK SET', '85023A': 'CRYSTAL LARGE JEWELLED PHOTO FRAME', '85023B': 'EAU DE NILE JEWELLED PHOTOFRAME', '85024A': 'CRYSTAL SMALL JEWELLED PHOTOFRAME', '85024C': 'PINK SMALL JEWELLED PHOTOFRAME', '85025B': 'EAU DE NILE HEART SHAPE PHOTO FRAME', '85025C': 'PINK HEART SHAPE PHOTO FRAME', '85026B': 'EAU DE NILE JEWELLED T-LIGHT HOLDER', '85028L': 'FRENCH CHATEAU LARGE FRUIT BOWL ', '85028S': 'FRENCH CHATEAU SMALL FRUITBOWL', '85031A': 'ROMANTIC IMAGES SCRAP BOOK SET', '85031B': 'BLOSSOM IMAGES SCRAP BOOK SET', '85031C': 'CURIOUS IMAGES SCRAP BOOK SET', '85032A': 'ROMANTIC IMAGES GIFT WRAP SET', '85032C': 'CURIOUS IMAGES GIFT WRAP SET', '85032D': 'YULETIDE IMAGES GIFT WRAP SET', '85033G': 'SET/6 GOLD REINDEER T-LIGHT CANDLES', '85033S': 'SET/6 SILVER REINDEER T-LIGHTS', '85034A': '3 GARDENIA MORRIS BOXED CANDLES', '85034B': '3 WHITE CHOC MORRIS BOXED CANDLES', '85034C': '3 ROSE MORRIS BOXED CANDLES', '85035A': 'GARDENIA 3 WICK MORRIS BOXED CANDLE', '85035B': 'CHOCOLATE 3 WICK MORRIS BOX CANDLE', '85035C': 'ROSE 3 WICK MORRIS BOX CANDLE', '85036A': 'GARDENIA 1 WICK MORRIS BOXED CANDLE', '85036B': 'CHOCOLATE 1 WICK MORRIS BOX CANDLE', '85036C': 'ROSE 1 WICK MORRIS BOXED CANDLE', '85039A': 'SET/4 RED MINI ROSE CANDLE IN BOWL', '85039B': 'S/4 IVORY MINI ROSE CANDLE IN BOWL', '85039C': 'S/4 BLACK MINI ROSE CANDLE IN BOWL', '85040A': 'S/4 PINK FLOWER CANDLES IN BOWL', '85040B': 'SET/4 BLUE FLOWER CANDLES IN BOWL', '85040a': 'S/4 PINK FLOWER CANDLES IN BOWL', '85049A': 'TRADITIONAL CHRISTMAS RIBBONS', '85049B': 'LUSH GREENS RIBBONS', '85049C': 'ROMANTIC PINKS RIBBONS ', '85049D': 'BRIGHT BLUES RIBBONS ', '85049E': 'SCANDINAVIAN REDS RIBBONS', '85049F': 'BABY BOOM RIBBONS ', '85049G': 'CHOCOLATE BOX RIBBONS ', '85049H': 'URBAN BLACK RIBBONS ', '85061W': 'WHITE JEWELLED HEART DECORATION', '85071A': 'BLUE CHARLIE+LOLA PERSONAL DOORSIGN', '85071B': 'RED CHARLIE+LOLA PERSONAL DOORSIGN', '85071C': 'CHARLIE+LOLA\"EXTREMELY BUSY\" SIGN', '85071D': 'CHARLIE+LOLA MY ROOM DOOR SIGN', '85086A': 'CANDY SPOT HEART DECORATION', '85097B': 'BLUE ROCKING SINGING CANARY', '85098B': 'BLUE FLYING SINGING CANARY', '85099B': 'JUMBO BAG RED WHITE SPOTTY ', '85099C': 'JUMBO  BAG BAROQUE BLACK WHITE', '85099F': 'JUMBO BAG STRAWBERRY', '85114B': 'IVORY ENCHANTED FOREST PLACEMAT', '85114C': 'RED ENCHANTED FOREST PLACEMAT', '85114b': 'IVORY ENCHANTED FOREST PLACEMAT', '85114c': 'RED ENCHANTED FOREST PLACEMAT', '85121B': 'RETRO LAUNDRY TUB PINK', '85121C': 'RETRO LAUNDRY TUB PISTACHIO', '85123A': 'WHITE HANGING HEART T-LIGHT HOLDER', '85124A': 'PINK JUICY FRUIT PHOTO FRAME', '85124B': 'BLUE JUICY FRUIT PHOTO FRAME', '85124C': 'GREEN JUICY FRUIT PHOTO FRAME', '85129A': 'WHITE PEARL BEADED HEART, SMALL', '85129C': 'BEADED CRYSTAL HEART BLUE SMALL', '85129D': 'BEADED CRYSTAL HEART PINK SMALL', '85130A': 'BEADED PEARL HEART WHITE LARGE', '85130D': 'BEADED CRYSTAL HEART PINK LARGE', '85131A': 'BEADED PEARL HEART WHITE ON STICK', '85132A': 'CHARLIE + LOLA BISCUITS TINS', '85132B': 'CHARLIE AND LOLA TABLE TINS', '85132C': 'CHARLIE AND LOLA FIGURES TINS', '85132a': 'CHARLIE + LOLA BISCUITS TINS', '85135A': 'YELLOW DRAGONFLY HELICOPTER', '85135B': 'BLUE DRAGONFLY HELICOPTER', '85135C': 'RED DRAGONFLY HELICOPTER', '85136A': 'YELLOW SHARK HELICOPTER', '85136B': 'BLUE SHARK HELICOPTER', '85136C': 'RED SHARK HELICOPTER', '85159A': 'BLACK TEA,COFFEE,SUGAR JARS', '85159B': 'WHITE TEA,COFFEE,SUGAR JARS', '85160A': 'WHITE BIRD GARDEN DESIGN MUG', '85160B': 'BLACK BIRD GARDEN DESIGN MUG', '85162A': 'SILVER RETRODISC LAMPSHADE', '85162B': 'BLACK RETRODISC LAMPSHADE', '85162C': 'WHITE RETRODISC LAMPSHADE', '85163A': 'WHITE BAROQUE WALL CLOCK ', '85164B': 'BLACK BAROQUE CUCKOO CLOCK', '85164b': 'BLACK BAROQUE CUCKOO CLOCK', '85166A': 'WHITE METAL BAROQUE PHOTO FRAME', '85166B': 'BLACK METAL BAROQUE PHOTO FRAME', '85167A': 'WHITE GRAND BAROQUE PHOTO FRAME', '85167B': 'BLACK GRAND BAROQUE PHOTO FRAME', '85168A': 'WHITE BAROQUE CARRIAGE CLOCK', '85168B': 'BLACK BAROQUE CARRIAGE CLOCK', '85169A': 'IVORY LOVE BIRD CANDLE', '85169B': 'BLACK LOVE BIRD CANDLE', '85169C': 'EAU DE NIL LOVE BIRD CANDLE', '85169D': 'PINK LOVE BIRD CANDLE', '85170A': 'SET/6 IVORY BIRD T-LIGHT CANDLES', '85170B': 'SET/6 BLACK BIRD T-LIGHT CANDLES', '85170C': 'SET/6 EAU DE NIL BIRD T-LIGHTS', '85170D': 'SET/6 PINK BIRD T-LIGHT CANDLES', '85179A': 'GREEN BITTY LIGHT CHAIN', '85179B': 'WHITE BITTY LIGHT CHAIN ', '85179C': 'PINK BITTY LIGHT CHAIN', '85180A': 'RED HEARTS LIGHT CHAIN ', '85180B': 'PINK HEARTS LIGHT CHAIN ', '85183A': 'CHARLIE & LOLA WASTEPAPER BIN BLUE', '85183B': 'CHARLIE & LOLA WASTEPAPER BIN FLORA', '85184B': 'SET 4 EASTER DECOUPAGE OVAL BOXES', '85184C': 'S/4 VALENTINE DECOUPAGE HEART BOX', '85184D': 'S/4 BLUE ROUND DECOUPAGE BOXES', '85185B': 'PINK HORSE SOCK PUPPET', '85185C': 'COW  SOCK PUPPET', '85185D': 'FROG SOCK PUPPET', '85185E': 'DUCK SOCK PUPPET', '85185F': 'LION SOCK PUPPET', '85186A': 'EASTER BUNNY GARLAND OF FLOWERS', '85186C': 'BUNNY EGG GARLAND', '85188A': 'GREEN METAL SWINGING BUNNY', '85194L': 'HANGING SPRING FLOWER EGG LARGE', '85199L': 'LARGE HANGING IVORY & RED WOOD BIRD', '85199S': 'SMALL HANGING IVORY/RED WOOD BIRD', '85206A': 'CREAM FELT EASTER EGG BASKET', '85206B': 'PINK FELT EASTER EGG BASKET', '85226A': 'WHITE/BLUE PULL BACK RACING CAR', '85226C': 'BLUE PULL BACK RACING CAR', '85230A': 'OPIUM SCENTED VOTIVE CANDLE', '85230B': 'CINNAMON SCENTED VOTIVE CANDLE', '85230C': 'ROSE SCENTED VOTIVE CANDLE', '85230D': 'VANILLA SCENTED VOTIVE CANDLE', '85230E': 'STRAWBRY SCENTED VOTIVE CANDLE', '85230F': 'JASMINE VOTIVE CANDLE', '85230G': 'ORANGE VOTIVE CANDLE', '85231B': 'CINAMMON SET OF 9 T-LIGHTS', '85231E': 'STRAWBERRY SCENTED SET/9 T-LIGHTS', '85231G': 'ORANGE SCENTED SET/9 T-LIGHTS', '85231L': 'LAVENDER SCENTED SET/9 T-LIGHTS', '85232A': 'SET/3 POLKA DOT STACKING TINS', '85232B': 'SET/3 RUSSIAN DOLL STACKING TINS', '85232D': 'SET/3 DECOUPAGE STACKING TINS', '90000A': 'RASPBERRY ANT COPPER FLOWER NECKLAC', '90000B': 'MIDNIGHT BLUE COPPER FLOWER NECKLAC', '90000C': 'OPAL WHITE/SILVER FLOWER NECKLACE', '90000D': 'COPPER/OLIVE GREEN FLOWER NECKLACE', '90001C': 'ANTIQUE OPAL WHITE FLOWER EARRINGS', '90001D': 'ANTIQUE OLIVE GREEN FLOWER EARRINGS', '90002A': 'FLOWER BURST SILVER RING OPAL', '90002B': 'FLOWER BURST SILVER RING ROSE', '90002C': \"FLOWER BURST SILVER RING MIDN'T BLU\", '90002D': 'FLOWER BURST SILVER RING CRYSTAL', '90002E': 'FLOWER BURST SILVER RING GREEN', '90003B': 'ROSE COLOUR PAIR HEART HAIR SLIDES', '90003C': 'MIDNIGHT BLUE PAIR HEART HAIR SLIDE', '90003D': 'CRYSTAL PAIR HEART HAIR SLIDES', '90005A': 'JADE GREEN ENAMEL HAIR COMB', '90010A': 'MIDNIGHT BLUE GLASS/SILVER BRACELET', '90010B': 'BLACK/WHITE GLASS/SILVER BRACELET', '90010E': 'AMBER GLASS/SILVER BRACELET', '90011A': 'MIDNIGHT BLUE CRYSTAL DROP EARRINGS', '90011B': 'BLACK CRYSTAL DROP EARRINGS', '90011C': 'GREEN CRYSTAL DROP EARRINGS', '90011D': 'PURPLE CRYSTAL DROP EARRINGS', '90011E': 'AMBER CRYSTAL DROP EARRINGS', '90012A': 'MIDNIGHT BLUE DROP CRYSTAL NECKLACE', '90012B': 'BLACK DROP CRYSTAL NECKLACE', '90013A': 'MIDNIGHT BLUE VINTAGE EARRINGS', '90013B': 'BLACK VINTAGE EARRINGS', '90013C': 'GREEN VINTAGE EARRINGS ', '90013E': 'AMBER VINTAGE EARRINGS ', '90014A': 'SILVER/MOP ORBIT NECKLACE', '90014B': 'GOLD M PEARL  ORBIT NECKLACE', '90014C': 'SILVER/BLACK ORBIT NECKLACE', '90018A': 'SILVER M.O.P ORBIT DROP EARRINGS', '90018B': 'GOLD M.O.P ORBIT DROP EARRINGS', '90018C': 'SILVER BLACK ORBIT DROP EARRINGS', '90019A': 'SILVER M.O.P ORBIT BRACELET', '90019C': 'SILVER BLACK ORBIT BRACELET', '90024B': \"NEW BAROQUE B'FLY NECKLACE RED\", '90024C': \"NEW BAROQUE B'FLY NECKLACE GREEN\", '90024D': \"NEW BAROQUE B'FLY NECKLACE PINK\", '90024E': \"NEW BAROQUE B'FLY NECKLACE MONTANA\", '90025E': 'BAROQUE BUTTERFLY EARRINGS MONTANA', '90026B': 'GLASS BEAD HOOP NECKLACE MONTANA', '90026C': 'GLASS BEAD HOOP NECKLACE GREEN', '90027B': 'GLASS BEAD HOOP EARRINGS MONTANA', '90027C': 'GLASS BEAD HOOP EARRINGS GREEN', '90027D': 'GLASS BEAD HOOP EARRINGS AMETHYST', '90030A': 'SPOTTED WHITE NATURAL SEED NECKLACE', '90030B': 'RED KUKUI COCONUT SEED NECKLACE', '90030C': 'BROWN KUKUI COCONUT SEED NECKLACE', '90035A': 'PEARL & SHELL 42\"NECKL. GREEN', '90035B': 'PEARL & SHELL 42\"NECKL. PINK', '90035C': 'PEARL & SHELL 42\"NECKL. IVORY', '90036A': 'FLOWER GARLAND NECKLACE RED', '90036C': 'FLOWER GLASS GARLAND NECKL.36\"BLUE', '90036D': 'FLOWER GLASS GARLAND NECKL.36\"BLACK', '90036E': 'FLOWER GLASS GARLD NECKL36\"AMETHYST', '90037A': 'TINY CRYSTAL BRACELET RED', '90037C': 'TINY CRYSTAL BRACELET BLUE', '90037D': 'TINY CRYSTALS BRACELET BLACK', '90038A': 'GLASS AND PAINTED BEADS BRACELET TO', '90038B': 'GLASS AND PAINTED BEADS BRACELET OL', '90039C': 'FIRE POLISHED GLASS BRACELET BLACK', '90039D': 'FIRE POLISHED GLASS BRACELET GREEN', '90040A': 'MURANO STYLE GLASS BRACELET RED', '90040B': 'MURANO STYLE GLASS BRACELET BLACK', '90040C': 'MURANO STYLE GLASS BRACELET GOLD', '90040D': 'MURANO STYLE GLASS BRACELET PINK', '90042A': 'FRESHWATER PEARL BRACELET GOLD', '90042B': 'FRESHWATER PEARL BRACELET PINK', '90058A': 'CRYSTAL STUD EARRINGS CLEAR DISPLAY', '90059A': 'DIAMANTE HAIR GRIP PACK/2 CRYSTAL', '90059C': 'DIAMANTE HAIR GRIP PACK/2 MONTANA', '90059D': 'DIAMANTE HAIR GRIP PACK/2 PERIDOT', '90059E': 'DIAMANTE HAIR GRIP PACK/2 RUBY', '90060B': 'FIRE POLISHED GLASS NECKL GOLD', '90060C': 'FIRE POLISHED GLASS NECKL SILVER', '90060D': 'FIRE POLISHED GLASS NECKL BRONZE', '90060F': 'FIRE POLISHED GLASS NECKL GREEN', '90063B': 'BLACK VINT ART DEC CRYSTAL NECKLACE', '90065A': 'WHITE VINTAGE CRYSTAL BRACELET', '90065B': 'BLACK VINT ART DEC CRYSTAL BRACELET', '90067A': 'PINK VINTAGE VICTORIAN EARRINGS', '90067B': 'BROWN VINTAGE VICTORIAN EARRINGS', '90081A': 'LILY BROOCH AMETHYST COLOUR', '90081C': 'LILY BROOCH OLIVE COLOUR', '90082A': 'DIAMANTE BOW BROOCH GREEN COLOUR', '90082D': 'DIAMANTE BOW BROOCH BLACK COLOUR', '90120A': 'PINK MURANO TWIST BRACELET', '90120B': 'BLUE MURANO TWIST BRACELET', '90120C': 'GREEN MURANO TWIST BRACELET', '90120D': 'WHITE MURANO TWIST BRACELET', '90121B': 'VINTAGE ROSE BEAD BRACELET BLUE', '90122B': 'JADE CRYSTAL+GLASS BRACELET', '90122C': 'TURQUOISE CRYSTAL+GLASS BRACELET', '90123A': 'PINK HEART OF GLASS BRACELET', '90123D': 'WHITE HEART OF GLASS BRACELET', '90124A': 'PINK MURANO TWIST NECKLACE', '90124B': 'BLUE MURANO TWIST NECKLACE', '90125A': 'PINK BERTIE GLASS BEAD BAG CHARM', '90125B': 'AQUA BERTIE GLASS BEAD BAG CHARM', '90125C': 'TURQUOISE BERTIE GLASS BEAD CHARM', '90125D': 'PURPLE BERTIE GLASS BEAD BAG CHARM', '90125E': 'AMBER BERTIE GLASS BEAD BAG CHARM', '90126A': 'PINK BERTIE MOBILE PHONE CHARM', '90129A': 'PINK GLASS TASSLE BAG CHARM ', '90129B': 'TURQUOISE GLASS TASSLE BAG CHARM ', '90129C': 'GREEN GLASS TASSLE BAG CHARM', '90130B': 'TURQ STONE/CRYSTAL EARRINGS', '90130C': 'GREEN STONE/CRYSTAL EARRINGS', '90141A': 'GREEN PENDANT TRIPLE SHELL NECKLACE', '90141C': 'TURQ PENDANT TRIPLE SHELL NECKLACE', '90141E': 'ORANGE PENDANT TRIPLE SHELL NECKLAC', '90152A': 'SILVER/NAT SHELL NECKLACE W PENDANT', '90152B': 'BLUE/GREEN SHELL NECKLACE W PENDANT', '90160B': 'RED BOUDICCA LARGE BRACELET', '90160D': 'PINK BOUDICCA LARGE BRACELET', '90161A': 'ANT COPPER RED BOUDICCA BRACELET', '90161B': 'ANT COPPER TURQ BOUDICCA BRACELET', '90161C': 'ANT COPPER LIME BOUDICCA BRACELET', '90161D': 'ANT COPPER PINK BOUDICCA BRACELET', '90163A': 'PINK ROSEBUD & PEARL NECKLACE', '90163B': 'WHITE ROSEBUD & PEARL NECKLACE', '90164A': 'PINK ROSEBUD PEARL BRACELET', '90164B': 'WHITE  ROSEBUD PEARL BRACELET', '90165A': 'PINK ROSEBUD PEARL EARRINGS', '90165B': 'WHITE ROSEBUD  PEARL EARRINGS', '90175A': 'WHITE GLASS CHUNKY CHARM BRACELET', '90175B': 'PINK GLASS CHUNKY CHARM BRACELET', '90175C': 'BLUE GLASS CHUNKY CHARM BRACELET', '90175D': 'TIGRIS EYE CHUNKY CHARM BRACELET', '90176A': 'CLASSIC DIAMANTE NECKLACE JET', '90176C': 'DIAMANTE NECKLACE', '90177A': 'CLASSIC DIAMANTE EARRINGS JET', '90177B': 'DROP DIAMANTE EARRINGS BLACK DIAMON', '90177C': 'DROP DIAMANTE EARRINGS CRYSTAL', '90177D': 'DROP DIAMANTE EARRINGS PURPLE', '90177E': 'DROP DIAMANTE EARRINGS GREEN', '90178A': 'AMBER CHUNKY GLASS+BEAD NECKLACE', '90178B': 'PURPLE CHUNKY GLASS+BEAD NECKLACE', '90179B': 'PURPLE FINE BEAD NECKLACE W TASSEL', '90180A': 'BLACK+WHITE NECKLACE W TASSEL', '90180B': 'PURPLE AMETHYST NECKLACE W TASSEL', '90181B': 'AMETHYST GLASS/SHELL/PEARL NECKLACE', '90181C': 'BLACK GLASS/SHELL/PEARL NECKLACE', '90182C': 'BLACK 3 BEAD DROP EARRINGS', '90183C': 'BLACK DROP EARRINGS W LONG BEADS', '90184A': 'AMBER CHUNKY BEAD BRACELET W STRAP', '90184B': 'AMETHYST CHUNKY BEAD BRACELET W STR', '90184C': 'BLACK CHUNKY BEAD BRACELET W STRAP', '90185A': 'AMBER DIAMANTE EXPANDABLE RING', '90185B': 'AMETHYST DIAMANTE EXPANDABLE RING', '90185C': 'BLACK DIAMANTE EXPANDABLE RING', '90185D': 'CRYSTAL DIAMANTE EXPANDABLE RING', '90186A': 'AMETHYST HOOP EARRING FLORAL LEAF', '90186B': 'CRYSTAL HOOP EARRING FLORAL LEAF', '90187A': 'BLUE DROP EARRINGS W BEAD CLUSTER', '90187B': 'GREEN DROP EARRINGS W BEAD CLUSTER', '90190A': 'SILVER/CRYSTAL DROP EARRINGS W LEAF', '90190B': 'GOLD/AMBER DROP EARRINGS W LEAF', '90190C': 'SILVER/AMETHYST DROP EARRINGS LEAF', '90195A': 'PURPLE GEMSTONE BRACELET', '90195B': 'BLACK GEMSTONE BRACELET', '90196A': 'PURPLE GEMSTONE NECKLACE 45CM', '90196B': 'BLACK GEMSTONE NECKLACE 45CM', '90197B': 'BLACK GLASS BRACELET W HEART CHARMS', '90198A': 'VINTAGE ROSE BEAD BRACELET RASPBERR', '90198B': 'VINTAGE ROSE BEAD BRACELET BLACK', '90199B': '5 STRAND GLASS NECKLACE AMETHYST', '90199C': '5 STRAND GLASS NECKLACE CRYSTAL', '90200A': 'PURPLE SWEETHEART BRACELET', '90200B': 'BLACK SWEETHEART BRACELET', '90200C': 'BLUE SWEETHEART BRACELET', '90200D': 'PINK SWEETHEART BRACELET', '90200E': 'GREEN SWEETHEART BRACELET', '90201A': 'PURPLE ENAMEL FLOWER RING', '90201B': 'BLACK ENAMEL FLOWER RING', '90202B': 'WHITE ENAMEL FLOWER HAIR TIE', '90202C': 'GREEN ENAMEL FLOWER HAIR TIE', '90205A': 'LARGE MINT DIAMANTE HAIRSLIDE', '90205C': 'LARGE CRYSTAL DIAMANTE HAIRSLIDE', '90206C': 'CRYSTAL DIAMANTE STAR BROOCH', '90209A': 'PURPLE ENAMEL+GLASS HAIR COMB', '90209B': 'GREEN ENAMEL+GLASS HAIR COMB', '90209C': 'PINK ENAMEL+GLASS HAIR COMB', '90210A': 'GREY ACRYLIC FACETED BANGLE', '90210B': 'CLEAR ACRYLIC FACETED BANGLE', '90210C': 'RED   ACRYLIC FACETED BANGLE', '90210D': 'PURPLE ACRYLIC FACETED BANGLE', '90211A': 'DIAMOND LAS VEGAS NECKLACE 45CM', '90211B': 'JET BLACK LAS VEGAS NECKLACE 45CM', '90212B': 'JET BLACK LAS VEGAS BRACELET ROUND', '90212C': 'PURPLE LAS VEGAS BRACELET ROUND', '90214A': 'LETTER \"A\" BLING KEY RING', '90214B': 'LETTER \"B\" BLING KEY RING', '90214C': 'LETTER \"C\" BLING KEY RING', '90214D': 'LETTER \"D\" BLING KEY RING', '90214E': 'LETTER \"E\" BLING KEY RING', '90214F': 'LETTER \"F\" BLING KEY RING', '90214G': 'LETTER \"G\" BLING KEY RING', '90214H': 'LETTER \"H\" BLING KEY RING', '90214I': 'LETTER \"I\" BLING KEY RING', '90214J': 'LETTER \"J\" BLING KEY RING', '90214K': 'LETTER \"K\" BLING KEY RING', '90214L': 'LETTER \"L\" BLING KEY RING', '90214M': 'LETTER \"M\" BLING KEY RING', '90214N': 'LETTER \"N\" BLING KEY RING', '90214O': 'LETTER \"O\" BLING KEY RING', '90214P': 'LETTER \"P\" BLING KEY RING', '90214R': 'LETTER \"R\" BLING KEY RING', '90214S': 'LETTER \"S\" BLING KEY RING', '90214T': 'LETTER \"T\" BLING KEY RING', '90214Z': 'LETTER \"Z\" BLING KEY RING', 'BANK CHARGES': ' Bank Charges', 'C2': 'CARRIAGE', 'D': 'Discount', 'DCGS0003': 'BOXED GLASS ASHTRAY', 'DCGS0004': 'HAYNES CAMPER SHOULDER BAG', 'DCGS0058': 'MISO PRETTY  GUM', 'DCGS0068': 'DOGS NIGHT COLLAR', 'DCGS0072': 'CAT CAMOUFLAGUE COLLAR', 'DCGS0076': 'SUNJAR LED NIGHT NIGHT LIGHT', 'DOT': 'DOTCOM POSTAGE', 'M': 'Manual', 'POST': 'POSTAGE', 'TEST001': 'This is a test product.', 'gift_0001_20': 'Dotcomgiftshop Gift Voucher ¬£20.00', 'gift_0001_80': nan}\n"
     ]
    }
   ],
   "source": [
    "from collections import Counter\n",
    "description_map = df.groupby('StockCode')['Description'].apply(lambda x: Counter(x).most_common(1)[0][0]).to_dict()\n",
    "print(description_map)"
   ]
  },
  {
   "cell_type": "code",
   "execution_count": 11,
   "metadata": {},
   "outputs": [],
   "source": [
    "df['Actual Description'] = df['StockCode'].map(description_map)"
   ]
  },
  {
   "cell_type": "code",
   "execution_count": 12,
   "metadata": {},
   "outputs": [
    {
     "data": {
      "text/plain": [
       "Invoice                  0\n",
       "StockCode                0\n",
       "Description             61\n",
       "Quantity                 0\n",
       "InvoiceDate              0\n",
       "Price                    0\n",
       "Customer ID           8360\n",
       "Country                  0\n",
       "Actual Description      28\n",
       "dtype: int64"
      ]
     },
     "execution_count": 12,
     "metadata": {},
     "output_type": "execute_result"
    }
   ],
   "source": [
    "df.isnull().sum()"
   ]
  },
  {
   "cell_type": "markdown",
   "metadata": {},
   "source": [
    "### Missing Customer IDs:"
   ]
  },
  {
   "cell_type": "code",
   "execution_count": 13,
   "metadata": {},
   "outputs": [],
   "source": [
    "missing_customer_df = df[df['Customer ID'].isnull()]\n",
    "df['Customer ID'] = df.groupby('Invoice')['Customer ID'].transform(lambda x: x.ffill().bfill())\n"
   ]
  },
  {
   "cell_type": "code",
   "execution_count": 14,
   "metadata": {},
   "outputs": [
    {
     "name": "stdout",
     "output_type": "stream",
     "text": [
      "After filling, remaining rows with missing Customer ID:\n",
      "      Invoice StockCode     Description  Quantity         InvoiceDate   Price  \\\n",
      "0      491639     20668             NaN     -1395 2009-12-11 16:02:00    0.00   \n",
      "1      489660     35956            lost     -1043 2009-12-01 17:43:00    0.00   \n",
      "2      490016     21982             NaN     -1012 2009-12-03 12:30:00    0.00   \n",
      "3      489899   79323GR    sold as gold      -954 2009-12-03 09:41:00    0.00   \n",
      "4      489806     18010             NaN      -770 2009-12-02 12:42:00    0.00   \n",
      "...       ...       ...             ...       ...                 ...     ...   \n",
      "32191  491966       DOT  DOTCOM POSTAGE         1 2009-12-14 17:16:00  815.01   \n",
      "32192  490741       DOT  DOTCOM POSTAGE         1 2009-12-07 17:56:00  862.38   \n",
      "32193  490074       DOT  DOTCOM POSTAGE         1 2009-12-03 14:39:00  862.67   \n",
      "32194  491969       DOT  DOTCOM POSTAGE         1 2009-12-14 17:57:00  882.72   \n",
      "32195  490149       DOT  DOTCOM POSTAGE         1 2009-12-04 09:43:00  922.05   \n",
      "\n",
      "       Customer ID         Country                Actual Description  \n",
      "0              NaN  United Kingdom   DISCO BALL CHRISTMAS DECORATION  \n",
      "1              NaN  United Kingdom                              lost  \n",
      "2              NaN  United Kingdom                               NaN  \n",
      "3              NaN  United Kingdom               GREEN CHERRY LIGHTS  \n",
      "4              NaN  United Kingdom  ASSORTED FRAGRANCE BATH CONFETTI  \n",
      "...            ...             ...                               ...  \n",
      "32191          NaN  United Kingdom                    DOTCOM POSTAGE  \n",
      "32192          NaN  United Kingdom                    DOTCOM POSTAGE  \n",
      "32193          NaN  United Kingdom                    DOTCOM POSTAGE  \n",
      "32194          NaN  United Kingdom                    DOTCOM POSTAGE  \n",
      "32195          NaN  United Kingdom                    DOTCOM POSTAGE  \n",
      "\n",
      "[8360 rows x 9 columns]\n"
     ]
    }
   ],
   "source": [
    "filled_customer_df = df[df['Customer ID'].isnull()]\n",
    "print(\"After filling, remaining rows with missing Customer ID:\")\n",
    "print(filled_customer_df)"
   ]
  },
  {
   "cell_type": "markdown",
   "metadata": {},
   "source": [
    "### method 2 "
   ]
  },
  {
   "cell_type": "code",
   "execution_count": 15,
   "metadata": {},
   "outputs": [],
   "source": [
    "missing_customer_invoices = df[df['Customer ID'].isnull()]"
   ]
  },
  {
   "cell_type": "code",
   "execution_count": 16,
   "metadata": {},
   "outputs": [],
   "source": [
    "missing_customer_invoices.to_excel('missing_customer_invoices.xlsx', index = False)"
   ]
  },
  {
   "cell_type": "code",
   "execution_count": 17,
   "metadata": {},
   "outputs": [],
   "source": [
    "invoice_item_counts = missing_customer_invoices.groupby('Invoice').size().reset_index(name='entry_count')"
   ]
  },
  {
   "cell_type": "code",
   "execution_count": 18,
   "metadata": {},
   "outputs": [],
   "source": [
    "invoice_item_counts.sort_values(by='entry_count', ascending=False, inplace=True)"
   ]
  },
  {
   "cell_type": "code",
   "execution_count": 19,
   "metadata": {},
   "outputs": [
    {
     "data": {
      "text/plain": [
       "167"
      ]
     },
     "execution_count": 19,
     "metadata": {},
     "output_type": "execute_result"
    }
   ],
   "source": [
    "len(invoice_item_counts)"
   ]
  },
  {
   "cell_type": "code",
   "execution_count": 20,
   "metadata": {},
   "outputs": [
    {
     "data": {
      "text/html": [
       "<div>\n",
       "<style scoped>\n",
       "    .dataframe tbody tr th:only-of-type {\n",
       "        vertical-align: middle;\n",
       "    }\n",
       "\n",
       "    .dataframe tbody tr th {\n",
       "        vertical-align: top;\n",
       "    }\n",
       "\n",
       "    .dataframe thead th {\n",
       "        text-align: right;\n",
       "    }\n",
       "</style>\n",
       "<table border=\"1\" class=\"dataframe\">\n",
       "  <thead>\n",
       "    <tr style=\"text-align: right;\">\n",
       "      <th></th>\n",
       "      <th>Invoice</th>\n",
       "      <th>entry_count</th>\n",
       "    </tr>\n",
       "  </thead>\n",
       "  <tbody>\n",
       "    <tr>\n",
       "      <th>48</th>\n",
       "      <td>490074</td>\n",
       "      <td>580</td>\n",
       "    </tr>\n",
       "    <tr>\n",
       "      <th>149</th>\n",
       "      <td>491966</td>\n",
       "      <td>579</td>\n",
       "    </tr>\n",
       "    <tr>\n",
       "      <th>53</th>\n",
       "      <td>490149</td>\n",
       "      <td>559</td>\n",
       "    </tr>\n",
       "    <tr>\n",
       "      <th>151</th>\n",
       "      <td>491969</td>\n",
       "      <td>548</td>\n",
       "    </tr>\n",
       "    <tr>\n",
       "      <th>82</th>\n",
       "      <td>490741</td>\n",
       "      <td>546</td>\n",
       "    </tr>\n",
       "    <tr>\n",
       "      <th>34</th>\n",
       "      <td>489857</td>\n",
       "      <td>516</td>\n",
       "    </tr>\n",
       "    <tr>\n",
       "      <th>83</th>\n",
       "      <td>490745</td>\n",
       "      <td>507</td>\n",
       "    </tr>\n",
       "    <tr>\n",
       "      <th>7</th>\n",
       "      <td>489597</td>\n",
       "      <td>502</td>\n",
       "    </tr>\n",
       "    <tr>\n",
       "      <th>123</th>\n",
       "      <td>491155</td>\n",
       "      <td>500</td>\n",
       "    </tr>\n",
       "    <tr>\n",
       "      <th>152</th>\n",
       "      <td>491970</td>\n",
       "      <td>486</td>\n",
       "    </tr>\n",
       "    <tr>\n",
       "      <th>98</th>\n",
       "      <td>491043</td>\n",
       "      <td>482</td>\n",
       "    </tr>\n",
       "    <tr>\n",
       "      <th>96</th>\n",
       "      <td>491041</td>\n",
       "      <td>477</td>\n",
       "    </tr>\n",
       "    <tr>\n",
       "      <th>153</th>\n",
       "      <td>491971</td>\n",
       "      <td>449</td>\n",
       "    </tr>\n",
       "    <tr>\n",
       "      <th>93</th>\n",
       "      <td>490963</td>\n",
       "      <td>442</td>\n",
       "    </tr>\n",
       "    <tr>\n",
       "      <th>33</th>\n",
       "      <td>489856</td>\n",
       "      <td>426</td>\n",
       "    </tr>\n",
       "    <tr>\n",
       "      <th>5</th>\n",
       "      <td>489548</td>\n",
       "      <td>55</td>\n",
       "    </tr>\n",
       "    <tr>\n",
       "      <th>16</th>\n",
       "      <td>489612</td>\n",
       "      <td>41</td>\n",
       "    </tr>\n",
       "    <tr>\n",
       "      <th>147</th>\n",
       "      <td>491841</td>\n",
       "      <td>39</td>\n",
       "    </tr>\n",
       "    <tr>\n",
       "      <th>13</th>\n",
       "      <td>489607</td>\n",
       "      <td>39</td>\n",
       "    </tr>\n",
       "    <tr>\n",
       "      <th>15</th>\n",
       "      <td>489609</td>\n",
       "      <td>37</td>\n",
       "    </tr>\n",
       "  </tbody>\n",
       "</table>\n",
       "</div>"
      ],
      "text/plain": [
       "    Invoice  entry_count\n",
       "48   490074          580\n",
       "149  491966          579\n",
       "53   490149          559\n",
       "151  491969          548\n",
       "82   490741          546\n",
       "34   489857          516\n",
       "83   490745          507\n",
       "7    489597          502\n",
       "123  491155          500\n",
       "152  491970          486\n",
       "98   491043          482\n",
       "96   491041          477\n",
       "153  491971          449\n",
       "93   490963          442\n",
       "33   489856          426\n",
       "5    489548           55\n",
       "16   489612           41\n",
       "147  491841           39\n",
       "13   489607           39\n",
       "15   489609           37"
      ]
     },
     "execution_count": 20,
     "metadata": {},
     "output_type": "execute_result"
    }
   ],
   "source": [
    "invoice_item_counts.head(20)"
   ]
  },
  {
   "cell_type": "code",
   "execution_count": 21,
   "metadata": {},
   "outputs": [
    {
     "data": {
      "text/html": [
       "<div>\n",
       "<style scoped>\n",
       "    .dataframe tbody tr th:only-of-type {\n",
       "        vertical-align: middle;\n",
       "    }\n",
       "\n",
       "    .dataframe tbody tr th {\n",
       "        vertical-align: top;\n",
       "    }\n",
       "\n",
       "    .dataframe thead th {\n",
       "        text-align: right;\n",
       "    }\n",
       "</style>\n",
       "<table border=\"1\" class=\"dataframe\">\n",
       "  <thead>\n",
       "    <tr style=\"text-align: right;\">\n",
       "      <th></th>\n",
       "      <th>Invoice</th>\n",
       "      <th>count</th>\n",
       "    </tr>\n",
       "  </thead>\n",
       "  <tbody>\n",
       "    <tr>\n",
       "      <th>329</th>\n",
       "      <td>490074</td>\n",
       "      <td>580</td>\n",
       "    </tr>\n",
       "    <tr>\n",
       "      <th>1234</th>\n",
       "      <td>491966</td>\n",
       "      <td>579</td>\n",
       "    </tr>\n",
       "    <tr>\n",
       "      <th>389</th>\n",
       "      <td>490149</td>\n",
       "      <td>559</td>\n",
       "    </tr>\n",
       "    <tr>\n",
       "      <th>1237</th>\n",
       "      <td>491969</td>\n",
       "      <td>548</td>\n",
       "    </tr>\n",
       "    <tr>\n",
       "      <th>687</th>\n",
       "      <td>490741</td>\n",
       "      <td>546</td>\n",
       "    </tr>\n",
       "    <tr>\n",
       "      <th>216</th>\n",
       "      <td>489857</td>\n",
       "      <td>516</td>\n",
       "    </tr>\n",
       "    <tr>\n",
       "      <th>688</th>\n",
       "      <td>490745</td>\n",
       "      <td>507</td>\n",
       "    </tr>\n",
       "    <tr>\n",
       "      <th>78</th>\n",
       "      <td>489597</td>\n",
       "      <td>502</td>\n",
       "    </tr>\n",
       "    <tr>\n",
       "      <th>915</th>\n",
       "      <td>491155</td>\n",
       "      <td>500</td>\n",
       "    </tr>\n",
       "    <tr>\n",
       "      <th>1238</th>\n",
       "      <td>491970</td>\n",
       "      <td>486</td>\n",
       "    </tr>\n",
       "    <tr>\n",
       "      <th>810</th>\n",
       "      <td>491043</td>\n",
       "      <td>482</td>\n",
       "    </tr>\n",
       "    <tr>\n",
       "      <th>808</th>\n",
       "      <td>491041</td>\n",
       "      <td>477</td>\n",
       "    </tr>\n",
       "    <tr>\n",
       "      <th>1239</th>\n",
       "      <td>491971</td>\n",
       "      <td>449</td>\n",
       "    </tr>\n",
       "    <tr>\n",
       "      <th>776</th>\n",
       "      <td>490963</td>\n",
       "      <td>442</td>\n",
       "    </tr>\n",
       "    <tr>\n",
       "      <th>215</th>\n",
       "      <td>489856</td>\n",
       "      <td>426</td>\n",
       "    </tr>\n",
       "    <tr>\n",
       "      <th>770</th>\n",
       "      <td>490957</td>\n",
       "      <td>153</td>\n",
       "    </tr>\n",
       "    <tr>\n",
       "      <th>994</th>\n",
       "      <td>491406</td>\n",
       "      <td>140</td>\n",
       "    </tr>\n",
       "    <tr>\n",
       "      <th>38</th>\n",
       "      <td>489536</td>\n",
       "      <td>130</td>\n",
       "    </tr>\n",
       "    <tr>\n",
       "      <th>1062</th>\n",
       "      <td>491634</td>\n",
       "      <td>125</td>\n",
       "    </tr>\n",
       "    <tr>\n",
       "      <th>875</th>\n",
       "      <td>491113</td>\n",
       "      <td>122</td>\n",
       "    </tr>\n",
       "  </tbody>\n",
       "</table>\n",
       "</div>"
      ],
      "text/plain": [
       "     Invoice  count\n",
       "329   490074    580\n",
       "1234  491966    579\n",
       "389   490149    559\n",
       "1237  491969    548\n",
       "687   490741    546\n",
       "216   489857    516\n",
       "688   490745    507\n",
       "78    489597    502\n",
       "915   491155    500\n",
       "1238  491970    486\n",
       "810   491043    482\n",
       "808   491041    477\n",
       "1239  491971    449\n",
       "776   490963    442\n",
       "215   489856    426\n",
       "770   490957    153\n",
       "994   491406    140\n",
       "38    489536    130\n",
       "1062  491634    125\n",
       "875   491113    122"
      ]
     },
     "execution_count": 21,
     "metadata": {},
     "output_type": "execute_result"
    }
   ],
   "source": [
    "invoice_counts = df.groupby('Invoice').size().reset_index(name='count')\n",
    "invoice_counts.sort_values(by='count', ascending=False, inplace=True)\n",
    "invoice_counts.head(20)"
   ]
  },
  {
   "cell_type": "code",
   "execution_count": 22,
   "metadata": {},
   "outputs": [
    {
     "data": {
      "application/vnd.plotly.v1+json": {
       "config": {
        "plotlyServerURL": "https://plot.ly"
       },
       "data": [
        {
         "hovertemplate": "%{text}<br>Invoice ID: %{x}<br>Count: %{y}<extra></extra>",
         "marker": {
          "color": [
           "red",
           "red",
           "red",
           "red",
           "red",
           "red",
           "red",
           "red",
           "red",
           "red",
           "red",
           "red",
           "red",
           "red",
           "red",
           "blue",
           "blue",
           "blue",
           "blue",
           "blue"
          ],
          "line": {
           "width": 2
          },
          "opacity": 0.6,
          "size": [
           116,
           115.80000000000001,
           111.80000000000001,
           109.60000000000001,
           109.2,
           103.2,
           101.4,
           100.4,
           100,
           97.2,
           96.4,
           95.4,
           89.80000000000001,
           88.4,
           85.2,
           30.6,
           28,
           26,
           25,
           24.400000000000002
          ]
         },
         "mode": "markers",
         "text": [
          "Missing",
          "Missing",
          "Missing",
          "Missing",
          "Missing",
          "Missing",
          "Missing",
          "Missing",
          "Missing",
          "Missing",
          "Missing",
          "Missing",
          "Missing",
          "Missing",
          "Missing",
          "Present",
          "Present",
          "Present",
          "Present",
          "Present"
         ],
         "type": "scatter",
         "x": [
          490074,
          491966,
          490149,
          491969,
          490741,
          489857,
          490745,
          489597,
          491155,
          491970,
          491043,
          491041,
          491971,
          490963,
          489856,
          490957,
          491406,
          489536,
          491634,
          491113
         ],
         "y": [
          580,
          579,
          559,
          548,
          546,
          516,
          507,
          502,
          500,
          486,
          482,
          477,
          449,
          442,
          426,
          153,
          140,
          130,
          125,
          122
         ]
        }
       ],
       "layout": {
        "height": 700,
        "showlegend": false,
        "template": {
         "data": {
          "bar": [
           {
            "error_x": {
             "color": "#f2f5fa"
            },
            "error_y": {
             "color": "#f2f5fa"
            },
            "marker": {
             "line": {
              "color": "rgb(17,17,17)",
              "width": 0.5
             },
             "pattern": {
              "fillmode": "overlay",
              "size": 10,
              "solidity": 0.2
             }
            },
            "type": "bar"
           }
          ],
          "barpolar": [
           {
            "marker": {
             "line": {
              "color": "rgb(17,17,17)",
              "width": 0.5
             },
             "pattern": {
              "fillmode": "overlay",
              "size": 10,
              "solidity": 0.2
             }
            },
            "type": "barpolar"
           }
          ],
          "carpet": [
           {
            "aaxis": {
             "endlinecolor": "#A2B1C6",
             "gridcolor": "#506784",
             "linecolor": "#506784",
             "minorgridcolor": "#506784",
             "startlinecolor": "#A2B1C6"
            },
            "baxis": {
             "endlinecolor": "#A2B1C6",
             "gridcolor": "#506784",
             "linecolor": "#506784",
             "minorgridcolor": "#506784",
             "startlinecolor": "#A2B1C6"
            },
            "type": "carpet"
           }
          ],
          "choropleth": [
           {
            "colorbar": {
             "outlinewidth": 0,
             "ticks": ""
            },
            "type": "choropleth"
           }
          ],
          "contour": [
           {
            "colorbar": {
             "outlinewidth": 0,
             "ticks": ""
            },
            "colorscale": [
             [
              0,
              "#0d0887"
             ],
             [
              0.1111111111111111,
              "#46039f"
             ],
             [
              0.2222222222222222,
              "#7201a8"
             ],
             [
              0.3333333333333333,
              "#9c179e"
             ],
             [
              0.4444444444444444,
              "#bd3786"
             ],
             [
              0.5555555555555556,
              "#d8576b"
             ],
             [
              0.6666666666666666,
              "#ed7953"
             ],
             [
              0.7777777777777778,
              "#fb9f3a"
             ],
             [
              0.8888888888888888,
              "#fdca26"
             ],
             [
              1,
              "#f0f921"
             ]
            ],
            "type": "contour"
           }
          ],
          "contourcarpet": [
           {
            "colorbar": {
             "outlinewidth": 0,
             "ticks": ""
            },
            "type": "contourcarpet"
           }
          ],
          "heatmap": [
           {
            "colorbar": {
             "outlinewidth": 0,
             "ticks": ""
            },
            "colorscale": [
             [
              0,
              "#0d0887"
             ],
             [
              0.1111111111111111,
              "#46039f"
             ],
             [
              0.2222222222222222,
              "#7201a8"
             ],
             [
              0.3333333333333333,
              "#9c179e"
             ],
             [
              0.4444444444444444,
              "#bd3786"
             ],
             [
              0.5555555555555556,
              "#d8576b"
             ],
             [
              0.6666666666666666,
              "#ed7953"
             ],
             [
              0.7777777777777778,
              "#fb9f3a"
             ],
             [
              0.8888888888888888,
              "#fdca26"
             ],
             [
              1,
              "#f0f921"
             ]
            ],
            "type": "heatmap"
           }
          ],
          "heatmapgl": [
           {
            "colorbar": {
             "outlinewidth": 0,
             "ticks": ""
            },
            "colorscale": [
             [
              0,
              "#0d0887"
             ],
             [
              0.1111111111111111,
              "#46039f"
             ],
             [
              0.2222222222222222,
              "#7201a8"
             ],
             [
              0.3333333333333333,
              "#9c179e"
             ],
             [
              0.4444444444444444,
              "#bd3786"
             ],
             [
              0.5555555555555556,
              "#d8576b"
             ],
             [
              0.6666666666666666,
              "#ed7953"
             ],
             [
              0.7777777777777778,
              "#fb9f3a"
             ],
             [
              0.8888888888888888,
              "#fdca26"
             ],
             [
              1,
              "#f0f921"
             ]
            ],
            "type": "heatmapgl"
           }
          ],
          "histogram": [
           {
            "marker": {
             "pattern": {
              "fillmode": "overlay",
              "size": 10,
              "solidity": 0.2
             }
            },
            "type": "histogram"
           }
          ],
          "histogram2d": [
           {
            "colorbar": {
             "outlinewidth": 0,
             "ticks": ""
            },
            "colorscale": [
             [
              0,
              "#0d0887"
             ],
             [
              0.1111111111111111,
              "#46039f"
             ],
             [
              0.2222222222222222,
              "#7201a8"
             ],
             [
              0.3333333333333333,
              "#9c179e"
             ],
             [
              0.4444444444444444,
              "#bd3786"
             ],
             [
              0.5555555555555556,
              "#d8576b"
             ],
             [
              0.6666666666666666,
              "#ed7953"
             ],
             [
              0.7777777777777778,
              "#fb9f3a"
             ],
             [
              0.8888888888888888,
              "#fdca26"
             ],
             [
              1,
              "#f0f921"
             ]
            ],
            "type": "histogram2d"
           }
          ],
          "histogram2dcontour": [
           {
            "colorbar": {
             "outlinewidth": 0,
             "ticks": ""
            },
            "colorscale": [
             [
              0,
              "#0d0887"
             ],
             [
              0.1111111111111111,
              "#46039f"
             ],
             [
              0.2222222222222222,
              "#7201a8"
             ],
             [
              0.3333333333333333,
              "#9c179e"
             ],
             [
              0.4444444444444444,
              "#bd3786"
             ],
             [
              0.5555555555555556,
              "#d8576b"
             ],
             [
              0.6666666666666666,
              "#ed7953"
             ],
             [
              0.7777777777777778,
              "#fb9f3a"
             ],
             [
              0.8888888888888888,
              "#fdca26"
             ],
             [
              1,
              "#f0f921"
             ]
            ],
            "type": "histogram2dcontour"
           }
          ],
          "mesh3d": [
           {
            "colorbar": {
             "outlinewidth": 0,
             "ticks": ""
            },
            "type": "mesh3d"
           }
          ],
          "parcoords": [
           {
            "line": {
             "colorbar": {
              "outlinewidth": 0,
              "ticks": ""
             }
            },
            "type": "parcoords"
           }
          ],
          "pie": [
           {
            "automargin": true,
            "type": "pie"
           }
          ],
          "scatter": [
           {
            "marker": {
             "line": {
              "color": "#283442"
             }
            },
            "type": "scatter"
           }
          ],
          "scatter3d": [
           {
            "line": {
             "colorbar": {
              "outlinewidth": 0,
              "ticks": ""
             }
            },
            "marker": {
             "colorbar": {
              "outlinewidth": 0,
              "ticks": ""
             }
            },
            "type": "scatter3d"
           }
          ],
          "scattercarpet": [
           {
            "marker": {
             "colorbar": {
              "outlinewidth": 0,
              "ticks": ""
             }
            },
            "type": "scattercarpet"
           }
          ],
          "scattergeo": [
           {
            "marker": {
             "colorbar": {
              "outlinewidth": 0,
              "ticks": ""
             }
            },
            "type": "scattergeo"
           }
          ],
          "scattergl": [
           {
            "marker": {
             "line": {
              "color": "#283442"
             }
            },
            "type": "scattergl"
           }
          ],
          "scattermapbox": [
           {
            "marker": {
             "colorbar": {
              "outlinewidth": 0,
              "ticks": ""
             }
            },
            "type": "scattermapbox"
           }
          ],
          "scatterpolar": [
           {
            "marker": {
             "colorbar": {
              "outlinewidth": 0,
              "ticks": ""
             }
            },
            "type": "scatterpolar"
           }
          ],
          "scatterpolargl": [
           {
            "marker": {
             "colorbar": {
              "outlinewidth": 0,
              "ticks": ""
             }
            },
            "type": "scatterpolargl"
           }
          ],
          "scatterternary": [
           {
            "marker": {
             "colorbar": {
              "outlinewidth": 0,
              "ticks": ""
             }
            },
            "type": "scatterternary"
           }
          ],
          "surface": [
           {
            "colorbar": {
             "outlinewidth": 0,
             "ticks": ""
            },
            "colorscale": [
             [
              0,
              "#0d0887"
             ],
             [
              0.1111111111111111,
              "#46039f"
             ],
             [
              0.2222222222222222,
              "#7201a8"
             ],
             [
              0.3333333333333333,
              "#9c179e"
             ],
             [
              0.4444444444444444,
              "#bd3786"
             ],
             [
              0.5555555555555556,
              "#d8576b"
             ],
             [
              0.6666666666666666,
              "#ed7953"
             ],
             [
              0.7777777777777778,
              "#fb9f3a"
             ],
             [
              0.8888888888888888,
              "#fdca26"
             ],
             [
              1,
              "#f0f921"
             ]
            ],
            "type": "surface"
           }
          ],
          "table": [
           {
            "cells": {
             "fill": {
              "color": "#506784"
             },
             "line": {
              "color": "rgb(17,17,17)"
             }
            },
            "header": {
             "fill": {
              "color": "#2a3f5f"
             },
             "line": {
              "color": "rgb(17,17,17)"
             }
            },
            "type": "table"
           }
          ]
         },
         "layout": {
          "annotationdefaults": {
           "arrowcolor": "#f2f5fa",
           "arrowhead": 0,
           "arrowwidth": 1
          },
          "autotypenumbers": "strict",
          "coloraxis": {
           "colorbar": {
            "outlinewidth": 0,
            "ticks": ""
           }
          },
          "colorscale": {
           "diverging": [
            [
             0,
             "#8e0152"
            ],
            [
             0.1,
             "#c51b7d"
            ],
            [
             0.2,
             "#de77ae"
            ],
            [
             0.3,
             "#f1b6da"
            ],
            [
             0.4,
             "#fde0ef"
            ],
            [
             0.5,
             "#f7f7f7"
            ],
            [
             0.6,
             "#e6f5d0"
            ],
            [
             0.7,
             "#b8e186"
            ],
            [
             0.8,
             "#7fbc41"
            ],
            [
             0.9,
             "#4d9221"
            ],
            [
             1,
             "#276419"
            ]
           ],
           "sequential": [
            [
             0,
             "#0d0887"
            ],
            [
             0.1111111111111111,
             "#46039f"
            ],
            [
             0.2222222222222222,
             "#7201a8"
            ],
            [
             0.3333333333333333,
             "#9c179e"
            ],
            [
             0.4444444444444444,
             "#bd3786"
            ],
            [
             0.5555555555555556,
             "#d8576b"
            ],
            [
             0.6666666666666666,
             "#ed7953"
            ],
            [
             0.7777777777777778,
             "#fb9f3a"
            ],
            [
             0.8888888888888888,
             "#fdca26"
            ],
            [
             1,
             "#f0f921"
            ]
           ],
           "sequentialminus": [
            [
             0,
             "#0d0887"
            ],
            [
             0.1111111111111111,
             "#46039f"
            ],
            [
             0.2222222222222222,
             "#7201a8"
            ],
            [
             0.3333333333333333,
             "#9c179e"
            ],
            [
             0.4444444444444444,
             "#bd3786"
            ],
            [
             0.5555555555555556,
             "#d8576b"
            ],
            [
             0.6666666666666666,
             "#ed7953"
            ],
            [
             0.7777777777777778,
             "#fb9f3a"
            ],
            [
             0.8888888888888888,
             "#fdca26"
            ],
            [
             1,
             "#f0f921"
            ]
           ]
          },
          "colorway": [
           "#636efa",
           "#EF553B",
           "#00cc96",
           "#ab63fa",
           "#FFA15A",
           "#19d3f3",
           "#FF6692",
           "#B6E880",
           "#FF97FF",
           "#FECB52"
          ],
          "font": {
           "color": "#f2f5fa"
          },
          "geo": {
           "bgcolor": "rgb(17,17,17)",
           "lakecolor": "rgb(17,17,17)",
           "landcolor": "rgb(17,17,17)",
           "showlakes": true,
           "showland": true,
           "subunitcolor": "#506784"
          },
          "hoverlabel": {
           "align": "left"
          },
          "hovermode": "closest",
          "mapbox": {
           "style": "dark"
          },
          "paper_bgcolor": "rgb(17,17,17)",
          "plot_bgcolor": "rgb(17,17,17)",
          "polar": {
           "angularaxis": {
            "gridcolor": "#506784",
            "linecolor": "#506784",
            "ticks": ""
           },
           "bgcolor": "rgb(17,17,17)",
           "radialaxis": {
            "gridcolor": "#506784",
            "linecolor": "#506784",
            "ticks": ""
           }
          },
          "scene": {
           "xaxis": {
            "backgroundcolor": "rgb(17,17,17)",
            "gridcolor": "#506784",
            "gridwidth": 2,
            "linecolor": "#506784",
            "showbackground": true,
            "ticks": "",
            "zerolinecolor": "#C8D4E3"
           },
           "yaxis": {
            "backgroundcolor": "rgb(17,17,17)",
            "gridcolor": "#506784",
            "gridwidth": 2,
            "linecolor": "#506784",
            "showbackground": true,
            "ticks": "",
            "zerolinecolor": "#C8D4E3"
           },
           "zaxis": {
            "backgroundcolor": "rgb(17,17,17)",
            "gridcolor": "#506784",
            "gridwidth": 2,
            "linecolor": "#506784",
            "showbackground": true,
            "ticks": "",
            "zerolinecolor": "#C8D4E3"
           }
          },
          "shapedefaults": {
           "line": {
            "color": "#f2f5fa"
           }
          },
          "sliderdefaults": {
           "bgcolor": "#C8D4E3",
           "bordercolor": "rgb(17,17,17)",
           "borderwidth": 1,
           "tickwidth": 0
          },
          "ternary": {
           "aaxis": {
            "gridcolor": "#506784",
            "linecolor": "#506784",
            "ticks": ""
           },
           "baxis": {
            "gridcolor": "#506784",
            "linecolor": "#506784",
            "ticks": ""
           },
           "bgcolor": "rgb(17,17,17)",
           "caxis": {
            "gridcolor": "#506784",
            "linecolor": "#506784",
            "ticks": ""
           }
          },
          "title": {
           "x": 0.05
          },
          "updatemenudefaults": {
           "bgcolor": "#506784",
           "borderwidth": 0
          },
          "xaxis": {
           "automargin": true,
           "gridcolor": "#283442",
           "linecolor": "#506784",
           "ticks": "",
           "title": {
            "standoff": 15
           },
           "zerolinecolor": "#283442",
           "zerolinewidth": 2
          },
          "yaxis": {
           "automargin": true,
           "gridcolor": "#283442",
           "linecolor": "#506784",
           "ticks": "",
           "title": {
            "standoff": 15
           },
           "zerolinecolor": "#283442",
           "zerolinewidth": 2
          }
         }
        },
        "title": {
         "text": "Top 20 Invoices as Bubbles with Missing Customer IDs Highlighted"
        },
        "width": 900,
        "xaxis": {
         "title": {
          "text": "Invoice ID"
         }
        },
        "yaxis": {
         "title": {
          "text": "Invoice Count"
         }
        }
       }
      }
     },
     "metadata": {},
     "output_type": "display_data"
    }
   ],
   "source": [
    "import plotly.graph_objects as go\n",
    "\n",
    "# Merge the dataframes to get entry counts and overall counts\n",
    "merged_df = invoice_counts.merge(invoice_item_counts, on='Invoice', how='left', suffixes=('_overall', '_missing'))\n",
    "\n",
    "# Mark whether customer ID is missing\n",
    "merged_df['Customer_ID_Status'] = merged_df['Invoice'].apply(\n",
    "    lambda x: 'Missing' if x in missing_customer_invoices['Invoice'].values else 'Present'\n",
    ")\n",
    "\n",
    "# Sort by frequency and get the top 20 invoices\n",
    "top_20_invoices = merged_df.sort_values(by='count', ascending=False).head(20)\n",
    "\n",
    "# Create a bubble chart\n",
    "fig = go.Figure()\n",
    "size_scale_factor = 0.2  # You can adjust this factor to make the bubbles smaller or larger\n",
    "# Add the bubbles for the top 20 invoices\n",
    "fig.add_trace(go.Scatter(\n",
    "    x=top_20_invoices['Invoice'],  # Invoice IDs on x-axis\n",
    "    y=top_20_invoices['count'],  # Invoice frequency on y-axis\n",
    "    mode='markers',  # Bubble chart mode\n",
    "    marker=dict(\n",
    "        size=top_20_invoices['count']*size_scale_factor,  # Bubble size corresponds to invoice count\n",
    "        color=top_20_invoices['Customer_ID_Status'].map({'Missing': 'red', 'Present': 'blue'}),  # Color by Missing or Present status\n",
    "        opacity=0.6,\n",
    "        line=dict(width=2)\n",
    "    ),\n",
    "    text=top_20_invoices['Customer_ID_Status'],  # Tooltip text for each bubble\n",
    "    hovertemplate='%{text}<br>Invoice ID: %{x}<br>Count: %{y}<extra></extra>',  # Tooltip content\n",
    "))\n",
    "\n",
    "# Layout settings for the plot\n",
    "fig.update_layout(\n",
    "    title='Top 20 Invoices as Bubbles with Missing Customer IDs Highlighted',\n",
    "    xaxis_title='Invoice ID',\n",
    "    yaxis_title='Invoice Count',\n",
    "    template='plotly_dark',  # Set the theme\n",
    "    showlegend=False,  # Hide the legend\n",
    "    height= 700,\n",
    "    width = 900\n",
    ")\n",
    "\n",
    "fig.show()\n"
   ]
  },
  {
   "cell_type": "markdown",
   "metadata": {},
   "source": [
    "## Observations:\n",
    "### 15 of the top 20 invoice entries have missing customer IDs. This could mean different things"
   ]
  },
  {
   "cell_type": "code",
   "execution_count": 23,
   "metadata": {},
   "outputs": [
    {
     "data": {
      "text/plain": [
       "0   2009-12-11 16:02:00\n",
       "1   2009-12-01 17:43:00\n",
       "2   2009-12-03 12:30:00\n",
       "3   2009-12-03 09:41:00\n",
       "4   2009-12-02 12:42:00\n",
       "5   2009-12-07 09:24:00\n",
       "6   2009-12-03 12:09:00\n",
       "7   2009-12-02 13:23:00\n",
       "8   2009-12-03 18:28:00\n",
       "9   2009-12-09 14:29:00\n",
       "Name: InvoiceDate, dtype: datetime64[ns]"
      ]
     },
     "execution_count": 23,
     "metadata": {},
     "output_type": "execute_result"
    }
   ],
   "source": [
    "df['InvoiceDate'].head(10)"
   ]
  },
  {
   "cell_type": "code",
   "execution_count": 24,
   "metadata": {},
   "outputs": [],
   "source": [
    "df['InvoiceDate1'] = pd.to_datetime(df['InvoiceDate'], format='%d/%m/%Y %H:%M', errors='coerce')"
   ]
  },
  {
   "cell_type": "code",
   "execution_count": 25,
   "metadata": {},
   "outputs": [],
   "source": [
    "df = df.drop('InvoiceDate', axis=1)"
   ]
  },
  {
   "cell_type": "code",
   "execution_count": 26,
   "metadata": {},
   "outputs": [],
   "source": [
    "df.rename(columns={'InvoiceDate1': 'InvoiceDate'}, inplace=True)"
   ]
  },
  {
   "cell_type": "code",
   "execution_count": 27,
   "metadata": {},
   "outputs": [
    {
     "data": {
      "text/plain": [
       "Index(['Invoice', 'StockCode', 'Description', 'Quantity', 'Price',\n",
       "       'Customer ID', 'Country', 'Actual Description', 'InvoiceDate'],\n",
       "      dtype='object')"
      ]
     },
     "execution_count": 27,
     "metadata": {},
     "output_type": "execute_result"
    }
   ],
   "source": [
    "df.columns"
   ]
  },
  {
   "cell_type": "code",
   "execution_count": 28,
   "metadata": {},
   "outputs": [],
   "source": [
    "df['InvoiceDate_Date'] = df['InvoiceDate'].dt.date\n",
    "daily_invoice_counts = df.groupby('InvoiceDate_Date')['Invoice'].nunique().reset_index(name='UniqueInvoices')"
   ]
  },
  {
   "cell_type": "code",
   "execution_count": 29,
   "metadata": {},
   "outputs": [
    {
     "data": {
      "text/plain": [
       "1537"
      ]
     },
     "execution_count": 29,
     "metadata": {},
     "output_type": "execute_result"
    }
   ],
   "source": [
    "daily_invoice_counts['UniqueInvoices'].sum()"
   ]
  },
  {
   "cell_type": "code",
   "execution_count": 30,
   "metadata": {},
   "outputs": [
    {
     "data": {
      "text/plain": [
       "Invoice                  0\n",
       "StockCode                0\n",
       "Description             61\n",
       "Quantity                 0\n",
       "Price                    0\n",
       "Customer ID           8360\n",
       "Country                  0\n",
       "Actual Description      28\n",
       "InvoiceDate              0\n",
       "InvoiceDate_Date         0\n",
       "dtype: int64"
      ]
     },
     "execution_count": 30,
     "metadata": {},
     "output_type": "execute_result"
    }
   ],
   "source": [
    "df.isnull().sum()"
   ]
  },
  {
   "cell_type": "code",
   "execution_count": 31,
   "metadata": {},
   "outputs": [],
   "source": [
    "missing_customer_invoices = df[df['Customer ID'].isnull()]\n",
    "daily_missing_counts = missing_customer_invoices.groupby('InvoiceDate_Date')['Invoice'].nunique().reset_index(name='MissingInvoices')"
   ]
  },
  {
   "cell_type": "code",
   "execution_count": 32,
   "metadata": {},
   "outputs": [
    {
     "data": {
      "application/vnd.plotly.v1+json": {
       "config": {
        "plotlyServerURL": "https://plot.ly"
       },
       "data": [
        {
         "hovertemplate": "Invoice Type=UniqueInvoices<br>Date=%{x}<br>Count=%{y}<extra></extra>",
         "legendgroup": "UniqueInvoices",
         "line": {
          "color": "#636efa",
          "dash": "solid"
         },
         "marker": {
          "symbol": "circle"
         },
         "mode": "lines+markers",
         "name": "UniqueInvoices",
         "orientation": "v",
         "showlegend": true,
         "type": "scatter",
         "x": [
          "2009-12-01",
          "2009-12-02",
          "2009-12-03",
          "2009-12-04",
          "2009-12-05",
          "2009-12-06",
          "2009-12-07",
          "2009-12-08",
          "2009-12-09",
          "2009-12-10",
          "2009-12-11",
          "2009-12-13",
          "2009-12-14",
          "2009-12-15"
         ],
         "xaxis": "x",
         "y": [
          166,
          133,
          150,
          107,
          32,
          90,
          123,
          170,
          114,
          123,
          121,
          77,
          122,
          9
         ],
         "yaxis": "y"
        },
        {
         "hovertemplate": "Invoice Type=MissingInvoices<br>Date=%{x}<br>Count=%{y}<extra></extra>",
         "legendgroup": "MissingInvoices",
         "line": {
          "color": "#EF553B",
          "dash": "solid"
         },
         "marker": {
          "symbol": "circle"
         },
         "mode": "lines+markers",
         "name": "MissingInvoices",
         "orientation": "v",
         "showlegend": true,
         "type": "scatter",
         "x": [
          "2009-12-01",
          "2009-12-02",
          "2009-12-03",
          "2009-12-04",
          "2009-12-05",
          "2009-12-06",
          "2009-12-07",
          "2009-12-08",
          "2009-12-09",
          "2009-12-10",
          "2009-12-11",
          "2009-12-13",
          "2009-12-14",
          "2009-12-15"
         ],
         "xaxis": "x",
         "y": [
          29,
          13,
          13,
          14,
          2,
          2,
          15,
          12,
          27,
          8,
          8,
          2,
          22,
          0
         ],
         "yaxis": "y"
        }
       ],
       "layout": {
        "height": 600,
        "legend": {
         "title": {
          "text": "Invoice Type"
         },
         "tracegroupgap": 0
        },
        "template": {
         "data": {
          "bar": [
           {
            "error_x": {
             "color": "#2a3f5f"
            },
            "error_y": {
             "color": "#2a3f5f"
            },
            "marker": {
             "line": {
              "color": "#E5ECF6",
              "width": 0.5
             },
             "pattern": {
              "fillmode": "overlay",
              "size": 10,
              "solidity": 0.2
             }
            },
            "type": "bar"
           }
          ],
          "barpolar": [
           {
            "marker": {
             "line": {
              "color": "#E5ECF6",
              "width": 0.5
             },
             "pattern": {
              "fillmode": "overlay",
              "size": 10,
              "solidity": 0.2
             }
            },
            "type": "barpolar"
           }
          ],
          "carpet": [
           {
            "aaxis": {
             "endlinecolor": "#2a3f5f",
             "gridcolor": "white",
             "linecolor": "white",
             "minorgridcolor": "white",
             "startlinecolor": "#2a3f5f"
            },
            "baxis": {
             "endlinecolor": "#2a3f5f",
             "gridcolor": "white",
             "linecolor": "white",
             "minorgridcolor": "white",
             "startlinecolor": "#2a3f5f"
            },
            "type": "carpet"
           }
          ],
          "choropleth": [
           {
            "colorbar": {
             "outlinewidth": 0,
             "ticks": ""
            },
            "type": "choropleth"
           }
          ],
          "contour": [
           {
            "colorbar": {
             "outlinewidth": 0,
             "ticks": ""
            },
            "colorscale": [
             [
              0,
              "#0d0887"
             ],
             [
              0.1111111111111111,
              "#46039f"
             ],
             [
              0.2222222222222222,
              "#7201a8"
             ],
             [
              0.3333333333333333,
              "#9c179e"
             ],
             [
              0.4444444444444444,
              "#bd3786"
             ],
             [
              0.5555555555555556,
              "#d8576b"
             ],
             [
              0.6666666666666666,
              "#ed7953"
             ],
             [
              0.7777777777777778,
              "#fb9f3a"
             ],
             [
              0.8888888888888888,
              "#fdca26"
             ],
             [
              1,
              "#f0f921"
             ]
            ],
            "type": "contour"
           }
          ],
          "contourcarpet": [
           {
            "colorbar": {
             "outlinewidth": 0,
             "ticks": ""
            },
            "type": "contourcarpet"
           }
          ],
          "heatmap": [
           {
            "colorbar": {
             "outlinewidth": 0,
             "ticks": ""
            },
            "colorscale": [
             [
              0,
              "#0d0887"
             ],
             [
              0.1111111111111111,
              "#46039f"
             ],
             [
              0.2222222222222222,
              "#7201a8"
             ],
             [
              0.3333333333333333,
              "#9c179e"
             ],
             [
              0.4444444444444444,
              "#bd3786"
             ],
             [
              0.5555555555555556,
              "#d8576b"
             ],
             [
              0.6666666666666666,
              "#ed7953"
             ],
             [
              0.7777777777777778,
              "#fb9f3a"
             ],
             [
              0.8888888888888888,
              "#fdca26"
             ],
             [
              1,
              "#f0f921"
             ]
            ],
            "type": "heatmap"
           }
          ],
          "heatmapgl": [
           {
            "colorbar": {
             "outlinewidth": 0,
             "ticks": ""
            },
            "colorscale": [
             [
              0,
              "#0d0887"
             ],
             [
              0.1111111111111111,
              "#46039f"
             ],
             [
              0.2222222222222222,
              "#7201a8"
             ],
             [
              0.3333333333333333,
              "#9c179e"
             ],
             [
              0.4444444444444444,
              "#bd3786"
             ],
             [
              0.5555555555555556,
              "#d8576b"
             ],
             [
              0.6666666666666666,
              "#ed7953"
             ],
             [
              0.7777777777777778,
              "#fb9f3a"
             ],
             [
              0.8888888888888888,
              "#fdca26"
             ],
             [
              1,
              "#f0f921"
             ]
            ],
            "type": "heatmapgl"
           }
          ],
          "histogram": [
           {
            "marker": {
             "pattern": {
              "fillmode": "overlay",
              "size": 10,
              "solidity": 0.2
             }
            },
            "type": "histogram"
           }
          ],
          "histogram2d": [
           {
            "colorbar": {
             "outlinewidth": 0,
             "ticks": ""
            },
            "colorscale": [
             [
              0,
              "#0d0887"
             ],
             [
              0.1111111111111111,
              "#46039f"
             ],
             [
              0.2222222222222222,
              "#7201a8"
             ],
             [
              0.3333333333333333,
              "#9c179e"
             ],
             [
              0.4444444444444444,
              "#bd3786"
             ],
             [
              0.5555555555555556,
              "#d8576b"
             ],
             [
              0.6666666666666666,
              "#ed7953"
             ],
             [
              0.7777777777777778,
              "#fb9f3a"
             ],
             [
              0.8888888888888888,
              "#fdca26"
             ],
             [
              1,
              "#f0f921"
             ]
            ],
            "type": "histogram2d"
           }
          ],
          "histogram2dcontour": [
           {
            "colorbar": {
             "outlinewidth": 0,
             "ticks": ""
            },
            "colorscale": [
             [
              0,
              "#0d0887"
             ],
             [
              0.1111111111111111,
              "#46039f"
             ],
             [
              0.2222222222222222,
              "#7201a8"
             ],
             [
              0.3333333333333333,
              "#9c179e"
             ],
             [
              0.4444444444444444,
              "#bd3786"
             ],
             [
              0.5555555555555556,
              "#d8576b"
             ],
             [
              0.6666666666666666,
              "#ed7953"
             ],
             [
              0.7777777777777778,
              "#fb9f3a"
             ],
             [
              0.8888888888888888,
              "#fdca26"
             ],
             [
              1,
              "#f0f921"
             ]
            ],
            "type": "histogram2dcontour"
           }
          ],
          "mesh3d": [
           {
            "colorbar": {
             "outlinewidth": 0,
             "ticks": ""
            },
            "type": "mesh3d"
           }
          ],
          "parcoords": [
           {
            "line": {
             "colorbar": {
              "outlinewidth": 0,
              "ticks": ""
             }
            },
            "type": "parcoords"
           }
          ],
          "pie": [
           {
            "automargin": true,
            "type": "pie"
           }
          ],
          "scatter": [
           {
            "fillpattern": {
             "fillmode": "overlay",
             "size": 10,
             "solidity": 0.2
            },
            "type": "scatter"
           }
          ],
          "scatter3d": [
           {
            "line": {
             "colorbar": {
              "outlinewidth": 0,
              "ticks": ""
             }
            },
            "marker": {
             "colorbar": {
              "outlinewidth": 0,
              "ticks": ""
             }
            },
            "type": "scatter3d"
           }
          ],
          "scattercarpet": [
           {
            "marker": {
             "colorbar": {
              "outlinewidth": 0,
              "ticks": ""
             }
            },
            "type": "scattercarpet"
           }
          ],
          "scattergeo": [
           {
            "marker": {
             "colorbar": {
              "outlinewidth": 0,
              "ticks": ""
             }
            },
            "type": "scattergeo"
           }
          ],
          "scattergl": [
           {
            "marker": {
             "colorbar": {
              "outlinewidth": 0,
              "ticks": ""
             }
            },
            "type": "scattergl"
           }
          ],
          "scattermapbox": [
           {
            "marker": {
             "colorbar": {
              "outlinewidth": 0,
              "ticks": ""
             }
            },
            "type": "scattermapbox"
           }
          ],
          "scatterpolar": [
           {
            "marker": {
             "colorbar": {
              "outlinewidth": 0,
              "ticks": ""
             }
            },
            "type": "scatterpolar"
           }
          ],
          "scatterpolargl": [
           {
            "marker": {
             "colorbar": {
              "outlinewidth": 0,
              "ticks": ""
             }
            },
            "type": "scatterpolargl"
           }
          ],
          "scatterternary": [
           {
            "marker": {
             "colorbar": {
              "outlinewidth": 0,
              "ticks": ""
             }
            },
            "type": "scatterternary"
           }
          ],
          "surface": [
           {
            "colorbar": {
             "outlinewidth": 0,
             "ticks": ""
            },
            "colorscale": [
             [
              0,
              "#0d0887"
             ],
             [
              0.1111111111111111,
              "#46039f"
             ],
             [
              0.2222222222222222,
              "#7201a8"
             ],
             [
              0.3333333333333333,
              "#9c179e"
             ],
             [
              0.4444444444444444,
              "#bd3786"
             ],
             [
              0.5555555555555556,
              "#d8576b"
             ],
             [
              0.6666666666666666,
              "#ed7953"
             ],
             [
              0.7777777777777778,
              "#fb9f3a"
             ],
             [
              0.8888888888888888,
              "#fdca26"
             ],
             [
              1,
              "#f0f921"
             ]
            ],
            "type": "surface"
           }
          ],
          "table": [
           {
            "cells": {
             "fill": {
              "color": "#EBF0F8"
             },
             "line": {
              "color": "white"
             }
            },
            "header": {
             "fill": {
              "color": "#C8D4E3"
             },
             "line": {
              "color": "white"
             }
            },
            "type": "table"
           }
          ]
         },
         "layout": {
          "annotationdefaults": {
           "arrowcolor": "#2a3f5f",
           "arrowhead": 0,
           "arrowwidth": 1
          },
          "autotypenumbers": "strict",
          "coloraxis": {
           "colorbar": {
            "outlinewidth": 0,
            "ticks": ""
           }
          },
          "colorscale": {
           "diverging": [
            [
             0,
             "#8e0152"
            ],
            [
             0.1,
             "#c51b7d"
            ],
            [
             0.2,
             "#de77ae"
            ],
            [
             0.3,
             "#f1b6da"
            ],
            [
             0.4,
             "#fde0ef"
            ],
            [
             0.5,
             "#f7f7f7"
            ],
            [
             0.6,
             "#e6f5d0"
            ],
            [
             0.7,
             "#b8e186"
            ],
            [
             0.8,
             "#7fbc41"
            ],
            [
             0.9,
             "#4d9221"
            ],
            [
             1,
             "#276419"
            ]
           ],
           "sequential": [
            [
             0,
             "#0d0887"
            ],
            [
             0.1111111111111111,
             "#46039f"
            ],
            [
             0.2222222222222222,
             "#7201a8"
            ],
            [
             0.3333333333333333,
             "#9c179e"
            ],
            [
             0.4444444444444444,
             "#bd3786"
            ],
            [
             0.5555555555555556,
             "#d8576b"
            ],
            [
             0.6666666666666666,
             "#ed7953"
            ],
            [
             0.7777777777777778,
             "#fb9f3a"
            ],
            [
             0.8888888888888888,
             "#fdca26"
            ],
            [
             1,
             "#f0f921"
            ]
           ],
           "sequentialminus": [
            [
             0,
             "#0d0887"
            ],
            [
             0.1111111111111111,
             "#46039f"
            ],
            [
             0.2222222222222222,
             "#7201a8"
            ],
            [
             0.3333333333333333,
             "#9c179e"
            ],
            [
             0.4444444444444444,
             "#bd3786"
            ],
            [
             0.5555555555555556,
             "#d8576b"
            ],
            [
             0.6666666666666666,
             "#ed7953"
            ],
            [
             0.7777777777777778,
             "#fb9f3a"
            ],
            [
             0.8888888888888888,
             "#fdca26"
            ],
            [
             1,
             "#f0f921"
            ]
           ]
          },
          "colorway": [
           "#636efa",
           "#EF553B",
           "#00cc96",
           "#ab63fa",
           "#FFA15A",
           "#19d3f3",
           "#FF6692",
           "#B6E880",
           "#FF97FF",
           "#FECB52"
          ],
          "font": {
           "color": "#2a3f5f"
          },
          "geo": {
           "bgcolor": "white",
           "lakecolor": "white",
           "landcolor": "#E5ECF6",
           "showlakes": true,
           "showland": true,
           "subunitcolor": "white"
          },
          "hoverlabel": {
           "align": "left"
          },
          "hovermode": "closest",
          "mapbox": {
           "style": "light"
          },
          "paper_bgcolor": "white",
          "plot_bgcolor": "#E5ECF6",
          "polar": {
           "angularaxis": {
            "gridcolor": "white",
            "linecolor": "white",
            "ticks": ""
           },
           "bgcolor": "#E5ECF6",
           "radialaxis": {
            "gridcolor": "white",
            "linecolor": "white",
            "ticks": ""
           }
          },
          "scene": {
           "xaxis": {
            "backgroundcolor": "#E5ECF6",
            "gridcolor": "white",
            "gridwidth": 2,
            "linecolor": "white",
            "showbackground": true,
            "ticks": "",
            "zerolinecolor": "white"
           },
           "yaxis": {
            "backgroundcolor": "#E5ECF6",
            "gridcolor": "white",
            "gridwidth": 2,
            "linecolor": "white",
            "showbackground": true,
            "ticks": "",
            "zerolinecolor": "white"
           },
           "zaxis": {
            "backgroundcolor": "#E5ECF6",
            "gridcolor": "white",
            "gridwidth": 2,
            "linecolor": "white",
            "showbackground": true,
            "ticks": "",
            "zerolinecolor": "white"
           }
          },
          "shapedefaults": {
           "line": {
            "color": "#2a3f5f"
           }
          },
          "ternary": {
           "aaxis": {
            "gridcolor": "white",
            "linecolor": "white",
            "ticks": ""
           },
           "baxis": {
            "gridcolor": "white",
            "linecolor": "white",
            "ticks": ""
           },
           "bgcolor": "#E5ECF6",
           "caxis": {
            "gridcolor": "white",
            "linecolor": "white",
            "ticks": ""
           }
          },
          "title": {
           "x": 0.05
          },
          "xaxis": {
           "automargin": true,
           "gridcolor": "white",
           "linecolor": "white",
           "ticks": "",
           "title": {
            "standoff": 15
           },
           "zerolinecolor": "white",
           "zerolinewidth": 2
          },
          "yaxis": {
           "automargin": true,
           "gridcolor": "white",
           "linecolor": "white",
           "ticks": "",
           "title": {
            "standoff": 15
           },
           "zerolinecolor": "white",
           "zerolinewidth": 2
          }
         }
        },
        "title": {
         "text": "Unique Invoices and Missing Customer IDs per Day"
        },
        "xaxis": {
         "anchor": "y",
         "domain": [
          0,
          1
         ],
         "tickangle": 45,
         "title": {
          "text": "Date"
         }
        },
        "yaxis": {
         "anchor": "x",
         "domain": [
          0,
          1
         ],
         "title": {
          "text": "Count"
         }
        }
       }
      }
     },
     "metadata": {},
     "output_type": "display_data"
    }
   ],
   "source": [
    "daily_counts = pd.merge(daily_invoice_counts, daily_missing_counts, on='InvoiceDate_Date', how='left').fillna(0)\n",
    "\n",
    "# Plot the data with Plotly\n",
    "fig = px.line(\n",
    "    daily_counts,\n",
    "    x='InvoiceDate_Date',\n",
    "    y=['UniqueInvoices', 'MissingInvoices'],\n",
    "    title=\"Unique Invoices and Missing Customer IDs per Day\",\n",
    "    labels={'InvoiceDate_Date': 'Date', 'value': 'Count', 'variable': 'Invoice Type'},\n",
    "    markers=True,  # Add markers to make points more visible\n",
    "    height=600\n",
    ")\n",
    "\n",
    "# Show the plot\n",
    "fig.update_layout(xaxis_tickangle=45)  # Rotate x-axis labels for better readability\n",
    "fig.show()"
   ]
  },
  {
   "cell_type": "markdown",
   "metadata": {},
   "source": [
    "### As these missing customer IDs hold 25% of the data and involve large invoices, it is worth leaving them as part of analysis and fininding new ways of filling the null values:\n",
    "\n",
    "#### Finding new placeholders for each unique invoice"
   ]
  },
  {
   "cell_type": "code",
   "execution_count": 33,
   "metadata": {},
   "outputs": [
    {
     "name": "stdout",
     "output_type": "stream",
     "text": [
      "  Invoice StockCode   Description  Quantity  Price Customer ID  \\\n",
      "0  491639     20668           NaN     -1395    0.0      M12345   \n",
      "1  489660     35956          lost     -1043    0.0      M12346   \n",
      "2  490016     21982           NaN     -1012    0.0      M12347   \n",
      "3  489899   79323GR  sold as gold      -954    0.0      M12348   \n",
      "4  489806     18010           NaN      -770    0.0      M12349   \n",
      "\n",
      "          Country                Actual Description         InvoiceDate  \\\n",
      "0  United Kingdom   DISCO BALL CHRISTMAS DECORATION 2009-12-11 16:02:00   \n",
      "1  United Kingdom                              lost 2009-12-01 17:43:00   \n",
      "2  United Kingdom                               NaN 2009-12-03 12:30:00   \n",
      "3  United Kingdom               GREEN CHERRY LIGHTS 2009-12-03 09:41:00   \n",
      "4  United Kingdom  ASSORTED FRAGRANCE BATH CONFETTI 2009-12-02 12:42:00   \n",
      "\n",
      "  InvoiceDate_Date  \n",
      "0       2009-12-11  \n",
      "1       2009-12-01  \n",
      "2       2009-12-03  \n",
      "3       2009-12-03  \n",
      "4       2009-12-02  \n"
     ]
    }
   ],
   "source": [
    "# Step 1: Identify invoices with missing customer IDs\n",
    "missing_customer_invoices = df[df['Customer ID'].isnull()]\n",
    "\n",
    "# Step 2: Create a unique identifier for each invoice with missing Customer ID\n",
    "# We generate sequential placeholders starting from M12345\n",
    "# Use the invoice number as a key to ensure each unique invoice gets the same placeholder\n",
    "\n",
    "# Create a dictionary that maps unique invoices to a placeholder ID\n",
    "unique_invoices = missing_customer_invoices['Invoice'].unique()\n",
    "placeholder_dict = {invoice: f\"M{12345 + i}\" for i, invoice in enumerate(unique_invoices)}\n",
    "\n",
    "# Step 3: Replace missing customer IDs with the placeholders\n",
    "df['Customer ID'] = df.apply(\n",
    "    lambda row: placeholder_dict.get(row['Invoice'], row['Customer ID']) if pd.isnull(row['Customer ID']) else row['Customer ID'],\n",
    "    axis=1\n",
    ")\n",
    "\n",
    "# Check the result to verify\n",
    "print(df.head())\n"
   ]
  },
  {
   "cell_type": "code",
   "execution_count": 34,
   "metadata": {},
   "outputs": [
    {
     "data": {
      "text/html": [
       "<div>\n",
       "<style scoped>\n",
       "    .dataframe tbody tr th:only-of-type {\n",
       "        vertical-align: middle;\n",
       "    }\n",
       "\n",
       "    .dataframe tbody tr th {\n",
       "        vertical-align: top;\n",
       "    }\n",
       "\n",
       "    .dataframe thead th {\n",
       "        text-align: right;\n",
       "    }\n",
       "</style>\n",
       "<table border=\"1\" class=\"dataframe\">\n",
       "  <thead>\n",
       "    <tr style=\"text-align: right;\">\n",
       "      <th></th>\n",
       "      <th>Invoice</th>\n",
       "      <th>StockCode</th>\n",
       "      <th>Description</th>\n",
       "      <th>Quantity</th>\n",
       "      <th>Price</th>\n",
       "      <th>Customer ID</th>\n",
       "      <th>Country</th>\n",
       "      <th>Actual Description</th>\n",
       "      <th>InvoiceDate</th>\n",
       "      <th>InvoiceDate_Date</th>\n",
       "    </tr>\n",
       "  </thead>\n",
       "  <tbody>\n",
       "    <tr>\n",
       "      <th>0</th>\n",
       "      <td>491639</td>\n",
       "      <td>20668</td>\n",
       "      <td>NaN</td>\n",
       "      <td>-1395</td>\n",
       "      <td>0.0</td>\n",
       "      <td>M12345</td>\n",
       "      <td>United Kingdom</td>\n",
       "      <td>DISCO BALL CHRISTMAS DECORATION</td>\n",
       "      <td>2009-12-11 16:02:00</td>\n",
       "      <td>2009-12-11</td>\n",
       "    </tr>\n",
       "    <tr>\n",
       "      <th>1</th>\n",
       "      <td>489660</td>\n",
       "      <td>35956</td>\n",
       "      <td>lost</td>\n",
       "      <td>-1043</td>\n",
       "      <td>0.0</td>\n",
       "      <td>M12346</td>\n",
       "      <td>United Kingdom</td>\n",
       "      <td>lost</td>\n",
       "      <td>2009-12-01 17:43:00</td>\n",
       "      <td>2009-12-01</td>\n",
       "    </tr>\n",
       "    <tr>\n",
       "      <th>2</th>\n",
       "      <td>490016</td>\n",
       "      <td>21982</td>\n",
       "      <td>NaN</td>\n",
       "      <td>-1012</td>\n",
       "      <td>0.0</td>\n",
       "      <td>M12347</td>\n",
       "      <td>United Kingdom</td>\n",
       "      <td>NaN</td>\n",
       "      <td>2009-12-03 12:30:00</td>\n",
       "      <td>2009-12-03</td>\n",
       "    </tr>\n",
       "    <tr>\n",
       "      <th>3</th>\n",
       "      <td>489899</td>\n",
       "      <td>79323GR</td>\n",
       "      <td>sold as gold</td>\n",
       "      <td>-954</td>\n",
       "      <td>0.0</td>\n",
       "      <td>M12348</td>\n",
       "      <td>United Kingdom</td>\n",
       "      <td>GREEN CHERRY LIGHTS</td>\n",
       "      <td>2009-12-03 09:41:00</td>\n",
       "      <td>2009-12-03</td>\n",
       "    </tr>\n",
       "    <tr>\n",
       "      <th>4</th>\n",
       "      <td>489806</td>\n",
       "      <td>18010</td>\n",
       "      <td>NaN</td>\n",
       "      <td>-770</td>\n",
       "      <td>0.0</td>\n",
       "      <td>M12349</td>\n",
       "      <td>United Kingdom</td>\n",
       "      <td>ASSORTED FRAGRANCE BATH CONFETTI</td>\n",
       "      <td>2009-12-02 12:42:00</td>\n",
       "      <td>2009-12-02</td>\n",
       "    </tr>\n",
       "  </tbody>\n",
       "</table>\n",
       "</div>"
      ],
      "text/plain": [
       "  Invoice StockCode   Description  Quantity  Price Customer ID  \\\n",
       "0  491639     20668           NaN     -1395    0.0      M12345   \n",
       "1  489660     35956          lost     -1043    0.0      M12346   \n",
       "2  490016     21982           NaN     -1012    0.0      M12347   \n",
       "3  489899   79323GR  sold as gold      -954    0.0      M12348   \n",
       "4  489806     18010           NaN      -770    0.0      M12349   \n",
       "\n",
       "          Country                Actual Description         InvoiceDate  \\\n",
       "0  United Kingdom   DISCO BALL CHRISTMAS DECORATION 2009-12-11 16:02:00   \n",
       "1  United Kingdom                              lost 2009-12-01 17:43:00   \n",
       "2  United Kingdom                               NaN 2009-12-03 12:30:00   \n",
       "3  United Kingdom               GREEN CHERRY LIGHTS 2009-12-03 09:41:00   \n",
       "4  United Kingdom  ASSORTED FRAGRANCE BATH CONFETTI 2009-12-02 12:42:00   \n",
       "\n",
       "  InvoiceDate_Date  \n",
       "0       2009-12-11  \n",
       "1       2009-12-01  \n",
       "2       2009-12-03  \n",
       "3       2009-12-03  \n",
       "4       2009-12-02  "
      ]
     },
     "execution_count": 34,
     "metadata": {},
     "output_type": "execute_result"
    }
   ],
   "source": [
    "\n",
    "# Step 1: Identify invoices with missing customer IDs\n",
    "missing_customer_invoices = df[df['Customer ID'].isnull()]\n",
    "\n",
    "# Step 2: Create a unique identifier for each invoice with missing Customer ID\n",
    "# We generate sequential placeholders starting from M12345\n",
    "# Use the invoice number as a key to ensure each unique invoice gets the same placeholder\n",
    "\n",
    "# Create a dictionary that maps unique invoices to a placeholder ID\n",
    "unique_invoices = missing_customer_invoices['Invoice'].unique()\n",
    "placeholder_dict = {invoice: f\"M{12345 + i}\" for i, invoice in enumerate(unique_invoices)}\n",
    "\n",
    "# Step 3: Replace missing customer IDs with the placeholders\n",
    "df['Customer ID'] = df.apply(lambda row: placeholder_dict.get(row['Invoice'], row['Customer ID']), axis=1)\n",
    "\n",
    "# Check the result to verify\n",
    "df.head()\n"
   ]
  },
  {
   "cell_type": "code",
   "execution_count": 32,
   "metadata": {},
   "outputs": [
    {
     "data": {
      "text/plain": [
       "Invoice                0\n",
       "StockCode              0\n",
       "Description           61\n",
       "Quantity               0\n",
       "Price                  0\n",
       "Customer ID            0\n",
       "Country                0\n",
       "Actual Description    28\n",
       "InvoiceDate            0\n",
       "InvoiceDate_Date       0\n",
       "dtype: int64"
      ]
     },
     "execution_count": 32,
     "metadata": {},
     "output_type": "execute_result"
    }
   ],
   "source": [
    "df.isnull().sum()"
   ]
  },
  {
   "cell_type": "code",
   "execution_count": 35,
   "metadata": {},
   "outputs": [
    {
     "data": {
      "text/plain": [
       "8360"
      ]
     },
     "execution_count": 35,
     "metadata": {},
     "output_type": "execute_result"
    }
   ],
   "source": [
    "a = df[df['Customer ID'].notna() & df['Customer ID'].str.startswith('M1')]\n",
    "len(a)"
   ]
  },
  {
   "cell_type": "code",
   "execution_count": 36,
   "metadata": {},
   "outputs": [
    {
     "data": {
      "text/plain": [
       "pandas.core.series.Series"
      ]
     },
     "execution_count": 36,
     "metadata": {},
     "output_type": "execute_result"
    }
   ],
   "source": [
    "type(a['Invoice'])"
   ]
  },
  {
   "cell_type": "code",
   "execution_count": 37,
   "metadata": {},
   "outputs": [
    {
     "data": {
      "text/html": [
       "<div>\n",
       "<style scoped>\n",
       "    .dataframe tbody tr th:only-of-type {\n",
       "        vertical-align: middle;\n",
       "    }\n",
       "\n",
       "    .dataframe tbody tr th {\n",
       "        vertical-align: top;\n",
       "    }\n",
       "\n",
       "    .dataframe thead th {\n",
       "        text-align: right;\n",
       "    }\n",
       "</style>\n",
       "<table border=\"1\" class=\"dataframe\">\n",
       "  <thead>\n",
       "    <tr style=\"text-align: right;\">\n",
       "      <th></th>\n",
       "      <th>Invoice</th>\n",
       "      <th>StockCode</th>\n",
       "      <th>Description</th>\n",
       "      <th>Quantity</th>\n",
       "      <th>Price</th>\n",
       "      <th>Customer ID</th>\n",
       "      <th>Country</th>\n",
       "      <th>Actual Description</th>\n",
       "      <th>InvoiceDate</th>\n",
       "      <th>InvoiceDate_Date</th>\n",
       "    </tr>\n",
       "  </thead>\n",
       "  <tbody>\n",
       "    <tr>\n",
       "      <th>12364</th>\n",
       "      <td>489517</td>\n",
       "      <td>21491</td>\n",
       "      <td>SET OF THREE VINTAGE GIFT WRAPS</td>\n",
       "      <td>1</td>\n",
       "      <td>1.95</td>\n",
       "      <td>16329.0</td>\n",
       "      <td>United Kingdom</td>\n",
       "      <td>SET OF THREE VINTAGE GIFT WRAPS</td>\n",
       "      <td>2009-12-01 11:34:00</td>\n",
       "      <td>2009-12-01</td>\n",
       "    </tr>\n",
       "    <tr>\n",
       "      <th>12365</th>\n",
       "      <td>489517</td>\n",
       "      <td>21491</td>\n",
       "      <td>SET OF THREE VINTAGE GIFT WRAPS</td>\n",
       "      <td>1</td>\n",
       "      <td>1.95</td>\n",
       "      <td>16329.0</td>\n",
       "      <td>United Kingdom</td>\n",
       "      <td>SET OF THREE VINTAGE GIFT WRAPS</td>\n",
       "      <td>2009-12-01 11:34:00</td>\n",
       "      <td>2009-12-01</td>\n",
       "    </tr>\n",
       "    <tr>\n",
       "      <th>20976</th>\n",
       "      <td>489517</td>\n",
       "      <td>21821</td>\n",
       "      <td>GLITTER STAR GARLAND WITH BELLS</td>\n",
       "      <td>1</td>\n",
       "      <td>3.75</td>\n",
       "      <td>16329.0</td>\n",
       "      <td>United Kingdom</td>\n",
       "      <td>GLITTER STAR GARLAND WITH BELLS</td>\n",
       "      <td>2009-12-01 11:34:00</td>\n",
       "      <td>2009-12-01</td>\n",
       "    </tr>\n",
       "    <tr>\n",
       "      <th>20977</th>\n",
       "      <td>489517</td>\n",
       "      <td>21821</td>\n",
       "      <td>GLITTER STAR GARLAND WITH BELLS</td>\n",
       "      <td>1</td>\n",
       "      <td>3.75</td>\n",
       "      <td>16329.0</td>\n",
       "      <td>United Kingdom</td>\n",
       "      <td>GLITTER STAR GARLAND WITH BELLS</td>\n",
       "      <td>2009-12-01 11:34:00</td>\n",
       "      <td>2009-12-01</td>\n",
       "    </tr>\n",
       "    <tr>\n",
       "      <th>21208</th>\n",
       "      <td>489517</td>\n",
       "      <td>21912</td>\n",
       "      <td>VINTAGE SNAKES &amp; LADDERS</td>\n",
       "      <td>1</td>\n",
       "      <td>3.75</td>\n",
       "      <td>16329.0</td>\n",
       "      <td>United Kingdom</td>\n",
       "      <td>VINTAGE SNAKES &amp; LADDERS</td>\n",
       "      <td>2009-12-01 11:34:00</td>\n",
       "      <td>2009-12-01</td>\n",
       "    </tr>\n",
       "    <tr>\n",
       "      <th>21209</th>\n",
       "      <td>489517</td>\n",
       "      <td>21912</td>\n",
       "      <td>VINTAGE SNAKES &amp; LADDERS</td>\n",
       "      <td>1</td>\n",
       "      <td>3.75</td>\n",
       "      <td>16329.0</td>\n",
       "      <td>United Kingdom</td>\n",
       "      <td>VINTAGE SNAKES &amp; LADDERS</td>\n",
       "      <td>2009-12-01 11:34:00</td>\n",
       "      <td>2009-12-01</td>\n",
       "    </tr>\n",
       "    <tr>\n",
       "      <th>21210</th>\n",
       "      <td>489517</td>\n",
       "      <td>21912</td>\n",
       "      <td>VINTAGE SNAKES &amp; LADDERS</td>\n",
       "      <td>1</td>\n",
       "      <td>3.75</td>\n",
       "      <td>16329.0</td>\n",
       "      <td>United Kingdom</td>\n",
       "      <td>VINTAGE SNAKES &amp; LADDERS</td>\n",
       "      <td>2009-12-01 11:34:00</td>\n",
       "      <td>2009-12-01</td>\n",
       "    </tr>\n",
       "    <tr>\n",
       "      <th>21202</th>\n",
       "      <td>489517</td>\n",
       "      <td>21913</td>\n",
       "      <td>VINTAGE SEASIDE JIGSAW PUZZLES</td>\n",
       "      <td>1</td>\n",
       "      <td>3.75</td>\n",
       "      <td>16329.0</td>\n",
       "      <td>United Kingdom</td>\n",
       "      <td>VINTAGE SEASIDE JIGSAW PUZZLES</td>\n",
       "      <td>2009-12-01 11:34:00</td>\n",
       "      <td>2009-12-01</td>\n",
       "    </tr>\n",
       "    <tr>\n",
       "      <th>21203</th>\n",
       "      <td>489517</td>\n",
       "      <td>21913</td>\n",
       "      <td>VINTAGE SEASIDE JIGSAW PUZZLES</td>\n",
       "      <td>1</td>\n",
       "      <td>3.75</td>\n",
       "      <td>16329.0</td>\n",
       "      <td>United Kingdom</td>\n",
       "      <td>VINTAGE SEASIDE JIGSAW PUZZLES</td>\n",
       "      <td>2009-12-01 11:34:00</td>\n",
       "      <td>2009-12-01</td>\n",
       "    </tr>\n",
       "    <tr>\n",
       "      <th>3623</th>\n",
       "      <td>489517</td>\n",
       "      <td>22130</td>\n",
       "      <td>PARTY CONE CHRISTMAS DECORATION</td>\n",
       "      <td>6</td>\n",
       "      <td>0.85</td>\n",
       "      <td>16329.0</td>\n",
       "      <td>United Kingdom</td>\n",
       "      <td>PARTY CONE CHRISTMAS DECORATION</td>\n",
       "      <td>2009-12-01 11:34:00</td>\n",
       "      <td>2009-12-01</td>\n",
       "    </tr>\n",
       "    <tr>\n",
       "      <th>3624</th>\n",
       "      <td>489517</td>\n",
       "      <td>22130</td>\n",
       "      <td>PARTY CONE CHRISTMAS DECORATION</td>\n",
       "      <td>6</td>\n",
       "      <td>0.85</td>\n",
       "      <td>16329.0</td>\n",
       "      <td>United Kingdom</td>\n",
       "      <td>PARTY CONE CHRISTMAS DECORATION</td>\n",
       "      <td>2009-12-01 11:34:00</td>\n",
       "      <td>2009-12-01</td>\n",
       "    </tr>\n",
       "    <tr>\n",
       "      <th>2411</th>\n",
       "      <td>489517</td>\n",
       "      <td>22319</td>\n",
       "      <td>HAIRCLIPS FORTIES FABRIC ASSORTED</td>\n",
       "      <td>12</td>\n",
       "      <td>0.65</td>\n",
       "      <td>16329.0</td>\n",
       "      <td>United Kingdom</td>\n",
       "      <td>HAIRCLIPS FORTIES FABRIC ASSORTED</td>\n",
       "      <td>2009-12-01 11:34:00</td>\n",
       "      <td>2009-12-01</td>\n",
       "    </tr>\n",
       "    <tr>\n",
       "      <th>2412</th>\n",
       "      <td>489517</td>\n",
       "      <td>22319</td>\n",
       "      <td>HAIRCLIPS FORTIES FABRIC ASSORTED</td>\n",
       "      <td>12</td>\n",
       "      <td>0.65</td>\n",
       "      <td>16329.0</td>\n",
       "      <td>United Kingdom</td>\n",
       "      <td>HAIRCLIPS FORTIES FABRIC ASSORTED</td>\n",
       "      <td>2009-12-01 11:34:00</td>\n",
       "      <td>2009-12-01</td>\n",
       "    </tr>\n",
       "    <tr>\n",
       "      <th>14814</th>\n",
       "      <td>489517</td>\n",
       "      <td>84951A</td>\n",
       "      <td>S/4 PISTACHIO LOVEBIRD COASTERS</td>\n",
       "      <td>1</td>\n",
       "      <td>2.55</td>\n",
       "      <td>16329.0</td>\n",
       "      <td>United Kingdom</td>\n",
       "      <td>S/4 PISTACHIO LOVEBIRD COASTERS</td>\n",
       "      <td>2009-12-01 11:34:00</td>\n",
       "      <td>2009-12-01</td>\n",
       "    </tr>\n",
       "    <tr>\n",
       "      <th>14815</th>\n",
       "      <td>489517</td>\n",
       "      <td>84951A</td>\n",
       "      <td>S/4 PISTACHIO LOVEBIRD COASTERS</td>\n",
       "      <td>1</td>\n",
       "      <td>2.55</td>\n",
       "      <td>16329.0</td>\n",
       "      <td>United Kingdom</td>\n",
       "      <td>S/4 PISTACHIO LOVEBIRD COASTERS</td>\n",
       "      <td>2009-12-01 11:34:00</td>\n",
       "      <td>2009-12-01</td>\n",
       "    </tr>\n",
       "    <tr>\n",
       "      <th>1090</th>\n",
       "      <td>489529</td>\n",
       "      <td>22028</td>\n",
       "      <td>PENNY FARTHING BIRTHDAY CARD</td>\n",
       "      <td>12</td>\n",
       "      <td>0.42</td>\n",
       "      <td>17984.0</td>\n",
       "      <td>United Kingdom</td>\n",
       "      <td>PENNY FARTHING BIRTHDAY CARD</td>\n",
       "      <td>2009-12-01 11:51:00</td>\n",
       "      <td>2009-12-01</td>\n",
       "    </tr>\n",
       "    <tr>\n",
       "      <th>1091</th>\n",
       "      <td>489529</td>\n",
       "      <td>22028</td>\n",
       "      <td>PENNY FARTHING BIRTHDAY CARD</td>\n",
       "      <td>12</td>\n",
       "      <td>0.42</td>\n",
       "      <td>17984.0</td>\n",
       "      <td>United Kingdom</td>\n",
       "      <td>PENNY FARTHING BIRTHDAY CARD</td>\n",
       "      <td>2009-12-01 11:51:00</td>\n",
       "      <td>2009-12-01</td>\n",
       "    </tr>\n",
       "    <tr>\n",
       "      <th>1002</th>\n",
       "      <td>489529</td>\n",
       "      <td>22036</td>\n",
       "      <td>DINOSAUR BIRTHDAY CARD</td>\n",
       "      <td>12</td>\n",
       "      <td>0.42</td>\n",
       "      <td>17984.0</td>\n",
       "      <td>United Kingdom</td>\n",
       "      <td>DINOSAUR BIRTHDAY CARD</td>\n",
       "      <td>2009-12-01 11:51:00</td>\n",
       "      <td>2009-12-01</td>\n",
       "    </tr>\n",
       "    <tr>\n",
       "      <th>1003</th>\n",
       "      <td>489529</td>\n",
       "      <td>22036</td>\n",
       "      <td>DINOSAUR BIRTHDAY CARD</td>\n",
       "      <td>12</td>\n",
       "      <td>0.42</td>\n",
       "      <td>17984.0</td>\n",
       "      <td>United Kingdom</td>\n",
       "      <td>DINOSAUR BIRTHDAY CARD</td>\n",
       "      <td>2009-12-01 11:51:00</td>\n",
       "      <td>2009-12-01</td>\n",
       "    </tr>\n",
       "    <tr>\n",
       "      <th>27783</th>\n",
       "      <td>489529</td>\n",
       "      <td>48129</td>\n",
       "      <td>DOOR MAT TOPIARY</td>\n",
       "      <td>1</td>\n",
       "      <td>6.75</td>\n",
       "      <td>17984.0</td>\n",
       "      <td>United Kingdom</td>\n",
       "      <td>DOOR MAT TOPIARY</td>\n",
       "      <td>2009-12-01 11:51:00</td>\n",
       "      <td>2009-12-01</td>\n",
       "    </tr>\n",
       "    <tr>\n",
       "      <th>27784</th>\n",
       "      <td>489529</td>\n",
       "      <td>48129</td>\n",
       "      <td>DOOR MAT TOPIARY</td>\n",
       "      <td>1</td>\n",
       "      <td>6.75</td>\n",
       "      <td>17984.0</td>\n",
       "      <td>United Kingdom</td>\n",
       "      <td>DOOR MAT TOPIARY</td>\n",
       "      <td>2009-12-01 11:51:00</td>\n",
       "      <td>2009-12-01</td>\n",
       "    </tr>\n",
       "    <tr>\n",
       "      <th>21159</th>\n",
       "      <td>489533</td>\n",
       "      <td>22073</td>\n",
       "      <td>RETRO SPOT STORAGE JAR</td>\n",
       "      <td>1</td>\n",
       "      <td>3.75</td>\n",
       "      <td>16011.0</td>\n",
       "      <td>United Kingdom</td>\n",
       "      <td>RETRO SPOT STORAGE JAR</td>\n",
       "      <td>2009-12-01 12:02:00</td>\n",
       "      <td>2009-12-01</td>\n",
       "    </tr>\n",
       "    <tr>\n",
       "      <th>21160</th>\n",
       "      <td>489533</td>\n",
       "      <td>22073</td>\n",
       "      <td>RETRO SPOT STORAGE JAR</td>\n",
       "      <td>1</td>\n",
       "      <td>3.75</td>\n",
       "      <td>16011.0</td>\n",
       "      <td>United Kingdom</td>\n",
       "      <td>RETRO SPOT STORAGE JAR</td>\n",
       "      <td>2009-12-01 12:02:00</td>\n",
       "      <td>2009-12-01</td>\n",
       "    </tr>\n",
       "    <tr>\n",
       "      <th>6795</th>\n",
       "      <td>489533</td>\n",
       "      <td>84946</td>\n",
       "      <td>ANTIQUE SILVER TEA GLASS ETCHED</td>\n",
       "      <td>6</td>\n",
       "      <td>1.25</td>\n",
       "      <td>16011.0</td>\n",
       "      <td>United Kingdom</td>\n",
       "      <td>ANTIQUE SILVER TEA GLASS ETCHED</td>\n",
       "      <td>2009-12-01 12:02:00</td>\n",
       "      <td>2009-12-01</td>\n",
       "    </tr>\n",
       "    <tr>\n",
       "      <th>6796</th>\n",
       "      <td>489533</td>\n",
       "      <td>84946</td>\n",
       "      <td>ANTIQUE SILVER TEA GLASS ETCHED</td>\n",
       "      <td>6</td>\n",
       "      <td>1.25</td>\n",
       "      <td>16011.0</td>\n",
       "      <td>United Kingdom</td>\n",
       "      <td>ANTIQUE SILVER TEA GLASS ETCHED</td>\n",
       "      <td>2009-12-01 12:02:00</td>\n",
       "      <td>2009-12-01</td>\n",
       "    </tr>\n",
       "    <tr>\n",
       "      <th>5000</th>\n",
       "      <td>489536</td>\n",
       "      <td>21034</td>\n",
       "      <td>REX CASH+CARRY JUMBO SHOPPER</td>\n",
       "      <td>1</td>\n",
       "      <td>0.95</td>\n",
       "      <td>16393.0</td>\n",
       "      <td>United Kingdom</td>\n",
       "      <td>REX CASH+CARRY JUMBO SHOPPER</td>\n",
       "      <td>2009-12-01 12:13:00</td>\n",
       "      <td>2009-12-01</td>\n",
       "    </tr>\n",
       "    <tr>\n",
       "      <th>5001</th>\n",
       "      <td>489536</td>\n",
       "      <td>21034</td>\n",
       "      <td>REX CASH+CARRY JUMBO SHOPPER</td>\n",
       "      <td>1</td>\n",
       "      <td>0.95</td>\n",
       "      <td>16393.0</td>\n",
       "      <td>United Kingdom</td>\n",
       "      <td>REX CASH+CARRY JUMBO SHOPPER</td>\n",
       "      <td>2009-12-01 12:13:00</td>\n",
       "      <td>2009-12-01</td>\n",
       "    </tr>\n",
       "    <tr>\n",
       "      <th>5893</th>\n",
       "      <td>489536</td>\n",
       "      <td>21231</td>\n",
       "      <td>SWEETHEART CERAMIC TRINKET BOX</td>\n",
       "      <td>1</td>\n",
       "      <td>1.25</td>\n",
       "      <td>16393.0</td>\n",
       "      <td>United Kingdom</td>\n",
       "      <td>SWEETHEART CERAMIC TRINKET BOX</td>\n",
       "      <td>2009-12-01 12:13:00</td>\n",
       "      <td>2009-12-01</td>\n",
       "    </tr>\n",
       "    <tr>\n",
       "      <th>5894</th>\n",
       "      <td>489536</td>\n",
       "      <td>21231</td>\n",
       "      <td>SWEETHEART CERAMIC TRINKET BOX</td>\n",
       "      <td>1</td>\n",
       "      <td>1.25</td>\n",
       "      <td>16393.0</td>\n",
       "      <td>United Kingdom</td>\n",
       "      <td>SWEETHEART CERAMIC TRINKET BOX</td>\n",
       "      <td>2009-12-01 12:13:00</td>\n",
       "      <td>2009-12-01</td>\n",
       "    </tr>\n",
       "    <tr>\n",
       "      <th>14537</th>\n",
       "      <td>489536</td>\n",
       "      <td>21579</td>\n",
       "      <td>LOLITA  DESIGN  COTTON TOTE BAG</td>\n",
       "      <td>1</td>\n",
       "      <td>2.25</td>\n",
       "      <td>16393.0</td>\n",
       "      <td>United Kingdom</td>\n",
       "      <td>LOLITA  DESIGN  COTTON TOTE BAG</td>\n",
       "      <td>2009-12-01 12:13:00</td>\n",
       "      <td>2009-12-01</td>\n",
       "    </tr>\n",
       "    <tr>\n",
       "      <th>14538</th>\n",
       "      <td>489536</td>\n",
       "      <td>21579</td>\n",
       "      <td>LOLITA  DESIGN  COTTON TOTE BAG</td>\n",
       "      <td>1</td>\n",
       "      <td>2.25</td>\n",
       "      <td>16393.0</td>\n",
       "      <td>United Kingdom</td>\n",
       "      <td>LOLITA  DESIGN  COTTON TOTE BAG</td>\n",
       "      <td>2009-12-01 12:13:00</td>\n",
       "      <td>2009-12-01</td>\n",
       "    </tr>\n",
       "    <tr>\n",
       "      <th>14539</th>\n",
       "      <td>489536</td>\n",
       "      <td>21579</td>\n",
       "      <td>LOLITA  DESIGN  COTTON TOTE BAG</td>\n",
       "      <td>1</td>\n",
       "      <td>2.25</td>\n",
       "      <td>16393.0</td>\n",
       "      <td>United Kingdom</td>\n",
       "      <td>LOLITA  DESIGN  COTTON TOTE BAG</td>\n",
       "      <td>2009-12-01 12:13:00</td>\n",
       "      <td>2009-12-01</td>\n",
       "    </tr>\n",
       "    <tr>\n",
       "      <th>2153</th>\n",
       "      <td>489536</td>\n",
       "      <td>21650</td>\n",
       "      <td>ASSORTED TUTTI FRUTTI BRACELET</td>\n",
       "      <td>1</td>\n",
       "      <td>0.65</td>\n",
       "      <td>16393.0</td>\n",
       "      <td>United Kingdom</td>\n",
       "      <td>ASSORTED TUTTI FRUTTI BRACELET</td>\n",
       "      <td>2009-12-01 12:13:00</td>\n",
       "      <td>2009-12-01</td>\n",
       "    </tr>\n",
       "    <tr>\n",
       "      <th>2154</th>\n",
       "      <td>489536</td>\n",
       "      <td>21650</td>\n",
       "      <td>ASSORTED TUTTI FRUTTI BRACELET</td>\n",
       "      <td>1</td>\n",
       "      <td>0.65</td>\n",
       "      <td>16393.0</td>\n",
       "      <td>United Kingdom</td>\n",
       "      <td>ASSORTED TUTTI FRUTTI BRACELET</td>\n",
       "      <td>2009-12-01 12:13:00</td>\n",
       "      <td>2009-12-01</td>\n",
       "    </tr>\n",
       "    <tr>\n",
       "      <th>701</th>\n",
       "      <td>489536</td>\n",
       "      <td>21786</td>\n",
       "      <td>RAIN HAT WITH RED SPOTS</td>\n",
       "      <td>1</td>\n",
       "      <td>0.42</td>\n",
       "      <td>16393.0</td>\n",
       "      <td>United Kingdom</td>\n",
       "      <td>RAIN HAT WITH RED SPOTS</td>\n",
       "      <td>2009-12-01 12:13:00</td>\n",
       "      <td>2009-12-01</td>\n",
       "    </tr>\n",
       "    <tr>\n",
       "      <th>702</th>\n",
       "      <td>489536</td>\n",
       "      <td>21786</td>\n",
       "      <td>RAIN HAT WITH RED SPOTS</td>\n",
       "      <td>1</td>\n",
       "      <td>0.42</td>\n",
       "      <td>16393.0</td>\n",
       "      <td>United Kingdom</td>\n",
       "      <td>RAIN HAT WITH RED SPOTS</td>\n",
       "      <td>2009-12-01 12:13:00</td>\n",
       "      <td>2009-12-01</td>\n",
       "    </tr>\n",
       "    <tr>\n",
       "      <th>6353</th>\n",
       "      <td>489536</td>\n",
       "      <td>21791</td>\n",
       "      <td>VINTAGE HEADS AND TAILS CARD GAME</td>\n",
       "      <td>2</td>\n",
       "      <td>1.25</td>\n",
       "      <td>16393.0</td>\n",
       "      <td>United Kingdom</td>\n",
       "      <td>VINTAGE HEADS AND TAILS CARD GAME</td>\n",
       "      <td>2009-12-01 12:13:00</td>\n",
       "      <td>2009-12-01</td>\n",
       "    </tr>\n",
       "    <tr>\n",
       "      <th>6354</th>\n",
       "      <td>489536</td>\n",
       "      <td>21791</td>\n",
       "      <td>VINTAGE HEADS AND TAILS CARD GAME</td>\n",
       "      <td>2</td>\n",
       "      <td>1.25</td>\n",
       "      <td>16393.0</td>\n",
       "      <td>United Kingdom</td>\n",
       "      <td>VINTAGE HEADS AND TAILS CARD GAME</td>\n",
       "      <td>2009-12-01 12:13:00</td>\n",
       "      <td>2009-12-01</td>\n",
       "    </tr>\n",
       "    <tr>\n",
       "      <th>5421</th>\n",
       "      <td>489536</td>\n",
       "      <td>21809</td>\n",
       "      <td>CHRISTMAS HANGING TREE WITH BELL</td>\n",
       "      <td>1</td>\n",
       "      <td>1.25</td>\n",
       "      <td>16393.0</td>\n",
       "      <td>United Kingdom</td>\n",
       "      <td>CHRISTMAS HANGING TREE WITH BELL</td>\n",
       "      <td>2009-12-01 12:13:00</td>\n",
       "      <td>2009-12-01</td>\n",
       "    </tr>\n",
       "    <tr>\n",
       "      <th>5422</th>\n",
       "      <td>489536</td>\n",
       "      <td>21809</td>\n",
       "      <td>CHRISTMAS HANGING TREE WITH BELL</td>\n",
       "      <td>1</td>\n",
       "      <td>1.25</td>\n",
       "      <td>16393.0</td>\n",
       "      <td>United Kingdom</td>\n",
       "      <td>CHRISTMAS HANGING TREE WITH BELL</td>\n",
       "      <td>2009-12-01 12:13:00</td>\n",
       "      <td>2009-12-01</td>\n",
       "    </tr>\n",
       "    <tr>\n",
       "      <th>21107</th>\n",
       "      <td>489536</td>\n",
       "      <td>22107</td>\n",
       "      <td>PIZZA PLATE IN BOX</td>\n",
       "      <td>1</td>\n",
       "      <td>3.75</td>\n",
       "      <td>16393.0</td>\n",
       "      <td>United Kingdom</td>\n",
       "      <td>PIZZA PLATE IN BOX</td>\n",
       "      <td>2009-12-01 12:13:00</td>\n",
       "      <td>2009-12-01</td>\n",
       "    </tr>\n",
       "    <tr>\n",
       "      <th>21108</th>\n",
       "      <td>489536</td>\n",
       "      <td>22107</td>\n",
       "      <td>PIZZA PLATE IN BOX</td>\n",
       "      <td>1</td>\n",
       "      <td>3.75</td>\n",
       "      <td>16393.0</td>\n",
       "      <td>United Kingdom</td>\n",
       "      <td>PIZZA PLATE IN BOX</td>\n",
       "      <td>2009-12-01 12:13:00</td>\n",
       "      <td>2009-12-01</td>\n",
       "    </tr>\n",
       "    <tr>\n",
       "      <th>8720</th>\n",
       "      <td>489536</td>\n",
       "      <td>22142</td>\n",
       "      <td>CHRISTMAS CRAFT WHITE FAIRY</td>\n",
       "      <td>1</td>\n",
       "      <td>1.45</td>\n",
       "      <td>16393.0</td>\n",
       "      <td>United Kingdom</td>\n",
       "      <td>CHRISTMAS CRAFT WHITE FAIRY</td>\n",
       "      <td>2009-12-01 12:13:00</td>\n",
       "      <td>2009-12-01</td>\n",
       "    </tr>\n",
       "    <tr>\n",
       "      <th>8721</th>\n",
       "      <td>489536</td>\n",
       "      <td>22142</td>\n",
       "      <td>CHRISTMAS CRAFT WHITE FAIRY</td>\n",
       "      <td>1</td>\n",
       "      <td>1.45</td>\n",
       "      <td>16393.0</td>\n",
       "      <td>United Kingdom</td>\n",
       "      <td>CHRISTMAS CRAFT WHITE FAIRY</td>\n",
       "      <td>2009-12-01 12:13:00</td>\n",
       "      <td>2009-12-01</td>\n",
       "    </tr>\n",
       "    <tr>\n",
       "      <th>8722</th>\n",
       "      <td>489536</td>\n",
       "      <td>22142</td>\n",
       "      <td>CHRISTMAS CRAFT WHITE FAIRY</td>\n",
       "      <td>1</td>\n",
       "      <td>1.45</td>\n",
       "      <td>16393.0</td>\n",
       "      <td>United Kingdom</td>\n",
       "      <td>CHRISTMAS CRAFT WHITE FAIRY</td>\n",
       "      <td>2009-12-01 12:13:00</td>\n",
       "      <td>2009-12-01</td>\n",
       "    </tr>\n",
       "    <tr>\n",
       "      <th>9893</th>\n",
       "      <td>489536</td>\n",
       "      <td>22185</td>\n",
       "      <td>SLATE TILE NATURAL HANGING</td>\n",
       "      <td>2</td>\n",
       "      <td>1.65</td>\n",
       "      <td>16393.0</td>\n",
       "      <td>United Kingdom</td>\n",
       "      <td>SLATE TILE NATURAL HANGING</td>\n",
       "      <td>2009-12-01 12:13:00</td>\n",
       "      <td>2009-12-01</td>\n",
       "    </tr>\n",
       "    <tr>\n",
       "      <th>9894</th>\n",
       "      <td>489536</td>\n",
       "      <td>22185</td>\n",
       "      <td>SLATE TILE NATURAL HANGING</td>\n",
       "      <td>2</td>\n",
       "      <td>1.65</td>\n",
       "      <td>16393.0</td>\n",
       "      <td>United Kingdom</td>\n",
       "      <td>SLATE TILE NATURAL HANGING</td>\n",
       "      <td>2009-12-01 12:13:00</td>\n",
       "      <td>2009-12-01</td>\n",
       "    </tr>\n",
       "    <tr>\n",
       "      <th>14744</th>\n",
       "      <td>489536</td>\n",
       "      <td>22353</td>\n",
       "      <td>LUNCHBOX WITH CUTLERY FAIRY CAKES</td>\n",
       "      <td>1</td>\n",
       "      <td>2.55</td>\n",
       "      <td>16393.0</td>\n",
       "      <td>United Kingdom</td>\n",
       "      <td>LUNCHBOX WITH CUTLERY FAIRY CAKES</td>\n",
       "      <td>2009-12-01 12:13:00</td>\n",
       "      <td>2009-12-01</td>\n",
       "    </tr>\n",
       "    <tr>\n",
       "      <th>14745</th>\n",
       "      <td>489536</td>\n",
       "      <td>22353</td>\n",
       "      <td>LUNCHBOX WITH CUTLERY FAIRY CAKES</td>\n",
       "      <td>1</td>\n",
       "      <td>2.55</td>\n",
       "      <td>16393.0</td>\n",
       "      <td>United Kingdom</td>\n",
       "      <td>LUNCHBOX WITH CUTLERY FAIRY CAKES</td>\n",
       "      <td>2009-12-01 12:13:00</td>\n",
       "      <td>2009-12-01</td>\n",
       "    </tr>\n",
       "    <tr>\n",
       "      <th>665</th>\n",
       "      <td>489536</td>\n",
       "      <td>17164D</td>\n",
       "      <td>ASS COL SMALL SAND FROG P'WEIGHT</td>\n",
       "      <td>1</td>\n",
       "      <td>0.42</td>\n",
       "      <td>16393.0</td>\n",
       "      <td>United Kingdom</td>\n",
       "      <td>ASS COL SMALL SAND FROG P'WEIGHT</td>\n",
       "      <td>2009-12-01 12:13:00</td>\n",
       "      <td>2009-12-01</td>\n",
       "    </tr>\n",
       "  </tbody>\n",
       "</table>\n",
       "</div>"
      ],
      "text/plain": [
       "      Invoice StockCode                         Description  Quantity  Price  \\\n",
       "12364  489517     21491     SET OF THREE VINTAGE GIFT WRAPS         1   1.95   \n",
       "12365  489517     21491     SET OF THREE VINTAGE GIFT WRAPS         1   1.95   \n",
       "20976  489517     21821    GLITTER STAR GARLAND WITH BELLS          1   3.75   \n",
       "20977  489517     21821    GLITTER STAR GARLAND WITH BELLS          1   3.75   \n",
       "21208  489517     21912            VINTAGE SNAKES & LADDERS         1   3.75   \n",
       "21209  489517     21912            VINTAGE SNAKES & LADDERS         1   3.75   \n",
       "21210  489517     21912            VINTAGE SNAKES & LADDERS         1   3.75   \n",
       "21202  489517     21913      VINTAGE SEASIDE JIGSAW PUZZLES         1   3.75   \n",
       "21203  489517     21913      VINTAGE SEASIDE JIGSAW PUZZLES         1   3.75   \n",
       "3623   489517     22130    PARTY CONE CHRISTMAS DECORATION          6   0.85   \n",
       "3624   489517     22130    PARTY CONE CHRISTMAS DECORATION          6   0.85   \n",
       "2411   489517     22319   HAIRCLIPS FORTIES FABRIC ASSORTED        12   0.65   \n",
       "2412   489517     22319   HAIRCLIPS FORTIES FABRIC ASSORTED        12   0.65   \n",
       "14814  489517    84951A     S/4 PISTACHIO LOVEBIRD COASTERS         1   2.55   \n",
       "14815  489517    84951A     S/4 PISTACHIO LOVEBIRD COASTERS         1   2.55   \n",
       "1090   489529     22028        PENNY FARTHING BIRTHDAY CARD        12   0.42   \n",
       "1091   489529     22028        PENNY FARTHING BIRTHDAY CARD        12   0.42   \n",
       "1002   489529     22036              DINOSAUR BIRTHDAY CARD        12   0.42   \n",
       "1003   489529     22036              DINOSAUR BIRTHDAY CARD        12   0.42   \n",
       "27783  489529     48129                    DOOR MAT TOPIARY         1   6.75   \n",
       "27784  489529     48129                    DOOR MAT TOPIARY         1   6.75   \n",
       "21159  489533     22073              RETRO SPOT STORAGE JAR         1   3.75   \n",
       "21160  489533     22073              RETRO SPOT STORAGE JAR         1   3.75   \n",
       "6795   489533     84946     ANTIQUE SILVER TEA GLASS ETCHED         6   1.25   \n",
       "6796   489533     84946     ANTIQUE SILVER TEA GLASS ETCHED         6   1.25   \n",
       "5000   489536     21034        REX CASH+CARRY JUMBO SHOPPER         1   0.95   \n",
       "5001   489536     21034        REX CASH+CARRY JUMBO SHOPPER         1   0.95   \n",
       "5893   489536     21231      SWEETHEART CERAMIC TRINKET BOX         1   1.25   \n",
       "5894   489536     21231      SWEETHEART CERAMIC TRINKET BOX         1   1.25   \n",
       "14537  489536     21579     LOLITA  DESIGN  COTTON TOTE BAG         1   2.25   \n",
       "14538  489536     21579     LOLITA  DESIGN  COTTON TOTE BAG         1   2.25   \n",
       "14539  489536     21579     LOLITA  DESIGN  COTTON TOTE BAG         1   2.25   \n",
       "2153   489536     21650      ASSORTED TUTTI FRUTTI BRACELET         1   0.65   \n",
       "2154   489536     21650      ASSORTED TUTTI FRUTTI BRACELET         1   0.65   \n",
       "701    489536     21786             RAIN HAT WITH RED SPOTS         1   0.42   \n",
       "702    489536     21786             RAIN HAT WITH RED SPOTS         1   0.42   \n",
       "6353   489536     21791  VINTAGE HEADS AND TAILS CARD GAME          2   1.25   \n",
       "6354   489536     21791  VINTAGE HEADS AND TAILS CARD GAME          2   1.25   \n",
       "5421   489536     21809    CHRISTMAS HANGING TREE WITH BELL         1   1.25   \n",
       "5422   489536     21809    CHRISTMAS HANGING TREE WITH BELL         1   1.25   \n",
       "21107  489536     22107                  PIZZA PLATE IN BOX         1   3.75   \n",
       "21108  489536     22107                  PIZZA PLATE IN BOX         1   3.75   \n",
       "8720   489536     22142        CHRISTMAS CRAFT WHITE FAIRY          1   1.45   \n",
       "8721   489536     22142        CHRISTMAS CRAFT WHITE FAIRY          1   1.45   \n",
       "8722   489536     22142        CHRISTMAS CRAFT WHITE FAIRY          1   1.45   \n",
       "9893   489536     22185          SLATE TILE NATURAL HANGING         2   1.65   \n",
       "9894   489536     22185          SLATE TILE NATURAL HANGING         2   1.65   \n",
       "14744  489536     22353  LUNCHBOX WITH CUTLERY FAIRY CAKES          1   2.55   \n",
       "14745  489536     22353  LUNCHBOX WITH CUTLERY FAIRY CAKES          1   2.55   \n",
       "665    489536    17164D    ASS COL SMALL SAND FROG P'WEIGHT         1   0.42   \n",
       "\n",
       "      Customer ID         Country                  Actual Description  \\\n",
       "12364     16329.0  United Kingdom     SET OF THREE VINTAGE GIFT WRAPS   \n",
       "12365     16329.0  United Kingdom     SET OF THREE VINTAGE GIFT WRAPS   \n",
       "20976     16329.0  United Kingdom    GLITTER STAR GARLAND WITH BELLS    \n",
       "20977     16329.0  United Kingdom    GLITTER STAR GARLAND WITH BELLS    \n",
       "21208     16329.0  United Kingdom            VINTAGE SNAKES & LADDERS   \n",
       "21209     16329.0  United Kingdom            VINTAGE SNAKES & LADDERS   \n",
       "21210     16329.0  United Kingdom            VINTAGE SNAKES & LADDERS   \n",
       "21202     16329.0  United Kingdom      VINTAGE SEASIDE JIGSAW PUZZLES   \n",
       "21203     16329.0  United Kingdom      VINTAGE SEASIDE JIGSAW PUZZLES   \n",
       "3623      16329.0  United Kingdom    PARTY CONE CHRISTMAS DECORATION    \n",
       "3624      16329.0  United Kingdom    PARTY CONE CHRISTMAS DECORATION    \n",
       "2411      16329.0  United Kingdom   HAIRCLIPS FORTIES FABRIC ASSORTED   \n",
       "2412      16329.0  United Kingdom   HAIRCLIPS FORTIES FABRIC ASSORTED   \n",
       "14814     16329.0  United Kingdom     S/4 PISTACHIO LOVEBIRD COASTERS   \n",
       "14815     16329.0  United Kingdom     S/4 PISTACHIO LOVEBIRD COASTERS   \n",
       "1090      17984.0  United Kingdom        PENNY FARTHING BIRTHDAY CARD   \n",
       "1091      17984.0  United Kingdom        PENNY FARTHING BIRTHDAY CARD   \n",
       "1002      17984.0  United Kingdom              DINOSAUR BIRTHDAY CARD   \n",
       "1003      17984.0  United Kingdom              DINOSAUR BIRTHDAY CARD   \n",
       "27783     17984.0  United Kingdom                    DOOR MAT TOPIARY   \n",
       "27784     17984.0  United Kingdom                    DOOR MAT TOPIARY   \n",
       "21159     16011.0  United Kingdom              RETRO SPOT STORAGE JAR   \n",
       "21160     16011.0  United Kingdom              RETRO SPOT STORAGE JAR   \n",
       "6795      16011.0  United Kingdom     ANTIQUE SILVER TEA GLASS ETCHED   \n",
       "6796      16011.0  United Kingdom     ANTIQUE SILVER TEA GLASS ETCHED   \n",
       "5000      16393.0  United Kingdom        REX CASH+CARRY JUMBO SHOPPER   \n",
       "5001      16393.0  United Kingdom        REX CASH+CARRY JUMBO SHOPPER   \n",
       "5893      16393.0  United Kingdom      SWEETHEART CERAMIC TRINKET BOX   \n",
       "5894      16393.0  United Kingdom      SWEETHEART CERAMIC TRINKET BOX   \n",
       "14537     16393.0  United Kingdom     LOLITA  DESIGN  COTTON TOTE BAG   \n",
       "14538     16393.0  United Kingdom     LOLITA  DESIGN  COTTON TOTE BAG   \n",
       "14539     16393.0  United Kingdom     LOLITA  DESIGN  COTTON TOTE BAG   \n",
       "2153      16393.0  United Kingdom      ASSORTED TUTTI FRUTTI BRACELET   \n",
       "2154      16393.0  United Kingdom      ASSORTED TUTTI FRUTTI BRACELET   \n",
       "701       16393.0  United Kingdom             RAIN HAT WITH RED SPOTS   \n",
       "702       16393.0  United Kingdom             RAIN HAT WITH RED SPOTS   \n",
       "6353      16393.0  United Kingdom  VINTAGE HEADS AND TAILS CARD GAME    \n",
       "6354      16393.0  United Kingdom  VINTAGE HEADS AND TAILS CARD GAME    \n",
       "5421      16393.0  United Kingdom    CHRISTMAS HANGING TREE WITH BELL   \n",
       "5422      16393.0  United Kingdom    CHRISTMAS HANGING TREE WITH BELL   \n",
       "21107     16393.0  United Kingdom                  PIZZA PLATE IN BOX   \n",
       "21108     16393.0  United Kingdom                  PIZZA PLATE IN BOX   \n",
       "8720      16393.0  United Kingdom        CHRISTMAS CRAFT WHITE FAIRY    \n",
       "8721      16393.0  United Kingdom        CHRISTMAS CRAFT WHITE FAIRY    \n",
       "8722      16393.0  United Kingdom        CHRISTMAS CRAFT WHITE FAIRY    \n",
       "9893      16393.0  United Kingdom          SLATE TILE NATURAL HANGING   \n",
       "9894      16393.0  United Kingdom          SLATE TILE NATURAL HANGING   \n",
       "14744     16393.0  United Kingdom  LUNCHBOX WITH CUTLERY FAIRY CAKES    \n",
       "14745     16393.0  United Kingdom  LUNCHBOX WITH CUTLERY FAIRY CAKES    \n",
       "665       16393.0  United Kingdom    ASS COL SMALL SAND FROG P'WEIGHT   \n",
       "\n",
       "              InvoiceDate InvoiceDate_Date  \n",
       "12364 2009-12-01 11:34:00       2009-12-01  \n",
       "12365 2009-12-01 11:34:00       2009-12-01  \n",
       "20976 2009-12-01 11:34:00       2009-12-01  \n",
       "20977 2009-12-01 11:34:00       2009-12-01  \n",
       "21208 2009-12-01 11:34:00       2009-12-01  \n",
       "21209 2009-12-01 11:34:00       2009-12-01  \n",
       "21210 2009-12-01 11:34:00       2009-12-01  \n",
       "21202 2009-12-01 11:34:00       2009-12-01  \n",
       "21203 2009-12-01 11:34:00       2009-12-01  \n",
       "3623  2009-12-01 11:34:00       2009-12-01  \n",
       "3624  2009-12-01 11:34:00       2009-12-01  \n",
       "2411  2009-12-01 11:34:00       2009-12-01  \n",
       "2412  2009-12-01 11:34:00       2009-12-01  \n",
       "14814 2009-12-01 11:34:00       2009-12-01  \n",
       "14815 2009-12-01 11:34:00       2009-12-01  \n",
       "1090  2009-12-01 11:51:00       2009-12-01  \n",
       "1091  2009-12-01 11:51:00       2009-12-01  \n",
       "1002  2009-12-01 11:51:00       2009-12-01  \n",
       "1003  2009-12-01 11:51:00       2009-12-01  \n",
       "27783 2009-12-01 11:51:00       2009-12-01  \n",
       "27784 2009-12-01 11:51:00       2009-12-01  \n",
       "21159 2009-12-01 12:02:00       2009-12-01  \n",
       "21160 2009-12-01 12:02:00       2009-12-01  \n",
       "6795  2009-12-01 12:02:00       2009-12-01  \n",
       "6796  2009-12-01 12:02:00       2009-12-01  \n",
       "5000  2009-12-01 12:13:00       2009-12-01  \n",
       "5001  2009-12-01 12:13:00       2009-12-01  \n",
       "5893  2009-12-01 12:13:00       2009-12-01  \n",
       "5894  2009-12-01 12:13:00       2009-12-01  \n",
       "14537 2009-12-01 12:13:00       2009-12-01  \n",
       "14538 2009-12-01 12:13:00       2009-12-01  \n",
       "14539 2009-12-01 12:13:00       2009-12-01  \n",
       "2153  2009-12-01 12:13:00       2009-12-01  \n",
       "2154  2009-12-01 12:13:00       2009-12-01  \n",
       "701   2009-12-01 12:13:00       2009-12-01  \n",
       "702   2009-12-01 12:13:00       2009-12-01  \n",
       "6353  2009-12-01 12:13:00       2009-12-01  \n",
       "6354  2009-12-01 12:13:00       2009-12-01  \n",
       "5421  2009-12-01 12:13:00       2009-12-01  \n",
       "5422  2009-12-01 12:13:00       2009-12-01  \n",
       "21107 2009-12-01 12:13:00       2009-12-01  \n",
       "21108 2009-12-01 12:13:00       2009-12-01  \n",
       "8720  2009-12-01 12:13:00       2009-12-01  \n",
       "8721  2009-12-01 12:13:00       2009-12-01  \n",
       "8722  2009-12-01 12:13:00       2009-12-01  \n",
       "9893  2009-12-01 12:13:00       2009-12-01  \n",
       "9894  2009-12-01 12:13:00       2009-12-01  \n",
       "14744 2009-12-01 12:13:00       2009-12-01  \n",
       "14745 2009-12-01 12:13:00       2009-12-01  \n",
       "665   2009-12-01 12:13:00       2009-12-01  "
      ]
     },
     "execution_count": 37,
     "metadata": {},
     "output_type": "execute_result"
    }
   ],
   "source": [
    "duplicate_rows = df[df.duplicated(keep=False)]\n",
    "\n",
    "# Sorting the data by certain columns to see the duplicate rows next to each other\n",
    "duplicate_rows_sorted = duplicate_rows.sort_values(by=['Invoice', 'StockCode', 'Description', 'Customer ID', 'Quantity'])\n",
    "\n",
    "# Displaying the first 10 records\n",
    "duplicate_rows_sorted.head(50)"
   ]
  },
  {
   "cell_type": "markdown",
   "metadata": {},
   "source": [
    "## Returns analysis"
   ]
  },
  {
   "cell_type": "code",
   "execution_count": 38,
   "metadata": {},
   "outputs": [
    {
     "data": {
      "text/plain": [
       "825"
      ]
     },
     "execution_count": 38,
     "metadata": {},
     "output_type": "execute_result"
    }
   ],
   "source": [
    "#rows with negative quantities indicate returns:\n",
    "returns = df[df['Quantity'] < 0]\n",
    "len(returns)\n"
   ]
  },
  {
   "cell_type": "code",
   "execution_count": 40,
   "metadata": {},
   "outputs": [
    {
     "data": {
      "text/plain": [
       "pandas.core.series.Series"
      ]
     },
     "execution_count": 40,
     "metadata": {},
     "output_type": "execute_result"
    }
   ],
   "source": [
    "type(df['Invoice'])"
   ]
  },
  {
   "cell_type": "code",
   "execution_count": 41,
   "metadata": {},
   "outputs": [
    {
     "name": "stderr",
     "output_type": "stream",
     "text": [
      "/var/folders/35/yy_kphpd6c938fbpf2fk1n3r0000gn/T/ipykernel_40778/982180699.py:1: SettingWithCopyWarning:\n",
      "\n",
      "\n",
      "A value is trying to be set on a copy of a slice from a DataFrame.\n",
      "Try using .loc[row_indexer,col_indexer] = value instead\n",
      "\n",
      "See the caveats in the documentation: https://pandas.pydata.org/pandas-docs/stable/user_guide/indexing.html#returning-a-view-versus-a-copy\n",
      "\n"
     ]
    }
   ],
   "source": [
    "returns['Return_Type'] = returns.apply(\n",
    "    lambda row: 'Cancellation-Based' if row['Quantity'] < 0 and str(row['Invoice']).startswith('C') and row['Price'] != 0 \n",
    "                else 'Zero-Priced', \n",
    "    axis=1\n",
    ")\n"
   ]
  },
  {
   "cell_type": "code",
   "execution_count": 42,
   "metadata": {},
   "outputs": [
    {
     "name": "stdout",
     "output_type": "stream",
     "text": [
      "Return_Type\n",
      "Cancellation-Based    771\n",
      "Zero-Priced            54\n",
      "Name: count, dtype: int64\n"
     ]
    }
   ],
   "source": [
    "# Check the distribution of return types\n",
    "return_counts = returns['Return_Type'].value_counts()\n",
    "print(return_counts)"
   ]
  },
  {
   "cell_type": "code",
   "execution_count": 43,
   "metadata": {},
   "outputs": [
    {
     "name": "stdout",
     "output_type": "stream",
     "text": [
      "Overall Return Rate: 2.56%\n"
     ]
    }
   ],
   "source": [
    "total_transactions = len(df)\n",
    "total_returns = len(returns)\n",
    "return_rate = (total_returns / total_transactions) * 100\n",
    "print(f\"Overall Return Rate: {return_rate:.2f}%\")"
   ]
  },
  {
   "cell_type": "markdown",
   "metadata": {},
   "source": [
    "### Analyze Patterns in Returns by Segment"
   ]
  },
  {
   "cell_type": "code",
   "execution_count": 44,
   "metadata": {},
   "outputs": [
    {
     "name": "stdout",
     "output_type": "stream",
     "text": [
      "StockCode\n",
      "22109     0.017544\n",
      "21888     0.017241\n",
      "20754     0.016949\n",
      "22348     0.016393\n",
      "22189     0.015385\n",
      "21755     0.014925\n",
      "21791     0.013889\n",
      "21754     0.013889\n",
      "22111     0.012270\n",
      "84946     0.012195\n",
      "21491     0.012195\n",
      "82482     0.012048\n",
      "84879     0.011765\n",
      "79323W    0.011628\n",
      "85014B    0.011364\n",
      "22113     0.011236\n",
      "21479     0.010204\n",
      "21485     0.009174\n",
      "22114     0.007246\n",
      "22086     0.006897\n",
      "dtype: float64\n"
     ]
    }
   ],
   "source": [
    "# Calculate return rate by product\n",
    "product_returns = returns.groupby('StockCode').size()\n",
    "total_by_product = df.groupby('StockCode').size()\n",
    "product_return_rate = (product_returns / total_by_product).sort_values(ascending=False).dropna()\n",
    "\n",
    "# Show top 10 products by return rate\n",
    "print(product_return_rate.tail(20))\n"
   ]
  },
  {
   "cell_type": "markdown",
   "metadata": {},
   "source": [
    "### Returns by day"
   ]
  },
  {
   "cell_type": "code",
   "execution_count": 45,
   "metadata": {},
   "outputs": [
    {
     "name": "stderr",
     "output_type": "stream",
     "text": [
      "/var/folders/35/yy_kphpd6c938fbpf2fk1n3r0000gn/T/ipykernel_40778/3369936512.py:2: SettingWithCopyWarning:\n",
      "\n",
      "\n",
      "A value is trying to be set on a copy of a slice from a DataFrame.\n",
      "Try using .loc[row_indexer,col_indexer] = value instead\n",
      "\n",
      "See the caveats in the documentation: https://pandas.pydata.org/pandas-docs/stable/user_guide/indexing.html#returning-a-view-versus-a-copy\n",
      "\n",
      "/var/folders/35/yy_kphpd6c938fbpf2fk1n3r0000gn/T/ipykernel_40778/3369936512.py:3: SettingWithCopyWarning:\n",
      "\n",
      "\n",
      "A value is trying to be set on a copy of a slice from a DataFrame.\n",
      "Try using .loc[row_indexer,col_indexer] = value instead\n",
      "\n",
      "See the caveats in the documentation: https://pandas.pydata.org/pandas-docs/stable/user_guide/indexing.html#returning-a-view-versus-a-copy\n",
      "\n"
     ]
    },
    {
     "data": {
      "application/vnd.plotly.v1+json": {
       "config": {
        "plotlyServerURL": "https://plot.ly"
       },
       "data": [
        {
         "hovertemplate": "Date=%{x}<br>Return Count=%{y}<extra></extra>",
         "legendgroup": "",
         "line": {
          "color": "#636efa",
          "dash": "solid"
         },
         "marker": {
          "symbol": "circle"
         },
         "mode": "lines",
         "name": "",
         "orientation": "v",
         "showlegend": false,
         "type": "scatter",
         "x": [
          "2009-12-01",
          "2009-12-02",
          "2009-12-03",
          "2009-12-04",
          "2009-12-05",
          "2009-12-06",
          "2009-12-07",
          "2009-12-08",
          "2009-12-09",
          "2009-12-10",
          "2009-12-11",
          "2009-12-13",
          "2009-12-14",
          "2009-12-15"
         ],
         "xaxis": "x",
         "y": [
          117,
          23,
          51,
          30,
          2,
          31,
          41,
          248,
          29,
          89,
          103,
          9,
          51,
          1
         ],
         "yaxis": "y"
        }
       ],
       "layout": {
        "legend": {
         "tracegroupgap": 0
        },
        "template": {
         "data": {
          "bar": [
           {
            "error_x": {
             "color": "#2a3f5f"
            },
            "error_y": {
             "color": "#2a3f5f"
            },
            "marker": {
             "line": {
              "color": "#E5ECF6",
              "width": 0.5
             },
             "pattern": {
              "fillmode": "overlay",
              "size": 10,
              "solidity": 0.2
             }
            },
            "type": "bar"
           }
          ],
          "barpolar": [
           {
            "marker": {
             "line": {
              "color": "#E5ECF6",
              "width": 0.5
             },
             "pattern": {
              "fillmode": "overlay",
              "size": 10,
              "solidity": 0.2
             }
            },
            "type": "barpolar"
           }
          ],
          "carpet": [
           {
            "aaxis": {
             "endlinecolor": "#2a3f5f",
             "gridcolor": "white",
             "linecolor": "white",
             "minorgridcolor": "white",
             "startlinecolor": "#2a3f5f"
            },
            "baxis": {
             "endlinecolor": "#2a3f5f",
             "gridcolor": "white",
             "linecolor": "white",
             "minorgridcolor": "white",
             "startlinecolor": "#2a3f5f"
            },
            "type": "carpet"
           }
          ],
          "choropleth": [
           {
            "colorbar": {
             "outlinewidth": 0,
             "ticks": ""
            },
            "type": "choropleth"
           }
          ],
          "contour": [
           {
            "colorbar": {
             "outlinewidth": 0,
             "ticks": ""
            },
            "colorscale": [
             [
              0,
              "#0d0887"
             ],
             [
              0.1111111111111111,
              "#46039f"
             ],
             [
              0.2222222222222222,
              "#7201a8"
             ],
             [
              0.3333333333333333,
              "#9c179e"
             ],
             [
              0.4444444444444444,
              "#bd3786"
             ],
             [
              0.5555555555555556,
              "#d8576b"
             ],
             [
              0.6666666666666666,
              "#ed7953"
             ],
             [
              0.7777777777777778,
              "#fb9f3a"
             ],
             [
              0.8888888888888888,
              "#fdca26"
             ],
             [
              1,
              "#f0f921"
             ]
            ],
            "type": "contour"
           }
          ],
          "contourcarpet": [
           {
            "colorbar": {
             "outlinewidth": 0,
             "ticks": ""
            },
            "type": "contourcarpet"
           }
          ],
          "heatmap": [
           {
            "colorbar": {
             "outlinewidth": 0,
             "ticks": ""
            },
            "colorscale": [
             [
              0,
              "#0d0887"
             ],
             [
              0.1111111111111111,
              "#46039f"
             ],
             [
              0.2222222222222222,
              "#7201a8"
             ],
             [
              0.3333333333333333,
              "#9c179e"
             ],
             [
              0.4444444444444444,
              "#bd3786"
             ],
             [
              0.5555555555555556,
              "#d8576b"
             ],
             [
              0.6666666666666666,
              "#ed7953"
             ],
             [
              0.7777777777777778,
              "#fb9f3a"
             ],
             [
              0.8888888888888888,
              "#fdca26"
             ],
             [
              1,
              "#f0f921"
             ]
            ],
            "type": "heatmap"
           }
          ],
          "heatmapgl": [
           {
            "colorbar": {
             "outlinewidth": 0,
             "ticks": ""
            },
            "colorscale": [
             [
              0,
              "#0d0887"
             ],
             [
              0.1111111111111111,
              "#46039f"
             ],
             [
              0.2222222222222222,
              "#7201a8"
             ],
             [
              0.3333333333333333,
              "#9c179e"
             ],
             [
              0.4444444444444444,
              "#bd3786"
             ],
             [
              0.5555555555555556,
              "#d8576b"
             ],
             [
              0.6666666666666666,
              "#ed7953"
             ],
             [
              0.7777777777777778,
              "#fb9f3a"
             ],
             [
              0.8888888888888888,
              "#fdca26"
             ],
             [
              1,
              "#f0f921"
             ]
            ],
            "type": "heatmapgl"
           }
          ],
          "histogram": [
           {
            "marker": {
             "pattern": {
              "fillmode": "overlay",
              "size": 10,
              "solidity": 0.2
             }
            },
            "type": "histogram"
           }
          ],
          "histogram2d": [
           {
            "colorbar": {
             "outlinewidth": 0,
             "ticks": ""
            },
            "colorscale": [
             [
              0,
              "#0d0887"
             ],
             [
              0.1111111111111111,
              "#46039f"
             ],
             [
              0.2222222222222222,
              "#7201a8"
             ],
             [
              0.3333333333333333,
              "#9c179e"
             ],
             [
              0.4444444444444444,
              "#bd3786"
             ],
             [
              0.5555555555555556,
              "#d8576b"
             ],
             [
              0.6666666666666666,
              "#ed7953"
             ],
             [
              0.7777777777777778,
              "#fb9f3a"
             ],
             [
              0.8888888888888888,
              "#fdca26"
             ],
             [
              1,
              "#f0f921"
             ]
            ],
            "type": "histogram2d"
           }
          ],
          "histogram2dcontour": [
           {
            "colorbar": {
             "outlinewidth": 0,
             "ticks": ""
            },
            "colorscale": [
             [
              0,
              "#0d0887"
             ],
             [
              0.1111111111111111,
              "#46039f"
             ],
             [
              0.2222222222222222,
              "#7201a8"
             ],
             [
              0.3333333333333333,
              "#9c179e"
             ],
             [
              0.4444444444444444,
              "#bd3786"
             ],
             [
              0.5555555555555556,
              "#d8576b"
             ],
             [
              0.6666666666666666,
              "#ed7953"
             ],
             [
              0.7777777777777778,
              "#fb9f3a"
             ],
             [
              0.8888888888888888,
              "#fdca26"
             ],
             [
              1,
              "#f0f921"
             ]
            ],
            "type": "histogram2dcontour"
           }
          ],
          "mesh3d": [
           {
            "colorbar": {
             "outlinewidth": 0,
             "ticks": ""
            },
            "type": "mesh3d"
           }
          ],
          "parcoords": [
           {
            "line": {
             "colorbar": {
              "outlinewidth": 0,
              "ticks": ""
             }
            },
            "type": "parcoords"
           }
          ],
          "pie": [
           {
            "automargin": true,
            "type": "pie"
           }
          ],
          "scatter": [
           {
            "fillpattern": {
             "fillmode": "overlay",
             "size": 10,
             "solidity": 0.2
            },
            "type": "scatter"
           }
          ],
          "scatter3d": [
           {
            "line": {
             "colorbar": {
              "outlinewidth": 0,
              "ticks": ""
             }
            },
            "marker": {
             "colorbar": {
              "outlinewidth": 0,
              "ticks": ""
             }
            },
            "type": "scatter3d"
           }
          ],
          "scattercarpet": [
           {
            "marker": {
             "colorbar": {
              "outlinewidth": 0,
              "ticks": ""
             }
            },
            "type": "scattercarpet"
           }
          ],
          "scattergeo": [
           {
            "marker": {
             "colorbar": {
              "outlinewidth": 0,
              "ticks": ""
             }
            },
            "type": "scattergeo"
           }
          ],
          "scattergl": [
           {
            "marker": {
             "colorbar": {
              "outlinewidth": 0,
              "ticks": ""
             }
            },
            "type": "scattergl"
           }
          ],
          "scattermapbox": [
           {
            "marker": {
             "colorbar": {
              "outlinewidth": 0,
              "ticks": ""
             }
            },
            "type": "scattermapbox"
           }
          ],
          "scatterpolar": [
           {
            "marker": {
             "colorbar": {
              "outlinewidth": 0,
              "ticks": ""
             }
            },
            "type": "scatterpolar"
           }
          ],
          "scatterpolargl": [
           {
            "marker": {
             "colorbar": {
              "outlinewidth": 0,
              "ticks": ""
             }
            },
            "type": "scatterpolargl"
           }
          ],
          "scatterternary": [
           {
            "marker": {
             "colorbar": {
              "outlinewidth": 0,
              "ticks": ""
             }
            },
            "type": "scatterternary"
           }
          ],
          "surface": [
           {
            "colorbar": {
             "outlinewidth": 0,
             "ticks": ""
            },
            "colorscale": [
             [
              0,
              "#0d0887"
             ],
             [
              0.1111111111111111,
              "#46039f"
             ],
             [
              0.2222222222222222,
              "#7201a8"
             ],
             [
              0.3333333333333333,
              "#9c179e"
             ],
             [
              0.4444444444444444,
              "#bd3786"
             ],
             [
              0.5555555555555556,
              "#d8576b"
             ],
             [
              0.6666666666666666,
              "#ed7953"
             ],
             [
              0.7777777777777778,
              "#fb9f3a"
             ],
             [
              0.8888888888888888,
              "#fdca26"
             ],
             [
              1,
              "#f0f921"
             ]
            ],
            "type": "surface"
           }
          ],
          "table": [
           {
            "cells": {
             "fill": {
              "color": "#EBF0F8"
             },
             "line": {
              "color": "white"
             }
            },
            "header": {
             "fill": {
              "color": "#C8D4E3"
             },
             "line": {
              "color": "white"
             }
            },
            "type": "table"
           }
          ]
         },
         "layout": {
          "annotationdefaults": {
           "arrowcolor": "#2a3f5f",
           "arrowhead": 0,
           "arrowwidth": 1
          },
          "autotypenumbers": "strict",
          "coloraxis": {
           "colorbar": {
            "outlinewidth": 0,
            "ticks": ""
           }
          },
          "colorscale": {
           "diverging": [
            [
             0,
             "#8e0152"
            ],
            [
             0.1,
             "#c51b7d"
            ],
            [
             0.2,
             "#de77ae"
            ],
            [
             0.3,
             "#f1b6da"
            ],
            [
             0.4,
             "#fde0ef"
            ],
            [
             0.5,
             "#f7f7f7"
            ],
            [
             0.6,
             "#e6f5d0"
            ],
            [
             0.7,
             "#b8e186"
            ],
            [
             0.8,
             "#7fbc41"
            ],
            [
             0.9,
             "#4d9221"
            ],
            [
             1,
             "#276419"
            ]
           ],
           "sequential": [
            [
             0,
             "#0d0887"
            ],
            [
             0.1111111111111111,
             "#46039f"
            ],
            [
             0.2222222222222222,
             "#7201a8"
            ],
            [
             0.3333333333333333,
             "#9c179e"
            ],
            [
             0.4444444444444444,
             "#bd3786"
            ],
            [
             0.5555555555555556,
             "#d8576b"
            ],
            [
             0.6666666666666666,
             "#ed7953"
            ],
            [
             0.7777777777777778,
             "#fb9f3a"
            ],
            [
             0.8888888888888888,
             "#fdca26"
            ],
            [
             1,
             "#f0f921"
            ]
           ],
           "sequentialminus": [
            [
             0,
             "#0d0887"
            ],
            [
             0.1111111111111111,
             "#46039f"
            ],
            [
             0.2222222222222222,
             "#7201a8"
            ],
            [
             0.3333333333333333,
             "#9c179e"
            ],
            [
             0.4444444444444444,
             "#bd3786"
            ],
            [
             0.5555555555555556,
             "#d8576b"
            ],
            [
             0.6666666666666666,
             "#ed7953"
            ],
            [
             0.7777777777777778,
             "#fb9f3a"
            ],
            [
             0.8888888888888888,
             "#fdca26"
            ],
            [
             1,
             "#f0f921"
            ]
           ]
          },
          "colorway": [
           "#636efa",
           "#EF553B",
           "#00cc96",
           "#ab63fa",
           "#FFA15A",
           "#19d3f3",
           "#FF6692",
           "#B6E880",
           "#FF97FF",
           "#FECB52"
          ],
          "font": {
           "color": "#2a3f5f"
          },
          "geo": {
           "bgcolor": "white",
           "lakecolor": "white",
           "landcolor": "#E5ECF6",
           "showlakes": true,
           "showland": true,
           "subunitcolor": "white"
          },
          "hoverlabel": {
           "align": "left"
          },
          "hovermode": "closest",
          "mapbox": {
           "style": "light"
          },
          "paper_bgcolor": "white",
          "plot_bgcolor": "#E5ECF6",
          "polar": {
           "angularaxis": {
            "gridcolor": "white",
            "linecolor": "white",
            "ticks": ""
           },
           "bgcolor": "#E5ECF6",
           "radialaxis": {
            "gridcolor": "white",
            "linecolor": "white",
            "ticks": ""
           }
          },
          "scene": {
           "xaxis": {
            "backgroundcolor": "#E5ECF6",
            "gridcolor": "white",
            "gridwidth": 2,
            "linecolor": "white",
            "showbackground": true,
            "ticks": "",
            "zerolinecolor": "white"
           },
           "yaxis": {
            "backgroundcolor": "#E5ECF6",
            "gridcolor": "white",
            "gridwidth": 2,
            "linecolor": "white",
            "showbackground": true,
            "ticks": "",
            "zerolinecolor": "white"
           },
           "zaxis": {
            "backgroundcolor": "#E5ECF6",
            "gridcolor": "white",
            "gridwidth": 2,
            "linecolor": "white",
            "showbackground": true,
            "ticks": "",
            "zerolinecolor": "white"
           }
          },
          "shapedefaults": {
           "line": {
            "color": "#2a3f5f"
           }
          },
          "ternary": {
           "aaxis": {
            "gridcolor": "white",
            "linecolor": "white",
            "ticks": ""
           },
           "baxis": {
            "gridcolor": "white",
            "linecolor": "white",
            "ticks": ""
           },
           "bgcolor": "#E5ECF6",
           "caxis": {
            "gridcolor": "white",
            "linecolor": "white",
            "ticks": ""
           }
          },
          "title": {
           "x": 0.05
          },
          "xaxis": {
           "automargin": true,
           "gridcolor": "white",
           "linecolor": "white",
           "ticks": "",
           "title": {
            "standoff": 15
           },
           "zerolinecolor": "white",
           "zerolinewidth": 2
          },
          "yaxis": {
           "automargin": true,
           "gridcolor": "white",
           "linecolor": "white",
           "ticks": "",
           "title": {
            "standoff": 15
           },
           "zerolinecolor": "white",
           "zerolinewidth": 2
          }
         }
        },
        "title": {
         "text": "Daily Return Trends"
        },
        "xaxis": {
         "anchor": "y",
         "domain": [
          0,
          1
         ],
         "title": {
          "text": "Date"
         }
        },
        "yaxis": {
         "anchor": "x",
         "domain": [
          0,
          1
         ],
         "title": {
          "text": "Return Count"
         }
        }
       }
      }
     },
     "metadata": {},
     "output_type": "display_data"
    }
   ],
   "source": [
    "# Add a daily date column for time-based analysis\n",
    "returns['InvoiceDate'] = pd.to_datetime(returns['InvoiceDate'], errors='coerce')\n",
    "returns['ReturnDate'] = returns['InvoiceDate'].dt.date  # Extract only the date part\n",
    "\n",
    "# Group by the daily date to get daily return counts\n",
    "daily_returns = returns.groupby('ReturnDate').size()\n",
    "\n",
    "# Plot daily return trends\n",
    "import plotly.express as px\n",
    "fig = px.line(\n",
    "    daily_returns, \n",
    "    x=daily_returns.index.astype(str), \n",
    "    y=daily_returns.values, \n",
    "    labels={'x': 'Date', 'y': 'Return Count'},\n",
    "    title=\"Daily Return Trends\"\n",
    ")\n",
    "fig.show()\n"
   ]
  },
  {
   "cell_type": "code",
   "execution_count": 49,
   "metadata": {},
   "outputs": [
    {
     "name": "stderr",
     "output_type": "stream",
     "text": [
      "/var/folders/35/yy_kphpd6c938fbpf2fk1n3r0000gn/T/ipykernel_986/382851870.py:4: SettingWithCopyWarning:\n",
      "\n",
      "\n",
      "A value is trying to be set on a copy of a slice from a DataFrame.\n",
      "Try using .loc[row_indexer,col_indexer] = value instead\n",
      "\n",
      "See the caveats in the documentation: https://pandas.pydata.org/pandas-docs/stable/user_guide/indexing.html#returning-a-view-versus-a-copy\n",
      "\n"
     ]
    },
    {
     "data": {
      "application/vnd.plotly.v1+json": {
       "config": {
        "plotlyServerURL": "https://plot.ly"
       },
       "data": [
        {
         "hovertemplate": "Hour=%{x}<br>Return Count=%{y}<extra></extra>",
         "legendgroup": "",
         "line": {
          "color": "#636efa",
          "dash": "solid"
         },
         "marker": {
          "symbol": "circle"
         },
         "mode": "lines",
         "name": "",
         "orientation": "v",
         "showlegend": false,
         "type": "scatter",
         "x": [
          9,
          10,
          11,
          12,
          13,
          14,
          16,
          17,
          18,
          19
         ],
         "xaxis": "x",
         "y": [
          2,
          1,
          23,
          42,
          14,
          77,
          11,
          50,
          19,
          9
         ],
         "yaxis": "y"
        }
       ],
       "layout": {
        "legend": {
         "tracegroupgap": 0
        },
        "template": {
         "data": {
          "bar": [
           {
            "error_x": {
             "color": "#2a3f5f"
            },
            "error_y": {
             "color": "#2a3f5f"
            },
            "marker": {
             "line": {
              "color": "#E5ECF6",
              "width": 0.5
             },
             "pattern": {
              "fillmode": "overlay",
              "size": 10,
              "solidity": 0.2
             }
            },
            "type": "bar"
           }
          ],
          "barpolar": [
           {
            "marker": {
             "line": {
              "color": "#E5ECF6",
              "width": 0.5
             },
             "pattern": {
              "fillmode": "overlay",
              "size": 10,
              "solidity": 0.2
             }
            },
            "type": "barpolar"
           }
          ],
          "carpet": [
           {
            "aaxis": {
             "endlinecolor": "#2a3f5f",
             "gridcolor": "white",
             "linecolor": "white",
             "minorgridcolor": "white",
             "startlinecolor": "#2a3f5f"
            },
            "baxis": {
             "endlinecolor": "#2a3f5f",
             "gridcolor": "white",
             "linecolor": "white",
             "minorgridcolor": "white",
             "startlinecolor": "#2a3f5f"
            },
            "type": "carpet"
           }
          ],
          "choropleth": [
           {
            "colorbar": {
             "outlinewidth": 0,
             "ticks": ""
            },
            "type": "choropleth"
           }
          ],
          "contour": [
           {
            "colorbar": {
             "outlinewidth": 0,
             "ticks": ""
            },
            "colorscale": [
             [
              0,
              "#0d0887"
             ],
             [
              0.1111111111111111,
              "#46039f"
             ],
             [
              0.2222222222222222,
              "#7201a8"
             ],
             [
              0.3333333333333333,
              "#9c179e"
             ],
             [
              0.4444444444444444,
              "#bd3786"
             ],
             [
              0.5555555555555556,
              "#d8576b"
             ],
             [
              0.6666666666666666,
              "#ed7953"
             ],
             [
              0.7777777777777778,
              "#fb9f3a"
             ],
             [
              0.8888888888888888,
              "#fdca26"
             ],
             [
              1,
              "#f0f921"
             ]
            ],
            "type": "contour"
           }
          ],
          "contourcarpet": [
           {
            "colorbar": {
             "outlinewidth": 0,
             "ticks": ""
            },
            "type": "contourcarpet"
           }
          ],
          "heatmap": [
           {
            "colorbar": {
             "outlinewidth": 0,
             "ticks": ""
            },
            "colorscale": [
             [
              0,
              "#0d0887"
             ],
             [
              0.1111111111111111,
              "#46039f"
             ],
             [
              0.2222222222222222,
              "#7201a8"
             ],
             [
              0.3333333333333333,
              "#9c179e"
             ],
             [
              0.4444444444444444,
              "#bd3786"
             ],
             [
              0.5555555555555556,
              "#d8576b"
             ],
             [
              0.6666666666666666,
              "#ed7953"
             ],
             [
              0.7777777777777778,
              "#fb9f3a"
             ],
             [
              0.8888888888888888,
              "#fdca26"
             ],
             [
              1,
              "#f0f921"
             ]
            ],
            "type": "heatmap"
           }
          ],
          "heatmapgl": [
           {
            "colorbar": {
             "outlinewidth": 0,
             "ticks": ""
            },
            "colorscale": [
             [
              0,
              "#0d0887"
             ],
             [
              0.1111111111111111,
              "#46039f"
             ],
             [
              0.2222222222222222,
              "#7201a8"
             ],
             [
              0.3333333333333333,
              "#9c179e"
             ],
             [
              0.4444444444444444,
              "#bd3786"
             ],
             [
              0.5555555555555556,
              "#d8576b"
             ],
             [
              0.6666666666666666,
              "#ed7953"
             ],
             [
              0.7777777777777778,
              "#fb9f3a"
             ],
             [
              0.8888888888888888,
              "#fdca26"
             ],
             [
              1,
              "#f0f921"
             ]
            ],
            "type": "heatmapgl"
           }
          ],
          "histogram": [
           {
            "marker": {
             "pattern": {
              "fillmode": "overlay",
              "size": 10,
              "solidity": 0.2
             }
            },
            "type": "histogram"
           }
          ],
          "histogram2d": [
           {
            "colorbar": {
             "outlinewidth": 0,
             "ticks": ""
            },
            "colorscale": [
             [
              0,
              "#0d0887"
             ],
             [
              0.1111111111111111,
              "#46039f"
             ],
             [
              0.2222222222222222,
              "#7201a8"
             ],
             [
              0.3333333333333333,
              "#9c179e"
             ],
             [
              0.4444444444444444,
              "#bd3786"
             ],
             [
              0.5555555555555556,
              "#d8576b"
             ],
             [
              0.6666666666666666,
              "#ed7953"
             ],
             [
              0.7777777777777778,
              "#fb9f3a"
             ],
             [
              0.8888888888888888,
              "#fdca26"
             ],
             [
              1,
              "#f0f921"
             ]
            ],
            "type": "histogram2d"
           }
          ],
          "histogram2dcontour": [
           {
            "colorbar": {
             "outlinewidth": 0,
             "ticks": ""
            },
            "colorscale": [
             [
              0,
              "#0d0887"
             ],
             [
              0.1111111111111111,
              "#46039f"
             ],
             [
              0.2222222222222222,
              "#7201a8"
             ],
             [
              0.3333333333333333,
              "#9c179e"
             ],
             [
              0.4444444444444444,
              "#bd3786"
             ],
             [
              0.5555555555555556,
              "#d8576b"
             ],
             [
              0.6666666666666666,
              "#ed7953"
             ],
             [
              0.7777777777777778,
              "#fb9f3a"
             ],
             [
              0.8888888888888888,
              "#fdca26"
             ],
             [
              1,
              "#f0f921"
             ]
            ],
            "type": "histogram2dcontour"
           }
          ],
          "mesh3d": [
           {
            "colorbar": {
             "outlinewidth": 0,
             "ticks": ""
            },
            "type": "mesh3d"
           }
          ],
          "parcoords": [
           {
            "line": {
             "colorbar": {
              "outlinewidth": 0,
              "ticks": ""
             }
            },
            "type": "parcoords"
           }
          ],
          "pie": [
           {
            "automargin": true,
            "type": "pie"
           }
          ],
          "scatter": [
           {
            "fillpattern": {
             "fillmode": "overlay",
             "size": 10,
             "solidity": 0.2
            },
            "type": "scatter"
           }
          ],
          "scatter3d": [
           {
            "line": {
             "colorbar": {
              "outlinewidth": 0,
              "ticks": ""
             }
            },
            "marker": {
             "colorbar": {
              "outlinewidth": 0,
              "ticks": ""
             }
            },
            "type": "scatter3d"
           }
          ],
          "scattercarpet": [
           {
            "marker": {
             "colorbar": {
              "outlinewidth": 0,
              "ticks": ""
             }
            },
            "type": "scattercarpet"
           }
          ],
          "scattergeo": [
           {
            "marker": {
             "colorbar": {
              "outlinewidth": 0,
              "ticks": ""
             }
            },
            "type": "scattergeo"
           }
          ],
          "scattergl": [
           {
            "marker": {
             "colorbar": {
              "outlinewidth": 0,
              "ticks": ""
             }
            },
            "type": "scattergl"
           }
          ],
          "scattermapbox": [
           {
            "marker": {
             "colorbar": {
              "outlinewidth": 0,
              "ticks": ""
             }
            },
            "type": "scattermapbox"
           }
          ],
          "scatterpolar": [
           {
            "marker": {
             "colorbar": {
              "outlinewidth": 0,
              "ticks": ""
             }
            },
            "type": "scatterpolar"
           }
          ],
          "scatterpolargl": [
           {
            "marker": {
             "colorbar": {
              "outlinewidth": 0,
              "ticks": ""
             }
            },
            "type": "scatterpolargl"
           }
          ],
          "scatterternary": [
           {
            "marker": {
             "colorbar": {
              "outlinewidth": 0,
              "ticks": ""
             }
            },
            "type": "scatterternary"
           }
          ],
          "surface": [
           {
            "colorbar": {
             "outlinewidth": 0,
             "ticks": ""
            },
            "colorscale": [
             [
              0,
              "#0d0887"
             ],
             [
              0.1111111111111111,
              "#46039f"
             ],
             [
              0.2222222222222222,
              "#7201a8"
             ],
             [
              0.3333333333333333,
              "#9c179e"
             ],
             [
              0.4444444444444444,
              "#bd3786"
             ],
             [
              0.5555555555555556,
              "#d8576b"
             ],
             [
              0.6666666666666666,
              "#ed7953"
             ],
             [
              0.7777777777777778,
              "#fb9f3a"
             ],
             [
              0.8888888888888888,
              "#fdca26"
             ],
             [
              1,
              "#f0f921"
             ]
            ],
            "type": "surface"
           }
          ],
          "table": [
           {
            "cells": {
             "fill": {
              "color": "#EBF0F8"
             },
             "line": {
              "color": "white"
             }
            },
            "header": {
             "fill": {
              "color": "#C8D4E3"
             },
             "line": {
              "color": "white"
             }
            },
            "type": "table"
           }
          ]
         },
         "layout": {
          "annotationdefaults": {
           "arrowcolor": "#2a3f5f",
           "arrowhead": 0,
           "arrowwidth": 1
          },
          "autotypenumbers": "strict",
          "coloraxis": {
           "colorbar": {
            "outlinewidth": 0,
            "ticks": ""
           }
          },
          "colorscale": {
           "diverging": [
            [
             0,
             "#8e0152"
            ],
            [
             0.1,
             "#c51b7d"
            ],
            [
             0.2,
             "#de77ae"
            ],
            [
             0.3,
             "#f1b6da"
            ],
            [
             0.4,
             "#fde0ef"
            ],
            [
             0.5,
             "#f7f7f7"
            ],
            [
             0.6,
             "#e6f5d0"
            ],
            [
             0.7,
             "#b8e186"
            ],
            [
             0.8,
             "#7fbc41"
            ],
            [
             0.9,
             "#4d9221"
            ],
            [
             1,
             "#276419"
            ]
           ],
           "sequential": [
            [
             0,
             "#0d0887"
            ],
            [
             0.1111111111111111,
             "#46039f"
            ],
            [
             0.2222222222222222,
             "#7201a8"
            ],
            [
             0.3333333333333333,
             "#9c179e"
            ],
            [
             0.4444444444444444,
             "#bd3786"
            ],
            [
             0.5555555555555556,
             "#d8576b"
            ],
            [
             0.6666666666666666,
             "#ed7953"
            ],
            [
             0.7777777777777778,
             "#fb9f3a"
            ],
            [
             0.8888888888888888,
             "#fdca26"
            ],
            [
             1,
             "#f0f921"
            ]
           ],
           "sequentialminus": [
            [
             0,
             "#0d0887"
            ],
            [
             0.1111111111111111,
             "#46039f"
            ],
            [
             0.2222222222222222,
             "#7201a8"
            ],
            [
             0.3333333333333333,
             "#9c179e"
            ],
            [
             0.4444444444444444,
             "#bd3786"
            ],
            [
             0.5555555555555556,
             "#d8576b"
            ],
            [
             0.6666666666666666,
             "#ed7953"
            ],
            [
             0.7777777777777778,
             "#fb9f3a"
            ],
            [
             0.8888888888888888,
             "#fdca26"
            ],
            [
             1,
             "#f0f921"
            ]
           ]
          },
          "colorway": [
           "#636efa",
           "#EF553B",
           "#00cc96",
           "#ab63fa",
           "#FFA15A",
           "#19d3f3",
           "#FF6692",
           "#B6E880",
           "#FF97FF",
           "#FECB52"
          ],
          "font": {
           "color": "#2a3f5f"
          },
          "geo": {
           "bgcolor": "white",
           "lakecolor": "white",
           "landcolor": "#E5ECF6",
           "showlakes": true,
           "showland": true,
           "subunitcolor": "white"
          },
          "hoverlabel": {
           "align": "left"
          },
          "hovermode": "closest",
          "mapbox": {
           "style": "light"
          },
          "paper_bgcolor": "white",
          "plot_bgcolor": "#E5ECF6",
          "polar": {
           "angularaxis": {
            "gridcolor": "white",
            "linecolor": "white",
            "ticks": ""
           },
           "bgcolor": "#E5ECF6",
           "radialaxis": {
            "gridcolor": "white",
            "linecolor": "white",
            "ticks": ""
           }
          },
          "scene": {
           "xaxis": {
            "backgroundcolor": "#E5ECF6",
            "gridcolor": "white",
            "gridwidth": 2,
            "linecolor": "white",
            "showbackground": true,
            "ticks": "",
            "zerolinecolor": "white"
           },
           "yaxis": {
            "backgroundcolor": "#E5ECF6",
            "gridcolor": "white",
            "gridwidth": 2,
            "linecolor": "white",
            "showbackground": true,
            "ticks": "",
            "zerolinecolor": "white"
           },
           "zaxis": {
            "backgroundcolor": "#E5ECF6",
            "gridcolor": "white",
            "gridwidth": 2,
            "linecolor": "white",
            "showbackground": true,
            "ticks": "",
            "zerolinecolor": "white"
           }
          },
          "shapedefaults": {
           "line": {
            "color": "#2a3f5f"
           }
          },
          "ternary": {
           "aaxis": {
            "gridcolor": "white",
            "linecolor": "white",
            "ticks": ""
           },
           "baxis": {
            "gridcolor": "white",
            "linecolor": "white",
            "ticks": ""
           },
           "bgcolor": "#E5ECF6",
           "caxis": {
            "gridcolor": "white",
            "linecolor": "white",
            "ticks": ""
           }
          },
          "title": {
           "x": 0.05
          },
          "xaxis": {
           "automargin": true,
           "gridcolor": "white",
           "linecolor": "white",
           "ticks": "",
           "title": {
            "standoff": 15
           },
           "zerolinecolor": "white",
           "zerolinewidth": 2
          },
          "yaxis": {
           "automargin": true,
           "gridcolor": "white",
           "linecolor": "white",
           "ticks": "",
           "title": {
            "standoff": 15
           },
           "zerolinecolor": "white",
           "zerolinewidth": 2
          }
         }
        },
        "title": {
         "text": "Hourly Return Trend for December 8"
        },
        "xaxis": {
         "anchor": "y",
         "domain": [
          0,
          1
         ],
         "dtick": 1,
         "title": {
          "text": "Hour"
         }
        },
        "yaxis": {
         "anchor": "x",
         "domain": [
          0,
          1
         ],
         "title": {
          "text": "Return Count"
         }
        }
       }
      }
     },
     "metadata": {},
     "output_type": "display_data"
    }
   ],
   "source": [
    "december_8_data = returns[(returns['InvoiceDate'].dt.date == pd.to_datetime('2009-12-08').date()) & (returns['Quantity'] < 0)]\n",
    "\n",
    "# Extract the hour from 'InvoiceDate' for hourly grouping\n",
    "december_8_data['Hour'] = december_8_data['InvoiceDate'].dt.hour\n",
    "\n",
    "# Group by hour and count the number of returns\n",
    "hourly_returns = december_8_data.groupby('Hour').size()\n",
    "\n",
    "# Plot the hourly return trend for December 8\n",
    "import plotly.express as px\n",
    "fig = px.line(\n",
    "    hourly_returns, \n",
    "    x=hourly_returns.index, \n",
    "    y=hourly_returns.values, \n",
    "    labels={'x': 'Hour of Day', 'y': 'Return Count'},\n",
    "    title=\"Hourly Return Trend for December 8\"\n",
    ")\n",
    "fig.update_xaxes(dtick=1)  # Show each hour on the x-axis\n",
    "fig.show()"
   ]
  },
  {
   "cell_type": "code",
   "execution_count": 46,
   "metadata": {},
   "outputs": [
    {
     "name": "stderr",
     "output_type": "stream",
     "text": [
      "/var/folders/35/yy_kphpd6c938fbpf2fk1n3r0000gn/T/ipykernel_40778/275120886.py:5: SettingWithCopyWarning:\n",
      "\n",
      "\n",
      "A value is trying to be set on a copy of a slice from a DataFrame.\n",
      "Try using .loc[row_indexer,col_indexer] = value instead\n",
      "\n",
      "See the caveats in the documentation: https://pandas.pydata.org/pandas-docs/stable/user_guide/indexing.html#returning-a-view-versus-a-copy\n",
      "\n"
     ]
    },
    {
     "data": {
      "application/vnd.plotly.v1+json": {
       "config": {
        "plotlyServerURL": "https://plot.ly"
       },
       "data": [
        {
         "hovertemplate": "Date=2009-12-01<br>Hour of Day=%{x}<br>Return Count=%{y}<extra></extra>",
         "legendgroup": "2009-12-01",
         "line": {
          "color": "#636efa",
          "dash": "solid"
         },
         "marker": {
          "symbol": "circle"
         },
         "mode": "lines",
         "name": "2009-12-01",
         "orientation": "v",
         "showlegend": true,
         "type": "scatter",
         "x": [
          10,
          11,
          12,
          13,
          14,
          15,
          16,
          17,
          18
         ],
         "xaxis": "x",
         "y": [
          26,
          13,
          14,
          27,
          15,
          13,
          6,
          2,
          1
         ],
         "yaxis": "y"
        },
        {
         "hovertemplate": "Date=2009-12-02<br>Hour of Day=%{x}<br>Return Count=%{y}<extra></extra>",
         "legendgroup": "2009-12-02",
         "line": {
          "color": "#EF553B",
          "dash": "solid"
         },
         "marker": {
          "symbol": "circle"
         },
         "mode": "lines",
         "name": "2009-12-02",
         "orientation": "v",
         "showlegend": true,
         "type": "scatter",
         "x": [
          10,
          11,
          12,
          13,
          14,
          16
         ],
         "xaxis": "x",
         "y": [
          7,
          1,
          4,
          5,
          4,
          2
         ],
         "yaxis": "y"
        },
        {
         "hovertemplate": "Date=2009-12-03<br>Hour of Day=%{x}<br>Return Count=%{y}<extra></extra>",
         "legendgroup": "2009-12-03",
         "line": {
          "color": "#00cc96",
          "dash": "solid"
         },
         "marker": {
          "symbol": "circle"
         },
         "mode": "lines",
         "name": "2009-12-03",
         "orientation": "v",
         "showlegend": true,
         "type": "scatter",
         "x": [
          9,
          10,
          11,
          12,
          13,
          14,
          15,
          16,
          17,
          18
         ],
         "xaxis": "x",
         "y": [
          2,
          7,
          2,
          2,
          3,
          1,
          1,
          2,
          22,
          9
         ],
         "yaxis": "y"
        },
        {
         "hovertemplate": "Date=2009-12-04<br>Hour of Day=%{x}<br>Return Count=%{y}<extra></extra>",
         "legendgroup": "2009-12-04",
         "line": {
          "color": "#ab63fa",
          "dash": "solid"
         },
         "marker": {
          "symbol": "circle"
         },
         "mode": "lines",
         "name": "2009-12-04",
         "orientation": "v",
         "showlegend": true,
         "type": "scatter",
         "x": [
          9,
          10,
          11,
          12,
          13,
          14,
          15,
          16
         ],
         "xaxis": "x",
         "y": [
          2,
          4,
          1,
          8,
          1,
          3,
          1,
          10
         ],
         "yaxis": "y"
        },
        {
         "hovertemplate": "Date=2009-12-05<br>Hour of Day=%{x}<br>Return Count=%{y}<extra></extra>",
         "legendgroup": "2009-12-05",
         "line": {
          "color": "#FFA15A",
          "dash": "solid"
         },
         "marker": {
          "symbol": "circle"
         },
         "mode": "lines",
         "name": "2009-12-05",
         "orientation": "v",
         "showlegend": true,
         "type": "scatter",
         "x": [
          13,
          14
         ],
         "xaxis": "x",
         "y": [
          1,
          1
         ],
         "yaxis": "y"
        },
        {
         "hovertemplate": "Date=2009-12-06<br>Hour of Day=%{x}<br>Return Count=%{y}<extra></extra>",
         "legendgroup": "2009-12-06",
         "line": {
          "color": "#19d3f3",
          "dash": "solid"
         },
         "marker": {
          "symbol": "circle"
         },
         "mode": "lines",
         "name": "2009-12-06",
         "orientation": "v",
         "showlegend": true,
         "type": "scatter",
         "x": [
          10,
          12,
          13,
          14,
          15,
          16
         ],
         "xaxis": "x",
         "y": [
          1,
          8,
          4,
          16,
          1,
          1
         ],
         "yaxis": "y"
        },
        {
         "hovertemplate": "Date=2009-12-07<br>Hour of Day=%{x}<br>Return Count=%{y}<extra></extra>",
         "legendgroup": "2009-12-07",
         "line": {
          "color": "#FF6692",
          "dash": "solid"
         },
         "marker": {
          "symbol": "circle"
         },
         "mode": "lines",
         "name": "2009-12-07",
         "orientation": "v",
         "showlegend": true,
         "type": "scatter",
         "x": [
          9,
          10,
          12,
          14,
          15,
          17,
          18
         ],
         "xaxis": "x",
         "y": [
          2,
          3,
          1,
          13,
          4,
          8,
          10
         ],
         "yaxis": "y"
        },
        {
         "hovertemplate": "Date=2009-12-08<br>Hour of Day=%{x}<br>Return Count=%{y}<extra></extra>",
         "legendgroup": "2009-12-08",
         "line": {
          "color": "#B6E880",
          "dash": "solid"
         },
         "marker": {
          "symbol": "circle"
         },
         "mode": "lines",
         "name": "2009-12-08",
         "orientation": "v",
         "showlegend": true,
         "type": "scatter",
         "x": [
          9,
          10,
          11,
          12,
          13,
          14,
          16,
          17,
          18,
          19
         ],
         "xaxis": "x",
         "y": [
          2,
          1,
          23,
          42,
          14,
          77,
          11,
          50,
          19,
          9
         ],
         "yaxis": "y"
        },
        {
         "hovertemplate": "Date=2009-12-09<br>Hour of Day=%{x}<br>Return Count=%{y}<extra></extra>",
         "legendgroup": "2009-12-09",
         "line": {
          "color": "#FF97FF",
          "dash": "solid"
         },
         "marker": {
          "symbol": "circle"
         },
         "mode": "lines",
         "name": "2009-12-09",
         "orientation": "v",
         "showlegend": true,
         "type": "scatter",
         "x": [
          9,
          10,
          11,
          12,
          13,
          14,
          15,
          16
         ],
         "xaxis": "x",
         "y": [
          5,
          5,
          1,
          2,
          5,
          5,
          2,
          4
         ],
         "yaxis": "y"
        },
        {
         "hovertemplate": "Date=2009-12-10<br>Hour of Day=%{x}<br>Return Count=%{y}<extra></extra>",
         "legendgroup": "2009-12-10",
         "line": {
          "color": "#FECB52",
          "dash": "solid"
         },
         "marker": {
          "symbol": "circle"
         },
         "mode": "lines",
         "name": "2009-12-10",
         "orientation": "v",
         "showlegend": true,
         "type": "scatter",
         "x": [
          9,
          10,
          11,
          12,
          14,
          15,
          16,
          17,
          18,
          19,
          20
         ],
         "xaxis": "x",
         "y": [
          3,
          3,
          6,
          27,
          6,
          6,
          2,
          8,
          7,
          20,
          1
         ],
         "yaxis": "y"
        },
        {
         "hovertemplate": "Date=2009-12-11<br>Hour of Day=%{x}<br>Return Count=%{y}<extra></extra>",
         "legendgroup": "2009-12-11",
         "line": {
          "color": "#636efa",
          "dash": "solid"
         },
         "marker": {
          "symbol": "circle"
         },
         "mode": "lines",
         "name": "2009-12-11",
         "orientation": "v",
         "showlegend": true,
         "type": "scatter",
         "x": [
          9,
          10,
          11,
          12,
          13,
          14,
          15,
          16
         ],
         "xaxis": "x",
         "y": [
          3,
          8,
          20,
          16,
          39,
          13,
          3,
          1
         ],
         "yaxis": "y"
        },
        {
         "hovertemplate": "Date=2009-12-13<br>Hour of Day=%{x}<br>Return Count=%{y}<extra></extra>",
         "legendgroup": "2009-12-13",
         "line": {
          "color": "#EF553B",
          "dash": "solid"
         },
         "marker": {
          "symbol": "circle"
         },
         "mode": "lines",
         "name": "2009-12-13",
         "orientation": "v",
         "showlegend": true,
         "type": "scatter",
         "x": [
          10,
          12,
          13,
          14,
          16
         ],
         "xaxis": "x",
         "y": [
          1,
          4,
          2,
          1,
          1
         ],
         "yaxis": "y"
        },
        {
         "hovertemplate": "Date=2009-12-14<br>Hour of Day=%{x}<br>Return Count=%{y}<extra></extra>",
         "legendgroup": "2009-12-14",
         "line": {
          "color": "#00cc96",
          "dash": "solid"
         },
         "marker": {
          "symbol": "circle"
         },
         "mode": "lines",
         "name": "2009-12-14",
         "orientation": "v",
         "showlegend": true,
         "type": "scatter",
         "x": [
          9,
          10,
          11,
          12,
          13,
          14,
          16,
          18
         ],
         "xaxis": "x",
         "y": [
          10,
          3,
          2,
          1,
          14,
          13,
          1,
          7
         ],
         "yaxis": "y"
        },
        {
         "hovertemplate": "Date=2009-12-15<br>Hour of Day=%{x}<br>Return Count=%{y}<extra></extra>",
         "legendgroup": "2009-12-15",
         "line": {
          "color": "#ab63fa",
          "dash": "solid"
         },
         "marker": {
          "symbol": "circle"
         },
         "mode": "lines",
         "name": "2009-12-15",
         "orientation": "v",
         "showlegend": true,
         "type": "scatter",
         "x": [
          9
         ],
         "xaxis": "x",
         "y": [
          1
         ],
         "yaxis": "y"
        }
       ],
       "layout": {
        "legend": {
         "title": {
          "text": "Date"
         },
         "tracegroupgap": 0
        },
        "template": {
         "data": {
          "bar": [
           {
            "error_x": {
             "color": "#2a3f5f"
            },
            "error_y": {
             "color": "#2a3f5f"
            },
            "marker": {
             "line": {
              "color": "#E5ECF6",
              "width": 0.5
             },
             "pattern": {
              "fillmode": "overlay",
              "size": 10,
              "solidity": 0.2
             }
            },
            "type": "bar"
           }
          ],
          "barpolar": [
           {
            "marker": {
             "line": {
              "color": "#E5ECF6",
              "width": 0.5
             },
             "pattern": {
              "fillmode": "overlay",
              "size": 10,
              "solidity": 0.2
             }
            },
            "type": "barpolar"
           }
          ],
          "carpet": [
           {
            "aaxis": {
             "endlinecolor": "#2a3f5f",
             "gridcolor": "white",
             "linecolor": "white",
             "minorgridcolor": "white",
             "startlinecolor": "#2a3f5f"
            },
            "baxis": {
             "endlinecolor": "#2a3f5f",
             "gridcolor": "white",
             "linecolor": "white",
             "minorgridcolor": "white",
             "startlinecolor": "#2a3f5f"
            },
            "type": "carpet"
           }
          ],
          "choropleth": [
           {
            "colorbar": {
             "outlinewidth": 0,
             "ticks": ""
            },
            "type": "choropleth"
           }
          ],
          "contour": [
           {
            "colorbar": {
             "outlinewidth": 0,
             "ticks": ""
            },
            "colorscale": [
             [
              0,
              "#0d0887"
             ],
             [
              0.1111111111111111,
              "#46039f"
             ],
             [
              0.2222222222222222,
              "#7201a8"
             ],
             [
              0.3333333333333333,
              "#9c179e"
             ],
             [
              0.4444444444444444,
              "#bd3786"
             ],
             [
              0.5555555555555556,
              "#d8576b"
             ],
             [
              0.6666666666666666,
              "#ed7953"
             ],
             [
              0.7777777777777778,
              "#fb9f3a"
             ],
             [
              0.8888888888888888,
              "#fdca26"
             ],
             [
              1,
              "#f0f921"
             ]
            ],
            "type": "contour"
           }
          ],
          "contourcarpet": [
           {
            "colorbar": {
             "outlinewidth": 0,
             "ticks": ""
            },
            "type": "contourcarpet"
           }
          ],
          "heatmap": [
           {
            "colorbar": {
             "outlinewidth": 0,
             "ticks": ""
            },
            "colorscale": [
             [
              0,
              "#0d0887"
             ],
             [
              0.1111111111111111,
              "#46039f"
             ],
             [
              0.2222222222222222,
              "#7201a8"
             ],
             [
              0.3333333333333333,
              "#9c179e"
             ],
             [
              0.4444444444444444,
              "#bd3786"
             ],
             [
              0.5555555555555556,
              "#d8576b"
             ],
             [
              0.6666666666666666,
              "#ed7953"
             ],
             [
              0.7777777777777778,
              "#fb9f3a"
             ],
             [
              0.8888888888888888,
              "#fdca26"
             ],
             [
              1,
              "#f0f921"
             ]
            ],
            "type": "heatmap"
           }
          ],
          "heatmapgl": [
           {
            "colorbar": {
             "outlinewidth": 0,
             "ticks": ""
            },
            "colorscale": [
             [
              0,
              "#0d0887"
             ],
             [
              0.1111111111111111,
              "#46039f"
             ],
             [
              0.2222222222222222,
              "#7201a8"
             ],
             [
              0.3333333333333333,
              "#9c179e"
             ],
             [
              0.4444444444444444,
              "#bd3786"
             ],
             [
              0.5555555555555556,
              "#d8576b"
             ],
             [
              0.6666666666666666,
              "#ed7953"
             ],
             [
              0.7777777777777778,
              "#fb9f3a"
             ],
             [
              0.8888888888888888,
              "#fdca26"
             ],
             [
              1,
              "#f0f921"
             ]
            ],
            "type": "heatmapgl"
           }
          ],
          "histogram": [
           {
            "marker": {
             "pattern": {
              "fillmode": "overlay",
              "size": 10,
              "solidity": 0.2
             }
            },
            "type": "histogram"
           }
          ],
          "histogram2d": [
           {
            "colorbar": {
             "outlinewidth": 0,
             "ticks": ""
            },
            "colorscale": [
             [
              0,
              "#0d0887"
             ],
             [
              0.1111111111111111,
              "#46039f"
             ],
             [
              0.2222222222222222,
              "#7201a8"
             ],
             [
              0.3333333333333333,
              "#9c179e"
             ],
             [
              0.4444444444444444,
              "#bd3786"
             ],
             [
              0.5555555555555556,
              "#d8576b"
             ],
             [
              0.6666666666666666,
              "#ed7953"
             ],
             [
              0.7777777777777778,
              "#fb9f3a"
             ],
             [
              0.8888888888888888,
              "#fdca26"
             ],
             [
              1,
              "#f0f921"
             ]
            ],
            "type": "histogram2d"
           }
          ],
          "histogram2dcontour": [
           {
            "colorbar": {
             "outlinewidth": 0,
             "ticks": ""
            },
            "colorscale": [
             [
              0,
              "#0d0887"
             ],
             [
              0.1111111111111111,
              "#46039f"
             ],
             [
              0.2222222222222222,
              "#7201a8"
             ],
             [
              0.3333333333333333,
              "#9c179e"
             ],
             [
              0.4444444444444444,
              "#bd3786"
             ],
             [
              0.5555555555555556,
              "#d8576b"
             ],
             [
              0.6666666666666666,
              "#ed7953"
             ],
             [
              0.7777777777777778,
              "#fb9f3a"
             ],
             [
              0.8888888888888888,
              "#fdca26"
             ],
             [
              1,
              "#f0f921"
             ]
            ],
            "type": "histogram2dcontour"
           }
          ],
          "mesh3d": [
           {
            "colorbar": {
             "outlinewidth": 0,
             "ticks": ""
            },
            "type": "mesh3d"
           }
          ],
          "parcoords": [
           {
            "line": {
             "colorbar": {
              "outlinewidth": 0,
              "ticks": ""
             }
            },
            "type": "parcoords"
           }
          ],
          "pie": [
           {
            "automargin": true,
            "type": "pie"
           }
          ],
          "scatter": [
           {
            "fillpattern": {
             "fillmode": "overlay",
             "size": 10,
             "solidity": 0.2
            },
            "type": "scatter"
           }
          ],
          "scatter3d": [
           {
            "line": {
             "colorbar": {
              "outlinewidth": 0,
              "ticks": ""
             }
            },
            "marker": {
             "colorbar": {
              "outlinewidth": 0,
              "ticks": ""
             }
            },
            "type": "scatter3d"
           }
          ],
          "scattercarpet": [
           {
            "marker": {
             "colorbar": {
              "outlinewidth": 0,
              "ticks": ""
             }
            },
            "type": "scattercarpet"
           }
          ],
          "scattergeo": [
           {
            "marker": {
             "colorbar": {
              "outlinewidth": 0,
              "ticks": ""
             }
            },
            "type": "scattergeo"
           }
          ],
          "scattergl": [
           {
            "marker": {
             "colorbar": {
              "outlinewidth": 0,
              "ticks": ""
             }
            },
            "type": "scattergl"
           }
          ],
          "scattermapbox": [
           {
            "marker": {
             "colorbar": {
              "outlinewidth": 0,
              "ticks": ""
             }
            },
            "type": "scattermapbox"
           }
          ],
          "scatterpolar": [
           {
            "marker": {
             "colorbar": {
              "outlinewidth": 0,
              "ticks": ""
             }
            },
            "type": "scatterpolar"
           }
          ],
          "scatterpolargl": [
           {
            "marker": {
             "colorbar": {
              "outlinewidth": 0,
              "ticks": ""
             }
            },
            "type": "scatterpolargl"
           }
          ],
          "scatterternary": [
           {
            "marker": {
             "colorbar": {
              "outlinewidth": 0,
              "ticks": ""
             }
            },
            "type": "scatterternary"
           }
          ],
          "surface": [
           {
            "colorbar": {
             "outlinewidth": 0,
             "ticks": ""
            },
            "colorscale": [
             [
              0,
              "#0d0887"
             ],
             [
              0.1111111111111111,
              "#46039f"
             ],
             [
              0.2222222222222222,
              "#7201a8"
             ],
             [
              0.3333333333333333,
              "#9c179e"
             ],
             [
              0.4444444444444444,
              "#bd3786"
             ],
             [
              0.5555555555555556,
              "#d8576b"
             ],
             [
              0.6666666666666666,
              "#ed7953"
             ],
             [
              0.7777777777777778,
              "#fb9f3a"
             ],
             [
              0.8888888888888888,
              "#fdca26"
             ],
             [
              1,
              "#f0f921"
             ]
            ],
            "type": "surface"
           }
          ],
          "table": [
           {
            "cells": {
             "fill": {
              "color": "#EBF0F8"
             },
             "line": {
              "color": "white"
             }
            },
            "header": {
             "fill": {
              "color": "#C8D4E3"
             },
             "line": {
              "color": "white"
             }
            },
            "type": "table"
           }
          ]
         },
         "layout": {
          "annotationdefaults": {
           "arrowcolor": "#2a3f5f",
           "arrowhead": 0,
           "arrowwidth": 1
          },
          "autotypenumbers": "strict",
          "coloraxis": {
           "colorbar": {
            "outlinewidth": 0,
            "ticks": ""
           }
          },
          "colorscale": {
           "diverging": [
            [
             0,
             "#8e0152"
            ],
            [
             0.1,
             "#c51b7d"
            ],
            [
             0.2,
             "#de77ae"
            ],
            [
             0.3,
             "#f1b6da"
            ],
            [
             0.4,
             "#fde0ef"
            ],
            [
             0.5,
             "#f7f7f7"
            ],
            [
             0.6,
             "#e6f5d0"
            ],
            [
             0.7,
             "#b8e186"
            ],
            [
             0.8,
             "#7fbc41"
            ],
            [
             0.9,
             "#4d9221"
            ],
            [
             1,
             "#276419"
            ]
           ],
           "sequential": [
            [
             0,
             "#0d0887"
            ],
            [
             0.1111111111111111,
             "#46039f"
            ],
            [
             0.2222222222222222,
             "#7201a8"
            ],
            [
             0.3333333333333333,
             "#9c179e"
            ],
            [
             0.4444444444444444,
             "#bd3786"
            ],
            [
             0.5555555555555556,
             "#d8576b"
            ],
            [
             0.6666666666666666,
             "#ed7953"
            ],
            [
             0.7777777777777778,
             "#fb9f3a"
            ],
            [
             0.8888888888888888,
             "#fdca26"
            ],
            [
             1,
             "#f0f921"
            ]
           ],
           "sequentialminus": [
            [
             0,
             "#0d0887"
            ],
            [
             0.1111111111111111,
             "#46039f"
            ],
            [
             0.2222222222222222,
             "#7201a8"
            ],
            [
             0.3333333333333333,
             "#9c179e"
            ],
            [
             0.4444444444444444,
             "#bd3786"
            ],
            [
             0.5555555555555556,
             "#d8576b"
            ],
            [
             0.6666666666666666,
             "#ed7953"
            ],
            [
             0.7777777777777778,
             "#fb9f3a"
            ],
            [
             0.8888888888888888,
             "#fdca26"
            ],
            [
             1,
             "#f0f921"
            ]
           ]
          },
          "colorway": [
           "#636efa",
           "#EF553B",
           "#00cc96",
           "#ab63fa",
           "#FFA15A",
           "#19d3f3",
           "#FF6692",
           "#B6E880",
           "#FF97FF",
           "#FECB52"
          ],
          "font": {
           "color": "#2a3f5f"
          },
          "geo": {
           "bgcolor": "white",
           "lakecolor": "white",
           "landcolor": "#E5ECF6",
           "showlakes": true,
           "showland": true,
           "subunitcolor": "white"
          },
          "hoverlabel": {
           "align": "left"
          },
          "hovermode": "closest",
          "mapbox": {
           "style": "light"
          },
          "paper_bgcolor": "white",
          "plot_bgcolor": "#E5ECF6",
          "polar": {
           "angularaxis": {
            "gridcolor": "white",
            "linecolor": "white",
            "ticks": ""
           },
           "bgcolor": "#E5ECF6",
           "radialaxis": {
            "gridcolor": "white",
            "linecolor": "white",
            "ticks": ""
           }
          },
          "scene": {
           "xaxis": {
            "backgroundcolor": "#E5ECF6",
            "gridcolor": "white",
            "gridwidth": 2,
            "linecolor": "white",
            "showbackground": true,
            "ticks": "",
            "zerolinecolor": "white"
           },
           "yaxis": {
            "backgroundcolor": "#E5ECF6",
            "gridcolor": "white",
            "gridwidth": 2,
            "linecolor": "white",
            "showbackground": true,
            "ticks": "",
            "zerolinecolor": "white"
           },
           "zaxis": {
            "backgroundcolor": "#E5ECF6",
            "gridcolor": "white",
            "gridwidth": 2,
            "linecolor": "white",
            "showbackground": true,
            "ticks": "",
            "zerolinecolor": "white"
           }
          },
          "shapedefaults": {
           "line": {
            "color": "#2a3f5f"
           }
          },
          "ternary": {
           "aaxis": {
            "gridcolor": "white",
            "linecolor": "white",
            "ticks": ""
           },
           "baxis": {
            "gridcolor": "white",
            "linecolor": "white",
            "ticks": ""
           },
           "bgcolor": "#E5ECF6",
           "caxis": {
            "gridcolor": "white",
            "linecolor": "white",
            "ticks": ""
           }
          },
          "title": {
           "x": 0.05
          },
          "xaxis": {
           "automargin": true,
           "gridcolor": "white",
           "linecolor": "white",
           "ticks": "",
           "title": {
            "standoff": 15
           },
           "zerolinecolor": "white",
           "zerolinewidth": 2
          },
          "yaxis": {
           "automargin": true,
           "gridcolor": "white",
           "linecolor": "white",
           "ticks": "",
           "title": {
            "standoff": 15
           },
           "zerolinecolor": "white",
           "zerolinewidth": 2
          }
         }
        },
        "title": {
         "text": "Hourly Return Trends by Date"
        },
        "xaxis": {
         "anchor": "y",
         "domain": [
          0,
          1
         ],
         "dtick": 1,
         "title": {
          "text": "Hour of Day"
         }
        },
        "yaxis": {
         "anchor": "x",
         "domain": [
          0,
          1
         ],
         "title": {
          "text": "Return Count"
         }
        }
       }
      }
     },
     "metadata": {},
     "output_type": "display_data"
    }
   ],
   "source": [
    "import pandas as pd\n",
    "import plotly.express as px\n",
    "\n",
    "\n",
    "returns['Hour'] = returns['InvoiceDate'].dt.hour\n",
    "\n",
    "# Group by both 'ReturnDate' and 'Hour' and count the returns\n",
    "hourly_returns = returns.groupby(['ReturnDate', 'Hour']).size().reset_index(name='ReturnCount')\n",
    "\n",
    "# Plot the hourly return trends for each day\n",
    "fig = px.line(\n",
    "    hourly_returns, \n",
    "    x='Hour', \n",
    "    y='ReturnCount', \n",
    "    color='ReturnDate',\n",
    "    labels={'Hour': 'Hour of Day', 'ReturnCount': 'Return Count', 'ReturnDate': 'Date'},\n",
    "    title=\"Hourly Return Trends by Date\"\n",
    ")\n",
    "fig.update_xaxes(dtick=1)  # Show each hour on the x-axis\n",
    "fig.show()\n"
   ]
  },
  {
   "cell_type": "markdown",
   "metadata": {},
   "source": [
    "### Return rate by country"
   ]
  },
  {
   "cell_type": "code",
   "execution_count": 47,
   "metadata": {},
   "outputs": [
    {
     "name": "stdout",
     "output_type": "stream",
     "text": [
      "Country\n",
      "Australia                59.090909\n",
      "Austria                        NaN\n",
      "Belgium                        NaN\n",
      "Channel Islands           9.302326\n",
      "Cyprus                    2.912621\n",
      "Denmark                  66.666667\n",
      "EIRE                      6.324111\n",
      "Finland                        NaN\n",
      "France                   19.148936\n",
      "Germany                   6.017192\n",
      "Greece                         NaN\n",
      "Italy                   100.000000\n",
      "Japan                   100.000000\n",
      "Netherlands                    NaN\n",
      "Nigeria                 100.000000\n",
      "Norway                         NaN\n",
      "Poland                         NaN\n",
      "Portugal                       NaN\n",
      "Spain                    11.111111\n",
      "Sweden                   33.333333\n",
      "USA                            NaN\n",
      "United Arab Emirates      1.754386\n",
      "United Kingdom            2.268437\n",
      "dtype: float64\n"
     ]
    }
   ],
   "source": [
    "\n",
    "\n",
    "# Calculate total transactions per country (items sold or total invoices)\n",
    "total_transactions_by_country = df.groupby('Country').size()\n",
    "\n",
    "# Calculate total returns per country\n",
    "total_returns_by_country = returns.groupby('Country').size()\n",
    "\n",
    "# Calculate return rate by country (as percentage)\n",
    "return_rate_by_country = (total_returns_by_country / total_transactions_by_country) * 100\n",
    "\n",
    "# Show the return rates\n",
    "print(return_rate_by_country)"
   ]
  },
  {
   "cell_type": "code",
   "execution_count": 48,
   "metadata": {},
   "outputs": [
    {
     "data": {
      "application/vnd.plotly.v1+json": {
       "config": {
        "plotlyServerURL": "https://plot.ly"
       },
       "data": [
        {
         "coloraxis": "coloraxis",
         "geo": "geo",
         "hovertemplate": "<b>%{hovertext}</b><br><br>Country=%{location}<br>Return Rate (%)=%{z}<extra></extra>",
         "hovertext": [
          "Australia",
          "Austria",
          "Belgium",
          "Channel Islands",
          "Cyprus",
          "Denmark",
          "EIRE",
          "Finland",
          "France",
          "Germany",
          "Greece",
          "Italy",
          "Japan",
          "Netherlands",
          "Nigeria",
          "Norway",
          "Poland",
          "Portugal",
          "Spain",
          "Sweden",
          "USA",
          "United Arab Emirates",
          "United Kingdom"
         ],
         "locationmode": "country names",
         "locations": [
          "Australia",
          "Austria",
          "Belgium",
          "Channel Islands",
          "Cyprus",
          "Denmark",
          "EIRE",
          "Finland",
          "France",
          "Germany",
          "Greece",
          "Italy",
          "Japan",
          "Netherlands",
          "Nigeria",
          "Norway",
          "Poland",
          "Portugal",
          "Spain",
          "Sweden",
          "USA",
          "United Arab Emirates",
          "United Kingdom"
         ],
         "name": "",
         "type": "choropleth",
         "z": [
          59.09090909090909,
          null,
          null,
          9.30232558139535,
          2.912621359223301,
          66.66666666666666,
          6.324110671936759,
          null,
          19.148936170212767,
          6.017191977077363,
          null,
          100,
          100,
          null,
          100,
          null,
          null,
          null,
          11.11111111111111,
          33.33333333333333,
          null,
          1.7543859649122806,
          2.2684371542016533
         ]
        }
       ],
       "layout": {
        "coloraxis": {
         "colorbar": {
          "title": {
           "text": "Return Rate (%)"
          }
         },
         "colorscale": [
          [
           0,
           "rgb(255,245,240)"
          ],
          [
           0.125,
           "rgb(254,224,210)"
          ],
          [
           0.25,
           "rgb(252,187,161)"
          ],
          [
           0.375,
           "rgb(252,146,114)"
          ],
          [
           0.5,
           "rgb(251,106,74)"
          ],
          [
           0.625,
           "rgb(239,59,44)"
          ],
          [
           0.75,
           "rgb(203,24,29)"
          ],
          [
           0.875,
           "rgb(165,15,21)"
          ],
          [
           1,
           "rgb(103,0,13)"
          ]
         ]
        },
        "geo": {
         "center": {},
         "domain": {
          "x": [
           0,
           1
          ],
          "y": [
           0,
           1
          ]
         }
        },
        "legend": {
         "tracegroupgap": 0
        },
        "template": {
         "data": {
          "bar": [
           {
            "error_x": {
             "color": "#2a3f5f"
            },
            "error_y": {
             "color": "#2a3f5f"
            },
            "marker": {
             "line": {
              "color": "#E5ECF6",
              "width": 0.5
             },
             "pattern": {
              "fillmode": "overlay",
              "size": 10,
              "solidity": 0.2
             }
            },
            "type": "bar"
           }
          ],
          "barpolar": [
           {
            "marker": {
             "line": {
              "color": "#E5ECF6",
              "width": 0.5
             },
             "pattern": {
              "fillmode": "overlay",
              "size": 10,
              "solidity": 0.2
             }
            },
            "type": "barpolar"
           }
          ],
          "carpet": [
           {
            "aaxis": {
             "endlinecolor": "#2a3f5f",
             "gridcolor": "white",
             "linecolor": "white",
             "minorgridcolor": "white",
             "startlinecolor": "#2a3f5f"
            },
            "baxis": {
             "endlinecolor": "#2a3f5f",
             "gridcolor": "white",
             "linecolor": "white",
             "minorgridcolor": "white",
             "startlinecolor": "#2a3f5f"
            },
            "type": "carpet"
           }
          ],
          "choropleth": [
           {
            "colorbar": {
             "outlinewidth": 0,
             "ticks": ""
            },
            "type": "choropleth"
           }
          ],
          "contour": [
           {
            "colorbar": {
             "outlinewidth": 0,
             "ticks": ""
            },
            "colorscale": [
             [
              0,
              "#0d0887"
             ],
             [
              0.1111111111111111,
              "#46039f"
             ],
             [
              0.2222222222222222,
              "#7201a8"
             ],
             [
              0.3333333333333333,
              "#9c179e"
             ],
             [
              0.4444444444444444,
              "#bd3786"
             ],
             [
              0.5555555555555556,
              "#d8576b"
             ],
             [
              0.6666666666666666,
              "#ed7953"
             ],
             [
              0.7777777777777778,
              "#fb9f3a"
             ],
             [
              0.8888888888888888,
              "#fdca26"
             ],
             [
              1,
              "#f0f921"
             ]
            ],
            "type": "contour"
           }
          ],
          "contourcarpet": [
           {
            "colorbar": {
             "outlinewidth": 0,
             "ticks": ""
            },
            "type": "contourcarpet"
           }
          ],
          "heatmap": [
           {
            "colorbar": {
             "outlinewidth": 0,
             "ticks": ""
            },
            "colorscale": [
             [
              0,
              "#0d0887"
             ],
             [
              0.1111111111111111,
              "#46039f"
             ],
             [
              0.2222222222222222,
              "#7201a8"
             ],
             [
              0.3333333333333333,
              "#9c179e"
             ],
             [
              0.4444444444444444,
              "#bd3786"
             ],
             [
              0.5555555555555556,
              "#d8576b"
             ],
             [
              0.6666666666666666,
              "#ed7953"
             ],
             [
              0.7777777777777778,
              "#fb9f3a"
             ],
             [
              0.8888888888888888,
              "#fdca26"
             ],
             [
              1,
              "#f0f921"
             ]
            ],
            "type": "heatmap"
           }
          ],
          "heatmapgl": [
           {
            "colorbar": {
             "outlinewidth": 0,
             "ticks": ""
            },
            "colorscale": [
             [
              0,
              "#0d0887"
             ],
             [
              0.1111111111111111,
              "#46039f"
             ],
             [
              0.2222222222222222,
              "#7201a8"
             ],
             [
              0.3333333333333333,
              "#9c179e"
             ],
             [
              0.4444444444444444,
              "#bd3786"
             ],
             [
              0.5555555555555556,
              "#d8576b"
             ],
             [
              0.6666666666666666,
              "#ed7953"
             ],
             [
              0.7777777777777778,
              "#fb9f3a"
             ],
             [
              0.8888888888888888,
              "#fdca26"
             ],
             [
              1,
              "#f0f921"
             ]
            ],
            "type": "heatmapgl"
           }
          ],
          "histogram": [
           {
            "marker": {
             "pattern": {
              "fillmode": "overlay",
              "size": 10,
              "solidity": 0.2
             }
            },
            "type": "histogram"
           }
          ],
          "histogram2d": [
           {
            "colorbar": {
             "outlinewidth": 0,
             "ticks": ""
            },
            "colorscale": [
             [
              0,
              "#0d0887"
             ],
             [
              0.1111111111111111,
              "#46039f"
             ],
             [
              0.2222222222222222,
              "#7201a8"
             ],
             [
              0.3333333333333333,
              "#9c179e"
             ],
             [
              0.4444444444444444,
              "#bd3786"
             ],
             [
              0.5555555555555556,
              "#d8576b"
             ],
             [
              0.6666666666666666,
              "#ed7953"
             ],
             [
              0.7777777777777778,
              "#fb9f3a"
             ],
             [
              0.8888888888888888,
              "#fdca26"
             ],
             [
              1,
              "#f0f921"
             ]
            ],
            "type": "histogram2d"
           }
          ],
          "histogram2dcontour": [
           {
            "colorbar": {
             "outlinewidth": 0,
             "ticks": ""
            },
            "colorscale": [
             [
              0,
              "#0d0887"
             ],
             [
              0.1111111111111111,
              "#46039f"
             ],
             [
              0.2222222222222222,
              "#7201a8"
             ],
             [
              0.3333333333333333,
              "#9c179e"
             ],
             [
              0.4444444444444444,
              "#bd3786"
             ],
             [
              0.5555555555555556,
              "#d8576b"
             ],
             [
              0.6666666666666666,
              "#ed7953"
             ],
             [
              0.7777777777777778,
              "#fb9f3a"
             ],
             [
              0.8888888888888888,
              "#fdca26"
             ],
             [
              1,
              "#f0f921"
             ]
            ],
            "type": "histogram2dcontour"
           }
          ],
          "mesh3d": [
           {
            "colorbar": {
             "outlinewidth": 0,
             "ticks": ""
            },
            "type": "mesh3d"
           }
          ],
          "parcoords": [
           {
            "line": {
             "colorbar": {
              "outlinewidth": 0,
              "ticks": ""
             }
            },
            "type": "parcoords"
           }
          ],
          "pie": [
           {
            "automargin": true,
            "type": "pie"
           }
          ],
          "scatter": [
           {
            "fillpattern": {
             "fillmode": "overlay",
             "size": 10,
             "solidity": 0.2
            },
            "type": "scatter"
           }
          ],
          "scatter3d": [
           {
            "line": {
             "colorbar": {
              "outlinewidth": 0,
              "ticks": ""
             }
            },
            "marker": {
             "colorbar": {
              "outlinewidth": 0,
              "ticks": ""
             }
            },
            "type": "scatter3d"
           }
          ],
          "scattercarpet": [
           {
            "marker": {
             "colorbar": {
              "outlinewidth": 0,
              "ticks": ""
             }
            },
            "type": "scattercarpet"
           }
          ],
          "scattergeo": [
           {
            "marker": {
             "colorbar": {
              "outlinewidth": 0,
              "ticks": ""
             }
            },
            "type": "scattergeo"
           }
          ],
          "scattergl": [
           {
            "marker": {
             "colorbar": {
              "outlinewidth": 0,
              "ticks": ""
             }
            },
            "type": "scattergl"
           }
          ],
          "scattermapbox": [
           {
            "marker": {
             "colorbar": {
              "outlinewidth": 0,
              "ticks": ""
             }
            },
            "type": "scattermapbox"
           }
          ],
          "scatterpolar": [
           {
            "marker": {
             "colorbar": {
              "outlinewidth": 0,
              "ticks": ""
             }
            },
            "type": "scatterpolar"
           }
          ],
          "scatterpolargl": [
           {
            "marker": {
             "colorbar": {
              "outlinewidth": 0,
              "ticks": ""
             }
            },
            "type": "scatterpolargl"
           }
          ],
          "scatterternary": [
           {
            "marker": {
             "colorbar": {
              "outlinewidth": 0,
              "ticks": ""
             }
            },
            "type": "scatterternary"
           }
          ],
          "surface": [
           {
            "colorbar": {
             "outlinewidth": 0,
             "ticks": ""
            },
            "colorscale": [
             [
              0,
              "#0d0887"
             ],
             [
              0.1111111111111111,
              "#46039f"
             ],
             [
              0.2222222222222222,
              "#7201a8"
             ],
             [
              0.3333333333333333,
              "#9c179e"
             ],
             [
              0.4444444444444444,
              "#bd3786"
             ],
             [
              0.5555555555555556,
              "#d8576b"
             ],
             [
              0.6666666666666666,
              "#ed7953"
             ],
             [
              0.7777777777777778,
              "#fb9f3a"
             ],
             [
              0.8888888888888888,
              "#fdca26"
             ],
             [
              1,
              "#f0f921"
             ]
            ],
            "type": "surface"
           }
          ],
          "table": [
           {
            "cells": {
             "fill": {
              "color": "#EBF0F8"
             },
             "line": {
              "color": "white"
             }
            },
            "header": {
             "fill": {
              "color": "#C8D4E3"
             },
             "line": {
              "color": "white"
             }
            },
            "type": "table"
           }
          ]
         },
         "layout": {
          "annotationdefaults": {
           "arrowcolor": "#2a3f5f",
           "arrowhead": 0,
           "arrowwidth": 1
          },
          "autotypenumbers": "strict",
          "coloraxis": {
           "colorbar": {
            "outlinewidth": 0,
            "ticks": ""
           }
          },
          "colorscale": {
           "diverging": [
            [
             0,
             "#8e0152"
            ],
            [
             0.1,
             "#c51b7d"
            ],
            [
             0.2,
             "#de77ae"
            ],
            [
             0.3,
             "#f1b6da"
            ],
            [
             0.4,
             "#fde0ef"
            ],
            [
             0.5,
             "#f7f7f7"
            ],
            [
             0.6,
             "#e6f5d0"
            ],
            [
             0.7,
             "#b8e186"
            ],
            [
             0.8,
             "#7fbc41"
            ],
            [
             0.9,
             "#4d9221"
            ],
            [
             1,
             "#276419"
            ]
           ],
           "sequential": [
            [
             0,
             "#0d0887"
            ],
            [
             0.1111111111111111,
             "#46039f"
            ],
            [
             0.2222222222222222,
             "#7201a8"
            ],
            [
             0.3333333333333333,
             "#9c179e"
            ],
            [
             0.4444444444444444,
             "#bd3786"
            ],
            [
             0.5555555555555556,
             "#d8576b"
            ],
            [
             0.6666666666666666,
             "#ed7953"
            ],
            [
             0.7777777777777778,
             "#fb9f3a"
            ],
            [
             0.8888888888888888,
             "#fdca26"
            ],
            [
             1,
             "#f0f921"
            ]
           ],
           "sequentialminus": [
            [
             0,
             "#0d0887"
            ],
            [
             0.1111111111111111,
             "#46039f"
            ],
            [
             0.2222222222222222,
             "#7201a8"
            ],
            [
             0.3333333333333333,
             "#9c179e"
            ],
            [
             0.4444444444444444,
             "#bd3786"
            ],
            [
             0.5555555555555556,
             "#d8576b"
            ],
            [
             0.6666666666666666,
             "#ed7953"
            ],
            [
             0.7777777777777778,
             "#fb9f3a"
            ],
            [
             0.8888888888888888,
             "#fdca26"
            ],
            [
             1,
             "#f0f921"
            ]
           ]
          },
          "colorway": [
           "#636efa",
           "#EF553B",
           "#00cc96",
           "#ab63fa",
           "#FFA15A",
           "#19d3f3",
           "#FF6692",
           "#B6E880",
           "#FF97FF",
           "#FECB52"
          ],
          "font": {
           "color": "#2a3f5f"
          },
          "geo": {
           "bgcolor": "white",
           "lakecolor": "white",
           "landcolor": "#E5ECF6",
           "showlakes": true,
           "showland": true,
           "subunitcolor": "white"
          },
          "hoverlabel": {
           "align": "left"
          },
          "hovermode": "closest",
          "mapbox": {
           "style": "light"
          },
          "paper_bgcolor": "white",
          "plot_bgcolor": "#E5ECF6",
          "polar": {
           "angularaxis": {
            "gridcolor": "white",
            "linecolor": "white",
            "ticks": ""
           },
           "bgcolor": "#E5ECF6",
           "radialaxis": {
            "gridcolor": "white",
            "linecolor": "white",
            "ticks": ""
           }
          },
          "scene": {
           "xaxis": {
            "backgroundcolor": "#E5ECF6",
            "gridcolor": "white",
            "gridwidth": 2,
            "linecolor": "white",
            "showbackground": true,
            "ticks": "",
            "zerolinecolor": "white"
           },
           "yaxis": {
            "backgroundcolor": "#E5ECF6",
            "gridcolor": "white",
            "gridwidth": 2,
            "linecolor": "white",
            "showbackground": true,
            "ticks": "",
            "zerolinecolor": "white"
           },
           "zaxis": {
            "backgroundcolor": "#E5ECF6",
            "gridcolor": "white",
            "gridwidth": 2,
            "linecolor": "white",
            "showbackground": true,
            "ticks": "",
            "zerolinecolor": "white"
           }
          },
          "shapedefaults": {
           "line": {
            "color": "#2a3f5f"
           }
          },
          "ternary": {
           "aaxis": {
            "gridcolor": "white",
            "linecolor": "white",
            "ticks": ""
           },
           "baxis": {
            "gridcolor": "white",
            "linecolor": "white",
            "ticks": ""
           },
           "bgcolor": "#E5ECF6",
           "caxis": {
            "gridcolor": "white",
            "linecolor": "white",
            "ticks": ""
           }
          },
          "title": {
           "x": 0.05
          },
          "xaxis": {
           "automargin": true,
           "gridcolor": "white",
           "linecolor": "white",
           "ticks": "",
           "title": {
            "standoff": 15
           },
           "zerolinecolor": "white",
           "zerolinewidth": 2
          },
          "yaxis": {
           "automargin": true,
           "gridcolor": "white",
           "linecolor": "white",
           "ticks": "",
           "title": {
            "standoff": 15
           },
           "zerolinecolor": "white",
           "zerolinewidth": 2
          }
         }
        },
        "title": {
         "text": "Return Rate by Country",
         "x": 0.5,
         "y": 0.95
        }
       }
      }
     },
     "metadata": {},
     "output_type": "display_data"
    }
   ],
   "source": [
    "import plotly.express as px\n",
    "import pandas as pd\n",
    "\n",
    "# Assuming you already have the following variables calculated\n",
    "# total_transactions_by_country, total_returns_by_country, return_rate_by_country\n",
    "\n",
    "# Convert the return_rate_by_country into a DataFrame for easier plotting\n",
    "return_rate_df = pd.DataFrame({\n",
    "    'Country': return_rate_by_country.index,\n",
    "    'Return Rate (%)': return_rate_by_country.values\n",
    "})\n",
    "\n",
    "# Create a choropleth map\n",
    "fig = px.choropleth(return_rate_df, \n",
    "                    locations='Country', \n",
    "                    locationmode='country names',  # Use country names for matching\n",
    "                    color='Return Rate (%)',  # The values we want to show on the map\n",
    "                    hover_name='Country',  # Information to display on hover\n",
    "                    color_continuous_scale='reds',  # You can choose different color scales\n",
    "                    labels={'Return Rate (%)': 'Return Rate (%)'},  # Label for the color scale\n",
    "                    title='Return Rate by Country')\n",
    "\n",
    "fig.update_layout(\n",
    "      # Set the paper background color to red\n",
    "    title_x=0.5,  # Center the title\n",
    "    title_y=0.95  # Adjust title positioning (optional)\n",
    ")\n",
    "# Show the map\n",
    "fig.show()\n"
   ]
  },
  {
   "cell_type": "code",
   "execution_count": null,
   "metadata": {},
   "outputs": [
    {
     "data": {
      "application/vnd.plotly.v1+json": {
       "config": {
        "plotlyServerURL": "https://plot.ly"
       },
       "data": [
        {
         "alignmentgroup": "True",
         "hovertemplate": "variable=0<br>Country=%{x}<br>Return Rate (%)=%{y}<extra></extra>",
         "legendgroup": "0",
         "marker": {
          "color": "red",
          "pattern": {
           "shape": ""
          }
         },
         "name": "0",
         "offsetgroup": "0",
         "orientation": "v",
         "showlegend": true,
         "textposition": "auto",
         "type": "bar",
         "x": [
          "Italy",
          "Japan",
          "Nigeria",
          "Denmark",
          "Australia",
          "Sweden",
          "France",
          "Spain",
          "Channel Islands",
          "EIRE",
          "Germany",
          "Cyprus",
          "United Kingdom",
          "United Arab Emirates",
          "Austria",
          "Belgium",
          "Finland",
          "Greece",
          "Netherlands",
          "Norway",
          "Poland",
          "Portugal",
          "USA"
         ],
         "xaxis": "x",
         "y": [
          100,
          100,
          100,
          66.66666666666666,
          59.09090909090909,
          33.33333333333333,
          19.148936170212767,
          11.11111111111111,
          9.30232558139535,
          6.324110671936759,
          6.017191977077363,
          2.912621359223301,
          2.2684371542016533,
          1.7543859649122806,
          null,
          null,
          null,
          null,
          null,
          null,
          null,
          null,
          null
         ],
         "yaxis": "y"
        }
       ],
       "layout": {
        "barmode": "relative",
        "legend": {
         "title": {
          "text": "variable"
         },
         "tracegroupgap": 0
        },
        "plot_bgcolor": "white",
        "template": {
         "data": {
          "bar": [
           {
            "error_x": {
             "color": "#2a3f5f"
            },
            "error_y": {
             "color": "#2a3f5f"
            },
            "marker": {
             "line": {
              "color": "#E5ECF6",
              "width": 0.5
             },
             "pattern": {
              "fillmode": "overlay",
              "size": 10,
              "solidity": 0.2
             }
            },
            "type": "bar"
           }
          ],
          "barpolar": [
           {
            "marker": {
             "line": {
              "color": "#E5ECF6",
              "width": 0.5
             },
             "pattern": {
              "fillmode": "overlay",
              "size": 10,
              "solidity": 0.2
             }
            },
            "type": "barpolar"
           }
          ],
          "carpet": [
           {
            "aaxis": {
             "endlinecolor": "#2a3f5f",
             "gridcolor": "white",
             "linecolor": "white",
             "minorgridcolor": "white",
             "startlinecolor": "#2a3f5f"
            },
            "baxis": {
             "endlinecolor": "#2a3f5f",
             "gridcolor": "white",
             "linecolor": "white",
             "minorgridcolor": "white",
             "startlinecolor": "#2a3f5f"
            },
            "type": "carpet"
           }
          ],
          "choropleth": [
           {
            "colorbar": {
             "outlinewidth": 0,
             "ticks": ""
            },
            "type": "choropleth"
           }
          ],
          "contour": [
           {
            "colorbar": {
             "outlinewidth": 0,
             "ticks": ""
            },
            "colorscale": [
             [
              0,
              "#0d0887"
             ],
             [
              0.1111111111111111,
              "#46039f"
             ],
             [
              0.2222222222222222,
              "#7201a8"
             ],
             [
              0.3333333333333333,
              "#9c179e"
             ],
             [
              0.4444444444444444,
              "#bd3786"
             ],
             [
              0.5555555555555556,
              "#d8576b"
             ],
             [
              0.6666666666666666,
              "#ed7953"
             ],
             [
              0.7777777777777778,
              "#fb9f3a"
             ],
             [
              0.8888888888888888,
              "#fdca26"
             ],
             [
              1,
              "#f0f921"
             ]
            ],
            "type": "contour"
           }
          ],
          "contourcarpet": [
           {
            "colorbar": {
             "outlinewidth": 0,
             "ticks": ""
            },
            "type": "contourcarpet"
           }
          ],
          "heatmap": [
           {
            "colorbar": {
             "outlinewidth": 0,
             "ticks": ""
            },
            "colorscale": [
             [
              0,
              "#0d0887"
             ],
             [
              0.1111111111111111,
              "#46039f"
             ],
             [
              0.2222222222222222,
              "#7201a8"
             ],
             [
              0.3333333333333333,
              "#9c179e"
             ],
             [
              0.4444444444444444,
              "#bd3786"
             ],
             [
              0.5555555555555556,
              "#d8576b"
             ],
             [
              0.6666666666666666,
              "#ed7953"
             ],
             [
              0.7777777777777778,
              "#fb9f3a"
             ],
             [
              0.8888888888888888,
              "#fdca26"
             ],
             [
              1,
              "#f0f921"
             ]
            ],
            "type": "heatmap"
           }
          ],
          "heatmapgl": [
           {
            "colorbar": {
             "outlinewidth": 0,
             "ticks": ""
            },
            "colorscale": [
             [
              0,
              "#0d0887"
             ],
             [
              0.1111111111111111,
              "#46039f"
             ],
             [
              0.2222222222222222,
              "#7201a8"
             ],
             [
              0.3333333333333333,
              "#9c179e"
             ],
             [
              0.4444444444444444,
              "#bd3786"
             ],
             [
              0.5555555555555556,
              "#d8576b"
             ],
             [
              0.6666666666666666,
              "#ed7953"
             ],
             [
              0.7777777777777778,
              "#fb9f3a"
             ],
             [
              0.8888888888888888,
              "#fdca26"
             ],
             [
              1,
              "#f0f921"
             ]
            ],
            "type": "heatmapgl"
           }
          ],
          "histogram": [
           {
            "marker": {
             "pattern": {
              "fillmode": "overlay",
              "size": 10,
              "solidity": 0.2
             }
            },
            "type": "histogram"
           }
          ],
          "histogram2d": [
           {
            "colorbar": {
             "outlinewidth": 0,
             "ticks": ""
            },
            "colorscale": [
             [
              0,
              "#0d0887"
             ],
             [
              0.1111111111111111,
              "#46039f"
             ],
             [
              0.2222222222222222,
              "#7201a8"
             ],
             [
              0.3333333333333333,
              "#9c179e"
             ],
             [
              0.4444444444444444,
              "#bd3786"
             ],
             [
              0.5555555555555556,
              "#d8576b"
             ],
             [
              0.6666666666666666,
              "#ed7953"
             ],
             [
              0.7777777777777778,
              "#fb9f3a"
             ],
             [
              0.8888888888888888,
              "#fdca26"
             ],
             [
              1,
              "#f0f921"
             ]
            ],
            "type": "histogram2d"
           }
          ],
          "histogram2dcontour": [
           {
            "colorbar": {
             "outlinewidth": 0,
             "ticks": ""
            },
            "colorscale": [
             [
              0,
              "#0d0887"
             ],
             [
              0.1111111111111111,
              "#46039f"
             ],
             [
              0.2222222222222222,
              "#7201a8"
             ],
             [
              0.3333333333333333,
              "#9c179e"
             ],
             [
              0.4444444444444444,
              "#bd3786"
             ],
             [
              0.5555555555555556,
              "#d8576b"
             ],
             [
              0.6666666666666666,
              "#ed7953"
             ],
             [
              0.7777777777777778,
              "#fb9f3a"
             ],
             [
              0.8888888888888888,
              "#fdca26"
             ],
             [
              1,
              "#f0f921"
             ]
            ],
            "type": "histogram2dcontour"
           }
          ],
          "mesh3d": [
           {
            "colorbar": {
             "outlinewidth": 0,
             "ticks": ""
            },
            "type": "mesh3d"
           }
          ],
          "parcoords": [
           {
            "line": {
             "colorbar": {
              "outlinewidth": 0,
              "ticks": ""
             }
            },
            "type": "parcoords"
           }
          ],
          "pie": [
           {
            "automargin": true,
            "type": "pie"
           }
          ],
          "scatter": [
           {
            "fillpattern": {
             "fillmode": "overlay",
             "size": 10,
             "solidity": 0.2
            },
            "type": "scatter"
           }
          ],
          "scatter3d": [
           {
            "line": {
             "colorbar": {
              "outlinewidth": 0,
              "ticks": ""
             }
            },
            "marker": {
             "colorbar": {
              "outlinewidth": 0,
              "ticks": ""
             }
            },
            "type": "scatter3d"
           }
          ],
          "scattercarpet": [
           {
            "marker": {
             "colorbar": {
              "outlinewidth": 0,
              "ticks": ""
             }
            },
            "type": "scattercarpet"
           }
          ],
          "scattergeo": [
           {
            "marker": {
             "colorbar": {
              "outlinewidth": 0,
              "ticks": ""
             }
            },
            "type": "scattergeo"
           }
          ],
          "scattergl": [
           {
            "marker": {
             "colorbar": {
              "outlinewidth": 0,
              "ticks": ""
             }
            },
            "type": "scattergl"
           }
          ],
          "scattermapbox": [
           {
            "marker": {
             "colorbar": {
              "outlinewidth": 0,
              "ticks": ""
             }
            },
            "type": "scattermapbox"
           }
          ],
          "scatterpolar": [
           {
            "marker": {
             "colorbar": {
              "outlinewidth": 0,
              "ticks": ""
             }
            },
            "type": "scatterpolar"
           }
          ],
          "scatterpolargl": [
           {
            "marker": {
             "colorbar": {
              "outlinewidth": 0,
              "ticks": ""
             }
            },
            "type": "scatterpolargl"
           }
          ],
          "scatterternary": [
           {
            "marker": {
             "colorbar": {
              "outlinewidth": 0,
              "ticks": ""
             }
            },
            "type": "scatterternary"
           }
          ],
          "surface": [
           {
            "colorbar": {
             "outlinewidth": 0,
             "ticks": ""
            },
            "colorscale": [
             [
              0,
              "#0d0887"
             ],
             [
              0.1111111111111111,
              "#46039f"
             ],
             [
              0.2222222222222222,
              "#7201a8"
             ],
             [
              0.3333333333333333,
              "#9c179e"
             ],
             [
              0.4444444444444444,
              "#bd3786"
             ],
             [
              0.5555555555555556,
              "#d8576b"
             ],
             [
              0.6666666666666666,
              "#ed7953"
             ],
             [
              0.7777777777777778,
              "#fb9f3a"
             ],
             [
              0.8888888888888888,
              "#fdca26"
             ],
             [
              1,
              "#f0f921"
             ]
            ],
            "type": "surface"
           }
          ],
          "table": [
           {
            "cells": {
             "fill": {
              "color": "#EBF0F8"
             },
             "line": {
              "color": "white"
             }
            },
            "header": {
             "fill": {
              "color": "#C8D4E3"
             },
             "line": {
              "color": "white"
             }
            },
            "type": "table"
           }
          ]
         },
         "layout": {
          "annotationdefaults": {
           "arrowcolor": "#2a3f5f",
           "arrowhead": 0,
           "arrowwidth": 1
          },
          "autotypenumbers": "strict",
          "coloraxis": {
           "colorbar": {
            "outlinewidth": 0,
            "ticks": ""
           }
          },
          "colorscale": {
           "diverging": [
            [
             0,
             "#8e0152"
            ],
            [
             0.1,
             "#c51b7d"
            ],
            [
             0.2,
             "#de77ae"
            ],
            [
             0.3,
             "#f1b6da"
            ],
            [
             0.4,
             "#fde0ef"
            ],
            [
             0.5,
             "#f7f7f7"
            ],
            [
             0.6,
             "#e6f5d0"
            ],
            [
             0.7,
             "#b8e186"
            ],
            [
             0.8,
             "#7fbc41"
            ],
            [
             0.9,
             "#4d9221"
            ],
            [
             1,
             "#276419"
            ]
           ],
           "sequential": [
            [
             0,
             "#0d0887"
            ],
            [
             0.1111111111111111,
             "#46039f"
            ],
            [
             0.2222222222222222,
             "#7201a8"
            ],
            [
             0.3333333333333333,
             "#9c179e"
            ],
            [
             0.4444444444444444,
             "#bd3786"
            ],
            [
             0.5555555555555556,
             "#d8576b"
            ],
            [
             0.6666666666666666,
             "#ed7953"
            ],
            [
             0.7777777777777778,
             "#fb9f3a"
            ],
            [
             0.8888888888888888,
             "#fdca26"
            ],
            [
             1,
             "#f0f921"
            ]
           ],
           "sequentialminus": [
            [
             0,
             "#0d0887"
            ],
            [
             0.1111111111111111,
             "#46039f"
            ],
            [
             0.2222222222222222,
             "#7201a8"
            ],
            [
             0.3333333333333333,
             "#9c179e"
            ],
            [
             0.4444444444444444,
             "#bd3786"
            ],
            [
             0.5555555555555556,
             "#d8576b"
            ],
            [
             0.6666666666666666,
             "#ed7953"
            ],
            [
             0.7777777777777778,
             "#fb9f3a"
            ],
            [
             0.8888888888888888,
             "#fdca26"
            ],
            [
             1,
             "#f0f921"
            ]
           ]
          },
          "colorway": [
           "#636efa",
           "#EF553B",
           "#00cc96",
           "#ab63fa",
           "#FFA15A",
           "#19d3f3",
           "#FF6692",
           "#B6E880",
           "#FF97FF",
           "#FECB52"
          ],
          "font": {
           "color": "#2a3f5f"
          },
          "geo": {
           "bgcolor": "white",
           "lakecolor": "white",
           "landcolor": "#E5ECF6",
           "showlakes": true,
           "showland": true,
           "subunitcolor": "white"
          },
          "hoverlabel": {
           "align": "left"
          },
          "hovermode": "closest",
          "mapbox": {
           "style": "light"
          },
          "paper_bgcolor": "white",
          "plot_bgcolor": "#E5ECF6",
          "polar": {
           "angularaxis": {
            "gridcolor": "white",
            "linecolor": "white",
            "ticks": ""
           },
           "bgcolor": "#E5ECF6",
           "radialaxis": {
            "gridcolor": "white",
            "linecolor": "white",
            "ticks": ""
           }
          },
          "scene": {
           "xaxis": {
            "backgroundcolor": "#E5ECF6",
            "gridcolor": "white",
            "gridwidth": 2,
            "linecolor": "white",
            "showbackground": true,
            "ticks": "",
            "zerolinecolor": "white"
           },
           "yaxis": {
            "backgroundcolor": "#E5ECF6",
            "gridcolor": "white",
            "gridwidth": 2,
            "linecolor": "white",
            "showbackground": true,
            "ticks": "",
            "zerolinecolor": "white"
           },
           "zaxis": {
            "backgroundcolor": "#E5ECF6",
            "gridcolor": "white",
            "gridwidth": 2,
            "linecolor": "white",
            "showbackground": true,
            "ticks": "",
            "zerolinecolor": "white"
           }
          },
          "shapedefaults": {
           "line": {
            "color": "#2a3f5f"
           }
          },
          "ternary": {
           "aaxis": {
            "gridcolor": "white",
            "linecolor": "white",
            "ticks": ""
           },
           "baxis": {
            "gridcolor": "white",
            "linecolor": "white",
            "ticks": ""
           },
           "bgcolor": "#E5ECF6",
           "caxis": {
            "gridcolor": "white",
            "linecolor": "white",
            "ticks": ""
           }
          },
          "title": {
           "x": 0.05
          },
          "xaxis": {
           "automargin": true,
           "gridcolor": "white",
           "linecolor": "white",
           "ticks": "",
           "title": {
            "standoff": 15
           },
           "zerolinecolor": "white",
           "zerolinewidth": 2
          },
          "yaxis": {
           "automargin": true,
           "gridcolor": "white",
           "linecolor": "white",
           "ticks": "",
           "title": {
            "standoff": 15
           },
           "zerolinecolor": "white",
           "zerolinewidth": 2
          }
         }
        },
        "title": {
         "text": "Return Rate per Country",
         "x": 0.5,
         "y": 0.95
        },
        "xaxis": {
         "anchor": "y",
         "domain": [
          0,
          1
         ],
         "title": {
          "text": "Country"
         }
        },
        "yaxis": {
         "anchor": "x",
         "domain": [
          0,
          1
         ],
         "title": {
          "text": "Return Rate (%)"
         }
        }
       }
      }
     },
     "metadata": {},
     "output_type": "display_data"
    }
   ],
   "source": [
    "# Sort return rates in descending order\n",
    "sorted_return_rate_by_country = return_rate_by_country.sort_values(ascending=False)\n",
    "\n",
    "# Plot the return rates by country using Plotly\n",
    "import plotly.express as px\n",
    "fig = px.bar(\n",
    "    sorted_return_rate_by_country, \n",
    "    labels={'index': 'Country', 'value': 'Return Rate (%)'},\n",
    "    title=\"Return Rate per Country\",\n",
    "    color_discrete_sequence=['red']  # Set the bar color to red\n",
    ")\n",
    "\n",
    "fig.update_layout(\n",
    "    plot_bgcolor='white',  # Set the plot background color (optional\n",
    "    title_x=0.5,           # Center the title\n",
    "    title_y=0.95           # Adjust title positioning (optional)\n",
    ")\n",
    "\n",
    "fig.show()\n"
   ]
  },
  {
   "cell_type": "markdown",
   "metadata": {},
   "source": [
    "### Investigate Return Drivers"
   ]
  },
  {
   "cell_type": "code",
   "execution_count": null,
   "metadata": {},
   "outputs": [],
   "source": [
    "# Separate purchases and cancellations\n",
    "purchases = df[~df['Invoice'].str.startswith('C')]\n",
    "cancellations = df[df['Invoice'].str.startswith('C')]\n",
    "\n",
    "# Match purchases and cancellations based on the Invoice number (remove 'C' from cancellation invoice)\n",
    "cancellations['Invoice'] = cancellations['Invoice'].str[1:]\n",
    "\n",
    "# Merge purchases and cancellations on the 'Invoice' column\n",
    "merged_df = pd.merge(purchases, cancellations, on='Invoice')\n",
    "\n",
    "# Calculate the time difference between purchase and cancellation in minutes\n",
    "merged_df['TimeDifference'] = (merged_df['InvoiceDate_cancel'] - merged_df['InvoiceDate_purchase']).dt.total_seconds() / 60\n",
    "\n",
    "# Plotting using Plotly\n",
    "fig = px.histogram(merged_df, \n",
    "                   x='TimeDifference', \n",
    "                   nbins=20, \n",
    "                   title=\"Distribution of Time Differences Between Purchases and Cancellations\",\n",
    "                   labels={'TimeDifference': 'Time Difference (Minutes)'},\n",
    "                   template='plotly_dark')\n",
    "\n",
    "# Show the plot\n",
    "fig.show()\n",
    "\n",
    "# Optionally print the merged dataframe to see the results\n",
    "print(merged_df[['Invoice', 'Description_purchase', 'TimeDifference']])"
   ]
  },
  {
   "cell_type": "code",
   "execution_count": 303,
   "metadata": {},
   "outputs": [],
   "source": [
    "# Separate purchases and cancellations\n",
    "purchases = df[~df['Invoice'].str.startswith('C')]\n",
    "cancellations = df[df['Invoice'].str.startswith('C')]"
   ]
  },
  {
   "cell_type": "code",
   "execution_count": 305,
   "metadata": {},
   "outputs": [
    {
     "name": "stdout",
     "output_type": "stream",
     "text": [
      "Purchases invoices: ['489824' '491758' '491047' ... '490091' '490007' '490932']\n",
      "Cancellations invoices (before stripping): ['C491080' 'C491411' 'C490807' 'C489528' 'C490946' 'C490744' 'C490743'\n",
      " 'C491728' 'C491166' 'C491693' 'C490358' 'C490773' 'C491723' 'C491040'\n",
      " 'C490923' 'C490148' 'C491003' 'C489570' 'C490980' 'C490076' 'C490942'\n",
      " 'C491416' 'C491414' 'C491676' 'C490973' 'C489449' 'C490931' 'C491546'\n",
      " 'C491611' 'C490700' 'C490283' 'C491015' 'C490746' 'C490987' 'C491099'\n",
      " 'C491002' 'C490935' 'C490996' 'C491409' 'C491190' 'C491594' 'C491417'\n",
      " 'C491004' 'C489527' 'C490460' 'C490120' 'C490702' 'C491705' 'C491466'\n",
      " 'C490480' 'C489643' 'C489541' 'C490866' 'C490510' 'C491818' 'C489858'\n",
      " 'C490701' 'C490994' 'C491461' 'C491460' 'C489636' 'C491013' 'C491410'\n",
      " 'C490296' 'C489459' 'C490122' 'C491985' 'C491260' 'C491084' 'C490798'\n",
      " 'C489955' 'C489685' 'C491632' 'C491020' 'C491521' 'C490947' 'C489713'\n",
      " 'C491598' 'C490129' 'C490309' 'C491610' 'C489881' 'C490544' 'C491827'\n",
      " 'C489583' 'C491402' 'C491544' 'C491029' 'C490991' 'C491441' 'C491819'\n",
      " 'C491130' 'C489595' 'C491469' 'C491459' 'C491614' 'C491621' 'C490929'\n",
      " 'C491017' 'C490520' 'C491593' 'C490565' 'C490348' 'C491413' 'C489534'\n",
      " 'C491545' 'C490748' 'C491823' 'C490462' 'C491615' 'C491741' 'C489563'\n",
      " 'C491022' 'C491602' 'C490513' 'C490509' 'C491830' 'C491430' 'C490153'\n",
      " 'C491838' 'C489610' 'C489591' 'C490306' 'C491398' 'C491618' 'C490133'\n",
      " 'C489554' 'C491032' 'C491415' 'C491036' 'C491609' 'C491019' 'C489577'\n",
      " 'C491739' 'C490768' 'C491845' 'C490721' 'C491156' 'C491208' 'C489553'\n",
      " 'C490742' 'C491419' 'C491591' 'C491016' 'C489503' 'C491423' 'C491604'\n",
      " 'C491370' 'C491962' 'C491599' 'C489568' 'C489565' 'C491428' 'C491012'\n",
      " 'C490997' 'C491619' 'C489651' 'C490269' 'C491822' 'C491446' 'C489518'\n",
      " 'C491727' 'C490739' 'C490993' 'C490469' 'C489973' 'C491412' 'C489799'\n",
      " 'C491620' 'C491005' 'C491842' 'C491623' 'C491820' 'C490155' 'C490051'\n",
      " 'C491121' 'C489476' 'C489530' 'C489632' 'C491157' 'C489592' 'C491808'\n",
      " 'C491021' 'C491420' 'C490307' 'C491455' 'C490117' 'C489813' 'C489504'\n",
      " 'C489538' 'C491596' 'C489524' 'C490251' 'C489803' 'C491836' 'C490756'\n",
      " 'C491616' 'C491551' 'C490507' 'C489860' 'C489535' 'C491027' 'C491606'\n",
      " 'C490131' 'C490988' 'C491052' 'C489686' 'C490098' 'C490492' 'C489549'\n",
      " 'C490740' 'C491162' 'C491595' 'C489555' 'C490949' 'C491494' 'C491030'\n",
      " 'C491605' 'C491076' 'C489605' 'C491689' 'C489587' 'C491650' 'C489543'\n",
      " 'C490974' 'C490497' 'C491458' 'C491018' 'C490943' 'C491626' 'C491761'\n",
      " 'C490532' 'C491821' 'C489771' 'C490126' 'C491533' 'C489958' 'C490350'\n",
      " 'C491000' 'C490934' 'C491023' 'C491031' 'C490666' 'C491592' 'C491588'\n",
      " 'C491589' 'C491467' 'C491213' 'C490498' 'C489589' 'C489911' 'C491001'\n",
      " 'C489859' 'C489828' 'C489551' 'C491037' 'C490983' 'C490977' 'C491418'\n",
      " 'C491168' 'C489588' 'C490985' 'C490495' 'C489578' 'C490979' 'C491028'\n",
      " 'C489689' 'C490096' 'C490939' 'C490995' 'C491404' 'C490986' 'C491600'\n",
      " 'C491608' 'C491369' 'C491846' 'C490402' 'C491590' 'C491740' 'C490475'\n",
      " 'C491824' 'C490343']\n"
     ]
    }
   ],
   "source": [
    "print(\"Purchases invoices:\", purchases['Invoice'].unique())\n",
    "print(\"Cancellations invoices (before stripping):\", cancellations['Invoice'].unique())"
   ]
  },
  {
   "cell_type": "code",
   "execution_count": 310,
   "metadata": {},
   "outputs": [],
   "source": [
    "cancellations_mapping = cancellations.set_index(['Invoice', 'Description'])['InvoiceDate'].to_dict()"
   ]
  },
  {
   "cell_type": "code",
   "execution_count": 311,
   "metadata": {},
   "outputs": [
    {
     "data": {
      "text/plain": [
       "{('491080', 'GOLD EAR MUFF HEADPHONES'): Timestamp('2009-12-09 13:07:00'),\n",
       " ('491411',\n",
       "  'CAKE STAND WHITE TWO TIER LACE'): Timestamp('2009-12-10 18:58:00'),\n",
       " ('490807', 'BIG DOUGHNUT FRIDGE MAGNETS'): Timestamp('2009-12-08 12:25:00'),\n",
       " ('489528',\n",
       "  '15CM CHRISTMAS GLASS BALL 20 LIGHTS'): Timestamp('2009-12-01 11:50:00'),\n",
       " ('490946', 'LADS ONLY TISSUE BOX'): Timestamp('2009-12-08 14:28:00'),\n",
       " ('490744',\n",
       "  'RED/WHITE DOTS RUFFLED UMBRELLA'): Timestamp('2009-12-07 18:00:00'),\n",
       " ('490743',\n",
       "  'CERAMIC CAKE STAND + HANGING CAKES'): Timestamp('2009-12-07 17:59:00'),\n",
       " ('491728', 'COFFEE MUG CAT + BIRD DESIGN'): Timestamp('2009-12-14 09:18:00'),\n",
       " ('491166', 'MOBILE VINTAGE HEARTS '): Timestamp('2009-12-10 11:00:00'),\n",
       " ('491693',\n",
       "  'SET/3 OCEAN SCENT CANDLE JEWEL BOX'): Timestamp('2009-12-13 13:22:00'),\n",
       " ('490358', 'CREAM SWEETHEART MINI CHEST'): Timestamp('2009-12-04 16:51:00'),\n",
       " ('490773',\n",
       "  'LARGE CAKE STAND  HANGING STRAWBERY'): Timestamp('2009-12-08 11:19:00'),\n",
       " ('491723',\n",
       "  'WHITE HANGING HEART T-LIGHT HOLDER'): Timestamp('2009-12-13 16:17:00'),\n",
       " ('491040', 'BIRD DECORATION GREEN  SPOT'): Timestamp('2009-12-09 09:37:00'),\n",
       " ('490923', 'BAKING SET 9 PIECE RETROSPOT '): Timestamp('2009-12-08 13:25:00'),\n",
       " ('490148',\n",
       "  'WHITE HANGING HEART T-LIGHT HOLDER'): Timestamp('2009-12-04 09:37:00'),\n",
       " ('491003',\n",
       "  'WOOD S/3 CABINET ANT WHITE FINISH'): Timestamp('2009-12-08 17:34:00'),\n",
       " ('489570', 'EDWARDIAN PARASOL NATURAL'): Timestamp('2009-12-01 13:28:00'),\n",
       " ('490980',\n",
       "  'HAIRCLIPS FORTIES FABRIC ASSORTED'): Timestamp('2009-12-08 16:55:00'),\n",
       " ('490076',\n",
       "  'RETRO SPOT TEA SET CERAMIC 11 PC '): Timestamp('2009-12-03 14:43:00'),\n",
       " ('490946',\n",
       "  'ASSORTED ICE CREAM FRIDGE MAGNETS'): Timestamp('2009-12-08 14:28:00'),\n",
       " ('490942',\n",
       "  'SKULLS  DESIGN  COTTON TOTE BAG'): Timestamp('2009-12-08 14:04:00'),\n",
       " ('491416',\n",
       "  'GLASS STAR FROSTED T-LIGHT HOLDER'): Timestamp('2009-12-10 19:18:00'),\n",
       " ('491414',\n",
       "  'JUMBO BAG PINK VINTAGE PAISLEY'): Timestamp('2009-12-10 19:13:00'),\n",
       " ('491676', 'SKULLS  STICKERS'): Timestamp('2009-12-13 12:09:00'),\n",
       " ('490807', 'SWALLOWS GREETING CARD'): Timestamp('2009-12-08 12:25:00'),\n",
       " ('490973', 'KINGS CHOICE MUG'): Timestamp('2009-12-08 16:40:00'),\n",
       " ('489449', 'PAPER CHAIN KIT RETRO SPOT'): Timestamp('2009-12-01 10:33:00'),\n",
       " ('490807', 'SET OF 3 BLACK FLYING DUCKS'): Timestamp('2009-12-08 12:25:00'),\n",
       " ('490931',\n",
       "  '15CM CHRISTMAS GLASS BALL 20 LIGHTS'): Timestamp('2009-12-08 13:44:00'),\n",
       " ('490807', 'FEATHER PEN,LIGHT PINK'): Timestamp('2009-12-08 12:25:00'),\n",
       " ('491546',\n",
       "  'TRADITIONAL WOODEN SKIPPING ROPE'): Timestamp('2009-12-11 12:38:00'),\n",
       " ('491611', 'GARLAND WITH STARS AND BELLS'): Timestamp('2009-12-11 13:45:00'),\n",
       " ('490700', 'LETTER \"A\" BLING KEY RING'): Timestamp('2009-12-07 14:37:00'),\n",
       " ('490283',\n",
       "  'SET/5 RED SPOTTY LID GLASS BOWLS'): Timestamp('2009-12-04 12:49:00'),\n",
       " ('491015', 'MOROCCAN BEATEN METAL MIRROR'): Timestamp('2009-12-08 18:30:00'),\n",
       " ('490746', 'BAKING SET 9 PIECE RETROSPOT '): Timestamp('2009-12-07 18:09:00'),\n",
       " ('490987', 'DARK CHOCOLATE SCENTCANDLE'): Timestamp('2009-12-08 17:07:00'),\n",
       " ('491099', 'FUNKY MONKEY MUG'): Timestamp('2009-12-09 14:11:00'),\n",
       " ('491002', ' SILVER CHERRY LIGHTS'): Timestamp('2009-12-08 17:32:00'),\n",
       " ('490935', 'LADIES & GENTLEMEN METAL SIGN'): Timestamp('2009-12-08 13:54:00'),\n",
       " ('489449', 'CREAM FELT EASTER EGG BASKET'): Timestamp('2009-12-01 10:33:00'),\n",
       " ('490996', 'GREY HEART HOT WATER BOTTLE'): Timestamp('2009-12-08 17:23:00'),\n",
       " ('489570',\n",
       "  'HANGING BAUBLE T-LIGHT HOLDER LARGE'): Timestamp('2009-12-01 13:28:00'),\n",
       " ('491409',\n",
       "  'AGED GLASS SILVER T-LIGHT HOLDER'): Timestamp('2009-12-10 18:48:00'),\n",
       " ('491190', 'RETRO SPOT MUG'): Timestamp('2009-12-10 12:38:00'),\n",
       " ('491594',\n",
       "  'S/5 MINI ICE CREAM FRIDGE MAGNETS'): Timestamp('2009-12-11 13:13:00'),\n",
       " ('491417', 'TEA TIME OVEN GLOVE'): Timestamp('2009-12-10 19:20:00'),\n",
       " ('490358', 'RETRO SPOTS BUTTER DISH'): Timestamp('2009-12-04 16:51:00'),\n",
       " ('491004',\n",
       "  'VINTAGE PAISLEY STATIONERY SET'): Timestamp('2009-12-08 17:38:00'),\n",
       " ('491003',\n",
       "  'AGED GLASS SILVER T-LIGHT HOLDER'): Timestamp('2009-12-08 17:34:00'),\n",
       " ('490807', 'FEATHER PEN,COAL BLACK'): Timestamp('2009-12-08 12:25:00'),\n",
       " ('490283',\n",
       "  'STRAWBERRY CERAMIC TRINKET BOX'): Timestamp('2009-12-04 12:49:00'),\n",
       " ('489527', 'RED SPOTTY OVEN GLOVE DOUBLE'): Timestamp('2009-12-01 11:50:00'),\n",
       " ('490460', 'BLACK TEA,COFFEE,SUGAR JARS'): Timestamp('2009-12-06 12:06:00'),\n",
       " ('490120', 'SET/6 RED SPOTTY PAPER PLATES'): Timestamp('2009-12-03 17:52:00'),\n",
       " ('490996',\n",
       "  'PINK AND WHITE CHRISTMAS TREE 120CM'): Timestamp('2009-12-08 17:23:00'),\n",
       " ('491594',\n",
       "  'LARGE CAKE STAND  HANGING STRAWBERY'): Timestamp('2009-12-11 13:13:00'),\n",
       " ('490942',\n",
       "  'LETS GO SHOPPING COTTON TOTE BAG'): Timestamp('2009-12-08 14:04:00'),\n",
       " ('490120',\n",
       "  'SET/20 RED SPOTTY PAPER NAPKINS '): Timestamp('2009-12-03 17:52:00'),\n",
       " ('490946', 'CACTI T-LIGHT CANDLES'): Timestamp('2009-12-08 14:28:00'),\n",
       " ('490807', 'SMALL LICORICE DES PINK BOWL'): Timestamp('2009-12-08 12:25:00'),\n",
       " ('490807', 'MINI HIGHLIGHTER PENS'): Timestamp('2009-12-08 12:25:00'),\n",
       " ('490702', 'PARTY BUNTING'): Timestamp('2009-12-07 14:43:00'),\n",
       " ('491705', 'BUTTONS DESIGN JEWELLERY BOX'): Timestamp('2009-12-13 14:09:00'),\n",
       " ('491414',\n",
       "  'CHARLOTTE BAG , PINK/WHITE SPOTS'): Timestamp('2009-12-10 19:13:00'),\n",
       " ('491003', 'TWO DOOR CURIO CABINET'): Timestamp('2009-12-08 17:34:00'),\n",
       " ('491466', 'FULL ENGLISH BREAKFAST PLATE'): Timestamp('2009-12-11 11:52:00'),\n",
       " ('490480',\n",
       "  'GREEN CHRISTMAS TREE CARD HOLDER'): Timestamp('2009-12-06 12:46:00'),\n",
       " ('489643', 'SCOTTIES DESIGN WASHBAG'): Timestamp('2009-12-01 16:26:00'),\n",
       " ('489541', 'SET OF KITCHEN WALL  STICKERS'): Timestamp('2009-12-01 12:18:00'),\n",
       " ('491190', 'ZINC METAL HEART DECORATION'): Timestamp('2009-12-10 12:38:00'),\n",
       " ('490866',\n",
       "  'GLITTER HANGING BUTTERFLY STRING'): Timestamp('2009-12-08 12:51:00'),\n",
       " ('490510', 'CONGRATULATIONS BUNTING'): Timestamp('2009-12-06 14:37:00'),\n",
       " ('491818',\n",
       "  'GLASS CAKE STAND MIRRORED BASE'): Timestamp('2009-12-14 13:43:00'),\n",
       " ('490935', 'MIRRORED DISCO BALL '): Timestamp('2009-12-08 13:54:00'),\n",
       " ('489858',\n",
       "  'SET/5 RED SPOTTY LID GLASS BOWLS'): Timestamp('2009-12-02 14:43:00'),\n",
       " ('490701', 'BAKING SET 9 PIECE RETROSPOT '): Timestamp('2009-12-07 14:38:00'),\n",
       " ('490994',\n",
       "  'WHITE BEADED GARLAND STRING 20LIGHT'): Timestamp('2009-12-08 17:15:00'),\n",
       " ('491461', 'RETRO SPOT LAMP'): Timestamp('2009-12-11 11:35:00'),\n",
       " ('491460',\n",
       "  'RETRO SPOT TRADITIONAL TEAPOT '): Timestamp('2009-12-11 11:31:00'),\n",
       " ('489636',\n",
       "  'LETS GO SHOPPING COTTON TOTE BAG'): Timestamp('2009-12-01 15:34:00'),\n",
       " ('490807', 'BLUE SPOTTY PURSE '): Timestamp('2009-12-08 12:25:00'),\n",
       " ('490942', 'SKULLS  STICKERS'): Timestamp('2009-12-08 14:04:00'),\n",
       " ('491013', 'VICTORIAN SEWING BOX SMALL '): Timestamp('2009-12-08 18:28:00'),\n",
       " ('490980',\n",
       "  '15CM CHRISTMAS GLASS BALL 20 LIGHTS'): Timestamp('2009-12-08 16:55:00'),\n",
       " ('491410',\n",
       "  'RETRO SPOT TEA SET CERAMIC 11 PC '): Timestamp('2009-12-10 18:50:00'),\n",
       " ('491190', 'LOVE BUILDING BLOCK WORD'): Timestamp('2009-12-10 12:38:00'),\n",
       " ('490935', 'DOOR MAT GREEN PAISLEY '): Timestamp('2009-12-08 13:54:00'),\n",
       " ('490296', 'POSTAGE'): Timestamp('2009-12-04 13:51:00'),\n",
       " ('489459', 'GREEN SWEETHEART BRACELET'): Timestamp('2009-12-01 10:44:00'),\n",
       " ('490122',\n",
       "  'DAIRY MAID CERAMIC BUTTER DISH'): Timestamp('2009-12-03 17:59:00'),\n",
       " ('489643', 'SWEETHEART KEY CABINET'): Timestamp('2009-12-01 16:26:00'),\n",
       " ('491985', 'OPEN CLOSED METAL SIGN'): Timestamp('2009-12-15 09:46:00'),\n",
       " ('491260', 'CARNIVAL BRACELET'): Timestamp('2009-12-10 15:01:00'),\n",
       " ('491084',\n",
       "  'SET/6 GOLD REINDEER T-LIGHT CANDLES'): Timestamp('2009-12-09 13:24:00'),\n",
       " ('490798',\n",
       "  'SET/10 RED SPOTTY PARTY CANDLES'): Timestamp('2009-12-08 11:51:00'),\n",
       " ('489955', 'OPULENT VELVET CANDLE IN BOX'): Timestamp('2009-12-03 10:57:00'),\n",
       " ('489685', 'POSTAGE'): Timestamp('2009-12-02 10:28:00'),\n",
       " ('491632', 'HEART EAR MUFF HEADPHONES'): Timestamp('2009-12-11 15:14:00'),\n",
       " ('491020', 'WOODEN BOX ADVENT CALENDAR '): Timestamp('2009-12-08 18:49:00'),\n",
       " ('491521', 'MILK PAN BLUE RETROSPOT'): Timestamp('2009-12-11 12:29:00'),\n",
       " ('490996', 'HYACINTH BULB T-LIGHT CANDLES'): Timestamp('2009-12-08 17:23:00'),\n",
       " ('491632', 'S/2 BEACH HUT TREASURE CHESTS'): Timestamp('2009-12-11 15:14:00'),\n",
       " ('490996', 'ASSORTED COLOUR BIRD ORNAMENT'): Timestamp('2009-12-08 17:23:00'),\n",
       " ('490798',\n",
       "  'LUNCHBOX WITH CUTLERY RETROSPOT '): Timestamp('2009-12-08 11:51:00'),\n",
       " ('490947',\n",
       "  'CHARLIE AND LOLA CHARLOTTE BAG'): Timestamp('2009-12-08 14:29:00'),\n",
       " ('489713',\n",
       "  'SMALL RETRO SPOT MUG IN BOX  RED'): Timestamp('2009-12-02 10:55:00'),\n",
       " ('491598',\n",
       "  'COSMETIC BAG VINTAGE ROSE PAISLEY'): Timestamp('2009-12-11 13:19:00'),\n",
       " ('490129', 'Manual'): Timestamp('2009-12-03 18:26:00'),\n",
       " ('490309', 'BAKING SET 9 PIECE RETROSPOT '): Timestamp('2009-12-04 14:56:00'),\n",
       " ('491610',\n",
       "  'SET/6 IVORY BIRD T-LIGHT CANDLES'): Timestamp('2009-12-11 13:42:00'),\n",
       " ('490807', 'PIZZA PLATE IN BOX'): Timestamp('2009-12-08 12:25:00'),\n",
       " ('489713',\n",
       "  'SMALL RETRO SPOT MUG IN BOX  WHITE'): Timestamp('2009-12-02 10:55:00'),\n",
       " ('489881',\n",
       "  'CANDLE IN JAR COLLAGE , VANILLA'): Timestamp('2009-12-02 16:20:00'),\n",
       " ('490544',\n",
       "  'RETRO SPOT TEA SET CERAMIC 11 PC '): Timestamp('2009-12-07 09:46:00'),\n",
       " ('491827',\n",
       "  'HOT WATER BOTTLE TEA AND SYMPATHY'): Timestamp('2009-12-14 14:12:00'),\n",
       " ('489583',\n",
       "  'VANILLA SCENT CANDLE JEWELLED BOX'): Timestamp('2009-12-01 13:47:00'),\n",
       " ('490946', 'BOX OF 24 COCKTAIL PARASOLS'): Timestamp('2009-12-08 14:28:00'),\n",
       " ('491402',\n",
       "  'SCANDINAVIAN 3 HEARTS NAPKIN RING'): Timestamp('2009-12-10 17:16:00'),\n",
       " ('491594',\n",
       "  'SMALL FAIRY CAKE FRIDGE MAGNETS'): Timestamp('2009-12-11 13:13:00'),\n",
       " ('491544', 'COFFEE MUG DOG + BALL DESIGN'): Timestamp('2009-12-11 12:36:00'),\n",
       " ('491029', 'RETRO SPOT CAKE STAND'): Timestamp('2009-12-08 19:07:00'),\n",
       " ('490991',\n",
       "  'CERAMIC BIRDHOUSE FINCH BLUE  LARGE'): Timestamp('2009-12-08 17:10:00'),\n",
       " ('489459', 'PINK ENAMEL+GLASS HAIR COMB'): Timestamp('2009-12-01 10:44:00'),\n",
       " ('491441',\n",
       "  'CERAMIC CAKE DESIGN SPOTTED MUG'): Timestamp('2009-12-11 10:32:00'),\n",
       " ('489881',\n",
       "  'ROSE SCENT CANDLE IN JEWELLED BOX'): Timestamp('2009-12-02 16:20:00'),\n",
       " ('491819',\n",
       "  'GLASS JAR, ENGLISH CONFECTIONERY'): Timestamp('2009-12-14 13:44:00'),\n",
       " ('491130', 'BOOM BOX SPEAKER BOYS'): Timestamp('2009-12-09 16:03:00'),\n",
       " ('490942',\n",
       "  'CHARLIE+LOLA PINK HOT WATER BOTTLE'): Timestamp('2009-12-08 14:04:00'),\n",
       " ('491521', 'CREAM SWEETHEART DOUBLE SHELF'): Timestamp('2009-12-11 12:29:00'),\n",
       " ('489595',\n",
       "  'GLASS CAKE STAND MIRRORED BASE'): Timestamp('2009-12-01 14:20:00'),\n",
       " ('491469', 'EDWARDIAN PARASOL RED'): Timestamp('2009-12-11 12:02:00'),\n",
       " ('490996',\n",
       "  'SIX STRING SCANDINAVIAN HEART DECS'): Timestamp('2009-12-08 17:23:00'),\n",
       " ('490942',\n",
       "  'CHARLIE + LOLA RED HOT WATER BOTTLE'): Timestamp('2009-12-08 14:04:00'),\n",
       " ('491459', 'PINK CHERRY LIGHTS'): Timestamp('2009-12-11 11:30:00'),\n",
       " ('491614',\n",
       "  'TRADITIONAL WOODEN CATCH CUP GAME '): Timestamp('2009-12-11 13:55:00'),\n",
       " ('491621',\n",
       "  'SET/3 RED GINGHAM ROSE STORAGE BOX'): Timestamp('2009-12-11 14:10:00'),\n",
       " ('490798', 'BAKING SET 9 PIECE RETROSPOT '): Timestamp('2009-12-08 11:51:00'),\n",
       " ('490929', 'BAKING SET 9 PIECE RETROSPOT '): Timestamp('2009-12-08 13:42:00'),\n",
       " ('489449', 'POTTING SHED TWINE'): Timestamp('2009-12-01 10:33:00'),\n",
       " ('491594',\n",
       "  'MINI CAKE STAND  HANGING STRAWBERY'): Timestamp('2009-12-11 13:13:00'),\n",
       " ('491017',\n",
       "  'RED REINDEER STRING OF 20 LIGHTS'): Timestamp('2009-12-08 18:38:00'),\n",
       " ('491460', 'TEA CUP AND SAUCER RETRO SPOT'): Timestamp('2009-12-11 11:31:00'),\n",
       " ('491466', 'RETRO SPOT LAMP'): Timestamp('2009-12-11 11:52:00'),\n",
       " ('490520', 'CONGRATULATIONS BUNTING'): Timestamp('2009-12-06 15:21:00'),\n",
       " ('491593',\n",
       "  'TREE OF NOAH FESTIVE SCENTED CANDLE'): Timestamp('2009-12-11 13:11:00'),\n",
       " ('490565', 'COFFEE MUG CAT + BIRD DESIGN'): Timestamp('2009-12-07 10:44:00'),\n",
       " ('490807', 'SAVE THE PLANET MUG'): Timestamp('2009-12-08 12:25:00'),\n",
       " ('490348',\n",
       "  'MURANO STYLE GLASS BRACELET GOLD'): Timestamp('2009-12-04 16:22:00'),\n",
       " ('491413', 'FAIRY CAKE DESIGN UMBRELLA'): Timestamp('2009-12-10 19:08:00'),\n",
       " ('489534',\n",
       "  'WOOLLY HAT SOCK GLOVE ADVENT STRING'): Timestamp('2009-12-01 12:09:00'),\n",
       " ('491545', 'COFFEE MUG DOG + BALL DESIGN'): Timestamp('2009-12-11 12:37:00'),\n",
       " ('490807', 'UNION JACK FLAG LUGGAGE TAG'): Timestamp('2009-12-08 12:25:00'),\n",
       " ('490946', 'BAG 125g SWIRLY MARBLES'): Timestamp('2009-12-08 14:28:00'),\n",
       " ('490748', 'Manual'): Timestamp('2009-12-07 18:14:00'),\n",
       " ('491190', 'RETRO SPOT CAKE STAND'): Timestamp('2009-12-10 12:38:00'),\n",
       " ('491823', 'SCOTTIE DOG HOT WATER BOTTLE'): Timestamp('2009-12-14 13:55:00'),\n",
       " ('490283', 'PICCADILLY TEA SET'): Timestamp('2009-12-04 12:49:00'),\n",
       " ('490946', 'PINK DOUGHNUT TRINKET POT '): Timestamp('2009-12-08 14:28:00'),\n",
       " ('490798', 'POSTAGE'): Timestamp('2009-12-08 11:51:00'),\n",
       " ('490798', 'SET/6 STRAWBERRY PAPER PLATES'): Timestamp('2009-12-08 11:51:00'),\n",
       " ('490996', 'SET OF 6 VINTAGE NOTELETS KIT'): Timestamp('2009-12-08 17:23:00'),\n",
       " ('490462', 'RETRO SPOT CAKE STAND'): Timestamp('2009-12-06 12:09:00'),\n",
       " ('489636', 'CHRISTMAS CRAFT WHITE FAIRY '): Timestamp('2009-12-01 15:34:00'),\n",
       " ('489643',\n",
       "  'RED GINGHAM ROSE JEWELLERY BOX'): Timestamp('2009-12-01 16:26:00'),\n",
       " ('490120', 'SET/6 RED SPOTTY PAPER CUPS'): Timestamp('2009-12-03 17:52:00'),\n",
       " ('490946', 'CHRISTMAS TOILET ROLL'): Timestamp('2009-12-08 14:28:00'),\n",
       " ('491615',\n",
       "  'SWEETHEART CERAMIC TRINKET BOX'): Timestamp('2009-12-11 13:57:00'),\n",
       " ('491460', 'RETRO SPOT LARGE MILK JUG'): Timestamp('2009-12-11 11:31:00'),\n",
       " ('491441',\n",
       "  'CERAMIC CAKE BOWL + HANGING CAKES'): Timestamp('2009-12-11 10:32:00'),\n",
       " ('491741', 'DAIRY MAID  SMALL  MILK JUG'): Timestamp('2009-12-14 11:00:00'),\n",
       " ('489563', 'CRYSTAL STILETTO PHONE CHARM'): Timestamp('2009-12-01 13:09:00'),\n",
       " ('490807', 'RED SPOTTY LUGGAGE TAG'): Timestamp('2009-12-08 12:25:00'),\n",
       " ('490807',\n",
       "  'KNITTED UNION FLAG HOT WATER BOTTLE'): Timestamp('2009-12-08 12:25:00'),\n",
       " ('491022', 'RED SPOTTY WASHBAG'): Timestamp('2009-12-08 18:52:00'),\n",
       " ('491602', 'BAKING SET 9 PIECE RETROSPOT '): Timestamp('2009-12-11 13:31:00'),\n",
       " ('490513', 'WHITE ORCHID FLOWER LIGHTS'): Timestamp('2009-12-06 14:58:00'),\n",
       " ('490509',\n",
       "  'CAKE STAND VICTORIAN FILIGREE LARGE'): Timestamp('2009-12-06 14:34:00'),\n",
       " ('491004',\n",
       "  'LETS GO SHOPPING COTTON TOTE BAG'): Timestamp('2009-12-08 17:38:00'),\n",
       " ('491830', 'SET OF 3 SILVER FLYING DUCKS'): Timestamp('2009-12-14 14:29:00'),\n",
       " ('491430',\n",
       "  'GREEN CHRISTMAS TREE CARD HOLDER'): Timestamp('2009-12-11 09:39:00'),\n",
       " ('490153', 'PINK GOOSE FEATHER TREE 60CM'): Timestamp('2009-12-04 10:10:00'),\n",
       " ('491838', 'COFFEE MUG PEARS  DESIGN'): Timestamp('2009-12-14 14:39:00'),\n",
       " ('491414', 'RED SPOTTY SHOPPER BAG'): Timestamp('2009-12-10 19:13:00'),\n",
       " ('490702', 'PINK HAPPY BIRTHDAY BUNTING'): Timestamp('2009-12-07 14:43:00'),\n",
       " ('490942', 'CHOCOLATE CALCULATOR'): Timestamp('2009-12-08 14:04:00'),\n",
       " ('489610', 'BAKING SET 9 PIECE RETROSPOT '): Timestamp('2009-12-01 14:52:00'),\n",
       " ('489591', 'BLACK CHERRY LIGHTS'): Timestamp('2009-12-01 14:17:00'),\n",
       " ('490306',\n",
       "  'PACK OF 20 SKULL PAPER NAPKINS'): Timestamp('2009-12-04 14:40:00'),\n",
       " ('491398', 'ASSORTED TUTTI FRUTTI PEN'): Timestamp('2009-12-10 16:45:00'),\n",
       " ('491618', '6 EGG HOUSE PAINTED WOOD'): Timestamp('2009-12-11 14:08:00'),\n",
       " ('490700', 'LETTER \"J\" BLING KEY RING'): Timestamp('2009-12-07 14:37:00'),\n",
       " ('490935', 'COLUMBIAN CANDLE ROUND '): Timestamp('2009-12-08 13:54:00'),\n",
       " ('491003', 'AFGHAN SLIPPER SOCK PAIR'): Timestamp('2009-12-08 17:34:00'),\n",
       " ('491838', 'COFFEE MUG APPLES DESIGN'): Timestamp('2009-12-14 14:39:00'),\n",
       " ('490807',\n",
       "  'RED WOOLLY HOTTIE WHITE HEART.'): Timestamp('2009-12-08 12:25:00'),\n",
       " ('489563', 'CRYSTAL KEY+LOCK PHONE CHARM'): Timestamp('2009-12-01 13:09:00'),\n",
       " ('490133', 'ROSES ON BLUE TEACUP CANDLE '): Timestamp('2009-12-03 18:36:00'),\n",
       " ('490946', 'ASSORTED COLOUR JUMBO PEN'): Timestamp('2009-12-08 14:28:00'),\n",
       " ('489554', 'ANTIQUE LILY FAIRY LIGHTS'): Timestamp('2009-12-01 12:43:00'),\n",
       " ('490996',\n",
       "  'WHITE SCANDINAVIAN HEART CHRISTMAS'): Timestamp('2009-12-08 17:23:00'),\n",
       " ('490935', 'ANTIQUE LILY FAIRY LIGHTS'): Timestamp('2009-12-08 13:54:00'),\n",
       " ('491032', 'RETRO SPOT SMALL MILK JUG'): Timestamp('2009-12-08 19:10:00'),\n",
       " ('490980',\n",
       "  'S/6 WOODEN SKITTLES IN COTTON BAG'): Timestamp('2009-12-08 16:55:00'),\n",
       " ('491415', 'RETRO SPOT CAKE STAND'): Timestamp('2009-12-10 19:16:00'),\n",
       " ('491036', 'WOODLAND  STICKERS'): Timestamp('2009-12-09 09:16:00'),\n",
       " ('491609', 'WOODEN BOX ADVENT CALENDAR '): Timestamp('2009-12-11 13:41:00'),\n",
       " ('491019', 'CREAM HEART CARD HOLDER'): Timestamp('2009-12-08 18:47:00'),\n",
       " ('491728',\n",
       "  'RETRO SPOT TRADITIONAL TEAPOT '): Timestamp('2009-12-14 09:18:00'),\n",
       " ('489577', 'TEA TIME TEA SET IN GIFT BOX'): Timestamp('2009-12-01 13:38:00'),\n",
       " ('491739',\n",
       "  'CAKE STAND LOVEBIRD 2 TIER WHITE'): Timestamp('2009-12-14 10:51:00'),\n",
       " ('490942', 'ROUND CACTUS CANDLE'): Timestamp('2009-12-08 14:04:00'),\n",
       " ('490768',\n",
       "  'WOOD BLACK BOARD ANT WHITE FINISH'): Timestamp('2009-12-08 11:10:00'),\n",
       " ('490513', 'RED PAPER PARASOL'): Timestamp('2009-12-06 14:58:00'),\n",
       " ('491845', 'Discount'): Timestamp('2009-12-14 14:54:00'),\n",
       " ('491022',\n",
       "  'RETRO SPOT TEA SET CERAMIC 11 PC '): Timestamp('2009-12-08 18:52:00'),\n",
       " ('489459',\n",
       "  'ROSE COLOUR PAIR HEART HAIR SLIDES'): Timestamp('2009-12-01 10:44:00'),\n",
       " ('491441',\n",
       "  'COLOUR GLASS. STAR T-LIGHT HOLDER'): Timestamp('2009-12-11 10:32:00'),\n",
       " ('490721',\n",
       "  'GREEN 3 TIER GLASS PLATE STAND'): Timestamp('2009-12-07 15:45:00'),\n",
       " ('490996', 'TEA PARTY BIRTHDAY CARD'): Timestamp('2009-12-08 17:23:00'),\n",
       " ('491827',\n",
       "  'RETRO RED SPOTTY WASHING UP GLOVES'): Timestamp('2009-12-14 14:12:00'),\n",
       " ('491156',\n",
       "  'CERAMIC CAKE STAND + HANGING CAKES'): Timestamp('2009-12-10 09:54:00'),\n",
       " ('491208', 'TWO DOOR CURIO CABINET'): Timestamp('2009-12-10 14:16:00'),\n",
       " ('489527', 'LOO ROLL  METAL SIGN '): Timestamp('2009-12-01 11:50:00'),\n",
       " ('489553', 'SET OF 3 SILVER FLYING DUCKS'): Timestamp('2009-12-01 12:41:00'),\n",
       " ('490742',\n",
       "  'CREAM SWEETHEART MAGAZINE RACK'): Timestamp('2009-12-07 17:58:00'),\n",
       " ('491419', 'BAKING SET 9 PIECE RETROSPOT '): Timestamp('2009-12-10 19:25:00'),\n",
       " ('491414', 'PARTY FOOD SHOPPER BAG'): Timestamp('2009-12-10 19:13:00'),\n",
       " ('491591',\n",
       "  'RED WOOLLY HOTTIE WHITE HEART.'): Timestamp('2009-12-11 13:08:00'),\n",
       " ('491016', 'FELTCRAFT 6 FLOWER FRIENDS'): Timestamp('2009-12-08 18:35:00'),\n",
       " ('490946', 'PHOTO CUBE'): Timestamp('2009-12-08 14:28:00'),\n",
       " ('491190', 'FRENCH ENAMEL CANDLEHOLDER'): Timestamp('2009-12-10 12:38:00'),\n",
       " ('490996', '6 RIBBONS RUSTIC CHARM'): Timestamp('2009-12-08 17:23:00'),\n",
       " ('491466',\n",
       "  'QUEEN OF THE SKIES HOLIDAY PURSE '): Timestamp('2009-12-11 11:52:00'),\n",
       " ('489685', 'RETRO SPOT CAKE STAND'): Timestamp('2009-12-02 10:28:00'),\n",
       " ('490946', 'UNION JACK FLAG LUGGAGE TAG'): Timestamp('2009-12-08 14:28:00'),\n",
       " ('489503',\n",
       "  'DAIRY MAID CERAMIC BUTTER DISH'): Timestamp('2009-12-01 11:04:00'),\n",
       " ('490807', 'PINK DOUGHNUT TRINKET POT '): Timestamp('2009-12-08 12:25:00'),\n",
       " ('490807', 'ASSORTED MINI MADRAS NOTEBOOK'): Timestamp('2009-12-08 12:25:00'),\n",
       " ('491423', 'Manual'): Timestamp('2009-12-10 19:45:00'),\n",
       " ('490807', 'RED SPOTTY PURSE '): Timestamp('2009-12-08 12:25:00'),\n",
       " ('489610',\n",
       "  'TRADITIONAL WOODEN CATCH CUP GAME '): Timestamp('2009-12-01 14:52:00'),\n",
       " ('491604', 'RETRO SPOT STORAGE JAR'): Timestamp('2009-12-11 13:32:00'),\n",
       " ('489449',\n",
       "  'HANGING HEART ZINC T-LIGHT HOLDER'): Timestamp('2009-12-01 10:33:00'),\n",
       " ('490946',\n",
       "  'RED WOOLLY HOTTIE WHITE HEART.'): Timestamp('2009-12-08 14:28:00'),\n",
       " ('491004', 'TOAST ITS - HAPPY BIRTHDAY'): Timestamp('2009-12-08 17:38:00'),\n",
       " ('490798', 'RED SPOTTY CHILDS UMBRELLA'): Timestamp('2009-12-08 11:51:00'),\n",
       " ('490807',\n",
       "  'SET/6 GARDEN GNOME T-LIGHT CANDLES'): Timestamp('2009-12-08 12:25:00'),\n",
       " ('491370', 'CREAM SWEETHEART MINI CHEST'): Timestamp('2009-12-10 15:58:00'),\n",
       " ('491962', 'Discount'): Timestamp('2009-12-14 16:38:00'),\n",
       " ('491040',\n",
       "  'WOOD 2 DRAWER CABINET WHITE FINISH'): Timestamp('2009-12-09 09:37:00'),\n",
       " ('491599', 'RETRO SPOTS PUDDING BOWL'): Timestamp('2009-12-11 13:20:00'),\n",
       " ('489449', 'PAPER BUNTING RETRO SPOTS'): Timestamp('2009-12-01 10:33:00'),\n",
       " ('489568', 'PIZZA PLATE IN BOX'): Timestamp('2009-12-01 13:20:00'),\n",
       " ('489565',\n",
       "  'PINK BERTIE GLASS BEAD BAG CHARM'): Timestamp('2009-12-01 13:14:00'),\n",
       " ('490120',\n",
       "  'LUNCHBOX WITH CUTLERY RETROSPOT '): Timestamp('2009-12-03 17:52:00'),\n",
       " ('491190', 'KEY FOB , FRONT  DOOR '): Timestamp('2009-12-10 12:38:00'),\n",
       " ('489636',\n",
       "  'CHRISTMAS CRAFT HEART STOCKING '): Timestamp('2009-12-01 15:34:00'),\n",
       " ('491428', 'Discount'): Timestamp('2009-12-10 20:23:00'),\n",
       " ('490798', 'WOODEN BOX OF DOMINOES'): Timestamp('2009-12-08 11:51:00'),\n",
       " ('489636',\n",
       "  'RED WOOLLY HOTTIE WHITE HEART.'): Timestamp('2009-12-01 15:34:00'),\n",
       " ('491012',\n",
       "  'SWEETHEART CERAMIC TRINKET BOX'): Timestamp('2009-12-08 18:25:00'),\n",
       " ('491166', 'BAKING SET 9 PIECE RETROSPOT '): Timestamp('2009-12-10 11:00:00'),\n",
       " ('490997', 'ZINC HEART HANGER WITH HOOKS'): Timestamp('2009-12-08 17:24:00'),\n",
       " ('491619', 'RETRO SPOT CAKE STAND'): Timestamp('2009-12-11 14:08:00'),\n",
       " ('490929',\n",
       "  'RETRO SPOT TEA SET CERAMIC 11 PC '): Timestamp('2009-12-08 13:42:00'),\n",
       " ('489651', 'Manual'): Timestamp('2009-12-01 16:48:00'),\n",
       " ('491013',\n",
       "  'WOODLAND  HEIGHT CHART STICKERS '): Timestamp('2009-12-08 18:28:00'),\n",
       " ('490269', 'CAMOUFLAGE BACKPACK ON WHEELS'): Timestamp('2009-12-04 12:33:00'),\n",
       " ('490935', 'SWEETHEART KEY CABINET'): Timestamp('2009-12-08 13:54:00'),\n",
       " ('491822', 'STAR PORTABLE TABLE LIGHT '): Timestamp('2009-12-14 13:51:00'),\n",
       " ('491446',\n",
       "  'SET/3 FLORAL GARDEN TOOLS IN BAG'): Timestamp('2009-12-11 10:47:00'),\n",
       " ('489518', 'BAKING SET 9 PIECE RETROSPOT '): Timestamp('2009-12-01 11:35:00'),\n",
       " ('491003', 'GIN AND TONIC MUG'): Timestamp('2009-12-08 17:34:00'),\n",
       " ('489858', 'POPCORN HOLDER , LARGE'): Timestamp('2009-12-02 14:43:00'),\n",
       " ('490946', 'SAVE THE PLANET MUG'): Timestamp('2009-12-08 14:28:00'),\n",
       " ('491727',\n",
       "  'WHITE ROUND PORCELAIN TLIGHT HOLDER'): Timestamp('2009-12-14 09:10:00'),\n",
       " ('490358', 'RETRO SPOT SMALL MILK JUG'): Timestamp('2009-12-04 16:51:00'),\n",
       " ('491029',\n",
       "  \"ASS COL LARGE SAND GECKO P'WEIGHT\"): Timestamp('2009-12-08 19:07:00'),\n",
       " ('490739',\n",
       "  'VINTAGE BLUE VACUUM FLASK 0.5L '): Timestamp('2009-12-07 17:50:00'),\n",
       " ('489459', 'BLACK SWEETHEART BRACELET'): Timestamp('2009-12-01 10:44:00'),\n",
       " ('491190', 'RETRO SPOTS PUDDING BOWL'): Timestamp('2009-12-10 12:38:00'),\n",
       " ('491190', 'RETRO SPOT LARGE MILK JUG'): Timestamp('2009-12-10 12:38:00'),\n",
       " ('490798',\n",
       "  'WOODLAND PARTY BAG + STICKER SET'): Timestamp('2009-12-08 11:51:00'),\n",
       " ('490120', 'BAKING SET 9 PIECE RETROSPOT '): Timestamp('2009-12-03 17:52:00'),\n",
       " ('489503', 'RETRO SPOT LARGE MILK JUG'): Timestamp('2009-12-01 11:04:00'),\n",
       " ('490935', 'SILVER RETRODISC LAMPSHADE'): Timestamp('2009-12-08 13:54:00'),\n",
       " ('490993',\n",
       "  'FAIRY CAKE BIRTHDAY CANDLE SET'): Timestamp('2009-12-08 17:13:00'),\n",
       " ('490946',\n",
       "  'WORLD WAR 2 GLIDERS ASSTD DESIGNS'): Timestamp('2009-12-08 14:28:00'),\n",
       " ('490469',\n",
       "  'DAIRY MAID TRADITIONAL TEAPOT '): Timestamp('2009-12-06 12:23:00'),\n",
       " ('490807', 'VIP HOLIDAY PURSE'): Timestamp('2009-12-08 12:25:00'),\n",
       " ('490742',\n",
       "  'RETRO SPOT TRADITIONAL TEAPOT '): Timestamp('2009-12-07 17:58:00'),\n",
       " ('489973',\n",
       "  'CERAMIC BOWL WITH STRAWBERRY DESIGN'): Timestamp('2009-12-03 11:03:00'),\n",
       " ('491412',\n",
       "  'PORCELAIN T-LIGHT HOLDERS ASSORTED'): Timestamp('2009-12-10 19:05:00'),\n",
       " ('491618',\n",
       "  \"PAPER CHAIN KIT 50'S CHRISTMAS \"): Timestamp('2009-12-11 14:08:00'),\n",
       " ('489799', 'JUMBO BAG TOYS '): Timestamp('2009-12-02 12:23:00'),\n",
       " ('490942',\n",
       "  'LOLITA  DESIGN  COTTON TOTE BAG'): Timestamp('2009-12-08 14:04:00'),\n",
       " ('491620', 'BAKING SET 9 PIECE RETROSPOT '): Timestamp('2009-12-11 14:09:00'),\n",
       " ('491614', 'RED SPOTTY PEG BAG'): Timestamp('2009-12-11 13:55:00'),\n",
       " ('490746', 'CREAM SWEETHEART WALL CABINET'): Timestamp('2009-12-07 18:09:00'),\n",
       " ('491005', 'WHITE ORCHID FLOWER LIGHTS'): Timestamp('2009-12-08 17:40:00'),\n",
       " ('490746', 'CREAM SWEETHEART TRAYS'): Timestamp('2009-12-07 18:09:00'),\n",
       " ('491842', 'PACK OF 12 WOODLAND TISSUES '): Timestamp('2009-12-14 14:49:00'),\n",
       " ('491441',\n",
       "  'SET OF 3 COLOURED  FLYING DUCKS'): Timestamp('2009-12-11 10:32:00'),\n",
       " ('490746',\n",
       "  'CREAM SWEETHEART MAGAZINE RACK'): Timestamp('2009-12-07 18:09:00'),\n",
       " ('490807',\n",
       "  'SET OF 4 ENGLISH ROSE COASTERS'): Timestamp('2009-12-08 12:25:00'),\n",
       " ('491417',\n",
       "  'LARGE CAKE STAND  HANGING STRAWBERY'): Timestamp('2009-12-10 19:20:00'),\n",
       " ('490866', ' SILVER CHERRY LIGHTS'): Timestamp('2009-12-08 12:51:00'),\n",
       " ('491623', 'POSTAGE'): Timestamp('2009-12-11 14:20:00'),\n",
       " ('489583',\n",
       "  'OCEAN SCENT CANDLE IN JEWELLED BOX'): Timestamp('2009-12-01 13:47:00'),\n",
       " ('490513',\n",
       "  '3 HOOK PHOTO SHELF ANTIQUE WHITE'): Timestamp('2009-12-06 14:58:00'),\n",
       " ('491820',\n",
       "  'CERAMIC BIRDHOUSE FINCH BLUE ROOF'): Timestamp('2009-12-14 13:49:00'),\n",
       " ('490155',\n",
       "  'WOOD 2 DRAWER CABINET WHITE FINISH'): Timestamp('2009-12-04 10:28:00'),\n",
       " ('489563', 'BLUE CRYSTAL BOOT PHONE CHARM'): Timestamp('2009-12-01 13:09:00'),\n",
       " ('491402',\n",
       "  'FAIRY CAKE FLANNEL ASSORTED COLOUR'): Timestamp('2009-12-10 17:16:00'),\n",
       " ('491190', 'RED DINER WALL CLOCK'): Timestamp('2009-12-10 12:38:00'),\n",
       " ('490051',\n",
       "  'CAKE STAND WHITE TWO TIER LACE'): Timestamp('2009-12-03 13:06:00'),\n",
       " ('490120',\n",
       "  'GREEN 3 PIECE MINI DOTS CUTLERY SET'): Timestamp('2009-12-03 17:52:00'),\n",
       " ('490942', 'WOODEN BOX OF DOMINOES'): Timestamp('2009-12-08 14:04:00'),\n",
       " ('491029',\n",
       "  \"ASS COL LARGE SAND FROG P'WEIGHT\"): Timestamp('2009-12-08 19:07:00'),\n",
       " ('491827', 'PARTY INVITES JAZZ HEARTS'): Timestamp('2009-12-14 14:12:00'),\n",
       " ('489799',\n",
       "  'JUMBO BAG PINK VINTAGE PAISLEY'): Timestamp('2009-12-02 12:23:00'),\n",
       " ('490807', 'LADS ONLY TISSUE BOX'): Timestamp('2009-12-08 12:25:00'),\n",
       " ('491121',\n",
       "  'SET/3 OCEAN SCENT CANDLE JEWEL BOX'): Timestamp('2009-12-09 15:05:00'),\n",
       " ('489476', 'FELTCRAFT 6 FLOWER FRIENDS'): Timestamp('2009-12-01 10:55:00'),\n",
       " ('489563',\n",
       "  'PINK CRYSTAL GUITAR PHONE CHARM'): Timestamp('2009-12-01 13:09:00'),\n",
       " ('490942', 'PINK STRIPE HOT WATER BOTTLE'): Timestamp('2009-12-08 14:04:00'),\n",
       " ('491820',\n",
       "  'CERAMIC BIRDHOUSE BUTTERFLY SMALL'): Timestamp('2009-12-14 13:49:00'),\n",
       " ('489973',\n",
       "  'STRAWBERRY CERAMIC TRINKET BOX'): Timestamp('2009-12-03 11:03:00'),\n",
       " ('489530',\n",
       "  'ROSE SCENT CANDLE JEWELLED DRAWER'): Timestamp('2009-12-01 11:56:00'),\n",
       " ('490513', '12 PENCIL SMALL TUBE WOODLAND'): Timestamp('2009-12-06 14:58:00'),\n",
       " ('491441',\n",
       "  'CERAMIC CAKE STAND + HANGING CAKES'): Timestamp('2009-12-11 10:32:00'),\n",
       " ('490946', 'PING MICROWAVE APRON'): Timestamp('2009-12-08 14:28:00'),\n",
       " ('490120',\n",
       "  'SET/10 RED SPOTTY PARTY CANDLES'): Timestamp('2009-12-03 17:52:00'),\n",
       " ('489632', 'SILVER FINCH DECORATION'): Timestamp('2009-12-01 15:18:00'),\n",
       " ('491157', 'Manual'): Timestamp('2009-12-10 10:00:00'),\n",
       " ('489592', 'COFFEE MUG CAT + BIRD DESIGN'): Timestamp('2009-12-01 14:19:00'),\n",
       " ('491402',\n",
       "  '12 ASS ZINC CHRISTMAS DECORATIONS'): Timestamp('2009-12-10 17:16:00'),\n",
       " ('490807', 'STAR PORTABLE TABLE LIGHT '): Timestamp('2009-12-08 12:25:00'),\n",
       " ('490565',\n",
       "  'HEART DECORATION PAINTED ZINC '): Timestamp('2009-12-07 10:44:00'),\n",
       " ('491019',\n",
       "  'PACK OF 72 RETRO SPOT CAKE CASES'): Timestamp('2009-12-08 18:47:00'),\n",
       " ('489459',\n",
       "  'BLACK DIAMANTE EXPANDABLE RING'): Timestamp('2009-12-01 10:44:00'),\n",
       " ('491808', 'RETRO SPOT STORAGE JAR'): Timestamp('2009-12-14 13:18:00'),\n",
       " ('491021',\n",
       "  'CAKE STAND VICTORIAN FILIGREE MED'): Timestamp('2009-12-08 18:51:00'),\n",
       " ('491420',\n",
       "  'RED HANGING HEART T-LIGHT HOLDER'): Timestamp('2009-12-10 19:26:00'),\n",
       " ('491410', 'BAKING SET 9 PIECE RETROSPOT '): Timestamp('2009-12-10 18:50:00'),\n",
       " ('490469',\n",
       "  'SILVER CHRISTMAS TREE BAUBLE STAND '): Timestamp('2009-12-06 12:23:00'),\n",
       " ('490307', 'POSTAGE'): Timestamp('2009-12-04 14:49:00'),\n",
       " ('491455', 'WILLOW BRANCH LIGHTS.'): Timestamp('2009-12-11 11:20:00'),\n",
       " ('491190',\n",
       "  'VINTAGE KITCHEN PRINT PUDDINGS'): Timestamp('2009-12-10 12:38:00'),\n",
       " ('490946',\n",
       "  'KNITTED UNION FLAG HOT WATER BOTTLE'): Timestamp('2009-12-08 14:28:00'),\n",
       " ('490798', 'SET/6 RED SPOTTY PAPER PLATES'): Timestamp('2009-12-08 11:51:00'),\n",
       " ('490117', 'POSTAGE'): Timestamp('2009-12-03 17:38:00'),\n",
       " ('491190', 'WELCOME  WOODEN BLOCK LETTERS'): Timestamp('2009-12-10 12:38:00'),\n",
       " ('491441', 'BAKING SET 9 PIECE RETROSPOT '): Timestamp('2009-12-11 10:32:00'),\n",
       " ('489813', 'PINK AND LILAC QUILTED THROW '): Timestamp('2009-12-02 13:02:00'),\n",
       " ('490946', 'SET OF 3 BLACK FLYING DUCKS'): Timestamp('2009-12-08 14:28:00'),\n",
       " ('489459',\n",
       "  'MIDNIGHT BLUE PAIR HEART HAIR SLIDE'): Timestamp('2009-12-01 10:44:00'),\n",
       " ('490942', 'FLORAL PINK MONSTER'): Timestamp('2009-12-08 14:04:00'),\n",
       " ('489504',\n",
       "  'KISS REINDEER SCANDINAVIAN STOCKING'): Timestamp('2009-12-01 11:10:00'),\n",
       " ('490991',\n",
       "  'CERAMIC BIRDHOUSE RED ROOF LARGE'): Timestamp('2009-12-08 17:10:00'),\n",
       " ('491430', 'WOODEN BOX ADVENT CALENDAR '): Timestamp('2009-12-11 09:39:00'),\n",
       " ('490117', 'FELT FARM ANIMAL RABBIT'): Timestamp('2009-12-03 17:38:00'),\n",
       " ('489538',\n",
       "  'CAKE STAND VICTORIAN FILIGREE MED'): Timestamp('2009-12-01 12:18:00'),\n",
       " ('490996', 'WASH BAG VINTAGE ROSE PAISLEY'): Timestamp('2009-12-08 17:23:00'),\n",
       " ('490807',\n",
       "  'I CAN ONLY PLEASE ONE PERSON MUG'): Timestamp('2009-12-08 12:25:00'),\n",
       " ('491596', 'RETRO SPOT MUG'): Timestamp('2009-12-11 13:15:00'),\n",
       " ('490946', 'FEATHER PEN,HOT PINK'): Timestamp('2009-12-08 14:28:00'),\n",
       " ('491208', 'FRYING PAN PINK POLKADOT '): Timestamp('2009-12-10 14:16:00'),\n",
       " ('490946',\n",
       "  'KNITTED RAINBOW HOT WATER BOTTLE'): Timestamp('2009-12-08 14:28:00'),\n",
       " ('489524', 'VICTORIAN SEWING BOX LARGE'): Timestamp('2009-12-01 11:48:00'),\n",
       " ('491208',\n",
       "  'CAKE STAND WHITE TWO TIER LACE'): Timestamp('2009-12-10 14:16:00'),\n",
       " ('489583',\n",
       "  'SET/3 OCEAN SCENT CANDLE JEWEL BOX'): Timestamp('2009-12-01 13:47:00'),\n",
       " ('490807',\n",
       "  'SMALL DOLLY MIX DESIGN ORANGE BOWL'): Timestamp('2009-12-08 12:25:00'),\n",
       " ('490251',\n",
       "  'WHITE CERAMIC PARTY SET (5PCS)'): Timestamp('2009-12-04 12:29:00'),\n",
       " ('489803', 'RETRO SPOT CAKE STAND'): Timestamp('2009-12-02 12:34:00'),\n",
       " ('490565',\n",
       "  'RETRO SPOT TRADITIONAL TEAPOT '): Timestamp('2009-12-07 10:44:00'),\n",
       " ('489568',\n",
       "  'WOOD 2 DRAWER CABINET WHITE FINISH'): Timestamp('2009-12-01 13:20:00'),\n",
       " ('491836', 'BAKING SET 9 PIECE RETROSPOT '): Timestamp('2009-12-14 14:37:00'),\n",
       " ('490942', 'BIG DOUGHNUT FRIDGE MAGNETS'): Timestamp('2009-12-08 14:04:00'),\n",
       " ('491423',\n",
       "  'AMETHYST CHUNKY BEAD BRACELET W STR'): Timestamp('2009-12-10 19:45:00'),\n",
       " ('490997',\n",
       "  'GLASS ETCHED T-LIGHT HOLDER MEDIUM'): Timestamp('2009-12-08 17:24:00'),\n",
       " ('490756',\n",
       "  'SET OF 6 GIRLS CELEBRATION CANDLES'): Timestamp('2009-12-08 09:27:00'),\n",
       " ('490807',\n",
       "  'WORLD WAR 2 GLIDERS ASSTD DESIGNS'): Timestamp('2009-12-08 12:25:00'),\n",
       " ('490807', 'ASSORTED COLOUR JUMBO PEN'): Timestamp('2009-12-08 12:25:00'),\n",
       " ('491604', 'TEA CUP AND SAUCER RETRO SPOT'): Timestamp('2009-12-11 13:32:00'),\n",
       " ('491616',\n",
       "  'LARGE CAKE STAND  HANGING STRAWBERY'): Timestamp('2009-12-11 13:57:00'),\n",
       " ('491551',\n",
       "  'STRAWBERRY CERAMIC TRINKET BOX'): Timestamp('2009-12-11 12:40:00'),\n",
       " ('489643',\n",
       "  \"DOLLY MIXTURE CHILDREN'S UMBRELLA\"): Timestamp('2009-12-01 16:26:00'),\n",
       " ('490120', 'PINK SPOTTY CHILDS UMBRELLA'): Timestamp('2009-12-03 17:52:00'),\n",
       " ('490507',\n",
       "  'CERAMIC CAKE DESIGN SPOTTED MUG'): Timestamp('2009-12-06 14:12:00'),\n",
       " ('490946',\n",
       "  'I CAN ONLY PLEASE ONE PERSON MUG'): Timestamp('2009-12-08 14:28:00'),\n",
       " ('489860',\n",
       "  'NEW BAROQUE SMALL NECKLACE BLACK'): Timestamp('2009-12-02 14:49:00'),\n",
       " ('490996', 'KEY FOB , BACK DOOR '): Timestamp('2009-12-08 17:23:00'),\n",
       " ('491121', 'WOODEN BOX OF DOMINOES'): Timestamp('2009-12-09 15:05:00'),\n",
       " ('490942', 'ASSORTED CAKES FRIDGE MAGNETS'): Timestamp('2009-12-08 14:04:00'),\n",
       " ('490996', 'KEY FOB , FRONT  DOOR '): Timestamp('2009-12-08 17:23:00'),\n",
       " ('491676', 'POTTING SHED TEA MUG'): Timestamp('2009-12-13 12:09:00'),\n",
       " ('489636',\n",
       "  'CHARLIE + LOLA RED HOT WATER BOTTLE'): Timestamp('2009-12-01 15:34:00'),\n",
       " ('489535', 'Discount'): Timestamp('2009-12-01 12:11:00'),\n",
       " ('490946', 'RED SPOTTY PURSE '): Timestamp('2009-12-08 14:28:00'),\n",
       " ('491027', 'UNION JACK HOT WATER BOTTLE '): Timestamp('2009-12-08 19:04:00'),\n",
       " ('491032',\n",
       "  'RETRO SPOT TRADITIONAL TEAPOT '): Timestamp('2009-12-08 19:10:00'),\n",
       " ('489449', 'SAVE THE PLANET MUG'): Timestamp('2009-12-01 10:33:00'),\n",
       " ('490348',\n",
       "  'FLOWER BURST SILVER RING GREEN'): Timestamp('2009-12-04 16:22:00'),\n",
       " ('491002', 'BROWN FLOWER LIGHTS'): Timestamp('2009-12-08 17:32:00'),\n",
       " ('491410', 'MOBILE VINTAGE HEARTS '): Timestamp('2009-12-10 18:50:00'),\n",
       " ('490946', 'FEATHER PEN,COAL BLACK'): Timestamp('2009-12-08 14:28:00'),\n",
       " ('490701', 'STRAWBERRY CHARLOTTE BAG'): Timestamp('2009-12-07 14:38:00'),\n",
       " ('489563', 'CRYSTAL SEA HORSE PHONE CHARM'): Timestamp('2009-12-01 13:09:00'),\n",
       " ('491156',\n",
       "  'LARGE CAKE STAND  HANGING STRAWBERY'): Timestamp('2009-12-10 09:54:00'),\n",
       " ('490469', 'TOP SECRET PEN SET'): Timestamp('2009-12-06 12:23:00'),\n",
       " ('491606', 'HAND OPEN SHAPE CHROME'): Timestamp('2009-12-11 13:36:00'),\n",
       " ('490807', 'CACTI T-LIGHT CANDLES'): Timestamp('2009-12-08 12:25:00'),\n",
       " ('490131',\n",
       "  'JUNGLE POPSICLES ICE LOLLY HOLDERS'): Timestamp('2009-12-03 18:29:00'),\n",
       " ('490942', 'ENGLISH ROSE HOT WATER BOTTLE'): Timestamp('2009-12-08 14:04:00'),\n",
       " ('491466', 'CHILLI LIGHTS'): Timestamp('2009-12-11 11:52:00'),\n",
       " ('490744', 'VINTAGE GLASS SUGAR CADDY'): Timestamp('2009-12-07 18:00:00'),\n",
       " ('491414',\n",
       "  'CHARLIE AND LOLA CHARLOTTE BAG'): Timestamp('2009-12-10 19:13:00'),\n",
       " ('490942',\n",
       "  'VINTAGE HEADS AND TAILS CARD GAME '): Timestamp('2009-12-08 14:04:00'),\n",
       " ('491190', 'HOME SWEET HOME METAL SIGN '): Timestamp('2009-12-10 12:38:00'),\n",
       " ('490700', 'LETTER \"P\" BLING KEY RING'): Timestamp('2009-12-07 14:37:00'),\n",
       " ('491594',\n",
       "  'CERAMIC BOWL WITH STRAWBERRY DESIGN'): Timestamp('2009-12-11 13:13:00'),\n",
       " ('490988',\n",
       "  'DAIRY MAID TRADITIONAL TEAPOT '): Timestamp('2009-12-08 17:08:00'),\n",
       " ('490993', 'MIRRORED DISCO BALL '): Timestamp('2009-12-08 17:13:00'),\n",
       " ('491052', 'RETRO SPOT CANDLE  LARGE'): Timestamp('2009-12-09 10:47:00'),\n",
       " ('490996', 'LOVE GARLAND PAINTED ZINC '): Timestamp('2009-12-08 17:23:00'),\n",
       " ('491591',\n",
       "  'STRAWBERRY CERAMIC TRINKET BOX'): Timestamp('2009-12-11 13:08:00'),\n",
       " ('491430',\n",
       "  'STRAWBERRY CERAMIC TRINKET BOX'): Timestamp('2009-12-11 09:39:00'),\n",
       " ('489686', 'RETRO PLASTIC ELEPHANT TRAY'): Timestamp('2009-12-02 10:34:00'),\n",
       " ('490942', 'FLORAL BLUE MONSTER'): Timestamp('2009-12-08 14:04:00'),\n",
       " ('490768', 'PINK AND LILAC QUILTED THROW '): Timestamp('2009-12-08 11:10:00'),\n",
       " ('489577', 'PARTY CONES CARNIVAL ASSORTED'): Timestamp('2009-12-01 13:38:00'),\n",
       " ('489610', 'RED SPOTTY CHILDS UMBRELLA'): Timestamp('2009-12-01 14:52:00'),\n",
       " ('490098', 'POTTING SHED TEA MUG'): Timestamp('2009-12-03 16:11:00'),\n",
       " ('490492',\n",
       "  'VINTAGE ROSE BEAD BRACELET BLUE'): Timestamp('2009-12-06 13:20:00'),\n",
       " ('490513',\n",
       "  'SMALL MARAKESH LANTERN ON STICK'): Timestamp('2009-12-06 14:58:00'),\n",
       " ('489636',\n",
       "  'LOLITA  DESIGN  COTTON TOTE BAG'): Timestamp('2009-12-01 15:34:00'),\n",
       " ('490946', 'SMALL LICORICE DES PINK BOWL'): Timestamp('2009-12-08 14:28:00'),\n",
       " ('490700', 'LETTER \"C\" BLING KEY RING'): Timestamp('2009-12-07 14:37:00'),\n",
       " ('490807', \"SET OF THREE 50'S GIFT WRAPS \"): Timestamp('2009-12-08 12:25:00'),\n",
       " ('491823', 'SET OF 3 BLACK FLYING DUCKS'): Timestamp('2009-12-14 13:55:00'),\n",
       " ('490942', 'WHITE SKULL HOT WATER BOTTLE '): Timestamp('2009-12-08 14:04:00'),\n",
       " ('490798', 'PINK SPOTTY CHILDS UMBRELLA'): Timestamp('2009-12-08 11:51:00'),\n",
       " ('490942',\n",
       "  'ASSORTED ICE CREAM FRIDGE MAGNETS'): Timestamp('2009-12-08 14:04:00'),\n",
       " ('489459', 'PURPLE SWEETHEART BRACELET'): Timestamp('2009-12-01 10:44:00'),\n",
       " ('489449', 'PAPER BUNTING WHITE LACE'): Timestamp('2009-12-01 10:33:00'),\n",
       " ('490510', '12 PENCIL SMALL TUBE WOODLAND'): Timestamp('2009-12-06 14:37:00'),\n",
       " ('491728', 'FRYING PAN PINK POLKADOT '): Timestamp('2009-12-14 09:18:00'),\n",
       " ('490807', 'BOX OF 24 COCKTAIL PARASOLS'): Timestamp('2009-12-08 12:25:00'),\n",
       " ('491019', 'RED TOADSTOOL LED NIGHT LIGHT'): Timestamp('2009-12-08 18:47:00'),\n",
       " ('491842',\n",
       "  'PACK OF 12 RED SPOTTY TISSUES '): Timestamp('2009-12-14 14:49:00'),\n",
       " ('490942',\n",
       "  'RED WOOLLY HOTTIE WHITE HEART.'): Timestamp('2009-12-08 14:04:00'),\n",
       " ('489549', 'WOODEN BOX ADVENT CALENDAR '): Timestamp('2009-12-01 12:33:00'),\n",
       " ('490740', 'WOODEN BOX ADVENT CALENDAR '): Timestamp('2009-12-07 17:52:00'),\n",
       " ('491162', 'BLUE FLYING SINGING CANARY'): Timestamp('2009-12-10 10:33:00'),\n",
       " ('490996',\n",
       "  'PACK OF 12 PINK PAISLEY TISSUES '): Timestamp('2009-12-08 17:23:00'),\n",
       " ('490122',\n",
       "  'SET OF 3 CASES WOODLAND DESIGN'): Timestamp('2009-12-03 17:59:00'),\n",
       " ('491190', 'RETRO SPOT SMALL MILK JUG'): Timestamp('2009-12-10 12:38:00'),\n",
       " ('491208',\n",
       "  'SET/6 GOLD REINDEER T-LIGHT CANDLES'): Timestamp('2009-12-10 14:16:00'),\n",
       " ('490807', 'BAG 125g SWIRLY MARBLES'): Timestamp('2009-12-08 12:25:00'),\n",
       " ('491604',\n",
       "  'SILVER HANGING T-LIGHT HOLDER DOME'): Timestamp('2009-12-11 13:32:00'),\n",
       " ('490120', 'RED SPOTTY CHILDS UMBRELLA'): Timestamp('2009-12-03 17:52:00'),\n",
       " ('491446',\n",
       "  'ENGLISH ROSE SET/3 GARDEN TOOLS'): Timestamp('2009-12-11 10:47:00'),\n",
       " ('491595', 'BAKING SET 9 PIECE RETROSPOT '): Timestamp('2009-12-11 13:14:00'),\n",
       " ('490946', 'MINI HIGHLIGHTER PENS'): Timestamp('2009-12-08 14:28:00'),\n",
       " ('489555', 'FIRST AID TIN'): Timestamp('2009-12-01 12:44:00'),\n",
       " ('490807', 'KEY FOB , BACK DOOR '): Timestamp('2009-12-08 12:25:00'),\n",
       " ('490358',\n",
       "  'RETRO SPOT TRADITIONAL TEAPOT '): Timestamp('2009-12-04 16:51:00'),\n",
       " ('490798',\n",
       "  'GREEN 3 PIECE MINI DOTS CUTLERY SET'): Timestamp('2009-12-08 11:51:00'),\n",
       " ('491398', 'TEATIME PEN CASE & PENS'): Timestamp('2009-12-10 16:45:00'),\n",
       " ('490946',\n",
       "  'SET/6 GARDEN GNOME T-LIGHT CANDLES'): Timestamp('2009-12-08 14:28:00'),\n",
       " ('490949', 'ASS FLORAL PRINT TORCH'): Timestamp('2009-12-08 14:30:00'),\n",
       " ('490798',\n",
       "  'LUNCHBOX WITH CUTLERY FAIRY CAKES '): Timestamp('2009-12-08 11:51:00'),\n",
       " ('491618', \"SET OF THREE 50'S GIFT WRAPS \"): Timestamp('2009-12-11 14:08:00'),\n",
       " ('490700', 'LETTER \"G\" BLING KEY RING'): Timestamp('2009-12-07 14:37:00'),\n",
       " ('490946', 'VIP HOLIDAY PURSE'): Timestamp('2009-12-08 14:28:00'),\n",
       " ('491494', 'CREAM SWEETHEART MINI CHEST'): Timestamp('2009-12-11 12:15:00'),\n",
       " ('491030',\n",
       "  'HEART DECORATION PAINTED ZINC '): Timestamp('2009-12-08 19:07:00'),\n",
       " ('491605', 'RETRO SPOT CAKE STAND'): Timestamp('2009-12-11 13:33:00'),\n",
       " ('491727',\n",
       "  'SWEETHEART CERAMIC TRINKET BOX'): Timestamp('2009-12-14 09:10:00'),\n",
       " ('491076',\n",
       "  'WHITE BEADED GARLAND STRING 20LIGHT'): Timestamp('2009-12-09 12:52:00'),\n",
       " ('491604', 'ZINC METAL HEART DECORATION'): Timestamp('2009-12-11 13:32:00'),\n",
       " ('489538', 'POSTAGE'): Timestamp('2009-12-01 12:18:00'),\n",
       " ('489605', 'VICTORIAN SEWING BOX MEDIUM'): Timestamp('2009-12-01 14:47:00'),\n",
       " ('491689',\n",
       "  'STRAWBERRY CERAMIC TRINKET BOX'): Timestamp('2009-12-13 13:06:00'),\n",
       " ('490358', 'VICTORIAN SEWING BOX LARGE'): Timestamp('2009-12-04 16:51:00'),\n",
       " ('489587', 'ASSORTED TUTTI FRUTTI KEYRING'): Timestamp('2009-12-01 13:52:00'),\n",
       " ('491650', 'FAIRY CAKES TABLE CLOCK'): Timestamp('2009-12-13 10:32:00'),\n",
       " ('490946', 'ASSORTED MINI MADRAS NOTEBOOK'): Timestamp('2009-12-08 14:28:00'),\n",
       " ('491166', 'EIGHT PIECE DINOSAUR SET'): Timestamp('2009-12-10 11:00:00'),\n",
       " ('491190', 'PARTY METAL SIGN '): Timestamp('2009-12-10 12:38:00'),\n",
       " ('491461',\n",
       "  'RETRO SPOT TRADITIONAL TEAPOT '): Timestamp('2009-12-11 11:35:00'),\n",
       " ('490942',\n",
       "  'WOODLAND DESIGN  COTTON TOTE BAG'): Timestamp('2009-12-08 14:04:00'),\n",
       " ('491040', '12 MINI TOADSTOOL PEGS'): Timestamp('2009-12-09 09:37:00'),\n",
       " ('490509',\n",
       "  '15CM CHRISTMAS GLASS BALL 20 LIGHTS'): Timestamp('2009-12-06 14:34:00'),\n",
       " ('491190', 'RED POLKA DOT TISSUE BOX'): Timestamp('2009-12-10 12:38:00'),\n",
       " ('490996',\n",
       "  'MINI CAKE STAND HANGING HEARTS'): Timestamp('2009-12-08 17:23:00'),\n",
       " ('491728',\n",
       "  'SET/5 RED SPOTTY LID GLASS BOWLS'): Timestamp('2009-12-14 09:18:00'),\n",
       " ('490807', 'PHOTO CUBE'): Timestamp('2009-12-08 12:25:00'),\n",
       " ('489554', 'HAND OPEN SHAPE BLACK'): Timestamp('2009-12-01 12:43:00'),\n",
       " ('489568', 'BAKING SET 9 PIECE RETROSPOT '): Timestamp('2009-12-01 13:20:00'),\n",
       " ('490807',\n",
       "  'ASSORTED ICE CREAM FRIDGE MAGNETS'): Timestamp('2009-12-08 12:25:00'),\n",
       " ('491620', 'TEA CUP AND SAUCER RETRO SPOT'): Timestamp('2009-12-11 14:09:00'),\n",
       " ('490942',\n",
       "  'CHARLIE LOLA BLUE HOT WATER BOTTLE '): Timestamp('2009-12-08 14:04:00'),\n",
       " ('489543', 'WOODEN BOX ADVENT CALENDAR '): Timestamp('2009-12-01 12:19:00'),\n",
       " ('490974', 'SPACE CADET WHITE'): Timestamp('2009-12-08 16:41:00'),\n",
       " ('490513', 'LUNCH BAG  BLACK SKULL.'): Timestamp('2009-12-06 14:58:00'),\n",
       " ('490497',\n",
       "  'WHITE BEADED GARLAND STRING 20LIGHT'): Timestamp('2009-12-06 13:41:00'),\n",
       " ('490996',\n",
       "  'ETCHED GLASS BIRD TREE DECORATION'): Timestamp('2009-12-08 17:23:00'),\n",
       " ('490942',\n",
       "  'SET 6 MINI SUSHI SET FRIDGE MAGNETS'): Timestamp('2009-12-08 14:04:00'),\n",
       " ('491458', 'BAKING SET 9 PIECE RETROSPOT '): Timestamp('2009-12-11 11:28:00'),\n",
       " ('491018',\n",
       "  'WHITE BEADED GARLAND STRING 20LIGHT'): Timestamp('2009-12-08 18:43:00'),\n",
       " ('489563',\n",
       "  'PINK CRYSTAL HEART PHONE CHARM'): Timestamp('2009-12-01 13:09:00'),\n",
       " ('490943', ' Bank Charges'): Timestamp('2009-12-08 14:08:00'),\n",
       " ('491626', 'VINTAGE WOOD ORGANISER'): Timestamp('2009-12-11 14:31:00'),\n",
       " ('491761', 'TWO DOOR CURIO CABINET'): Timestamp('2009-12-14 12:37:00'),\n",
       " ('490532', 'DISTRESSED CANDLE STICK WHITE'): Timestamp('2009-12-06 16:02:00'),\n",
       " ('490942', 'BINGO SET'): Timestamp('2009-12-08 14:04:00'),\n",
       " ('491728',\n",
       "  'RETRO SPOT TEA SET CERAMIC 11 PC '): Timestamp('2009-12-14 09:18:00'),\n",
       " ('491821',\n",
       "  'GLASS STAR FROSTED T-LIGHT HOLDER'): Timestamp('2009-12-14 13:50:00'),\n",
       " ('490513', 'RED HEART CANDY POP LIGHTS'): Timestamp('2009-12-06 14:58:00'),\n",
       " ('491728',\n",
       "  'STRAWBERRY CERAMIC TRINKET BOX'): Timestamp('2009-12-14 09:18:00'),\n",
       " ('491605', 'BLACK SMALL GLASS CAKE STAND'): Timestamp('2009-12-11 13:33:00'),\n",
       " ('489459',\n",
       "  'CRYSTAL PAIR HEART HAIR SLIDES'): Timestamp('2009-12-01 10:44:00'),\n",
       " ('491190', 'HOME BUILDING BLOCK WORD'): Timestamp('2009-12-10 12:38:00'),\n",
       " ('491615',\n",
       "  'WOODEN PICTURE FRAME WHITE FINISH'): Timestamp('2009-12-11 13:57:00'),\n",
       " ('489771',\n",
       "  'SET/5 RED SPOTTY LID GLASS BOWLS'): Timestamp('2009-12-02 11:36:00'),\n",
       " ('490126', 'Manual'): Timestamp('2009-12-03 18:12:00'),\n",
       " ('490798',\n",
       "  'SET/20 RED SPOTTY PAPER NAPKINS '): Timestamp('2009-12-08 11:51:00'),\n",
       " ('490721',\n",
       "  'STRAWBERRY CERAMIC TRINKET BOX'): Timestamp('2009-12-07 15:45:00'),\n",
       " ('491533',\n",
       "  'OCEAN SCENT CANDLE IN JEWELLED BOX'): Timestamp('2009-12-11 12:32:00'),\n",
       " ('490996',\n",
       "  'FOOD CONTAINER SET 3 LOVE HEART '): Timestamp('2009-12-08 17:23:00'),\n",
       " ('490807', 'CHRISTMAS TOILET ROLL'): Timestamp('2009-12-08 12:25:00'),\n",
       " ('491190', 'PAPER CHAIN KIT RETRO SPOT'): Timestamp('2009-12-10 12:38:00'),\n",
       " ('491084', 'HAND OPEN SHAPE DECO.WHITE'): Timestamp('2009-12-09 13:24:00'),\n",
       " ('490996', 'RETRO SPOT LAMP'): Timestamp('2009-12-08 17:23:00'),\n",
       " ('489958',\n",
       "  'CHRISTMAS CARD STACK OF PRESENTS'): Timestamp('2009-12-03 10:58:00'),\n",
       " ('491461', 'ANTIQUE LILY FAIRY LIGHTS'): Timestamp('2009-12-11 11:35:00'),\n",
       " ('489518',\n",
       "  'SET/3 TALL GLASS CANDLE HOLDER PINK'): Timestamp('2009-12-01 11:35:00'),\n",
       " ('490942',\n",
       "  'RED SPOT HEART HOT WATER BOTTLE'): Timestamp('2009-12-08 14:04:00'),\n",
       " ('490942', 'ASSTD DESIGN RACING CAR PEN'): Timestamp('2009-12-08 14:04:00'),\n",
       " ('489955',\n",
       "  'STRAWBERRY CERAMIC TRINKET BOX'): Timestamp('2009-12-03 10:57:00'),\n",
       " ('490942',\n",
       "  'MUSHROOM BLUE HOT WATER BOTTLE'): Timestamp('2009-12-08 14:04:00'),\n",
       " ('489459', 'PINK SWEETHEART BRACELET'): Timestamp('2009-12-01 10:44:00'),\n",
       " ('490350',\n",
       "  'FLOWER BURST SILVER RING GREEN'): Timestamp('2009-12-04 16:24:00'),\n",
       " ('491052', 'RETRO SPOT CANDLE  SMALL'): Timestamp('2009-12-09 10:47:00'),\n",
       " ('491000',\n",
       "  'JUMBO BAG PINK VINTAGE PAISLEY'): Timestamp('2009-12-08 17:27:00'),\n",
       " ('491099', 'GIN AND TONIC MUG'): Timestamp('2009-12-09 14:11:00'),\n",
       " ('489610', 'PEACE SMALL WOOD LETTERS'): Timestamp('2009-12-01 14:52:00'),\n",
       " ('491166',\n",
       "  'RETRO SPOT TEA SET CERAMIC 11 PC '): Timestamp('2009-12-10 11:00:00'),\n",
       " ('491162', 'BLUE ROCKING SINGING CANARY'): Timestamp('2009-12-10 10:33:00'),\n",
       " ('490133', 'SMALL GLASS HEART TRINKET POT'): Timestamp('2009-12-03 18:36:00'),\n",
       " ('491521', 'PURPLE ORCHID FLOWER LIGHTS'): Timestamp('2009-12-11 12:29:00'),\n",
       " ('490934',\n",
       "  'SET/5 RED SPOTTY LID GLASS BOWLS'): Timestamp('2009-12-08 13:49:00'),\n",
       " ('491023', 'S/4 CACTI CANDLES'): Timestamp('2009-12-08 18:57:00'),\n",
       " ('489636',\n",
       "  'CHRISTMAS CRAFT LITTLE FRIENDS'): Timestamp('2009-12-01 15:34:00'),\n",
       " ('491521', 'GREEN CHERRY LIGHTS'): Timestamp('2009-12-11 12:29:00'),\n",
       " ('491031',\n",
       "  'CERAMIC CAKE STAND + HANGING CAKES'): Timestamp('2009-12-08 19:09:00'),\n",
       " ('489570', ' SILVER T-LIGHT SETTING'): Timestamp('2009-12-01 13:28:00'),\n",
       " ('490120',\n",
       "  'PINK 3 PIECE MINI DOTS CUTLERY SET'): Timestamp('2009-12-03 17:52:00'),\n",
       " ('490744',\n",
       "  'VINTAGE UNION JACK CUSHION COVER'): Timestamp('2009-12-07 18:00:00'),\n",
       " ('490666', 'LOVE LARGE WOOD LETTERS '): Timestamp('2009-12-07 12:32:00'),\n",
       " ('491190', 'RED SPOTTY PEG BAG'): Timestamp('2009-12-10 12:38:00'),\n",
       " ('489459',\n",
       "  'DIAMANTE BOW BROOCH BLACK COLOUR'): Timestamp('2009-12-01 10:44:00'),\n",
       " ('490798', 'SET/6 STRAWBERRY PAPER CUPS'): Timestamp('2009-12-08 11:51:00'),\n",
       " ('491099', 'PINK DOUGHNUT TRINKET POT '): Timestamp('2009-12-09 14:11:00'),\n",
       " ('490807',\n",
       "  'KNITTED RAINBOW HOT WATER BOTTLE'): Timestamp('2009-12-08 12:25:00'),\n",
       " ('490942', 'HYACINTH BULB T-LIGHT CANDLES'): Timestamp('2009-12-08 14:04:00'),\n",
       " ('489518',\n",
       "  '15CM CHRISTMAS GLASS BALL 20 LIGHTS'): Timestamp('2009-12-01 11:35:00'),\n",
       " ('490942', 'CACTI T-LIGHT CANDLES'): Timestamp('2009-12-08 14:04:00'),\n",
       " ('491592',\n",
       "  'CHARLIE+LOLA PINK HOT WATER BOTTLE'): Timestamp('2009-12-11 13:09:00'),\n",
       " ('489636', 'WOODLAND ANIMAL  WRITING SET '): Timestamp('2009-12-01 15:34:00'),\n",
       " ('489577',\n",
       "  'TEA TIME CAKE STAND IN GIFT BOX'): Timestamp('2009-12-01 13:38:00'),\n",
       " ('491410', 'EIGHT PIECE DINOSAUR SET'): Timestamp('2009-12-10 18:50:00'),\n",
       " ('490973',\n",
       "  'SET/3 RUSSIAN DOLL STACKING TINS'): Timestamp('2009-12-08 16:40:00'),\n",
       " ('491588',\n",
       "  'GLASS BONBON JAR PARFUME AUX FLEURE'): Timestamp('2009-12-11 12:59:00'),\n",
       " ('490120',\n",
       "  'WOODLAND PARTY BAG + STICKER SET'): Timestamp('2009-12-03 17:52:00'),\n",
       " ('491260', 'STRING OF 20 ROSE LIGHTS'): Timestamp('2009-12-10 15:01:00'),\n",
       " ('490798',\n",
       "  'RETRO SPORT PARTY BAG + STICKER SET'): Timestamp('2009-12-08 11:51:00'),\n",
       " ('491589', 'BAKING SET 9 PIECE RETROSPOT '): Timestamp('2009-12-11 13:04:00'),\n",
       " ('491614',\n",
       "  'RETRO SPORT PARTY BAG + STICKER SET'): Timestamp('2009-12-11 13:55:00'),\n",
       " ('490739', 'HEART FILIGREE DOVE LARGE'): Timestamp('2009-12-07 17:50:00'),\n",
       " ('490942', 'SCOTTIE DOG HOT WATER BOTTLE'): Timestamp('2009-12-08 14:04:00'),\n",
       " ('491533',\n",
       "  'SET/3 VANILLA SCENTED CANDLE IN BOX'): Timestamp('2009-12-11 12:32:00'),\n",
       " ('490120',\n",
       "  'LUNCHBOX WITH CUTLERY FAIRY CAKES '): Timestamp('2009-12-03 17:52:00'),\n",
       " ('490283', 'TEA CUP AND SAUCER RETRO SPOT'): Timestamp('2009-12-04 12:49:00'),\n",
       " ('489570', ' WHITE CHERRY LIGHTS'): Timestamp('2009-12-01 13:28:00'),\n",
       " ('491467', 'WOODEN BOX ADVENT CALENDAR '): Timestamp('2009-12-11 11:59:00'),\n",
       " ('490996',\n",
       "  'WOODEN CHRISTMAS TREE 3 HANGING'): Timestamp('2009-12-08 17:23:00'),\n",
       " ('491022', 'RED SPOTTY PURSE '): Timestamp('2009-12-08 18:52:00'),\n",
       " ('490942', 'FORKED CACTUS CANDLE'): Timestamp('2009-12-08 14:04:00'),\n",
       " ('491213',\n",
       "  'WHITE HANGING HEART T-LIGHT HOLDER'): Timestamp('2009-12-10 14:34:00'),\n",
       " ('490498', 'ENGLISH ROSE MUG IN GIFT BOX'): Timestamp('2009-12-06 13:43:00'),\n",
       " ('489589', 'RETRO SPOT SMALL MILK JUG'): Timestamp('2009-12-01 14:02:00'),\n",
       " ('491190', 'EMPIRE TISSUE BOX'): Timestamp('2009-12-10 12:38:00'),\n",
       " ('489911',\n",
       "  'SET OF THREE VINTAGE GIFT WRAPS'): Timestamp('2009-12-03 10:26:00'),\n",
       " ('490946',\n",
       "  'SMALL DOLLY MIX DESIGN ORANGE BOWL'): Timestamp('2009-12-08 14:28:00'),\n",
       " ('489610',\n",
       "  'WHITE HANGING HEART T-LIGHT HOLDER'): Timestamp('2009-12-01 14:52:00'),\n",
       " ('491001', 'PICCADILLY TEA SET'): Timestamp('2009-12-08 17:30:00'),\n",
       " ('491411',\n",
       "  'HANGING JAM JAR T-LIGHT HOLDER'): Timestamp('2009-12-10 18:58:00'),\n",
       " ('491676', 'RED SHARK HELICOPTER'): Timestamp('2009-12-13 12:09:00'),\n",
       " ('490942', 'FAWN BLUE HOT WATER BOTTLE'): Timestamp('2009-12-08 14:04:00'),\n",
       " ('489589', 'RETRO SPOT STORAGE JAR'): Timestamp('2009-12-01 14:02:00'),\n",
       " ('491402',\n",
       "  'PARTY CONE CHRISTMAS DECORATION '): Timestamp('2009-12-10 17:16:00'),\n",
       " ('490513',\n",
       "  'SET/3 RUSSIAN DOLL STACKING TINS'): Timestamp('2009-12-06 14:58:00'),\n",
       " ('489859', 'Manual'): Timestamp('2009-12-02 14:45:00'),\n",
       " ('490120',\n",
       "  'PACK OF 72 RETRO SPOT CAKE CASES'): Timestamp('2009-12-03 17:52:00'),\n",
       " ('490513',\n",
       "  'RED HANGING HEART T-LIGHT HOLDER'): Timestamp('2009-12-06 14:58:00'),\n",
       " ('490866', 'FEATHER DUSTER, COAL BLACK'): Timestamp('2009-12-08 12:51:00'),\n",
       " ('490942', 'UNION JACK HOT WATER BOTTLE '): Timestamp('2009-12-08 14:04:00'),\n",
       " ('490507',\n",
       "  'GREEN CHRISTMAS TREE CARD HOLDER'): Timestamp('2009-12-06 14:12:00'),\n",
       " ('490700', 'LETTER \"I\" BLING KEY RING'): Timestamp('2009-12-07 14:37:00'),\n",
       " ('489828',\n",
       "  'SET/3 VANILLA SCENTED CANDLE IN BOX'): Timestamp('2009-12-02 13:53:00'),\n",
       " ('489551',\n",
       "  '15CM CHRISTMAS GLASS BALL 20 LIGHTS'): Timestamp('2009-12-01 12:35:00'),\n",
       " ('491466', 'LOVE HEART TRINKET POT'): Timestamp('2009-12-11 11:52:00'),\n",
       " ('491551',\n",
       "  'CHERRY BLOSSOM DECORATIVE FLASK'): Timestamp('2009-12-11 12:40:00'),\n",
       " ('489713', 'SET/6 RED SPOTTY PAPER PLATES'): Timestamp('2009-12-02 10:55:00'),\n",
       " ('489553', 'HAND OPEN SHAPE DECO.WHITE'): Timestamp('2009-12-01 12:41:00'),\n",
       " ('491461', 'MILK PAN PINK RETROSPOT'): Timestamp('2009-12-11 11:35:00'),\n",
       " ('491823', 'MIRRORED DISCO BALL '): Timestamp('2009-12-14 13:55:00'),\n",
       " ('489527', 'PINK JUICY FRUIT PHOTO FRAME'): Timestamp('2009-12-01 11:50:00'),\n",
       " ('490348',\n",
       "  'MURANO STYLE GLASS BRACELET RED'): Timestamp('2009-12-04 16:22:00'),\n",
       " ('490120', 'SET/6 STRAWBERRY PAPER CUPS'): Timestamp('2009-12-03 17:52:00'),\n",
       " ('491037', 'NOEL WOODEN BLOCK LETTERS '): Timestamp('2009-12-09 09:28:00'),\n",
       " ('491023', 'SWISS ROLL TOWEL, PINK  SPOTS'): Timestamp('2009-12-08 18:57:00'),\n",
       " ('490983', 'RETRO SPOT STORAGE JAR'): Timestamp('2009-12-08 16:57:00'),\n",
       " ('489636',\n",
       "  'SAVE THE PLANET COTTON TOTE BAG'): Timestamp('2009-12-01 15:34:00'),\n",
       " ('490977', 'SET 4 NURSERY DES ROUND BOXES'): Timestamp('2009-12-08 16:43:00'),\n",
       " ('491466',\n",
       "  'STRAWBERRY HONEYCOMB  GARLAND '): Timestamp('2009-12-11 11:52:00'),\n",
       " ('490798', 'SET/6 RED SPOTTY PAPER CUPS'): Timestamp('2009-12-08 11:51:00'),\n",
       " ('490269', 'RETRO SPOTS BUTTER DISH'): Timestamp('2009-12-04 12:33:00'),\n",
       " ('489449', \"POTTING SHED SOW 'N' GROW SET\"): Timestamp('2009-12-01 10:33:00'),\n",
       " ('490744', 'VINTAGE GLASS COFFEE CADDY'): Timestamp('2009-12-07 18:00:00'),\n",
       " ('491676', 'HEARTS  STICKERS'): Timestamp('2009-12-13 12:09:00'),\n",
       " ('491084',\n",
       "  'WHITE BEADED GARLAND STRING 20LIGHT'): Timestamp('2009-12-09 13:24:00'),\n",
       " ('490120', 'SET/6 STRAWBERRY PAPER PLATES'): Timestamp('2009-12-03 17:52:00'),\n",
       " ('490942',\n",
       "  'RABBIT  DESIGN  COTTON TOTE BAG'): Timestamp('2009-12-08 14:04:00'),\n",
       " ('491418',\n",
       "  '15CM CHRISTMAS GLASS BALL 20 LIGHTS'): Timestamp('2009-12-10 19:20:00'),\n",
       " ('491620', 'RETRO SPOT CAKE STAND'): Timestamp('2009-12-11 14:09:00'),\n",
       " ('491168', 'PINK CHERRY LIGHTS'): Timestamp('2009-12-10 11:23:00'),\n",
       " ('491620',\n",
       "  'RETRO SPOT TRADITIONAL TEAPOT '): Timestamp('2009-12-11 14:09:00'),\n",
       " ('491190', 'KEY FOB , BACK DOOR '): Timestamp('2009-12-10 12:38:00'),\n",
       " ('490744', 'GLASS  BEURRE DISH'): Timestamp('2009-12-07 18:00:00'),\n",
       " ('491618',\n",
       "  'SET/5 RED SPOTTY LID GLASS BOWLS'): Timestamp('2009-12-11 14:08:00'),\n",
       " ('490133',\n",
       "  'PINK BLUE FELT CRAFT TRINKET BOX'): Timestamp('2009-12-03 18:36:00'),\n",
       " ('489636',\n",
       "  'WOODLAND DESIGN  COTTON TOTE BAG'): Timestamp('2009-12-01 15:34:00'),\n",
       " ('489588', 'WELCOME  WOODEN BLOCK LETTERS'): Timestamp('2009-12-01 14:01:00'),\n",
       " ('491599', 'RETRO SPOT CAKE STAND'): Timestamp('2009-12-11 13:20:00'),\n",
       " ('489636', 'DINOSAURS  WRITING SET '): Timestamp('2009-12-01 15:34:00'),\n",
       " ('490996', 'LADLE LOVE HEART PINK'): Timestamp('2009-12-08 17:23:00'),\n",
       " ('490700', 'LETTER \"E\" BLING KEY RING'): Timestamp('2009-12-07 14:37:00'),\n",
       " ('490946', 'SWALLOWS GREETING CARD'): Timestamp('2009-12-08 14:28:00'),\n",
       " ('490700', 'LETTER \"S\" BLING KEY RING'): Timestamp('2009-12-07 14:37:00'),\n",
       " ('489911', 'SET/3 POLKA DOT STACKING TINS'): Timestamp('2009-12-03 10:26:00'),\n",
       " ('489958', 'CREAM SWEETHEART DOUBLE SHELF'): Timestamp('2009-12-03 10:58:00'),\n",
       " ('489568', 'RED SPOTTY BISCUIT TIN'): Timestamp('2009-12-01 13:20:00'),\n",
       " ('490946',\n",
       "  'SET OF 4 ENGLISH ROSE COASTERS'): Timestamp('2009-12-08 14:28:00'),\n",
       " ('491618',\n",
       "  'GLASS STAR FROSTED T-LIGHT HOLDER'): Timestamp('2009-12-11 14:08:00'),\n",
       " ('490153', 'RETRO SPOT LAMP'): Timestamp('2009-12-04 10:10:00'),\n",
       " ('491190', 'RETRO SPOT SUGAR JAM BOWL'): Timestamp('2009-12-10 12:38:00'),\n",
       " ('490942', 'ASSTD DESIGN BUBBLE GUM RING'): Timestamp('2009-12-08 14:04:00'),\n",
       " ('489459', 'PURPLE ENAMEL+GLASS HAIR COMB'): Timestamp('2009-12-01 10:44:00'),\n",
       " ('491402',\n",
       "  'BLUE GREEN CHRISTMAS HANGING BALL '): Timestamp('2009-12-10 17:16:00'),\n",
       " ('489459', 'BLUE SWEETHEART BRACELET'): Timestamp('2009-12-01 10:44:00'),\n",
       " ('490985',\n",
       "  'POLKADOT CUTLERY 24 PCS IN TRAY'): Timestamp('2009-12-08 17:04:00'),\n",
       " ('489610', 'STRING OF STARS CARD HOLDER'): Timestamp('2009-12-01 14:52:00'),\n",
       " ('490946', 'PIZZA PLATE IN BOX'): Timestamp('2009-12-08 14:28:00'),\n",
       " ('491466', 'DOLLY HONEYCOMB GARLAND'): Timestamp('2009-12-11 11:52:00'),\n",
       " ('490946', 'BLUE SPOTTY PURSE '): Timestamp('2009-12-08 14:28:00'),\n",
       " ('490495', 'S/16 VINTAGE IVORY CUTLERY'): Timestamp('2009-12-06 13:38:00'),\n",
       " ('491099',\n",
       "  'WALL MIRROR , DIAMANTE OVAL SHAPE'): Timestamp('2009-12-09 14:11:00'),\n",
       " ('489578', 'FAWN BLUE HOT WATER BOTTLE'): Timestamp('2009-12-01 13:40:00'),\n",
       " ('489643',\n",
       "  'WALL MIRROR , DIAMANTE OVAL SHAPE'): Timestamp('2009-12-01 16:26:00'),\n",
       " ('490946', 'STAR PORTABLE TABLE LIGHT '): Timestamp('2009-12-08 14:28:00'),\n",
       " ('490979',\n",
       "  'WHITE BEADED GARLAND STRING 20LIGHT'): Timestamp('2009-12-08 16:51:00'),\n",
       " ('490798',\n",
       "  'PINK 3 PIECE MINI DOTS CUTLERY SET'): Timestamp('2009-12-08 11:51:00'),\n",
       " ('491028',\n",
       "  'BUBBLE GUM CHUNKY KNITTED THROW '): Timestamp('2009-12-08 19:06:00'),\n",
       " ('490946', 'FEATHER PEN,LIGHT PINK'): Timestamp('2009-12-08 14:28:00'),\n",
       " ('489689', 'RETRO SPOT CAKE STAND'): Timestamp('2009-12-02 10:46:00'),\n",
       " ('489583',\n",
       "  'WHITE BEADED GARLAND STRING 20LIGHT'): Timestamp('2009-12-01 13:47:00'),\n",
       " ('490935', 'ASSORTED CAKES FRIDGE MAGNETS'): Timestamp('2009-12-08 13:54:00'),\n",
       " ('491544',\n",
       "  'COFFEE MUG PINK PAISLEY DESIGN'): Timestamp('2009-12-11 12:36:00'),\n",
       " ('490866', 'CREAM SWEETHEART TRAYS'): Timestamp('2009-12-08 12:51:00'),\n",
       " ('491013', 'RETRO SPOT CAKE STAND'): Timestamp('2009-12-08 18:28:00'),\n",
       " ('490120', 'POSTAGE'): Timestamp('2009-12-03 17:52:00'),\n",
       " ('489588', 'GREEN CHERRY LIGHTS'): Timestamp('2009-12-01 14:01:00'),\n",
       " ('490988', 'RETRO SPOT LARGE MILK JUG'): Timestamp('2009-12-08 17:08:00'),\n",
       " ('489588', 'PINK CHERRY LIGHTS'): Timestamp('2009-12-01 14:01:00'),\n",
       " ('490942',\n",
       "  'CHARLIE+LOLA RED HOT WATER BOTTLE '): Timestamp('2009-12-08 14:04:00'),\n",
       " ('491419', 'GRAND CHOCOLATECANDLE'): Timestamp('2009-12-10 19:25:00'),\n",
       " ('490096', 'LUNCH BAG WOODLAND'): Timestamp('2009-12-03 16:06:00'),\n",
       " ('491190', 'TEA CUP AND SAUCER RETRO SPOT'): Timestamp('2009-12-10 12:38:00'),\n",
       " ('490756',\n",
       "  'SET 6 FOOTBALL CELEBRATION CANDLES'): Timestamp('2009-12-08 09:27:00'),\n",
       " ('490866',\n",
       "  'WOOD 2 DRAWER CABINET WHITE FINISH'): Timestamp('2009-12-08 12:51:00'),\n",
       " ('490946', 'RED SPOTTY LUGGAGE TAG'): Timestamp('2009-12-08 14:28:00'),\n",
       " ('490469', 'PURPLE GEMSTONE BRACELET'): Timestamp('2009-12-06 12:23:00'),\n",
       " ('490807', 'PING MICROWAVE APRON'): Timestamp('2009-12-08 12:25:00'),\n",
       " ('490987', ' SILVER T-LIGHT SETTING'): Timestamp('2009-12-08 17:07:00'),\n",
       " ('490939',\n",
       "  'LUNCHBOX WITH CUTLERY RETROSPOT '): Timestamp('2009-12-08 14:00:00'),\n",
       " ('491741',\n",
       "  'DAIRY MAID TRADITIONAL TEAPOT '): Timestamp('2009-12-14 11:00:00'),\n",
       " ('489449',\n",
       "  'ANTIQUE SILVER TEA GLASS ETCHED'): Timestamp('2009-12-01 10:33:00'),\n",
       " ('490507', 'SET OF 6 DOTS CHOPSTICKS'): Timestamp('2009-12-06 14:12:00'),\n",
       " ('491591',\n",
       "  'SWEETHEART CERAMIC TRINKET BOX'): Timestamp('2009-12-11 13:08:00'),\n",
       " ('490120', 'WOODEN BOX OF DOMINOES'): Timestamp('2009-12-03 17:52:00'),\n",
       " ('490995',\n",
       "  'SET/3 TALL GLASS CANDLE HOLDER PINK'): Timestamp('2009-12-08 17:16:00'),\n",
       " ('491018', 'CHILLI LIGHTS'): Timestamp('2009-12-08 18:43:00'),\n",
       " ('490946', 'KEY FOB , BACK DOOR '): Timestamp('2009-12-08 14:28:00'),\n",
       " ('490120',\n",
       "  'RETRO SPORT PARTY BAG + STICKER SET'): Timestamp('2009-12-03 17:52:00'),\n",
       " ('491404',\n",
       "  'LARGE CAKE STAND  HANGING STRAWBERY'): Timestamp('2009-12-10 17:34:00'),\n",
       " ('491827', 'PARTY INVITES FOOTBALL'): Timestamp('2009-12-14 14:12:00'),\n",
       " ('490986', 'CREAM SWEETHEART MINI CHEST'): Timestamp('2009-12-08 17:05:00'),\n",
       " ('491190', 'RETRO SPOT LAMP'): Timestamp('2009-12-10 12:38:00'),\n",
       " ('491402',\n",
       "  'HANGING BAUBLE T-LIGHT HOLDER SMALL'): Timestamp('2009-12-10 17:16:00'),\n",
       " ('491600', 'RED HEARTS LIGHT CHAIN '): Timestamp('2009-12-11 13:23:00'),\n",
       " ('490773',\n",
       "  'LARGE CAKE STAND HANGING HEARTS'): Timestamp('2009-12-08 11:19:00'),\n",
       " ('491608',\n",
       "  'RED HANGING HEART T-LIGHT HOLDER'): Timestamp('2009-12-11 13:39:00'),\n",
       " ('491728', 'POPCORN HOLDER , LARGE'): Timestamp('2009-12-14 09:18:00'),\n",
       " ('491402', ' 3 STRIPEY MICE FELTCRAFT'): Timestamp('2009-12-10 17:16:00'),\n",
       " ('491190', 'BEWARE OF THE CAT METAL SIGN '): Timestamp('2009-12-10 12:38:00'),\n",
       " ('491827', 'TEATIME CAKE TIN WITH HANDLE'): Timestamp('2009-12-14 14:12:00'),\n",
       " ('491369', 'MOTORING TISSUE BOX'): Timestamp('2009-12-10 15:57:00'),\n",
       " ('491052',\n",
       "  'SET/3 RUSSIAN DOLL STACKING TINS'): Timestamp('2009-12-09 10:47:00'),\n",
       " ('491727', 'COOK WITH WINE METAL SIGN '): Timestamp('2009-12-14 09:10:00'),\n",
       " ('489563',\n",
       "  'CLEAR CRYSTAL STAR PHONE CHARM'): Timestamp('2009-12-01 13:09:00'),\n",
       " ('491846', 'JAPANESE CROCHETED ANIMAL'): Timestamp('2009-12-14 14:58:00'),\n",
       " ('489813',\n",
       "  'PINK GINGHAM ROSE CUSHION COVER'): Timestamp('2009-12-02 13:02:00'),\n",
       " ('491614',\n",
       "  'DINOSAUR PARTY BAG + STICKER SET'): Timestamp('2009-12-11 13:55:00'),\n",
       " ('491820',\n",
       "  'CERAMIC BIRDHOUSE CRESTED TIT SMALL'): Timestamp('2009-12-14 13:49:00'),\n",
       " ('491469',\n",
       "  'STRAWBERRY CERAMIC TRINKET BOX'): Timestamp('2009-12-11 12:02:00'),\n",
       " ('490283',\n",
       "  'SWEETHEART CERAMIC TRINKET BOX'): Timestamp('2009-12-04 12:49:00'),\n",
       " ('490996', 'DOOR MAT GREEN PAISLEY '): Timestamp('2009-12-08 17:23:00'),\n",
       " ('491080',\n",
       "  'SET/3 RUSSIAN DOLL STACKING TINS'): Timestamp('2009-12-09 13:07:00'),\n",
       " ('490402', 'BLACK TEA,COFFEE,SUGAR JARS'): Timestamp('2009-12-06 10:57:00'),\n",
       " ('491260', 'ANTIQUE LILY FAIRY LIGHTS'): Timestamp('2009-12-10 15:01:00'),\n",
       " ('491190', 'RETRO SPOTS BUTTER DISH'): Timestamp('2009-12-10 12:38:00'),\n",
       " ('490946', 'BIG DOUGHNUT FRIDGE MAGNETS'): Timestamp('2009-12-08 14:28:00'),\n",
       " ('491590', 'WOODEN BOX ADVENT CALENDAR '): Timestamp('2009-12-11 13:07:00'),\n",
       " ('490798',\n",
       "  'PACK OF 72 RETRO SPOT CAKE CASES'): Timestamp('2009-12-08 11:51:00'),\n",
       " ('491740',\n",
       "  'RETRO SPOT TRADITIONAL TEAPOT '): Timestamp('2009-12-14 10:57:00'),\n",
       " ('491190',\n",
       "  'RETRO SPOT TRADITIONAL TEAPOT '): Timestamp('2009-12-10 12:38:00'),\n",
       " ('490475', 'EIGHT PIECE DINOSAUR SET'): Timestamp('2009-12-06 12:34:00'),\n",
       " ('491414', 'CHARLOTTE BAG , SUKI DESIGN'): Timestamp('2009-12-10 19:13:00'),\n",
       " ('491414',\n",
       "  'PACK OF 60 PINK PAISLEY CAKE CASES'): Timestamp('2009-12-10 19:13:00'),\n",
       " ('491820',\n",
       "  'CERAMIC BIRDHOUSE RED ROOF SMALL'): Timestamp('2009-12-14 13:49:00'),\n",
       " ('490946', \"SET OF THREE 50'S GIFT WRAPS \"): Timestamp('2009-12-08 14:28:00'),\n",
       " ('490935',\n",
       "  'WOOD AND GLASS MEDICINE CABINET'): Timestamp('2009-12-08 13:54:00'),\n",
       " ('490807', 'FEATHER PEN,HOT PINK'): Timestamp('2009-12-08 12:25:00'),\n",
       " ('490153',\n",
       "  'RETRO SPOT TRADITIONAL TEAPOT '): Timestamp('2009-12-04 10:10:00'),\n",
       " ('490700', 'LETTER \"L\" BLING KEY RING'): Timestamp('2009-12-07 14:37:00'),\n",
       " ('491824',\n",
       "  'PINK SPOTS CHOCOLATE NESTING BOXES '): Timestamp('2009-12-14 13:57:00'),\n",
       " ('491614',\n",
       "  'RETRO SPOT TEA SET CERAMIC 11 PC '): Timestamp('2009-12-11 13:55:00'),\n",
       " ('491190', 'TEA BAG PLATE RED SPOTTY '): Timestamp('2009-12-10 12:38:00'),\n",
       " ('490051',\n",
       "  'CAKE STAND LOVEBIRD 2 TIER WHITE'): Timestamp('2009-12-03 13:06:00'),\n",
       " ('490942',\n",
       "  'KNITTED UNION FLAG HOT WATER BOTTLE'): Timestamp('2009-12-08 14:04:00'),\n",
       " ('490343', 'ASSORTED MINI MADRAS NOTEBOOK'): Timestamp('2009-12-04 15:48:00'),\n",
       " ('490996', 'KEY FOB , GARAGE DESIGN'): Timestamp('2009-12-08 17:23:00'),\n",
       " ('489911',\n",
       "  'SET OF 3 CASES WOODLAND DESIGN'): Timestamp('2009-12-03 10:26:00'),\n",
       " ('491156', 'RETRO SPOT CAKE STAND'): Timestamp('2009-12-10 09:54:00'),\n",
       " ('489459',\n",
       "  'AMETHYST DIAMANTE EXPANDABLE RING'): Timestamp('2009-12-01 10:44:00'),\n",
       " ('491460', 'RETRO SPOT CAKE STAND'): Timestamp('2009-12-11 11:31:00'),\n",
       " ('491414', 'STRAWBERRY SHOPPER BAG'): Timestamp('2009-12-10 19:13:00')}"
      ]
     },
     "execution_count": 311,
     "metadata": {},
     "output_type": "execute_result"
    }
   ],
   "source": [
    "cancellations_mapping"
   ]
  },
  {
   "cell_type": "code",
   "execution_count": 312,
   "metadata": {},
   "outputs": [
    {
     "name": "stderr",
     "output_type": "stream",
     "text": [
      "/var/folders/35/yy_kphpd6c938fbpf2fk1n3r0000gn/T/ipykernel_46773/18238018.py:1: SettingWithCopyWarning:\n",
      "\n",
      "\n",
      "A value is trying to be set on a copy of a slice from a DataFrame.\n",
      "Try using .loc[row_indexer,col_indexer] = value instead\n",
      "\n",
      "See the caveats in the documentation: https://pandas.pydata.org/pandas-docs/stable/user_guide/indexing.html#returning-a-view-versus-a-copy\n",
      "\n"
     ]
    },
    {
     "data": {
      "text/html": [
       "<div>\n",
       "<style scoped>\n",
       "    .dataframe tbody tr th:only-of-type {\n",
       "        vertical-align: middle;\n",
       "    }\n",
       "\n",
       "    .dataframe tbody tr th {\n",
       "        vertical-align: top;\n",
       "    }\n",
       "\n",
       "    .dataframe thead th {\n",
       "        text-align: right;\n",
       "    }\n",
       "</style>\n",
       "<table border=\"1\" class=\"dataframe\">\n",
       "  <thead>\n",
       "    <tr style=\"text-align: right;\">\n",
       "      <th></th>\n",
       "      <th>Invoice</th>\n",
       "      <th>StockCode</th>\n",
       "      <th>Description</th>\n",
       "      <th>Quantity</th>\n",
       "      <th>Price</th>\n",
       "      <th>Customer ID</th>\n",
       "      <th>Country</th>\n",
       "      <th>Actual Description</th>\n",
       "      <th>InvoiceDate</th>\n",
       "      <th>InvoiceDate_Date</th>\n",
       "      <th>CancellationDate</th>\n",
       "    </tr>\n",
       "  </thead>\n",
       "  <tbody>\n",
       "    <tr>\n",
       "      <th>0</th>\n",
       "      <td>489824</td>\n",
       "      <td>20914</td>\n",
       "      <td>SET/5 RED SPOTTY LID GLASS BOWLS</td>\n",
       "      <td>1</td>\n",
       "      <td>2.95</td>\n",
       "      <td>16797.0</td>\n",
       "      <td>United Kingdom</td>\n",
       "      <td>SET/5 RED SPOTTY LID GLASS BOWLS</td>\n",
       "      <td>2009-12-02 13:33:00</td>\n",
       "      <td>2009-12-02</td>\n",
       "      <td>NaT</td>\n",
       "    </tr>\n",
       "    <tr>\n",
       "      <th>1</th>\n",
       "      <td>491758</td>\n",
       "      <td>84946</td>\n",
       "      <td>ANTIQUE SILVER TEA GLASS ETCHED</td>\n",
       "      <td>6</td>\n",
       "      <td>1.25</td>\n",
       "      <td>17908.0</td>\n",
       "      <td>United Kingdom</td>\n",
       "      <td>ANTIQUE SILVER TEA GLASS ETCHED</td>\n",
       "      <td>2009-12-14 12:24:00</td>\n",
       "      <td>2009-12-14</td>\n",
       "      <td>NaT</td>\n",
       "    </tr>\n",
       "    <tr>\n",
       "      <th>2</th>\n",
       "      <td>491047</td>\n",
       "      <td>21982</td>\n",
       "      <td>NaN</td>\n",
       "      <td>-50</td>\n",
       "      <td>0.00</td>\n",
       "      <td>M12345</td>\n",
       "      <td>United Kingdom</td>\n",
       "      <td>NaN</td>\n",
       "      <td>2009-12-09 10:04:00</td>\n",
       "      <td>2009-12-09</td>\n",
       "      <td>NaT</td>\n",
       "    </tr>\n",
       "    <tr>\n",
       "      <th>3</th>\n",
       "      <td>490149</td>\n",
       "      <td>21396</td>\n",
       "      <td>RED SPOTTY EGG CUP</td>\n",
       "      <td>2</td>\n",
       "      <td>3.43</td>\n",
       "      <td>M12346</td>\n",
       "      <td>United Kingdom</td>\n",
       "      <td>RED SPOTTY EGG CUP</td>\n",
       "      <td>2009-12-04 09:43:00</td>\n",
       "      <td>2009-12-04</td>\n",
       "      <td>NaT</td>\n",
       "    </tr>\n",
       "    <tr>\n",
       "      <th>4</th>\n",
       "      <td>489916</td>\n",
       "      <td>22083</td>\n",
       "      <td>PAPER CHAIN KIT RETRO SPOT</td>\n",
       "      <td>12</td>\n",
       "      <td>2.95</td>\n",
       "      <td>15194.0</td>\n",
       "      <td>United Kingdom</td>\n",
       "      <td>PAPER CHAIN KIT RETRO SPOT</td>\n",
       "      <td>2009-12-03 10:37:00</td>\n",
       "      <td>2009-12-03</td>\n",
       "      <td>NaT</td>\n",
       "    </tr>\n",
       "    <tr>\n",
       "      <th>...</th>\n",
       "      <td>...</td>\n",
       "      <td>...</td>\n",
       "      <td>...</td>\n",
       "      <td>...</td>\n",
       "      <td>...</td>\n",
       "      <td>...</td>\n",
       "      <td>...</td>\n",
       "      <td>...</td>\n",
       "      <td>...</td>\n",
       "      <td>...</td>\n",
       "      <td>...</td>\n",
       "    </tr>\n",
       "    <tr>\n",
       "      <th>32193</th>\n",
       "      <td>490083</td>\n",
       "      <td>21490</td>\n",
       "      <td>SET OF THREE 50'S GIFT WRAPS</td>\n",
       "      <td>10</td>\n",
       "      <td>1.95</td>\n",
       "      <td>14031.0</td>\n",
       "      <td>United Kingdom</td>\n",
       "      <td>SET OF THREE 50'S GIFT WRAPS</td>\n",
       "      <td>2009-12-03 15:35:00</td>\n",
       "      <td>2009-12-03</td>\n",
       "      <td>NaT</td>\n",
       "    </tr>\n",
       "    <tr>\n",
       "      <th>32194</th>\n",
       "      <td>491584</td>\n",
       "      <td>20972</td>\n",
       "      <td>PINK CREAM FELT CRAFT TRINKET BOX</td>\n",
       "      <td>4</td>\n",
       "      <td>1.25</td>\n",
       "      <td>12854.0</td>\n",
       "      <td>United Kingdom</td>\n",
       "      <td>PINK CREAM FELT CRAFT TRINKET BOX</td>\n",
       "      <td>2009-12-11 12:55:00</td>\n",
       "      <td>2009-12-11</td>\n",
       "      <td>NaT</td>\n",
       "    </tr>\n",
       "    <tr>\n",
       "      <th>32195</th>\n",
       "      <td>489830</td>\n",
       "      <td>90214A</td>\n",
       "      <td>LETTER \"A\" BLING KEY RING</td>\n",
       "      <td>1</td>\n",
       "      <td>1.25</td>\n",
       "      <td>13623.0</td>\n",
       "      <td>United Kingdom</td>\n",
       "      <td>LETTER \"A\" BLING KEY RING</td>\n",
       "      <td>2009-12-02 13:57:00</td>\n",
       "      <td>2009-12-02</td>\n",
       "      <td>NaT</td>\n",
       "    </tr>\n",
       "    <tr>\n",
       "      <th>32196</th>\n",
       "      <td>489856</td>\n",
       "      <td>84081</td>\n",
       "      <td>WHITE CERAMIC PARTY SET (5PCS)</td>\n",
       "      <td>1</td>\n",
       "      <td>8.65</td>\n",
       "      <td>M12356</td>\n",
       "      <td>United Kingdom</td>\n",
       "      <td>WHITE CERAMIC PARTY SET (5PCS)</td>\n",
       "      <td>2009-12-02 14:36:00</td>\n",
       "      <td>2009-12-02</td>\n",
       "      <td>NaT</td>\n",
       "    </tr>\n",
       "    <tr>\n",
       "      <th>32197</th>\n",
       "      <td>489832</td>\n",
       "      <td>85099F</td>\n",
       "      <td>JUMBO BAG STRAWBERRY</td>\n",
       "      <td>2</td>\n",
       "      <td>1.95</td>\n",
       "      <td>14549.0</td>\n",
       "      <td>United Kingdom</td>\n",
       "      <td>JUMBO BAG STRAWBERRY</td>\n",
       "      <td>2009-12-02 14:06:00</td>\n",
       "      <td>2009-12-02</td>\n",
       "      <td>NaT</td>\n",
       "    </tr>\n",
       "  </tbody>\n",
       "</table>\n",
       "<p>31427 rows × 11 columns</p>\n",
       "</div>"
      ],
      "text/plain": [
       "      Invoice StockCode                         Description  Quantity  Price  \\\n",
       "0      489824     20914    SET/5 RED SPOTTY LID GLASS BOWLS         1   2.95   \n",
       "1      491758     84946     ANTIQUE SILVER TEA GLASS ETCHED         6   1.25   \n",
       "2      491047     21982                                 NaN       -50   0.00   \n",
       "3      490149     21396                 RED SPOTTY EGG CUP          2   3.43   \n",
       "4      489916     22083          PAPER CHAIN KIT RETRO SPOT        12   2.95   \n",
       "...       ...       ...                                 ...       ...    ...   \n",
       "32193  490083     21490       SET OF THREE 50'S GIFT WRAPS         10   1.95   \n",
       "32194  491584     20972  PINK CREAM FELT CRAFT TRINKET BOX          4   1.25   \n",
       "32195  489830    90214A           LETTER \"A\" BLING KEY RING         1   1.25   \n",
       "32196  489856     84081      WHITE CERAMIC PARTY SET (5PCS)         1   8.65   \n",
       "32197  489832    85099F                JUMBO BAG STRAWBERRY         2   1.95   \n",
       "\n",
       "      Customer ID         Country                  Actual Description  \\\n",
       "0         16797.0  United Kingdom    SET/5 RED SPOTTY LID GLASS BOWLS   \n",
       "1         17908.0  United Kingdom     ANTIQUE SILVER TEA GLASS ETCHED   \n",
       "2          M12345  United Kingdom                                 NaN   \n",
       "3          M12346  United Kingdom                 RED SPOTTY EGG CUP    \n",
       "4         15194.0  United Kingdom          PAPER CHAIN KIT RETRO SPOT   \n",
       "...           ...             ...                                 ...   \n",
       "32193     14031.0  United Kingdom       SET OF THREE 50'S GIFT WRAPS    \n",
       "32194     12854.0  United Kingdom  PINK CREAM FELT CRAFT TRINKET BOX    \n",
       "32195     13623.0  United Kingdom           LETTER \"A\" BLING KEY RING   \n",
       "32196      M12356  United Kingdom      WHITE CERAMIC PARTY SET (5PCS)   \n",
       "32197     14549.0  United Kingdom                JUMBO BAG STRAWBERRY   \n",
       "\n",
       "              InvoiceDate InvoiceDate_Date CancellationDate  \n",
       "0     2009-12-02 13:33:00       2009-12-02              NaT  \n",
       "1     2009-12-14 12:24:00       2009-12-14              NaT  \n",
       "2     2009-12-09 10:04:00       2009-12-09              NaT  \n",
       "3     2009-12-04 09:43:00       2009-12-04              NaT  \n",
       "4     2009-12-03 10:37:00       2009-12-03              NaT  \n",
       "...                   ...              ...              ...  \n",
       "32193 2009-12-03 15:35:00       2009-12-03              NaT  \n",
       "32194 2009-12-11 12:55:00       2009-12-11              NaT  \n",
       "32195 2009-12-02 13:57:00       2009-12-02              NaT  \n",
       "32196 2009-12-02 14:36:00       2009-12-02              NaT  \n",
       "32197 2009-12-02 14:06:00       2009-12-02              NaT  \n",
       "\n",
       "[31427 rows x 11 columns]"
      ]
     },
     "execution_count": 312,
     "metadata": {},
     "output_type": "execute_result"
    }
   ],
   "source": [
    "purchases['CancellationDate'] = purchases.apply(\n",
    "    lambda row: cancellations_mapping.get((row['Invoice'], row['Description']), pd.NaT),\n",
    "    axis=1\n",
    ")\n",
    "purchases"
   ]
  },
  {
   "cell_type": "code",
   "execution_count": 306,
   "metadata": {},
   "outputs": [
    {
     "name": "stdout",
     "output_type": "stream",
     "text": [
      "Cancellations invoices (after stripping): ['491080' '491411' '490807' '489528' '490946' '490744' '490743' '491728'\n",
      " '491166' '491693' '490358' '490773' '491723' '491040' '490923' '490148'\n",
      " '491003' '489570' '490980' '490076' '490942' '491416' '491414' '491676'\n",
      " '490973' '489449' '490931' '491546' '491611' '490700' '490283' '491015'\n",
      " '490746' '490987' '491099' '491002' '490935' '490996' '491409' '491190'\n",
      " '491594' '491417' '491004' '489527' '490460' '490120' '490702' '491705'\n",
      " '491466' '490480' '489643' '489541' '490866' '490510' '491818' '489858'\n",
      " '490701' '490994' '491461' '491460' '489636' '491013' '491410' '490296'\n",
      " '489459' '490122' '491985' '491260' '491084' '490798' '489955' '489685'\n",
      " '491632' '491020' '491521' '490947' '489713' '491598' '490129' '490309'\n",
      " '491610' '489881' '490544' '491827' '489583' '491402' '491544' '491029'\n",
      " '490991' '491441' '491819' '491130' '489595' '491469' '491459' '491614'\n",
      " '491621' '490929' '491017' '490520' '491593' '490565' '490348' '491413'\n",
      " '489534' '491545' '490748' '491823' '490462' '491615' '491741' '489563'\n",
      " '491022' '491602' '490513' '490509' '491830' '491430' '490153' '491838'\n",
      " '489610' '489591' '490306' '491398' '491618' '490133' '489554' '491032'\n",
      " '491415' '491036' '491609' '491019' '489577' '491739' '490768' '491845'\n",
      " '490721' '491156' '491208' '489553' '490742' '491419' '491591' '491016'\n",
      " '489503' '491423' '491604' '491370' '491962' '491599' '489568' '489565'\n",
      " '491428' '491012' '490997' '491619' '489651' '490269' '491822' '491446'\n",
      " '489518' '491727' '490739' '490993' '490469' '489973' '491412' '489799'\n",
      " '491620' '491005' '491842' '491623' '491820' '490155' '490051' '491121'\n",
      " '489476' '489530' '489632' '491157' '489592' '491808' '491021' '491420'\n",
      " '490307' '491455' '490117' '489813' '489504' '489538' '491596' '489524'\n",
      " '490251' '489803' '491836' '490756' '491616' '491551' '490507' '489860'\n",
      " '489535' '491027' '491606' '490131' '490988' '491052' '489686' '490098'\n",
      " '490492' '489549' '490740' '491162' '491595' '489555' '490949' '491494'\n",
      " '491030' '491605' '491076' '489605' '491689' '489587' '491650' '489543'\n",
      " '490974' '490497' '491458' '491018' '490943' '491626' '491761' '490532'\n",
      " '491821' '489771' '490126' '491533' '489958' '490350' '491000' '490934'\n",
      " '491023' '491031' '490666' '491592' '491588' '491589' '491467' '491213'\n",
      " '490498' '489589' '489911' '491001' '489859' '489828' '489551' '491037'\n",
      " '490983' '490977' '491418' '491168' '489588' '490985' '490495' '489578'\n",
      " '490979' '491028' '489689' '490096' '490939' '490995' '491404' '490986'\n",
      " '491600' '491608' '491369' '491846' '490402' '491590' '491740' '490475'\n",
      " '491824' '490343']\n"
     ]
    },
    {
     "name": "stderr",
     "output_type": "stream",
     "text": [
      "/var/folders/35/yy_kphpd6c938fbpf2fk1n3r0000gn/T/ipykernel_46773/492893453.py:1: SettingWithCopyWarning:\n",
      "\n",
      "\n",
      "A value is trying to be set on a copy of a slice from a DataFrame.\n",
      "Try using .loc[row_indexer,col_indexer] = value instead\n",
      "\n",
      "See the caveats in the documentation: https://pandas.pydata.org/pandas-docs/stable/user_guide/indexing.html#returning-a-view-versus-a-copy\n",
      "\n"
     ]
    }
   ],
   "source": [
    "cancellations['Invoice'] = cancellations['Invoice'].str[1:]\n",
    "\n",
    "# Debug: Check if invoice numbers are now aligned\n",
    "print(\"Cancellations invoices (after stripping):\", cancellations['Invoice'].unique())"
   ]
  },
  {
   "cell_type": "code",
   "execution_count": 308,
   "metadata": {},
   "outputs": [
    {
     "data": {
      "text/html": [
       "<div>\n",
       "<style scoped>\n",
       "    .dataframe tbody tr th:only-of-type {\n",
       "        vertical-align: middle;\n",
       "    }\n",
       "\n",
       "    .dataframe tbody tr th {\n",
       "        vertical-align: top;\n",
       "    }\n",
       "\n",
       "    .dataframe thead th {\n",
       "        text-align: right;\n",
       "    }\n",
       "</style>\n",
       "<table border=\"1\" class=\"dataframe\">\n",
       "  <thead>\n",
       "    <tr style=\"text-align: right;\">\n",
       "      <th></th>\n",
       "      <th>Invoice</th>\n",
       "      <th>StockCode_purchase</th>\n",
       "      <th>Description</th>\n",
       "      <th>Quantity_purchase</th>\n",
       "      <th>Price_purchase</th>\n",
       "      <th>Customer ID_purchase</th>\n",
       "      <th>Country_purchase</th>\n",
       "      <th>Actual Description_purchase</th>\n",
       "      <th>InvoiceDate_purchase</th>\n",
       "      <th>InvoiceDate_Date_purchase</th>\n",
       "      <th>StockCode_cancel</th>\n",
       "      <th>Quantity_cancel</th>\n",
       "      <th>Price_cancel</th>\n",
       "      <th>Customer ID_cancel</th>\n",
       "      <th>Country_cancel</th>\n",
       "      <th>Actual Description_cancel</th>\n",
       "      <th>InvoiceDate_cancel</th>\n",
       "      <th>InvoiceDate_Date_cancel</th>\n",
       "    </tr>\n",
       "  </thead>\n",
       "  <tbody>\n",
       "  </tbody>\n",
       "</table>\n",
       "</div>"
      ],
      "text/plain": [
       "Empty DataFrame\n",
       "Columns: [Invoice, StockCode_purchase, Description, Quantity_purchase, Price_purchase, Customer ID_purchase, Country_purchase, Actual Description_purchase, InvoiceDate_purchase, InvoiceDate_Date_purchase, StockCode_cancel, Quantity_cancel, Price_cancel, Customer ID_cancel, Country_cancel, Actual Description_cancel, InvoiceDate_cancel, InvoiceDate_Date_cancel]\n",
       "Index: []"
      ]
     },
     "execution_count": 308,
     "metadata": {},
     "output_type": "execute_result"
    }
   ],
   "source": [
    "# Merge purchases and cancellations on both 'Invoice' and 'Description'\n",
    "merged_df = pd.merge(purchases, cancellations, on=['Invoice', 'Description'], suffixes=('_purchase', '_cancel'), how='inner')\n",
    "merged_df"
   ]
  },
  {
   "cell_type": "code",
   "execution_count": 300,
   "metadata": {},
   "outputs": [
    {
     "data": {
      "text/html": [
       "<div>\n",
       "<style scoped>\n",
       "    .dataframe tbody tr th:only-of-type {\n",
       "        vertical-align: middle;\n",
       "    }\n",
       "\n",
       "    .dataframe tbody tr th {\n",
       "        vertical-align: top;\n",
       "    }\n",
       "\n",
       "    .dataframe thead th {\n",
       "        text-align: right;\n",
       "    }\n",
       "</style>\n",
       "<table border=\"1\" class=\"dataframe\">\n",
       "  <thead>\n",
       "    <tr style=\"text-align: right;\">\n",
       "      <th></th>\n",
       "      <th>Invoice</th>\n",
       "      <th>StockCode</th>\n",
       "      <th>Description</th>\n",
       "      <th>Quantity</th>\n",
       "      <th>Price</th>\n",
       "      <th>Customer ID</th>\n",
       "      <th>Country</th>\n",
       "      <th>Actual Description</th>\n",
       "      <th>InvoiceDate</th>\n",
       "      <th>InvoiceDate_Date</th>\n",
       "    </tr>\n",
       "  </thead>\n",
       "  <tbody>\n",
       "    <tr>\n",
       "      <th>60</th>\n",
       "      <td>491080</td>\n",
       "      <td>20781</td>\n",
       "      <td>GOLD EAR MUFF HEADPHONES</td>\n",
       "      <td>-3</td>\n",
       "      <td>5.49</td>\n",
       "      <td>14593.0</td>\n",
       "      <td>United Kingdom</td>\n",
       "      <td>GOLD EAR MUFF HEADPHONES</td>\n",
       "      <td>2009-12-09 13:07:00</td>\n",
       "      <td>2009-12-09</td>\n",
       "    </tr>\n",
       "    <tr>\n",
       "      <th>77</th>\n",
       "      <td>491411</td>\n",
       "      <td>22215</td>\n",
       "      <td>CAKE STAND WHITE TWO TIER LACE</td>\n",
       "      <td>-2</td>\n",
       "      <td>8.50</td>\n",
       "      <td>15309.0</td>\n",
       "      <td>United Kingdom</td>\n",
       "      <td>CAKE STAND WHITE TWO TIER LACE</td>\n",
       "      <td>2009-12-10 18:58:00</td>\n",
       "      <td>2009-12-10</td>\n",
       "    </tr>\n",
       "    <tr>\n",
       "      <th>79</th>\n",
       "      <td>490807</td>\n",
       "      <td>21700</td>\n",
       "      <td>BIG DOUGHNUT FRIDGE MAGNETS</td>\n",
       "      <td>-24</td>\n",
       "      <td>0.85</td>\n",
       "      <td>13091.0</td>\n",
       "      <td>United Kingdom</td>\n",
       "      <td>BIG DOUGHNUT FRIDGE MAGNETS</td>\n",
       "      <td>2009-12-08 12:25:00</td>\n",
       "      <td>2009-12-08</td>\n",
       "    </tr>\n",
       "    <tr>\n",
       "      <th>87</th>\n",
       "      <td>489528</td>\n",
       "      <td>85048</td>\n",
       "      <td>15CM CHRISTMAS GLASS BALL 20 LIGHTS</td>\n",
       "      <td>-1</td>\n",
       "      <td>7.95</td>\n",
       "      <td>16714.0</td>\n",
       "      <td>United Kingdom</td>\n",
       "      <td>15CM CHRISTMAS GLASS BALL 20 LIGHTS</td>\n",
       "      <td>2009-12-01 11:50:00</td>\n",
       "      <td>2009-12-01</td>\n",
       "    </tr>\n",
       "    <tr>\n",
       "      <th>129</th>\n",
       "      <td>490946</td>\n",
       "      <td>22095</td>\n",
       "      <td>LADS ONLY TISSUE BOX</td>\n",
       "      <td>-36</td>\n",
       "      <td>1.06</td>\n",
       "      <td>13091.0</td>\n",
       "      <td>United Kingdom</td>\n",
       "      <td>LADS ONLY TISSUE BOX</td>\n",
       "      <td>2009-12-08 14:28:00</td>\n",
       "      <td>2009-12-08</td>\n",
       "    </tr>\n",
       "    <tr>\n",
       "      <th>...</th>\n",
       "      <td>...</td>\n",
       "      <td>...</td>\n",
       "      <td>...</td>\n",
       "      <td>...</td>\n",
       "      <td>...</td>\n",
       "      <td>...</td>\n",
       "      <td>...</td>\n",
       "      <td>...</td>\n",
       "      <td>...</td>\n",
       "      <td>...</td>\n",
       "    </tr>\n",
       "    <tr>\n",
       "      <th>31751</th>\n",
       "      <td>489911</td>\n",
       "      <td>21432</td>\n",
       "      <td>SET OF 3 CASES WOODLAND DESIGN</td>\n",
       "      <td>-1</td>\n",
       "      <td>5.95</td>\n",
       "      <td>12705.0</td>\n",
       "      <td>Germany</td>\n",
       "      <td>SET OF 3 CASES WOODLAND DESIGN</td>\n",
       "      <td>2009-12-03 10:26:00</td>\n",
       "      <td>2009-12-03</td>\n",
       "    </tr>\n",
       "    <tr>\n",
       "      <th>31781</th>\n",
       "      <td>491156</td>\n",
       "      <td>21843</td>\n",
       "      <td>RETRO SPOT CAKE STAND</td>\n",
       "      <td>-2</td>\n",
       "      <td>9.95</td>\n",
       "      <td>15523.0</td>\n",
       "      <td>United Kingdom</td>\n",
       "      <td>RETRO SPOT CAKE STAND</td>\n",
       "      <td>2009-12-10 09:54:00</td>\n",
       "      <td>2009-12-10</td>\n",
       "    </tr>\n",
       "    <tr>\n",
       "      <th>31829</th>\n",
       "      <td>489459</td>\n",
       "      <td>90185B</td>\n",
       "      <td>AMETHYST DIAMANTE EXPANDABLE RING</td>\n",
       "      <td>-3</td>\n",
       "      <td>4.25</td>\n",
       "      <td>17592.0</td>\n",
       "      <td>United Kingdom</td>\n",
       "      <td>AMETHYST DIAMANTE EXPANDABLE RING</td>\n",
       "      <td>2009-12-01 10:44:00</td>\n",
       "      <td>2009-12-01</td>\n",
       "    </tr>\n",
       "    <tr>\n",
       "      <th>31846</th>\n",
       "      <td>491460</td>\n",
       "      <td>21843</td>\n",
       "      <td>RETRO SPOT CAKE STAND</td>\n",
       "      <td>-5</td>\n",
       "      <td>10.95</td>\n",
       "      <td>15162.0</td>\n",
       "      <td>United Kingdom</td>\n",
       "      <td>RETRO SPOT CAKE STAND</td>\n",
       "      <td>2009-12-11 11:31:00</td>\n",
       "      <td>2009-12-11</td>\n",
       "    </tr>\n",
       "    <tr>\n",
       "      <th>32105</th>\n",
       "      <td>491414</td>\n",
       "      <td>20717</td>\n",
       "      <td>STRAWBERRY SHOPPER BAG</td>\n",
       "      <td>-2</td>\n",
       "      <td>1.25</td>\n",
       "      <td>14389.0</td>\n",
       "      <td>United Kingdom</td>\n",
       "      <td>STRAWBERRY SHOPPER BAG</td>\n",
       "      <td>2009-12-10 19:13:00</td>\n",
       "      <td>2009-12-10</td>\n",
       "    </tr>\n",
       "  </tbody>\n",
       "</table>\n",
       "<p>771 rows × 10 columns</p>\n",
       "</div>"
      ],
      "text/plain": [
       "      Invoice StockCode                          Description  Quantity  Price  \\\n",
       "60     491080     20781             GOLD EAR MUFF HEADPHONES        -3   5.49   \n",
       "77     491411     22215       CAKE STAND WHITE TWO TIER LACE        -2   8.50   \n",
       "79     490807     21700          BIG DOUGHNUT FRIDGE MAGNETS       -24   0.85   \n",
       "87     489528     85048  15CM CHRISTMAS GLASS BALL 20 LIGHTS        -1   7.95   \n",
       "129    490946     22095                 LADS ONLY TISSUE BOX       -36   1.06   \n",
       "...       ...       ...                                  ...       ...    ...   \n",
       "31751  489911     21432       SET OF 3 CASES WOODLAND DESIGN        -1   5.95   \n",
       "31781  491156     21843                RETRO SPOT CAKE STAND        -2   9.95   \n",
       "31829  489459    90185B    AMETHYST DIAMANTE EXPANDABLE RING        -3   4.25   \n",
       "31846  491460     21843                RETRO SPOT CAKE STAND        -5  10.95   \n",
       "32105  491414     20717               STRAWBERRY SHOPPER BAG        -2   1.25   \n",
       "\n",
       "      Customer ID         Country                   Actual Description  \\\n",
       "60        14593.0  United Kingdom             GOLD EAR MUFF HEADPHONES   \n",
       "77        15309.0  United Kingdom       CAKE STAND WHITE TWO TIER LACE   \n",
       "79        13091.0  United Kingdom          BIG DOUGHNUT FRIDGE MAGNETS   \n",
       "87        16714.0  United Kingdom  15CM CHRISTMAS GLASS BALL 20 LIGHTS   \n",
       "129       13091.0  United Kingdom                 LADS ONLY TISSUE BOX   \n",
       "...           ...             ...                                  ...   \n",
       "31751     12705.0         Germany       SET OF 3 CASES WOODLAND DESIGN   \n",
       "31781     15523.0  United Kingdom                RETRO SPOT CAKE STAND   \n",
       "31829     17592.0  United Kingdom    AMETHYST DIAMANTE EXPANDABLE RING   \n",
       "31846     15162.0  United Kingdom                RETRO SPOT CAKE STAND   \n",
       "32105     14389.0  United Kingdom               STRAWBERRY SHOPPER BAG   \n",
       "\n",
       "              InvoiceDate InvoiceDate_Date  \n",
       "60    2009-12-09 13:07:00       2009-12-09  \n",
       "77    2009-12-10 18:58:00       2009-12-10  \n",
       "79    2009-12-08 12:25:00       2009-12-08  \n",
       "87    2009-12-01 11:50:00       2009-12-01  \n",
       "129   2009-12-08 14:28:00       2009-12-08  \n",
       "...                   ...              ...  \n",
       "31751 2009-12-03 10:26:00       2009-12-03  \n",
       "31781 2009-12-10 09:54:00       2009-12-10  \n",
       "31829 2009-12-01 10:44:00       2009-12-01  \n",
       "31846 2009-12-11 11:31:00       2009-12-11  \n",
       "32105 2009-12-10 19:13:00       2009-12-10  \n",
       "\n",
       "[771 rows x 10 columns]"
      ]
     },
     "execution_count": 300,
     "metadata": {},
     "output_type": "execute_result"
    }
   ],
   "source": [
    "cancellations"
   ]
  }
 ],
 "metadata": {
  "kernelspec": {
   "display_name": "Python 3",
   "language": "python",
   "name": "python3"
  },
  "language_info": {
   "codemirror_mode": {
    "name": "ipython",
    "version": 3
   },
   "file_extension": ".py",
   "mimetype": "text/x-python",
   "name": "python",
   "nbconvert_exporter": "python",
   "pygments_lexer": "ipython3",
   "version": "3.12.5"
  }
 },
 "nbformat": 4,
 "nbformat_minor": 2
}
